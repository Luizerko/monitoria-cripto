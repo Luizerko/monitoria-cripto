{
 "cells": [
  {
   "cell_type": "markdown",
   "metadata": {
    "toc": true
   },
   "source": [
    "<h1>Table of Contents<span class=\"tocSkip\"></span></h1>\n",
    "<div class=\"toc\"><ul class=\"toc-item\"><li><span><a href=\"#Funções-importantes-de-Teoria-dos-Números\" data-toc-modified-id=\"Funções-importantes-de-Teoria-dos-Números-1\"><span class=\"toc-item-num\">1&nbsp;&nbsp;</span>Funções importantes de Teoria dos Números</a></span><ul class=\"toc-item\"><li><span><a href=\"#Máximo-Divisor-Comum-(GCD)\" data-toc-modified-id=\"Máximo-Divisor-Comum-(GCD)-1.1\"><span class=\"toc-item-num\">1.1&nbsp;&nbsp;</span>Máximo Divisor Comum (GCD)</a></span></li><li><span><a href=\"#Exponenciação-modular\" data-toc-modified-id=\"Exponenciação-modular-1.2\"><span class=\"toc-item-num\">1.2&nbsp;&nbsp;</span>Exponenciação modular</a></span></li><li><span><a href=\"#Inverso-Módulo\" data-toc-modified-id=\"Inverso-Módulo-1.3\"><span class=\"toc-item-num\">1.3&nbsp;&nbsp;</span>Inverso Módulo</a></span></li></ul></li><li><span><a href=\"#Trabalhando-com-Anel-de-Inteiros-em-Sage\" data-toc-modified-id=\"Trabalhando-com-Anel-de-Inteiros-em-Sage-2\"><span class=\"toc-item-num\">2&nbsp;&nbsp;</span>Trabalhando com Anel de Inteiros em Sage</a></span><ul class=\"toc-item\"><li><span><a href=\"#Definindo-um-anel-de-inteiros-$\\bmod-n$\" data-toc-modified-id=\"Definindo-um-anel-de-inteiros-$\\bmod-n$-2.1\"><span class=\"toc-item-num\">2.1&nbsp;&nbsp;</span>Definindo um anel de inteiros $\\bmod n$</a></span></li><li><span><a href=\"#Exponenciação-modular-vem-de-tabela\" data-toc-modified-id=\"Exponenciação-modular-vem-de-tabela-2.2\"><span class=\"toc-item-num\">2.2&nbsp;&nbsp;</span>Exponenciação modular vem de tabela</a></span></li><li><span><a href=\"#Inverso-módulo-vem-de-tabela\" data-toc-modified-id=\"Inverso-módulo-vem-de-tabela-2.3\"><span class=\"toc-item-num\">2.3&nbsp;&nbsp;</span>Inverso módulo vem de tabela</a></span></li></ul></li><li><span><a href=\"#Funções-de-Hash\" data-toc-modified-id=\"Funções-de-Hash-3\"><span class=\"toc-item-num\">3&nbsp;&nbsp;</span>Funções de Hash</a></span><ul class=\"toc-item\"><li><span><a href=\"#Propriedades-de-funções-de-Hash-Criptográficas\" data-toc-modified-id=\"Propriedades-de-funções-de-Hash-Criptográficas-3.1\"><span class=\"toc-item-num\">3.1&nbsp;&nbsp;</span>Propriedades de funções de Hash Criptográficas</a></span></li><li><span><a href=\"#Aplicações-básicas-de-funções-de-Hash\" data-toc-modified-id=\"Aplicações-básicas-de-funções-de-Hash-3.2\"><span class=\"toc-item-num\">3.2&nbsp;&nbsp;</span>Aplicações básicas de funções de Hash</a></span></li><li><span><a href=\"#Hash-em-Python\" data-toc-modified-id=\"Hash-em-Python-3.3\"><span class=\"toc-item-num\">3.3&nbsp;&nbsp;</span>Hash em Python</a></span></li><li><span><a href=\"#Implementação-do-esquema-simples-de-autenticação\" data-toc-modified-id=\"Implementação-do-esquema-simples-de-autenticação-3.4\"><span class=\"toc-item-num\">3.4&nbsp;&nbsp;</span>Implementação do esquema simples de autenticação</a></span></li></ul></li><li><span><a href=\"#Distância-de-Hamming\" data-toc-modified-id=\"Distância-de-Hamming-4\"><span class=\"toc-item-num\">4&nbsp;&nbsp;</span>Distância de Hamming</a></span></li><li><span><a href=\"#Assinatura-Digital\" data-toc-modified-id=\"Assinatura-Digital-5\"><span class=\"toc-item-num\">5&nbsp;&nbsp;</span>Assinatura Digital</a></span><ul class=\"toc-item\"><li><span><a href=\"#Por-que-assinamos-Hashs-e-não-as-próprias-mensagens?\" data-toc-modified-id=\"Por-que-assinamos-Hashs-e-não-as-próprias-mensagens?-5.1\"><span class=\"toc-item-num\">5.1&nbsp;&nbsp;</span>Por que assinamos Hashs e não as próprias mensagens?</a></span></li><li><span><a href=\"#Calculando-o-Hash-de-um-arquivo\" data-toc-modified-id=\"Calculando-o-Hash-de-um-arquivo-5.2\"><span class=\"toc-item-num\">5.2&nbsp;&nbsp;</span>Calculando o Hash de um arquivo</a></span></li></ul></li></ul></div>"
   ]
  },
  {
   "cell_type": "markdown",
   "metadata": {},
   "source": [
    "# Introdução ao SAGEMATH"
   ]
  },
  {
   "cell_type": "markdown",
   "metadata": {},
   "source": [
    "## Funções importantes de Teoria dos Números"
   ]
  },
  {
   "cell_type": "markdown",
   "metadata": {},
   "source": [
    "Vamos rever alguns conceitos das semanas passadas."
   ]
  },
  {
   "cell_type": "markdown",
   "metadata": {},
   "source": [
    "### Máximo Divisor Comum (GCD)"
   ]
  },
  {
   "cell_type": "markdown",
   "metadata": {},
   "source": [
    "Já sabemos que o mdc entre dois números pode ser computado facilmente em Sage:"
   ]
  },
  {
   "cell_type": "code",
   "execution_count": 3,
   "metadata": {},
   "outputs": [
    {
     "data": {
      "text/plain": [
       "7"
      ]
     },
     "execution_count": 3,
     "metadata": {},
     "output_type": "execute_result"
    }
   ],
   "source": [
    "gcd(14, 7)"
   ]
  },
  {
   "cell_type": "markdown",
   "metadata": {},
   "source": [
    "### Exponenciação modular"
   ]
  },
  {
   "cell_type": "markdown",
   "metadata": {},
   "source": [
    "Também já vimos que, quando estamos tratando do grupo de inteiros $\\bmod n$, devemos usar sempre a exponenciação modular, pois fazer a exponenciação normal e tirar o módulo pode ser muito caro."
   ]
  },
  {
   "cell_type": "code",
   "execution_count": 4,
   "metadata": {},
   "outputs": [
    {
     "data": {
      "text/plain": [
       "257297"
      ]
     },
     "execution_count": 4,
     "metadata": {},
     "output_type": "execute_result"
    }
   ],
   "source": [
    "power_mod(13, 123784, 273892)"
   ]
  },
  {
   "cell_type": "code",
   "execution_count": 5,
   "metadata": {},
   "outputs": [
    {
     "data": {
      "text/plain": [
       "257297"
      ]
     },
     "execution_count": 5,
     "metadata": {},
     "output_type": "execute_result"
    }
   ],
   "source": [
    "13**123784 % 273892"
   ]
  },
  {
   "cell_type": "code",
   "execution_count": 6,
   "metadata": {},
   "outputs": [],
   "source": [
    "import timeit\n",
    "\n",
    "MAX_INT  = 10000\n",
    "NSAMPLES = 1000\n",
    "\n",
    "def compare_modular_exponentiation_efficiency(nsamples=NSAMPLES, max_int=MAX_INT):\n",
    "    \n",
    "    data = {\n",
    "        'n': [],\n",
    "        'p': [],\n",
    "        'time_power_mod': [],\n",
    "        'time_regular_exponentiation': []\n",
    "    }\n",
    "    \n",
    "    for _ in range(nsamples):\n",
    "        n = randint(1, max_int)\n",
    "        p = random_prime(max_int)\n",
    "        exponent = randint(1, max_int)\n",
    "\n",
    "        def compute_with_power_mod():\n",
    "            v = power_mod(n, exponent, p)\n",
    "\n",
    "        time_power_mod = timeit.timeit(compute_with_power_mod, number=10)\n",
    "\n",
    "        def compute_with_regular_exponentiation():\n",
    "            v = n**exponent % p\n",
    "\n",
    "        time_regular_exponentiation = timeit.timeit(compute_with_regular_exponentiation, number=10)\n",
    "\n",
    "        data['n'].append(n)\n",
    "        data['p'].append(p)\n",
    "        data['time_power_mod'].append(time_power_mod)\n",
    "        data['time_regular_exponentiation'].append(time_regular_exponentiation)\n",
    "\n",
    "        \n",
    "    return data\n",
    "\n",
    "data = compare_modular_exponentiation_efficiency()"
   ]
  },
  {
   "cell_type": "code",
   "execution_count": 7,
   "metadata": {},
   "outputs": [
    {
     "data": {
      "application/javascript": [
       "/* Put everything inside the global mpl namespace */\n",
       "window.mpl = {};\n",
       "\n",
       "\n",
       "mpl.get_websocket_type = function() {\n",
       "    if (typeof(WebSocket) !== 'undefined') {\n",
       "        return WebSocket;\n",
       "    } else if (typeof(MozWebSocket) !== 'undefined') {\n",
       "        return MozWebSocket;\n",
       "    } else {\n",
       "        alert('Your browser does not have WebSocket support. ' +\n",
       "              'Please try Chrome, Safari or Firefox ≥ 6. ' +\n",
       "              'Firefox 4 and 5 are also supported but you ' +\n",
       "              'have to enable WebSockets in about:config.');\n",
       "    };\n",
       "}\n",
       "\n",
       "mpl.figure = function(figure_id, websocket, ondownload, parent_element) {\n",
       "    this.id = figure_id;\n",
       "\n",
       "    this.ws = websocket;\n",
       "\n",
       "    this.supports_binary = (this.ws.binaryType != undefined);\n",
       "\n",
       "    if (!this.supports_binary) {\n",
       "        var warnings = document.getElementById(\"mpl-warnings\");\n",
       "        if (warnings) {\n",
       "            warnings.style.display = 'block';\n",
       "            warnings.textContent = (\n",
       "                \"This browser does not support binary websocket messages. \" +\n",
       "                    \"Performance may be slow.\");\n",
       "        }\n",
       "    }\n",
       "\n",
       "    this.imageObj = new Image();\n",
       "\n",
       "    this.context = undefined;\n",
       "    this.message = undefined;\n",
       "    this.canvas = undefined;\n",
       "    this.rubberband_canvas = undefined;\n",
       "    this.rubberband_context = undefined;\n",
       "    this.format_dropdown = undefined;\n",
       "\n",
       "    this.image_mode = 'full';\n",
       "\n",
       "    this.root = $('<div/>');\n",
       "    this._root_extra_style(this.root)\n",
       "    this.root.attr('style', 'display: inline-block');\n",
       "\n",
       "    $(parent_element).append(this.root);\n",
       "\n",
       "    this._init_header(this);\n",
       "    this._init_canvas(this);\n",
       "    this._init_toolbar(this);\n",
       "\n",
       "    var fig = this;\n",
       "\n",
       "    this.waiting = false;\n",
       "\n",
       "    this.ws.onopen =  function () {\n",
       "            fig.send_message(\"supports_binary\", {value: fig.supports_binary});\n",
       "            fig.send_message(\"send_image_mode\", {});\n",
       "            if (mpl.ratio != 1) {\n",
       "                fig.send_message(\"set_dpi_ratio\", {'dpi_ratio': mpl.ratio});\n",
       "            }\n",
       "            fig.send_message(\"refresh\", {});\n",
       "        }\n",
       "\n",
       "    this.imageObj.onload = function() {\n",
       "            if (fig.image_mode == 'full') {\n",
       "                // Full images could contain transparency (where diff images\n",
       "                // almost always do), so we need to clear the canvas so that\n",
       "                // there is no ghosting.\n",
       "                fig.context.clearRect(0, 0, fig.canvas.width, fig.canvas.height);\n",
       "            }\n",
       "            fig.context.drawImage(fig.imageObj, 0, 0);\n",
       "        };\n",
       "\n",
       "    this.imageObj.onunload = function() {\n",
       "        fig.ws.close();\n",
       "    }\n",
       "\n",
       "    this.ws.onmessage = this._make_on_message_function(this);\n",
       "\n",
       "    this.ondownload = ondownload;\n",
       "}\n",
       "\n",
       "mpl.figure.prototype._init_header = function() {\n",
       "    var titlebar = $(\n",
       "        '<div class=\"ui-dialog-titlebar ui-widget-header ui-corner-all ' +\n",
       "        'ui-helper-clearfix\"/>');\n",
       "    var titletext = $(\n",
       "        '<div class=\"ui-dialog-title\" style=\"width: 100%; ' +\n",
       "        'text-align: center; padding: 3px;\"/>');\n",
       "    titlebar.append(titletext)\n",
       "    this.root.append(titlebar);\n",
       "    this.header = titletext[0];\n",
       "}\n",
       "\n",
       "\n",
       "\n",
       "mpl.figure.prototype._canvas_extra_style = function(canvas_div) {\n",
       "\n",
       "}\n",
       "\n",
       "\n",
       "mpl.figure.prototype._root_extra_style = function(canvas_div) {\n",
       "\n",
       "}\n",
       "\n",
       "mpl.figure.prototype._init_canvas = function() {\n",
       "    var fig = this;\n",
       "\n",
       "    var canvas_div = $('<div/>');\n",
       "\n",
       "    canvas_div.attr('style', 'position: relative; clear: both; outline: 0');\n",
       "\n",
       "    function canvas_keyboard_event(event) {\n",
       "        return fig.key_event(event, event['data']);\n",
       "    }\n",
       "\n",
       "    canvas_div.keydown('key_press', canvas_keyboard_event);\n",
       "    canvas_div.keyup('key_release', canvas_keyboard_event);\n",
       "    this.canvas_div = canvas_div\n",
       "    this._canvas_extra_style(canvas_div)\n",
       "    this.root.append(canvas_div);\n",
       "\n",
       "    var canvas = $('<canvas/>');\n",
       "    canvas.addClass('mpl-canvas');\n",
       "    canvas.attr('style', \"left: 0; top: 0; z-index: 0; outline: 0\")\n",
       "\n",
       "    this.canvas = canvas[0];\n",
       "    this.context = canvas[0].getContext(\"2d\");\n",
       "\n",
       "    var backingStore = this.context.backingStorePixelRatio ||\n",
       "\tthis.context.webkitBackingStorePixelRatio ||\n",
       "\tthis.context.mozBackingStorePixelRatio ||\n",
       "\tthis.context.msBackingStorePixelRatio ||\n",
       "\tthis.context.oBackingStorePixelRatio ||\n",
       "\tthis.context.backingStorePixelRatio || 1;\n",
       "\n",
       "    mpl.ratio = (window.devicePixelRatio || 1) / backingStore;\n",
       "\n",
       "    var rubberband = $('<canvas/>');\n",
       "    rubberband.attr('style', \"position: absolute; left: 0; top: 0; z-index: 1;\")\n",
       "\n",
       "    var pass_mouse_events = true;\n",
       "\n",
       "    canvas_div.resizable({\n",
       "        start: function(event, ui) {\n",
       "            pass_mouse_events = false;\n",
       "        },\n",
       "        resize: function(event, ui) {\n",
       "            fig.request_resize(ui.size.width, ui.size.height);\n",
       "        },\n",
       "        stop: function(event, ui) {\n",
       "            pass_mouse_events = true;\n",
       "            fig.request_resize(ui.size.width, ui.size.height);\n",
       "        },\n",
       "    });\n",
       "\n",
       "    function mouse_event_fn(event) {\n",
       "        if (pass_mouse_events)\n",
       "            return fig.mouse_event(event, event['data']);\n",
       "    }\n",
       "\n",
       "    rubberband.mousedown('button_press', mouse_event_fn);\n",
       "    rubberband.mouseup('button_release', mouse_event_fn);\n",
       "    // Throttle sequential mouse events to 1 every 20ms.\n",
       "    rubberband.mousemove('motion_notify', mouse_event_fn);\n",
       "\n",
       "    rubberband.mouseenter('figure_enter', mouse_event_fn);\n",
       "    rubberband.mouseleave('figure_leave', mouse_event_fn);\n",
       "\n",
       "    canvas_div.on(\"wheel\", function (event) {\n",
       "        event = event.originalEvent;\n",
       "        event['data'] = 'scroll'\n",
       "        if (event.deltaY < 0) {\n",
       "            event.step = 1;\n",
       "        } else {\n",
       "            event.step = -1;\n",
       "        }\n",
       "        mouse_event_fn(event);\n",
       "    });\n",
       "\n",
       "    canvas_div.append(canvas);\n",
       "    canvas_div.append(rubberband);\n",
       "\n",
       "    this.rubberband = rubberband;\n",
       "    this.rubberband_canvas = rubberband[0];\n",
       "    this.rubberband_context = rubberband[0].getContext(\"2d\");\n",
       "    this.rubberband_context.strokeStyle = \"#000000\";\n",
       "\n",
       "    this._resize_canvas = function(width, height) {\n",
       "        // Keep the size of the canvas, canvas container, and rubber band\n",
       "        // canvas in synch.\n",
       "        canvas_div.css('width', width)\n",
       "        canvas_div.css('height', height)\n",
       "\n",
       "        canvas.attr('width', width * mpl.ratio);\n",
       "        canvas.attr('height', height * mpl.ratio);\n",
       "        canvas.attr('style', 'width: ' + width + 'px; height: ' + height + 'px;');\n",
       "\n",
       "        rubberband.attr('width', width);\n",
       "        rubberband.attr('height', height);\n",
       "    }\n",
       "\n",
       "    // Set the figure to an initial 600x600px, this will subsequently be updated\n",
       "    // upon first draw.\n",
       "    this._resize_canvas(600, 600);\n",
       "\n",
       "    // Disable right mouse context menu.\n",
       "    $(this.rubberband_canvas).bind(\"contextmenu\",function(e){\n",
       "        return false;\n",
       "    });\n",
       "\n",
       "    function set_focus () {\n",
       "        canvas.focus();\n",
       "        canvas_div.focus();\n",
       "    }\n",
       "\n",
       "    window.setTimeout(set_focus, 100);\n",
       "}\n",
       "\n",
       "mpl.figure.prototype._init_toolbar = function() {\n",
       "    var fig = this;\n",
       "\n",
       "    var nav_element = $('<div/>');\n",
       "    nav_element.attr('style', 'width: 100%');\n",
       "    this.root.append(nav_element);\n",
       "\n",
       "    // Define a callback function for later on.\n",
       "    function toolbar_event(event) {\n",
       "        return fig.toolbar_button_onclick(event['data']);\n",
       "    }\n",
       "    function toolbar_mouse_event(event) {\n",
       "        return fig.toolbar_button_onmouseover(event['data']);\n",
       "    }\n",
       "\n",
       "    for(var toolbar_ind in mpl.toolbar_items) {\n",
       "        var name = mpl.toolbar_items[toolbar_ind][0];\n",
       "        var tooltip = mpl.toolbar_items[toolbar_ind][1];\n",
       "        var image = mpl.toolbar_items[toolbar_ind][2];\n",
       "        var method_name = mpl.toolbar_items[toolbar_ind][3];\n",
       "\n",
       "        if (!name) {\n",
       "            // put a spacer in here.\n",
       "            continue;\n",
       "        }\n",
       "        var button = $('<button/>');\n",
       "        button.addClass('ui-button ui-widget ui-state-default ui-corner-all ' +\n",
       "                        'ui-button-icon-only');\n",
       "        button.attr('role', 'button');\n",
       "        button.attr('aria-disabled', 'false');\n",
       "        button.click(method_name, toolbar_event);\n",
       "        button.mouseover(tooltip, toolbar_mouse_event);\n",
       "\n",
       "        var icon_img = $('<span/>');\n",
       "        icon_img.addClass('ui-button-icon-primary ui-icon');\n",
       "        icon_img.addClass(image);\n",
       "        icon_img.addClass('ui-corner-all');\n",
       "\n",
       "        var tooltip_span = $('<span/>');\n",
       "        tooltip_span.addClass('ui-button-text');\n",
       "        tooltip_span.html(tooltip);\n",
       "\n",
       "        button.append(icon_img);\n",
       "        button.append(tooltip_span);\n",
       "\n",
       "        nav_element.append(button);\n",
       "    }\n",
       "\n",
       "    var fmt_picker_span = $('<span/>');\n",
       "\n",
       "    var fmt_picker = $('<select/>');\n",
       "    fmt_picker.addClass('mpl-toolbar-option ui-widget ui-widget-content');\n",
       "    fmt_picker_span.append(fmt_picker);\n",
       "    nav_element.append(fmt_picker_span);\n",
       "    this.format_dropdown = fmt_picker[0];\n",
       "\n",
       "    for (var ind in mpl.extensions) {\n",
       "        var fmt = mpl.extensions[ind];\n",
       "        var option = $(\n",
       "            '<option/>', {selected: fmt === mpl.default_extension}).html(fmt);\n",
       "        fmt_picker.append(option);\n",
       "    }\n",
       "\n",
       "    // Add hover states to the ui-buttons\n",
       "    $( \".ui-button\" ).hover(\n",
       "        function() { $(this).addClass(\"ui-state-hover\");},\n",
       "        function() { $(this).removeClass(\"ui-state-hover\");}\n",
       "    );\n",
       "\n",
       "    var status_bar = $('<span class=\"mpl-message\"/>');\n",
       "    nav_element.append(status_bar);\n",
       "    this.message = status_bar[0];\n",
       "}\n",
       "\n",
       "mpl.figure.prototype.request_resize = function(x_pixels, y_pixels) {\n",
       "    // Request matplotlib to resize the figure. Matplotlib will then trigger a resize in the client,\n",
       "    // which will in turn request a refresh of the image.\n",
       "    this.send_message('resize', {'width': x_pixels, 'height': y_pixels});\n",
       "}\n",
       "\n",
       "mpl.figure.prototype.send_message = function(type, properties) {\n",
       "    properties['type'] = type;\n",
       "    properties['figure_id'] = this.id;\n",
       "    this.ws.send(JSON.stringify(properties));\n",
       "}\n",
       "\n",
       "mpl.figure.prototype.send_draw_message = function() {\n",
       "    if (!this.waiting) {\n",
       "        this.waiting = true;\n",
       "        this.ws.send(JSON.stringify({type: \"draw\", figure_id: this.id}));\n",
       "    }\n",
       "}\n",
       "\n",
       "\n",
       "mpl.figure.prototype.handle_save = function(fig, msg) {\n",
       "    var format_dropdown = fig.format_dropdown;\n",
       "    var format = format_dropdown.options[format_dropdown.selectedIndex].value;\n",
       "    fig.ondownload(fig, format);\n",
       "}\n",
       "\n",
       "\n",
       "mpl.figure.prototype.handle_resize = function(fig, msg) {\n",
       "    var size = msg['size'];\n",
       "    if (size[0] != fig.canvas.width || size[1] != fig.canvas.height) {\n",
       "        fig._resize_canvas(size[0], size[1]);\n",
       "        fig.send_message(\"refresh\", {});\n",
       "    };\n",
       "}\n",
       "\n",
       "mpl.figure.prototype.handle_rubberband = function(fig, msg) {\n",
       "    var x0 = msg['x0'] / mpl.ratio;\n",
       "    var y0 = (fig.canvas.height - msg['y0']) / mpl.ratio;\n",
       "    var x1 = msg['x1'] / mpl.ratio;\n",
       "    var y1 = (fig.canvas.height - msg['y1']) / mpl.ratio;\n",
       "    x0 = Math.floor(x0) + 0.5;\n",
       "    y0 = Math.floor(y0) + 0.5;\n",
       "    x1 = Math.floor(x1) + 0.5;\n",
       "    y1 = Math.floor(y1) + 0.5;\n",
       "    var min_x = Math.min(x0, x1);\n",
       "    var min_y = Math.min(y0, y1);\n",
       "    var width = Math.abs(x1 - x0);\n",
       "    var height = Math.abs(y1 - y0);\n",
       "\n",
       "    fig.rubberband_context.clearRect(\n",
       "        0, 0, fig.canvas.width / mpl.ratio, fig.canvas.height / mpl.ratio);\n",
       "\n",
       "    fig.rubberband_context.strokeRect(min_x, min_y, width, height);\n",
       "}\n",
       "\n",
       "mpl.figure.prototype.handle_figure_label = function(fig, msg) {\n",
       "    // Updates the figure title.\n",
       "    fig.header.textContent = msg['label'];\n",
       "}\n",
       "\n",
       "mpl.figure.prototype.handle_cursor = function(fig, msg) {\n",
       "    var cursor = msg['cursor'];\n",
       "    switch(cursor)\n",
       "    {\n",
       "    case 0:\n",
       "        cursor = 'pointer';\n",
       "        break;\n",
       "    case 1:\n",
       "        cursor = 'default';\n",
       "        break;\n",
       "    case 2:\n",
       "        cursor = 'crosshair';\n",
       "        break;\n",
       "    case 3:\n",
       "        cursor = 'move';\n",
       "        break;\n",
       "    }\n",
       "    fig.rubberband_canvas.style.cursor = cursor;\n",
       "}\n",
       "\n",
       "mpl.figure.prototype.handle_message = function(fig, msg) {\n",
       "    fig.message.textContent = msg['message'];\n",
       "}\n",
       "\n",
       "mpl.figure.prototype.handle_draw = function(fig, msg) {\n",
       "    // Request the server to send over a new figure.\n",
       "    fig.send_draw_message();\n",
       "}\n",
       "\n",
       "mpl.figure.prototype.handle_image_mode = function(fig, msg) {\n",
       "    fig.image_mode = msg['mode'];\n",
       "}\n",
       "\n",
       "mpl.figure.prototype.updated_canvas_event = function() {\n",
       "    // Called whenever the canvas gets updated.\n",
       "    this.send_message(\"ack\", {});\n",
       "}\n",
       "\n",
       "// A function to construct a web socket function for onmessage handling.\n",
       "// Called in the figure constructor.\n",
       "mpl.figure.prototype._make_on_message_function = function(fig) {\n",
       "    return function socket_on_message(evt) {\n",
       "        if (evt.data instanceof Blob) {\n",
       "            /* FIXME: We get \"Resource interpreted as Image but\n",
       "             * transferred with MIME type text/plain:\" errors on\n",
       "             * Chrome.  But how to set the MIME type?  It doesn't seem\n",
       "             * to be part of the websocket stream */\n",
       "            evt.data.type = \"image/png\";\n",
       "\n",
       "            /* Free the memory for the previous frames */\n",
       "            if (fig.imageObj.src) {\n",
       "                (window.URL || window.webkitURL).revokeObjectURL(\n",
       "                    fig.imageObj.src);\n",
       "            }\n",
       "\n",
       "            fig.imageObj.src = (window.URL || window.webkitURL).createObjectURL(\n",
       "                evt.data);\n",
       "            fig.updated_canvas_event();\n",
       "            fig.waiting = false;\n",
       "            return;\n",
       "        }\n",
       "        else if (typeof evt.data === 'string' && evt.data.slice(0, 21) == \"data:image/png;base64\") {\n",
       "            fig.imageObj.src = evt.data;\n",
       "            fig.updated_canvas_event();\n",
       "            fig.waiting = false;\n",
       "            return;\n",
       "        }\n",
       "\n",
       "        var msg = JSON.parse(evt.data);\n",
       "        var msg_type = msg['type'];\n",
       "\n",
       "        // Call the  \"handle_{type}\" callback, which takes\n",
       "        // the figure and JSON message as its only arguments.\n",
       "        try {\n",
       "            var callback = fig[\"handle_\" + msg_type];\n",
       "        } catch (e) {\n",
       "            console.log(\"No handler for the '\" + msg_type + \"' message type: \", msg);\n",
       "            return;\n",
       "        }\n",
       "\n",
       "        if (callback) {\n",
       "            try {\n",
       "                // console.log(\"Handling '\" + msg_type + \"' message: \", msg);\n",
       "                callback(fig, msg);\n",
       "            } catch (e) {\n",
       "                console.log(\"Exception inside the 'handler_\" + msg_type + \"' callback:\", e, e.stack, msg);\n",
       "            }\n",
       "        }\n",
       "    };\n",
       "}\n",
       "\n",
       "// from http://stackoverflow.com/questions/1114465/getting-mouse-location-in-canvas\n",
       "mpl.findpos = function(e) {\n",
       "    //this section is from http://www.quirksmode.org/js/events_properties.html\n",
       "    var targ;\n",
       "    if (!e)\n",
       "        e = window.event;\n",
       "    if (e.target)\n",
       "        targ = e.target;\n",
       "    else if (e.srcElement)\n",
       "        targ = e.srcElement;\n",
       "    if (targ.nodeType == 3) // defeat Safari bug\n",
       "        targ = targ.parentNode;\n",
       "\n",
       "    // jQuery normalizes the pageX and pageY\n",
       "    // pageX,Y are the mouse positions relative to the document\n",
       "    // offset() returns the position of the element relative to the document\n",
       "    var x = e.pageX - $(targ).offset().left;\n",
       "    var y = e.pageY - $(targ).offset().top;\n",
       "\n",
       "    return {\"x\": x, \"y\": y};\n",
       "};\n",
       "\n",
       "/*\n",
       " * return a copy of an object with only non-object keys\n",
       " * we need this to avoid circular references\n",
       " * http://stackoverflow.com/a/24161582/3208463\n",
       " */\n",
       "function simpleKeys (original) {\n",
       "  return Object.keys(original).reduce(function (obj, key) {\n",
       "    if (typeof original[key] !== 'object')\n",
       "        obj[key] = original[key]\n",
       "    return obj;\n",
       "  }, {});\n",
       "}\n",
       "\n",
       "mpl.figure.prototype.mouse_event = function(event, name) {\n",
       "    var canvas_pos = mpl.findpos(event)\n",
       "\n",
       "    if (name === 'button_press')\n",
       "    {\n",
       "        this.canvas.focus();\n",
       "        this.canvas_div.focus();\n",
       "    }\n",
       "\n",
       "    var x = canvas_pos.x * mpl.ratio;\n",
       "    var y = canvas_pos.y * mpl.ratio;\n",
       "\n",
       "    this.send_message(name, {x: x, y: y, button: event.button,\n",
       "                             step: event.step,\n",
       "                             guiEvent: simpleKeys(event)});\n",
       "\n",
       "    /* This prevents the web browser from automatically changing to\n",
       "     * the text insertion cursor when the button is pressed.  We want\n",
       "     * to control all of the cursor setting manually through the\n",
       "     * 'cursor' event from matplotlib */\n",
       "    event.preventDefault();\n",
       "    return false;\n",
       "}\n",
       "\n",
       "mpl.figure.prototype._key_event_extra = function(event, name) {\n",
       "    // Handle any extra behaviour associated with a key event\n",
       "}\n",
       "\n",
       "mpl.figure.prototype.key_event = function(event, name) {\n",
       "\n",
       "    // Prevent repeat events\n",
       "    if (name == 'key_press')\n",
       "    {\n",
       "        if (event.which === this._key)\n",
       "            return;\n",
       "        else\n",
       "            this._key = event.which;\n",
       "    }\n",
       "    if (name == 'key_release')\n",
       "        this._key = null;\n",
       "\n",
       "    var value = '';\n",
       "    if (event.ctrlKey && event.which != 17)\n",
       "        value += \"ctrl+\";\n",
       "    if (event.altKey && event.which != 18)\n",
       "        value += \"alt+\";\n",
       "    if (event.shiftKey && event.which != 16)\n",
       "        value += \"shift+\";\n",
       "\n",
       "    value += 'k';\n",
       "    value += event.which.toString();\n",
       "\n",
       "    this._key_event_extra(event, name);\n",
       "\n",
       "    this.send_message(name, {key: value,\n",
       "                             guiEvent: simpleKeys(event)});\n",
       "    return false;\n",
       "}\n",
       "\n",
       "mpl.figure.prototype.toolbar_button_onclick = function(name) {\n",
       "    if (name == 'download') {\n",
       "        this.handle_save(this, null);\n",
       "    } else {\n",
       "        this.send_message(\"toolbar_button\", {name: name});\n",
       "    }\n",
       "};\n",
       "\n",
       "mpl.figure.prototype.toolbar_button_onmouseover = function(tooltip) {\n",
       "    this.message.textContent = tooltip;\n",
       "};\n",
       "mpl.toolbar_items = [[\"Home\", \"Reset original view\", \"fa fa-home icon-home\", \"home\"], [\"Back\", \"Back to previous view\", \"fa fa-arrow-left icon-arrow-left\", \"back\"], [\"Forward\", \"Forward to next view\", \"fa fa-arrow-right icon-arrow-right\", \"forward\"], [\"\", \"\", \"\", \"\"], [\"Pan\", \"Pan axes with left mouse, zoom with right\", \"fa fa-arrows icon-move\", \"pan\"], [\"Zoom\", \"Zoom to rectangle\", \"fa fa-square-o icon-check-empty\", \"zoom\"], [\"\", \"\", \"\", \"\"], [\"Download\", \"Download plot\", \"fa fa-floppy-o icon-save\", \"download\"]];\n",
       "\n",
       "mpl.extensions = [\"eps\", \"jpeg\", \"pdf\", \"png\", \"ps\", \"raw\", \"svg\", \"tif\"];\n",
       "\n",
       "mpl.default_extension = \"png\";var comm_websocket_adapter = function(comm) {\n",
       "    // Create a \"websocket\"-like object which calls the given IPython comm\n",
       "    // object with the appropriate methods. Currently this is a non binary\n",
       "    // socket, so there is still some room for performance tuning.\n",
       "    var ws = {};\n",
       "\n",
       "    ws.close = function() {\n",
       "        comm.close()\n",
       "    };\n",
       "    ws.send = function(m) {\n",
       "        //console.log('sending', m);\n",
       "        comm.send(m);\n",
       "    };\n",
       "    // Register the callback with on_msg.\n",
       "    comm.on_msg(function(msg) {\n",
       "        //console.log('receiving', msg['content']['data'], msg);\n",
       "        // Pass the mpl event to the overridden (by mpl) onmessage function.\n",
       "        ws.onmessage(msg['content']['data'])\n",
       "    });\n",
       "    return ws;\n",
       "}\n",
       "\n",
       "mpl.mpl_figure_comm = function(comm, msg) {\n",
       "    // This is the function which gets called when the mpl process\n",
       "    // starts-up an IPython Comm through the \"matplotlib\" channel.\n",
       "\n",
       "    var id = msg.content.data.id;\n",
       "    // Get hold of the div created by the display call when the Comm\n",
       "    // socket was opened in Python.\n",
       "    var element = $(\"#\" + id);\n",
       "    var ws_proxy = comm_websocket_adapter(comm)\n",
       "\n",
       "    function ondownload(figure, format) {\n",
       "        window.open(figure.imageObj.src);\n",
       "    }\n",
       "\n",
       "    var fig = new mpl.figure(id, ws_proxy,\n",
       "                           ondownload,\n",
       "                           element.get(0));\n",
       "\n",
       "    // Call onopen now - mpl needs it, as it is assuming we've passed it a real\n",
       "    // web socket which is closed, not our websocket->open comm proxy.\n",
       "    ws_proxy.onopen();\n",
       "\n",
       "    fig.parent_element = element.get(0);\n",
       "    fig.cell_info = mpl.find_output_cell(\"<div id='\" + id + \"'></div>\");\n",
       "    if (!fig.cell_info) {\n",
       "        console.error(\"Failed to find cell for figure\", id, fig);\n",
       "        return;\n",
       "    }\n",
       "\n",
       "    var output_index = fig.cell_info[2]\n",
       "    var cell = fig.cell_info[0];\n",
       "\n",
       "};\n",
       "\n",
       "mpl.figure.prototype.handle_close = function(fig, msg) {\n",
       "    var width = fig.canvas.width/mpl.ratio\n",
       "    fig.root.unbind('remove')\n",
       "\n",
       "    // Update the output cell to use the data from the current canvas.\n",
       "    fig.push_to_output();\n",
       "    var dataURL = fig.canvas.toDataURL();\n",
       "    // Re-enable the keyboard manager in IPython - without this line, in FF,\n",
       "    // the notebook keyboard shortcuts fail.\n",
       "    IPython.keyboard_manager.enable()\n",
       "    $(fig.parent_element).html('<img src=\"' + dataURL + '\" width=\"' + width + '\">');\n",
       "    fig.close_ws(fig, msg);\n",
       "}\n",
       "\n",
       "mpl.figure.prototype.close_ws = function(fig, msg){\n",
       "    fig.send_message('closing', msg);\n",
       "    // fig.ws.close()\n",
       "}\n",
       "\n",
       "mpl.figure.prototype.push_to_output = function(remove_interactive) {\n",
       "    // Turn the data on the canvas into data in the output cell.\n",
       "    var width = this.canvas.width/mpl.ratio\n",
       "    var dataURL = this.canvas.toDataURL();\n",
       "    this.cell_info[1]['text/html'] = '<img src=\"' + dataURL + '\" width=\"' + width + '\">';\n",
       "}\n",
       "\n",
       "mpl.figure.prototype.updated_canvas_event = function() {\n",
       "    // Tell IPython that the notebook contents must change.\n",
       "    IPython.notebook.set_dirty(true);\n",
       "    this.send_message(\"ack\", {});\n",
       "    var fig = this;\n",
       "    // Wait a second, then push the new image to the DOM so\n",
       "    // that it is saved nicely (might be nice to debounce this).\n",
       "    setTimeout(function () { fig.push_to_output() }, 1000);\n",
       "}\n",
       "\n",
       "mpl.figure.prototype._init_toolbar = function() {\n",
       "    var fig = this;\n",
       "\n",
       "    var nav_element = $('<div/>');\n",
       "    nav_element.attr('style', 'width: 100%');\n",
       "    this.root.append(nav_element);\n",
       "\n",
       "    // Define a callback function for later on.\n",
       "    function toolbar_event(event) {\n",
       "        return fig.toolbar_button_onclick(event['data']);\n",
       "    }\n",
       "    function toolbar_mouse_event(event) {\n",
       "        return fig.toolbar_button_onmouseover(event['data']);\n",
       "    }\n",
       "\n",
       "    for(var toolbar_ind in mpl.toolbar_items){\n",
       "        var name = mpl.toolbar_items[toolbar_ind][0];\n",
       "        var tooltip = mpl.toolbar_items[toolbar_ind][1];\n",
       "        var image = mpl.toolbar_items[toolbar_ind][2];\n",
       "        var method_name = mpl.toolbar_items[toolbar_ind][3];\n",
       "\n",
       "        if (!name) { continue; };\n",
       "\n",
       "        var button = $('<button class=\"btn btn-default\" href=\"#\" title=\"' + name + '\"><i class=\"fa ' + image + ' fa-lg\"></i></button>');\n",
       "        button.click(method_name, toolbar_event);\n",
       "        button.mouseover(tooltip, toolbar_mouse_event);\n",
       "        nav_element.append(button);\n",
       "    }\n",
       "\n",
       "    // Add the status bar.\n",
       "    var status_bar = $('<span class=\"mpl-message\" style=\"text-align:right; float: right;\"/>');\n",
       "    nav_element.append(status_bar);\n",
       "    this.message = status_bar[0];\n",
       "\n",
       "    // Add the close button to the window.\n",
       "    var buttongrp = $('<div class=\"btn-group inline pull-right\"></div>');\n",
       "    var button = $('<button class=\"btn btn-mini btn-primary\" href=\"#\" title=\"Stop Interaction\"><i class=\"fa fa-power-off icon-remove icon-large\"></i></button>');\n",
       "    button.click(function (evt) { fig.handle_close(fig, {}); } );\n",
       "    button.mouseover('Stop Interaction', toolbar_mouse_event);\n",
       "    buttongrp.append(button);\n",
       "    var titlebar = this.root.find($('.ui-dialog-titlebar'));\n",
       "    titlebar.prepend(buttongrp);\n",
       "}\n",
       "\n",
       "mpl.figure.prototype._root_extra_style = function(el){\n",
       "    var fig = this\n",
       "    el.on(\"remove\", function(){\n",
       "\tfig.close_ws(fig, {});\n",
       "    });\n",
       "}\n",
       "\n",
       "mpl.figure.prototype._canvas_extra_style = function(el){\n",
       "    // this is important to make the div 'focusable\n",
       "    el.attr('tabindex', 0)\n",
       "    // reach out to IPython and tell the keyboard manager to turn it's self\n",
       "    // off when our div gets focus\n",
       "\n",
       "    // location in version 3\n",
       "    if (IPython.notebook.keyboard_manager) {\n",
       "        IPython.notebook.keyboard_manager.register_events(el);\n",
       "    }\n",
       "    else {\n",
       "        // location in version 2\n",
       "        IPython.keyboard_manager.register_events(el);\n",
       "    }\n",
       "\n",
       "}\n",
       "\n",
       "mpl.figure.prototype._key_event_extra = function(event, name) {\n",
       "    var manager = IPython.notebook.keyboard_manager;\n",
       "    if (!manager)\n",
       "        manager = IPython.keyboard_manager;\n",
       "\n",
       "    // Check for shift+enter\n",
       "    if (event.shiftKey && event.which == 13) {\n",
       "        this.canvas_div.blur();\n",
       "        // select the cell after this one\n",
       "        var index = IPython.notebook.find_cell_index(this.cell_info[0]);\n",
       "        IPython.notebook.select(index + 1);\n",
       "    }\n",
       "}\n",
       "\n",
       "mpl.figure.prototype.handle_save = function(fig, msg) {\n",
       "    fig.ondownload(fig, null);\n",
       "}\n",
       "\n",
       "\n",
       "mpl.find_output_cell = function(html_output) {\n",
       "    // Return the cell and output element which can be found *uniquely* in the notebook.\n",
       "    // Note - this is a bit hacky, but it is done because the \"notebook_saving.Notebook\"\n",
       "    // IPython event is triggered only after the cells have been serialised, which for\n",
       "    // our purposes (turning an active figure into a static one), is too late.\n",
       "    var cells = IPython.notebook.get_cells();\n",
       "    var ncells = cells.length;\n",
       "    for (var i=0; i<ncells; i++) {\n",
       "        var cell = cells[i];\n",
       "        if (cell.cell_type === 'code'){\n",
       "            for (var j=0; j<cell.output_area.outputs.length; j++) {\n",
       "                var data = cell.output_area.outputs[j];\n",
       "                if (data.data) {\n",
       "                    // IPython >= 3 moved mimebundle to data attribute of output\n",
       "                    data = data.data;\n",
       "                }\n",
       "                if (data['text/html'] == html_output) {\n",
       "                    return [cell, data, j];\n",
       "                }\n",
       "            }\n",
       "        }\n",
       "    }\n",
       "}\n",
       "\n",
       "// Register the function which deals with the matplotlib target/channel.\n",
       "// The kernel may be null if the page has been refreshed.\n",
       "if (IPython.notebook.kernel != null) {\n",
       "    IPython.notebook.kernel.comm_manager.register_target('matplotlib', mpl.mpl_figure_comm);\n",
       "}\n"
      ],
      "text/plain": [
       "<IPython.core.display.Javascript object>"
      ]
     },
     "metadata": {},
     "output_type": "display_data"
    },
    {
     "data": {
      "text/html": [
       "<img src=\"data:image/png;base64,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\" width=\"640\">"
      ],
      "text/plain": [
       "<IPython.core.display.HTML object>"
      ]
     },
     "metadata": {},
     "output_type": "display_data"
    },
    {
     "data": {
      "text/plain": [
       "<matplotlib.legend.Legend object at 0x7f4e3df6be20>"
      ]
     },
     "execution_count": 7,
     "metadata": {},
     "output_type": "execute_result"
    }
   ],
   "source": [
    "%matplotlib notebook\n",
    "\n",
    "import matplotlib.pyplot as plt\n",
    "\n",
    "import pandas as pd\n",
    "\n",
    "df = pd.DataFrame.from_dict(data)\n",
    "\n",
    "ax = plt.gca()\n",
    "\n",
    "df.plot.scatter(x='n', y='time_power_mod', label='Usando power_mod', c='red', ax=ax, s=0.4)\n",
    "df.plot.scatter(x='n', y='time_regular_exponentiation', c='blue', label='Sem usar power_mod', ax=ax, s=0.4)\n",
    "\n",
    "plt.ylabel('Tempo de execução')\n",
    "plt.legend()\n"
   ]
  },
  {
   "cell_type": "markdown",
   "metadata": {},
   "source": [
    "### Inverso Módulo"
   ]
  },
  {
   "cell_type": "markdown",
   "metadata": {},
   "source": [
    "Já vimos que é possível calcular a inversa $\\bmod n$ usando o algoritmo de Euclides estendido.\n",
    "Mas como essa é uma função muito importante, já vem implementada diretamente em Sage."
   ]
  },
  {
   "cell_type": "code",
   "execution_count": 8,
   "metadata": {},
   "outputs": [
    {
     "data": {
      "text/plain": [
       "10"
      ]
     },
     "execution_count": 8,
     "metadata": {},
     "output_type": "execute_result"
    }
   ],
   "source": [
    "inverse_mod(4, 13)"
   ]
  },
  {
   "cell_type": "code",
   "execution_count": 9,
   "metadata": {},
   "outputs": [
    {
     "data": {
      "text/plain": [
       "1"
      ]
     },
     "execution_count": 9,
     "metadata": {},
     "output_type": "execute_result"
    }
   ],
   "source": [
    "4*10 % 13"
   ]
  },
  {
   "cell_type": "markdown",
   "metadata": {},
   "source": [
    "## Trabalhando com Anel de Inteiros em Sage"
   ]
  },
  {
   "cell_type": "markdown",
   "metadata": {},
   "source": [
    "Nesta seção veremos como o Sage dá uma interface um pouco mais amigável e natural para trabalhar com as funções acima."
   ]
  },
  {
   "cell_type": "markdown",
   "metadata": {},
   "source": [
    "### Definindo um anel de inteiros $\\bmod n$"
   ]
  },
  {
   "cell_type": "markdown",
   "metadata": {},
   "source": [
    "Para trabalhar diretamente no anel de inteiros $\\bmod n$ fazemos assim:"
   ]
  },
  {
   "cell_type": "code",
   "execution_count": 10,
   "metadata": {},
   "outputs": [],
   "source": [
    "A = Integers(13) # n = 13"
   ]
  },
  {
   "cell_type": "markdown",
   "metadata": {},
   "source": [
    "Alguns métodos do grupo:"
   ]
  },
  {
   "cell_type": "code",
   "execution_count": 17,
   "metadata": {},
   "outputs": [
    {
     "data": {
      "text/plain": [
       " +  00 01 02 03 04 05 06 07 08 09 10 11 12\n",
       "  +---------------------------------------\n",
       "00| 00 01 02 03 04 05 06 07 08 09 10 11 12\n",
       "01| 01 02 03 04 05 06 07 08 09 10 11 12 00\n",
       "02| 02 03 04 05 06 07 08 09 10 11 12 00 01\n",
       "03| 03 04 05 06 07 08 09 10 11 12 00 01 02\n",
       "04| 04 05 06 07 08 09 10 11 12 00 01 02 03\n",
       "05| 05 06 07 08 09 10 11 12 00 01 02 03 04\n",
       "06| 06 07 08 09 10 11 12 00 01 02 03 04 05\n",
       "07| 07 08 09 10 11 12 00 01 02 03 04 05 06\n",
       "08| 08 09 10 11 12 00 01 02 03 04 05 06 07\n",
       "09| 09 10 11 12 00 01 02 03 04 05 06 07 08\n",
       "10| 10 11 12 00 01 02 03 04 05 06 07 08 09\n",
       "11| 11 12 00 01 02 03 04 05 06 07 08 09 10\n",
       "12| 12 00 01 02 03 04 05 06 07 08 09 10 11\n"
      ]
     },
     "execution_count": 17,
     "metadata": {},
     "output_type": "execute_result"
    }
   ],
   "source": [
    "A.addition_table('digits')"
   ]
  },
  {
   "cell_type": "code",
   "execution_count": 16,
   "metadata": {},
   "outputs": [
    {
     "data": {
      "text/plain": [
       " *  00 01 02 03 04 05 06 07 08 09 10 11 12\n",
       "  +---------------------------------------\n",
       "00| 00 00 00 00 00 00 00 00 00 00 00 00 00\n",
       "01| 00 01 02 03 04 05 06 07 08 09 10 11 12\n",
       "02| 00 02 04 06 08 10 12 01 03 05 07 09 11\n",
       "03| 00 03 06 09 12 02 05 08 11 01 04 07 10\n",
       "04| 00 04 08 12 03 07 11 02 06 10 01 05 09\n",
       "05| 00 05 10 02 07 12 04 09 01 06 11 03 08\n",
       "06| 00 06 12 05 11 04 10 03 09 02 08 01 07\n",
       "07| 00 07 01 08 02 09 03 10 04 11 05 12 06\n",
       "08| 00 08 03 11 06 01 09 04 12 07 02 10 05\n",
       "09| 00 09 05 01 10 06 02 11 07 03 12 08 04\n",
       "10| 00 10 07 04 01 11 08 05 02 12 09 06 03\n",
       "11| 00 11 09 07 05 03 01 12 10 08 06 04 02\n",
       "12| 00 12 11 10 09 08 07 06 05 04 03 02 01\n"
      ]
     },
     "execution_count": 16,
     "metadata": {},
     "output_type": "execute_result"
    }
   ],
   "source": [
    "A.multiplication_table('digits')"
   ]
  },
  {
   "cell_type": "code",
   "execution_count": 43,
   "metadata": {},
   "outputs": [],
   "source": [
    "a = A.random_element()\n",
    "b = A.random_element()"
   ]
  },
  {
   "cell_type": "code",
   "execution_count": 44,
   "metadata": {},
   "outputs": [
    {
     "data": {
      "text/plain": [
       "(12, 4)"
      ]
     },
     "execution_count": 44,
     "metadata": {},
     "output_type": "execute_result"
    }
   ],
   "source": [
    "a, b"
   ]
  },
  {
   "cell_type": "code",
   "execution_count": 45,
   "metadata": {},
   "outputs": [
    {
     "data": {
      "text/plain": [
       "9"
      ]
     },
     "execution_count": 45,
     "metadata": {},
     "output_type": "execute_result"
    }
   ],
   "source": [
    "a*b"
   ]
  },
  {
   "cell_type": "code",
   "execution_count": 49,
   "metadata": {},
   "outputs": [
    {
     "data": {
      "text/plain": [
       "9"
      ]
     },
     "execution_count": 49,
     "metadata": {},
     "output_type": "execute_result"
    }
   ],
   "source": [
    "A(12)*4"
   ]
  },
  {
   "cell_type": "code",
   "execution_count": 50,
   "metadata": {},
   "outputs": [
    {
     "data": {
      "text/plain": [
       "13"
      ]
     },
     "execution_count": 50,
     "metadata": {},
     "output_type": "execute_result"
    }
   ],
   "source": [
    "A.cardinality()"
   ]
  },
  {
   "cell_type": "markdown",
   "metadata": {},
   "source": [
    "Podemos até gerar o anel polinomial com coeficientes em R:"
   ]
  },
  {
   "cell_type": "code",
   "execution_count": 22,
   "metadata": {},
   "outputs": [],
   "source": [
    "R.<t> = A[]"
   ]
  },
  {
   "cell_type": "code",
   "execution_count": 38,
   "metadata": {},
   "outputs": [
    {
     "data": {
      "text/plain": [
       "7*t^37 + 7*t^36 + 12*t^35 + 9*t^33 + 9*t^32 + 12*t^30 + 12*t^29 + 4*t^28 + 8*t^27 + 6*t^26 + 11*t^25 + t^24 + 6*t^23 + 9*t^22 + 8*t^21 + 9*t^20 + 11*t^19 + 11*t^18 + 12*t^17 + 4*t^16 + 11*t^15 + 3*t^14 + 9*t^13 + 10*t^12 + 11*t^11 + 6*t^10 + 11*t^9 + 4*t^8 + 5*t^7 + 8*t^6 + 7*t^5 + 11*t^4 + t^3 + 8*t^2 + 6*t"
      ]
     },
     "execution_count": 38,
     "metadata": {},
     "output_type": "execute_result"
    }
   ],
   "source": [
    "R.random_element(degree=(-1, 100))"
   ]
  },
  {
   "cell_type": "code",
   "execution_count": 26,
   "metadata": {},
   "outputs": [
    {
     "data": {
      "text/plain": [
       "Univariate Polynomial Ring in t over Ring of integers modulo 13"
      ]
     },
     "execution_count": 26,
     "metadata": {},
     "output_type": "execute_result"
    }
   ],
   "source": [
    "R"
   ]
  },
  {
   "cell_type": "code",
   "execution_count": 52,
   "metadata": {},
   "outputs": [
    {
     "data": {
      "text/plain": [
       "+Infinity"
      ]
     },
     "execution_count": 52,
     "metadata": {},
     "output_type": "execute_result"
    }
   ],
   "source": [
    "R.cardinality()"
   ]
  },
  {
   "cell_type": "markdown",
   "metadata": {},
   "source": [
    "Podemos pegar elementos irredutíveis de R:"
   ]
  },
  {
   "cell_type": "code",
   "execution_count": 53,
   "metadata": {},
   "outputs": [
    {
     "data": {
      "text/plain": [
       "t^3 + 2*t + 11"
      ]
     },
     "execution_count": 53,
     "metadata": {},
     "output_type": "execute_result"
    }
   ],
   "source": [
    "m = R.irreducible_element(3)\n",
    "m"
   ]
  },
  {
   "cell_type": "code",
   "execution_count": 54,
   "metadata": {},
   "outputs": [],
   "source": [
    "Q.<u> = R.quotient(m)"
   ]
  },
  {
   "cell_type": "code",
   "execution_count": 55,
   "metadata": {},
   "outputs": [
    {
     "name": "stdout",
     "output_type": "stream",
     "text": [
      "p1= 2*u^2 + 5*u\n",
      "p2= 7*u^2 + 11*u + 1\n"
     ]
    }
   ],
   "source": [
    "p1 = Q.random_element()\n",
    "p2 = Q.random_element()\n",
    "print('p1=', p1)\n",
    "print('p2=', p2)"
   ]
  },
  {
   "cell_type": "code",
   "execution_count": 56,
   "metadata": {},
   "outputs": [
    {
     "data": {
      "text/plain": [
       "2197"
      ]
     },
     "execution_count": 56,
     "metadata": {},
     "output_type": "execute_result"
    }
   ],
   "source": [
    "Q.cardinality()"
   ]
  },
  {
   "cell_type": "code",
   "execution_count": 58,
   "metadata": {},
   "outputs": [
    {
     "name": "stdout",
     "output_type": "stream",
     "text": [
      "3*u^2 + 10*u + 10\n"
     ]
    }
   ],
   "source": [
    "p = p1*p2\n",
    "print(p)"
   ]
  },
  {
   "cell_type": "markdown",
   "metadata": {},
   "source": [
    "Podemos fazer a operação de lift para transformar $p_1$ num elemento no anel pai (sem módulo)"
   ]
  },
  {
   "cell_type": "code",
   "execution_count": 60,
   "metadata": {},
   "outputs": [
    {
     "data": {
      "text/plain": [
       "t^4 + 5*t^3 + 5*t^2 + 5*t"
      ]
     },
     "execution_count": 60,
     "metadata": {},
     "output_type": "execute_result"
    }
   ],
   "source": [
    "p1.lift()*p2.lift()"
   ]
  },
  {
   "cell_type": "markdown",
   "metadata": {},
   "source": [
    "Compare o que acontece quando elevamos o $p_1$ lifted ao quadrado"
   ]
  },
  {
   "cell_type": "code",
   "execution_count": 18,
   "metadata": {},
   "outputs": [
    {
     "data": {
      "text/plain": [
       "u^2 + 7*u"
      ]
     },
     "execution_count": 18,
     "metadata": {},
     "output_type": "execute_result"
    }
   ],
   "source": [
    "p1**2"
   ]
  },
  {
   "cell_type": "code",
   "execution_count": 19,
   "metadata": {},
   "outputs": [
    {
     "data": {
      "text/plain": [
       "4*t^4 + 2*t^3 + 9*t^2 + 3*t + 9"
      ]
     },
     "execution_count": 19,
     "metadata": {},
     "output_type": "execute_result"
    }
   ],
   "source": [
    "p1.lift()**2"
   ]
  },
  {
   "cell_type": "code",
   "execution_count": 20,
   "metadata": {},
   "outputs": [],
   "source": [
    "q1 = p1.lift()\n",
    "q2 = p2.lift()"
   ]
  },
  {
   "cell_type": "code",
   "execution_count": 21,
   "metadata": {},
   "outputs": [
    {
     "data": {
      "text/plain": [
       "12*t^4 + 7*t^3 + 3*t^2 + 2*t + 2"
      ]
     },
     "execution_count": 21,
     "metadata": {},
     "output_type": "execute_result"
    }
   ],
   "source": [
    "(q1*q2)"
   ]
  },
  {
   "cell_type": "code",
   "execution_count": 22,
   "metadata": {},
   "outputs": [
    {
     "name": "stdout",
     "output_type": "stream",
     "text": [
      "5*t^2 + 12*t + 3\n"
     ]
    }
   ],
   "source": [
    "q = (q1*q2).mod(m)\n",
    "print(q)"
   ]
  },
  {
   "cell_type": "markdown",
   "metadata": {},
   "source": [
    "Note que o valor de $q$ é o mesmo de $p$ quando lifted"
   ]
  },
  {
   "cell_type": "code",
   "execution_count": 23,
   "metadata": {},
   "outputs": [
    {
     "data": {
      "text/plain": [
       "True"
      ]
     },
     "execution_count": 23,
     "metadata": {},
     "output_type": "execute_result"
    }
   ],
   "source": [
    "q == p.lift()"
   ]
  },
  {
   "cell_type": "markdown",
   "metadata": {},
   "source": [
    "Acho que já viemos longe demais de cripto!"
   ]
  },
  {
   "cell_type": "markdown",
   "metadata": {},
   "source": [
    "### Exponenciação modular vem de tabela"
   ]
  },
  {
   "cell_type": "markdown",
   "metadata": {},
   "source": [
    "Voltando paro o nosso anel $R$"
   ]
  },
  {
   "cell_type": "code",
   "execution_count": 61,
   "metadata": {},
   "outputs": [
    {
     "data": {
      "text/plain": [
       "Ring of integers modulo 13"
      ]
     },
     "execution_count": 61,
     "metadata": {},
     "output_type": "execute_result"
    }
   ],
   "source": [
    "A"
   ]
  },
  {
   "cell_type": "markdown",
   "metadata": {},
   "source": [
    "Podemos transformar pegar qualquer inteiro e escalá-lo para um elemento de $R$"
   ]
  },
  {
   "cell_type": "code",
   "execution_count": 62,
   "metadata": {},
   "outputs": [
    {
     "data": {
      "text/plain": [
       "10"
      ]
     },
     "execution_count": 62,
     "metadata": {},
     "output_type": "execute_result"
    }
   ],
   "source": [
    "A(10)"
   ]
  },
  {
   "cell_type": "code",
   "execution_count": 63,
   "metadata": {},
   "outputs": [
    {
     "data": {
      "text/plain": [
       "11"
      ]
     },
     "execution_count": 63,
     "metadata": {},
     "output_type": "execute_result"
    }
   ],
   "source": [
    "A(-2)"
   ]
  },
  {
   "cell_type": "markdown",
   "metadata": {},
   "source": [
    "Elementos em $R$ têm o privilégio de já vir com exponenciação modular"
   ]
  },
  {
   "cell_type": "code",
   "execution_count": 68,
   "metadata": {},
   "outputs": [
    {
     "data": {
      "text/plain": [
       "3"
      ]
     },
     "execution_count": 68,
     "metadata": {},
     "output_type": "execute_result"
    }
   ],
   "source": [
    "A(3)**902323489594240240419283287419823479128347439"
   ]
  },
  {
   "cell_type": "markdown",
   "metadata": {},
   "source": [
    "### Inverso módulo vem de tabela"
   ]
  },
  {
   "cell_type": "markdown",
   "metadata": {},
   "source": [
    "Além disso, o inverso dos elementos em $R$ também é feito levando o módulo em consideração"
   ]
  },
  {
   "cell_type": "code",
   "execution_count": 70,
   "metadata": {},
   "outputs": [
    {
     "data": {
      "text/plain": [
       "8"
      ]
     },
     "execution_count": 70,
     "metadata": {},
     "output_type": "execute_result"
    }
   ],
   "source": [
    "1/A(5)"
   ]
  },
  {
   "cell_type": "code",
   "execution_count": 69,
   "metadata": {},
   "outputs": [
    {
     "data": {
      "text/plain": [
       "8"
      ]
     },
     "execution_count": 69,
     "metadata": {},
     "output_type": "execute_result"
    }
   ],
   "source": [
    "inverse_mod(5, 13)"
   ]
  },
  {
   "cell_type": "code",
   "execution_count": 71,
   "metadata": {},
   "outputs": [
    {
     "data": {
      "text/plain": [
       "8"
      ]
     },
     "execution_count": 71,
     "metadata": {},
     "output_type": "execute_result"
    }
   ],
   "source": [
    "A(5)^-1"
   ]
  },
  {
   "cell_type": "code",
   "execution_count": 73,
   "metadata": {},
   "outputs": [
    {
     "data": {
      "text/plain": [
       "1"
      ]
     },
     "execution_count": 73,
     "metadata": {},
     "output_type": "execute_result"
    }
   ],
   "source": [
    "A(5)^-1 * A(5)"
   ]
  },
  {
   "cell_type": "code",
   "execution_count": 74,
   "metadata": {},
   "outputs": [],
   "source": [
    "B = Integers(50)"
   ]
  },
  {
   "cell_type": "code",
   "execution_count": 78,
   "metadata": {},
   "outputs": [
    {
     "data": {
      "text/plain": [
       "17"
      ]
     },
     "execution_count": 78,
     "metadata": {},
     "output_type": "execute_result"
    }
   ],
   "source": [
    "B(3)^(-1)"
   ]
  },
  {
   "cell_type": "markdown",
   "metadata": {},
   "source": [
    "IMPORTANTE: Uma operação com elementos em $R$ é automaticamente avaliada em $R$"
   ]
  },
  {
   "cell_type": "code",
   "execution_count": 79,
   "metadata": {},
   "outputs": [
    {
     "data": {
      "text/plain": [
       "8"
      ]
     },
     "execution_count": 79,
     "metadata": {},
     "output_type": "execute_result"
    }
   ],
   "source": [
    "R(5) * 1000"
   ]
  },
  {
   "cell_type": "markdown",
   "metadata": {},
   "source": [
    "## Funções de Hash"
   ]
  },
  {
   "cell_type": "markdown",
   "metadata": {},
   "source": [
    "Agora saímos um pouco de Sage e vamos falar sobre Cripto."
   ]
  },
  {
   "cell_type": "markdown",
   "metadata": {},
   "source": [
    "O que vocês sabem sobre funções de Hash?"
   ]
  },
  {
   "cell_type": "markdown",
   "metadata": {},
   "source": [
    "### Propriedades de funções de Hash Criptográficas"
   ]
  },
  {
   "cell_type": "markdown",
   "metadata": {},
   "source": [
    "1. Uma função determinística $h$: mesma entrada implica em mesma saída.\n",
    "2. Computação de $h$ é eficiente\n",
    "3. Dado um valor $y$ é computacionalmente inviável encontrar $x$ tal que $h(x) = y$\n",
    "4. Computacionalmente inviável encontrar duas mensagens com mesmo hash\n",
    "5. Uma pequena alteração na entrada deve produzir alteração catastrófica na saída\n"
   ]
  },
  {
   "cell_type": "markdown",
   "metadata": {},
   "source": [
    "É importante internalizar essas propriedades.\n",
    "\n",
    "São das primitivas mais importantes em criptografia hoje."
   ]
  },
  {
   "cell_type": "markdown",
   "metadata": {},
   "source": [
    "Implementação de funções de Hash é uma área bem ativa e importante de criptografia simétrica."
   ]
  },
  {
   "cell_type": "markdown",
   "metadata": {},
   "source": [
    "### Aplicações básicas de funções de Hash"
   ]
  },
  {
   "cell_type": "markdown",
   "metadata": {},
   "source": [
    "Uma das principais aplicações de funções de hash é na autenticação de mensagens **quando as duas partes compartilham uma chave secreta**. Note que é bem diferente de assinatura digital (assimétrica).\n",
    "\n",
    "\n",
    "Seja $k$ uma chave secreta que eu compartilho com o Luís. Para autenticar uma mensagem $m$ basta que eu mande para o Luís o par $(m, s)$, onde $s = h(m\\|k)$.\n",
    "Para Luís garantir que eu mesmo escrevi $m$, basta que ele compute o valor de $h(m\\|k)$ e verificar se este valor é igual a $s$.\n",
    "\n",
    "Note que, pela propriedade 3 de funções de hash, um atacante que vê $s$ não consegue descobrir $k$, e nem gerar outra assinatura válida para uma mensagem diferente"
   ]
  },
  {
   "cell_type": "markdown",
   "metadata": {},
   "source": [
    "### Hash em Python"
   ]
  },
  {
   "cell_type": "markdown",
   "metadata": {},
   "source": [
    "Python vem com um módulo com várias funções de hash implementadas."
   ]
  },
  {
   "cell_type": "code",
   "execution_count": 101,
   "metadata": {},
   "outputs": [],
   "source": [
    "import hashlib"
   ]
  },
  {
   "cell_type": "code",
   "execution_count": 102,
   "metadata": {},
   "outputs": [
    {
     "data": {
      "text/plain": [
       "{'blake2b',\n",
       " 'blake2s',\n",
       " 'md4',\n",
       " 'md5',\n",
       " 'md5-sha1',\n",
       " 'mdc2',\n",
       " 'ripemd160',\n",
       " 'sha1',\n",
       " 'sha224',\n",
       " 'sha256',\n",
       " 'sha384',\n",
       " 'sha3_224',\n",
       " 'sha3_256',\n",
       " 'sha3_384',\n",
       " 'sha3_512',\n",
       " 'sha512',\n",
       " 'sha512_224',\n",
       " 'sha512_256',\n",
       " 'shake_128',\n",
       " 'shake_256',\n",
       " 'sm3',\n",
       " 'whirlpool'}"
      ]
     },
     "execution_count": 102,
     "metadata": {},
     "output_type": "execute_result"
    }
   ],
   "source": [
    "hashlib.algorithms_available"
   ]
  },
  {
   "cell_type": "markdown",
   "metadata": {},
   "source": [
    "Vamos usar o hash SHA512. Note que a entrada para as funções de hash são sequências de bytes:"
   ]
  },
  {
   "cell_type": "code",
   "execution_count": 103,
   "metadata": {},
   "outputs": [
    {
     "name": "stdout",
     "output_type": "stream",
     "text": [
      "Help on built-in function openssl_sha512 in module _hashlib:\n",
      "\n",
      "openssl_sha512(string=b'')\n",
      "    Returns a sha512 hash object; optionally initialized with a string\n",
      "\n"
     ]
    }
   ],
   "source": [
    "help(hashlib.sha512)"
   ]
  },
  {
   "cell_type": "markdown",
   "metadata": {},
   "source": [
    "Não é toda string que pode ser lida como uma sequência de bytes:"
   ]
  },
  {
   "cell_type": "code",
   "execution_count": 106,
   "metadata": {},
   "outputs": [
    {
     "data": {
      "text/plain": [
       "b'este e um teste'"
      ]
     },
     "execution_count": 106,
     "metadata": {},
     "output_type": "execute_result"
    }
   ],
   "source": [
    "b'este e um teste'"
   ]
  },
  {
   "cell_type": "markdown",
   "metadata": {},
   "source": [
    "Precisamos então codificar as strings antes de aplicar o hash."
   ]
  },
  {
   "cell_type": "code",
   "execution_count": 107,
   "metadata": {},
   "outputs": [
    {
     "name": "stdout",
     "output_type": "stream",
     "text": [
      "b'este \\xc3\\xa9 um teste'\n"
     ]
    }
   ],
   "source": [
    "m = 'este é um teste'.encode('utf-8')\n",
    "print(m)"
   ]
  },
  {
   "cell_type": "markdown",
   "metadata": {},
   "source": [
    "Agora podemos aplicar a função de hash."
   ]
  },
  {
   "cell_type": "code",
   "execution_count": 109,
   "metadata": {},
   "outputs": [
    {
     "name": "stdout",
     "output_type": "stream",
     "text": [
      "<sha512 HASH object @ 0x7f4e36cfa2d0>\n"
     ]
    }
   ],
   "source": [
    "hash_m = hashlib.sha512(m)\n",
    "print(hash_m)"
   ]
  },
  {
   "cell_type": "markdown",
   "metadata": {},
   "source": [
    "Para efetivamente calcular o hash como sequẽncia de bytes, podemos usar o método digest, cuja saída é totalmente ilegível."
   ]
  },
  {
   "cell_type": "code",
   "execution_count": 110,
   "metadata": {},
   "outputs": [
    {
     "data": {
      "text/plain": [
       "b'H\\x06\\x9b\\xee\\xd5\\x18\\xe1\\t\\x90N0\\xaf\\x91GQ\\x8d\\x1a\\xcf\\xa3\\xd7Bo\\x9c\\xfc+5j\\x04\\xc0^]GAoD\\xea\\xd8\\xe3\\x89,\\xf3\\x1d\\xa6\\x00\\r\\xed\\x83\\xdf\\xcbc\\x0b4\\xc3f\\xb2\\x17\\xe5uv\\xe4\\x8al\\xd2\\x8a'"
      ]
     },
     "execution_count": 110,
     "metadata": {},
     "output_type": "execute_result"
    }
   ],
   "source": [
    "hash_m.digest()"
   ]
  },
  {
   "cell_type": "markdown",
   "metadata": {},
   "source": [
    "Em geral é mais útil chamar o método hexdigest, cuja saída é em hexadecimal."
   ]
  },
  {
   "cell_type": "code",
   "execution_count": 111,
   "metadata": {},
   "outputs": [
    {
     "data": {
      "text/plain": [
       "'48069beed518e109904e30af9147518d1acfa3d7426f9cfc2b356a04c05e5d47416f44ead8e3892cf31da6000ded83dfcb630b34c366b217e57576e48a6cd28a'"
      ]
     },
     "execution_count": 111,
     "metadata": {},
     "output_type": "execute_result"
    }
   ],
   "source": [
    "hash_m.hexdigest()"
   ]
  },
  {
   "cell_type": "markdown",
   "metadata": {},
   "source": [
    "OBS: Mostrei a saída do digest só para quem não está acostumado com hexadecimal passar a achar hexadecimais até que razoáveis."
   ]
  },
  {
   "cell_type": "markdown",
   "metadata": {},
   "source": [
    "### Implementação do esquema simples de autenticação"
   ]
  },
  {
   "cell_type": "code",
   "execution_count": 114,
   "metadata": {},
   "outputs": [],
   "source": [
    "def auth(message, key):\n",
    "    m = message.encode('utf-8')\n",
    "    k = key.encode('utf-8')\n",
    "    \n",
    "    c = m + k  # Operação de concatenação de sequências de bytes\n",
    "    \n",
    "    return hashlib.sha512(c).hexdigest()"
   ]
  },
  {
   "cell_type": "markdown",
   "metadata": {},
   "source": [
    "Veja que mesmo pequenas mudanças na mensagem tem resultado catastrófico.\n",
    "Então esta função garante \n",
    "1. Autenticidade (sei quem gerou a mensagem)\n",
    "2. Integridade (a mensagem não foi modificada)"
   ]
  },
  {
   "cell_type": "code",
   "execution_count": 115,
   "metadata": {},
   "outputs": [
    {
     "name": "stdout",
     "output_type": "stream",
     "text": [
      "d52e02f8ad19196b7ec4553c6533bf77ef598e801335c248217740c62852a0043ea3a162088227dccf978178954313a9995d63f813343fac847502b261936b8d\n"
     ]
    }
   ],
   "source": [
    "message = 'Essa é uma mensagem boa'\n",
    "key = 'H4CK3R'\n",
    "print(auth(message, key))"
   ]
  },
  {
   "cell_type": "code",
   "execution_count": 116,
   "metadata": {},
   "outputs": [
    {
     "name": "stdout",
     "output_type": "stream",
     "text": [
      "1d21ec7458762c3cd2c95830394b0667c70b08a8e1d184b4c3e9aa4825dd77634bee3f0eb613be26bbed1ce093e0aaf8b50e765777e57d27a5488242379880be\n"
     ]
    }
   ],
   "source": [
    "key_false = 'H4CK3r'\n",
    "print(auth(message, key_false))"
   ]
  },
  {
   "cell_type": "code",
   "execution_count": 117,
   "metadata": {},
   "outputs": [
    {
     "name": "stdout",
     "output_type": "stream",
     "text": [
      "dc2b287063d9ddbf0d00cc221c9be91d78075ff0fb47fd6c4c901179e9237c10a63ae14676530cf53b371a80f36b63e8b7daf05d72845eebfaea7f9acbf72020\n"
     ]
    }
   ],
   "source": [
    "message_false = 'Essa é uma mensagem Boa'\n",
    "print(auth(message_false, key))"
   ]
  },
  {
   "cell_type": "markdown",
   "metadata": {},
   "source": [
    "Apesar de bem simples, há limitações bem severas como:\n",
    "1. A única coisa que se pode garantir é que um dois dois criou a mensagem! Uma pessoa de fora não saberia dizer de quem veio a mensagem.\n",
    "2. Apenas quem sabe $k$ consegue determinar a autenticidade (não funciona para assinar documentos públicos)\n",
    "\n",
    "Estes problemas são resolvidos assinaturas digitais."
   ]
  },
  {
   "cell_type": "markdown",
   "metadata": {},
   "source": [
    "## Distância de Hamming"
   ]
  },
  {
   "cell_type": "markdown",
   "metadata": {},
   "source": [
    "Vimos que as saída da função auth são bem diferentes mesmo quando mudamos pouco a mensagem.\n",
    "\n",
    "Mas quão diferentes elas são?\n",
    "\n",
    "Uma medida muito usada para determinar a diferença entre duas strings é o número de bits em que essas strings diferem, conhecida como distância de Hamming."
   ]
  },
  {
   "cell_type": "code",
   "execution_count": 118,
   "metadata": {},
   "outputs": [],
   "source": [
    "h1 = auth('Mensagem 1', key)\n",
    "h2 = auth('Mensagem 2', key)"
   ]
  },
  {
   "cell_type": "code",
   "execution_count": 119,
   "metadata": {},
   "outputs": [
    {
     "data": {
      "text/plain": [
       "('6befbcf1cd6b6f3361f0ed25e3c7ab8ba61e2d6f57e4e347934e9decb94b26d83786da8055290acb4a55cab555d49aea9b8e956d163434516cdb4aa965015cdc',\n",
       " '8bf1dd9b38ee0aa06d8bb4dec7b0dca0f5654fe8cf82f17d9a24158ca22ccfb05534a969106211ed72e35de1bf1067779209f94fb6cedbf49dce4ad0f42145ca')"
      ]
     },
     "execution_count": 119,
     "metadata": {},
     "output_type": "execute_result"
    }
   ],
   "source": [
    "h1, h2"
   ]
  },
  {
   "cell_type": "markdown",
   "metadata": {},
   "source": [
    "*Exemplo*. A distância de Hamming entre $(1, 0, 0, 0, 1, 1)$ e $(1, 1, 0, 0, 0, 1)$ é 2."
   ]
  },
  {
   "cell_type": "markdown",
   "metadata": {},
   "source": [
    "Precisamos descobrir quanto valem esses valores em binário.\n",
    "Python vem com a função bin, que devolve a representação binária de um **inteiro**."
   ]
  },
  {
   "cell_type": "code",
   "execution_count": 120,
   "metadata": {},
   "outputs": [
    {
     "data": {
      "text/plain": [
       "'0b10011000'"
      ]
     },
     "execution_count": 120,
     "metadata": {},
     "output_type": "execute_result"
    }
   ],
   "source": [
    "bin(152)"
   ]
  },
  {
   "cell_type": "markdown",
   "metadata": {},
   "source": [
    "Devemos então transformar os hash em inteiros. A função int toma como entrada uma string e uma base, e resolve exatamente o nosso problema."
   ]
  },
  {
   "cell_type": "code",
   "execution_count": 125,
   "metadata": {},
   "outputs": [
    {
     "data": {
      "text/plain": [
       "5653091991284228981359902675427721893933166525932645203985077768696112266667138293354340530426553666759205200998748925064292622818604810987237847064468700"
      ]
     },
     "execution_count": 125,
     "metadata": {},
     "output_type": "execute_result"
    }
   ],
   "source": [
    "int(h1, 16)"
   ]
  },
  {
   "cell_type": "markdown",
   "metadata": {},
   "source": [
    "Agora podemos aplicar a função bin."
   ]
  },
  {
   "cell_type": "code",
   "execution_count": 49,
   "metadata": {},
   "outputs": [
    {
     "data": {
      "text/plain": [
       "'0b1101011111011111011110011110001110011010110101101101111001100110110000111110000111011010010010111100011110001111010101110001011101001100001111000101101011011110101011111100100111000110100011110010011010011101001110111101100101110010100101100100110110110000011011110000110110110101000000001010101001010010000101011001011010010100101010111001010101101010101010111010100100110101110101010011011100011101001010101101101000101100011010000110100010100010110110011011011010010101010100101100101000000010101110011011100'"
      ]
     },
     "execution_count": 49,
     "metadata": {},
     "output_type": "execute_result"
    }
   ],
   "source": [
    "bin(int(h1, 16))"
   ]
  },
  {
   "cell_type": "code",
   "execution_count": 133,
   "metadata": {},
   "outputs": [],
   "source": [
    "def get_binary_representation_512_bits(h):\n",
    "    bin_h = bin(int(h, 16))[2:]  # [2:] Tira o 0b da frente\n",
    "    bin_h_512bits = '0' * (512 - len(bin_h)) + bin_h\n",
    "    \n",
    "    return bin_h_512bits"
   ]
  },
  {
   "cell_type": "code",
   "execution_count": 134,
   "metadata": {},
   "outputs": [
    {
     "data": {
      "text/plain": [
       "'01101011111011111011110011110001110011010110101101101111001100110110000111110000111011010010010111100011110001111010101110001011101001100001111000101101011011110101011111100100111000110100011110010011010011101001110111101100101110010100101100100110110110000011011110000110110110101000000001010101001010010000101011001011010010100101010111001010101101010101010111010100100110101110101010011011100011101001010101101101000101100011010000110100010100010110110011011011010010101010100101100101000000010101110011011100'"
      ]
     },
     "execution_count": 134,
     "metadata": {},
     "output_type": "execute_result"
    }
   ],
   "source": [
    "get_binary_representation_512_bits(h1)"
   ]
  },
  {
   "cell_type": "code",
   "execution_count": 135,
   "metadata": {},
   "outputs": [],
   "source": [
    "def hamming_distance_with_strings(h1, h2):\n",
    "    bin_h1 = get_binary_representation_512_bits(h1)\n",
    "    bin_h2 = get_binary_representation_512_bits(h2)\n",
    "    \n",
    "    distance = 0\n",
    "    for x1, x2 in zip(bin_h1, bin_h2):\n",
    "        if x1 != x2:\n",
    "            distance += 1\n",
    "    return distance"
   ]
  },
  {
   "cell_type": "markdown",
   "metadata": {},
   "source": [
    "A distância de Hamming entre $h_1$ e $h_2$ deve ser de aproximadamente $512/2 = 256$ bits, pois estes valores devem ter distribuição uniformemente aleatória para quem não conhece as mensagens."
   ]
  },
  {
   "cell_type": "code",
   "execution_count": 136,
   "metadata": {},
   "outputs": [
    {
     "data": {
      "text/plain": [
       "246"
      ]
     },
     "execution_count": 136,
     "metadata": {},
     "output_type": "execute_result"
    }
   ],
   "source": [
    "hamming_distance_with_strings(h1, h2)"
   ]
  },
  {
   "cell_type": "markdown",
   "metadata": {},
   "source": [
    "## Assinatura Digital"
   ]
  },
  {
   "cell_type": "markdown",
   "metadata": {},
   "source": [
    "Uma assinatura digital tem o objetivo de fornecer as 3 garantias\n",
    "1. Autenticidade: o documento foi assinado por certa entidade\n",
    "2. Integridade: o documento assinado não foi alterado\n",
    "3. Irretratabilidade: aquele que assinou o documento não pode negar tê-la assinado no futuro\n"
   ]
  },
  {
   "cell_type": "markdown",
   "metadata": {},
   "source": [
    "### Por que assinamos Hashs e não as próprias mensagens?"
   ]
  },
  {
   "cell_type": "markdown",
   "metadata": {},
   "source": [
    "1. Mensagens podem ter qualquer tamanho, e os esquemas de assinatura trabalham com espaços enormes (porém finitos e prefixados de mensagens)\n",
    "\n",
    "Poderíamos tentar \"tirar o módulo da mensagem\" mas isso tem um problema tremendo: é muito previsível. Um atacante poderia facilmente gerar uma mensagem totalmente que tem o mesmo módulo. Usando uma função de hash, em que cada bit de entrada afeta toda a saída, isso é evitado.\n",
    "\n",
    "2. Eficiência, pois podemos trabalhar com números nos esquemas criptográficos.\n"
   ]
  },
  {
   "cell_type": "markdown",
   "metadata": {},
   "source": [
    "### Calculando o Hash de um arquivo\n",
    "Baseado em https://nitratine.net/blog/post/how-to-hash-files-in-python/"
   ]
  },
  {
   "cell_type": "markdown",
   "metadata": {},
   "source": [
    "Queremos computar o hash de um arquivo. Poderíamos simplesmente ler todo o arquivo para uma string de bytes e depois aplicar o SHA512 como já fizemos. Porém isso tem o problema de ler o arquivo inteiro para e memória de uma vez.\n",
    "A ideia então é ler bloco por bloco e usar o método update que atualiza o estado de um hash conforme novos dados vão entrando."
   ]
  },
  {
   "cell_type": "code",
   "execution_count": 140,
   "metadata": {},
   "outputs": [],
   "source": [
    "def sha512_file(filepath):\n",
    "    BLOCK_SIZE = 65536  # = 64Kb\n",
    "\n",
    "    file_hash = hashlib.sha512()\n",
    "    with open(filepath, 'rb') as f:\n",
    "        fb = f.read(BLOCK_SIZE) \n",
    "        while len(fb) > 0:\n",
    "            file_hash.update(fb)\n",
    "            fb = f.read(BLOCK_SIZE)\n",
    "    \n",
    "    return file_hash.hexdigest()"
   ]
  },
  {
   "cell_type": "markdown",
   "metadata": {},
   "source": [
    "Exemplo do estado do objeto Hash. Quero calcular o Hash da mensagem 'Esta é uma mensagem Grande!'\n",
    "\n",
    "h(Esta) + h(é)    + h(uma) + h(mesagem) + h(Grande)\n",
    "v1 = 3    v1 = 2\n",
    "v2 = 12   v2 = 3\n",
    "v3 = 3    v3 = 4"
   ]
  },
  {
   "cell_type": "code",
   "execution_count": 137,
   "metadata": {},
   "outputs": [
    {
     "name": "stdout",
     "output_type": "stream",
     "text": [
      "Este arquivo é muito importante!\r\n"
     ]
    }
   ],
   "source": [
    "cat exs/file.txt"
   ]
  },
  {
   "cell_type": "code",
   "execution_count": 138,
   "metadata": {},
   "outputs": [
    {
     "name": "stdout",
     "output_type": "stream",
     "text": [
      "Este arquivo é pouco importante!\r\n"
     ]
    }
   ],
   "source": [
    "cat exs/file_alter.txt"
   ]
  },
  {
   "cell_type": "code",
   "execution_count": 141,
   "metadata": {},
   "outputs": [
    {
     "data": {
      "text/plain": [
       "'1a583eed44eef11d5ce85dac0d85c5119247e596904c153d683beee1a0c4d7b0fe95ed5ba2a56c1e6005e676e08cd41c6d3c73d0855cc51c93c42b3f6eb7de50'"
      ]
     },
     "execution_count": 141,
     "metadata": {},
     "output_type": "execute_result"
    }
   ],
   "source": [
    "sha512_file('exs/file.txt')"
   ]
  },
  {
   "cell_type": "code",
   "execution_count": 142,
   "metadata": {},
   "outputs": [
    {
     "data": {
      "text/plain": [
       "'04622fd38ea0c647868eaf0c044a9f3774dd75b426987c4362a6396eb3f9244932868750a0dc9565f59da10b8910679b2daa5192f18f72ed24970e445576f24d'"
      ]
     },
     "execution_count": 142,
     "metadata": {},
     "output_type": "execute_result"
    }
   ],
   "source": [
    "sha512_file('exs/file_alter.txt')"
   ]
  },
  {
   "cell_type": "code",
   "execution_count": 143,
   "metadata": {},
   "outputs": [
    {
     "data": {
      "text/plain": [
       "262"
      ]
     },
     "execution_count": 143,
     "metadata": {},
     "output_type": "execute_result"
    }
   ],
   "source": [
    "hamming_distance_with_strings(sha512_file('exs/file.txt'), sha512_file('exs/file_alter.txt'))"
   ]
  },
  {
   "cell_type": "code",
   "execution_count": 144,
   "metadata": {},
   "outputs": [
    {
     "data": {
      "text/plain": [
       "1379784430316217078018376108907358021603292921984626490772076475086734829823141703229541315303630074477845586497020667698402232728912106852747350224920144"
      ]
     },
     "execution_count": 144,
     "metadata": {},
     "output_type": "execute_result"
    }
   ],
   "source": [
    "int(sha512_file('exs/file.txt'), 16)"
   ]
  },
  {
   "cell_type": "code",
   "execution_count": null,
   "metadata": {},
   "outputs": [],
   "source": []
  }
 ],
 "metadata": {
  "kernelspec": {
   "display_name": "SageMath 9.0",
   "language": "sage",
   "name": "sagemath"
  },
  "language_info": {
   "codemirror_mode": {
    "name": "ipython",
    "version": 3
   },
   "file_extension": ".py",
   "mimetype": "text/x-python",
   "name": "python",
   "nbconvert_exporter": "python",
   "pygments_lexer": "ipython3",
   "version": "3.8.1"
  },
  "toc": {
   "base_numbering": 1,
   "nav_menu": {},
   "number_sections": true,
   "sideBar": true,
   "skip_h1_title": true,
   "title_cell": "Table of Contents",
   "title_sidebar": "Contents",
   "toc_cell": true,
   "toc_position": {},
   "toc_section_display": true,
   "toc_window_display": false
  }
 },
 "nbformat": 4,
 "nbformat_minor": 2
}
