{
 "cells": [
  {
   "cell_type": "markdown",
   "metadata": {},
   "source": [
    "# Introdução ao SageMath\n",
    "***"
   ]
  },
  {
   "cell_type": "markdown",
   "metadata": {},
   "source": [
    "## Sage"
   ]
  },
  {
   "cell_type": "markdown",
   "metadata": {},
   "source": [
    "### O que é o Sage?"
   ]
  },
  {
   "cell_type": "markdown",
   "metadata": {},
   "source": [
    "- Sage é um sistema de computação simbólica \n",
    "- Oferece uma interface em Python para Álgebra, Grafos, Análise Numérica, e muito mais\n",
    "- No Backend, usa sistemas como LAPACK, ATLAS, PARI/GP e M4RI\n",
    "- Distribuído sob a licença GPLv3"
   ]
  },
  {
   "cell_type": "markdown",
   "metadata": {},
   "source": [
    "\n",
    "Formalmente ( :\n",
    "$$\n",
    "\\text{Sage} > \\left( \\text{Magma} \\cup \\text{Maple} \\cup \\text{Mathematica} \\cup \\text{MATLAB} \\right)\n",
    "$$"
   ]
  },
  {
   "cell_type": "markdown",
   "metadata": {},
   "source": [
    "**Mas o que é computação simbólica?**"
   ]
  },
  {
   "cell_type": "markdown",
   "metadata": {},
   "source": [
    "Sistemas de computação simbólica permitem trabalhar com expressões matemáticas:"
   ]
  },
  {
   "cell_type": "code",
   "execution_count": 270,
   "metadata": {},
   "outputs": [],
   "source": [
    "x, y = var('x, y')"
   ]
  },
  {
   "cell_type": "code",
   "execution_count": 271,
   "metadata": {},
   "outputs": [
    {
     "name": "stdout",
     "output_type": "stream",
     "text": [
      "(x, y) |--> x^2 + y^2\n"
     ]
    }
   ],
   "source": [
    "f(x, y) = x**2 + y**2\n",
    "print(f)"
   ]
  },
  {
   "cell_type": "code",
   "execution_count": 272,
   "metadata": {},
   "outputs": [
    {
     "data": {
      "text/plain": [
       "(x, y) |--> (2*x, 2*y)"
      ]
     },
     "execution_count": 272,
     "metadata": {},
     "output_type": "execute_result"
    }
   ],
   "source": [
    "f.derivative()"
   ]
  },
  {
   "cell_type": "code",
   "execution_count": 274,
   "metadata": {},
   "outputs": [
    {
     "data": {
      "text/html": [
       "\n",
       "<iframe srcdoc=\"<!DOCTYPE html>\n",
       "<html>\n",
       "<head>\n",
       "<title></title>\n",
       "<meta charset=&quot;utf-8&quot;>\n",
       "<meta name=viewport content=&quot;width=device-width, user-scalable=no, minimum-scale=1.0, maximum-scale=1.0&quot;>\n",
       "<style>\n",
       "\n",
       "    body { margin: 0px; overflow: hidden; }\n",
       "\n",
       "    #menu-container { position: absolute; bottom: 30px; right: 40px; }\n",
       "\n",
       "    #menu-content { position: absolute; bottom: 0px; right: 0px;\n",
       "                    display: none; background-color: #F5F5F5; border-bottom: 1px solid black;\n",
       "                    border-right: 1px solid black; border-left: 1px solid black; }\n",
       "\n",
       "    #menu-content div { border-top: 1px solid black; padding: 10px; white-space: nowrap; }\n",
       "  \n",
       "</style>\n",
       "</head>\n",
       "\n",
       "<body>\n",
       "\n",
       "<script src=&quot;/nbextensions/threejs/build/three.min.js&quot;></script>\n",
       "<script src=&quot;/nbextensions/threejs/examples/js/controls/OrbitControls.js&quot;></script>\n",
       "<script>\n",
       "  if ( !window.THREE ) document.write(' \\\n",
       "<script src=&quot;https://cdn.jsdelivr.net/gh/mrdoob/three.js@r115/build/three.min.js&quot;><\\/script> \\\n",
       "<script src=&quot;https://cdn.jsdelivr.net/gh/mrdoob/three.js@r115/examples/js/controls/OrbitControls.js&quot;><\\/script> \\\n",
       "            ');\n",
       "</script>\n",
       "        \n",
       "<script>\n",
       "\n",
       "    var scene = new THREE.Scene();\n",
       "\n",
       "    var renderer = new THREE.WebGLRenderer( { antialias: true, preserveDrawingBuffer: true } );\n",
       "    renderer.setPixelRatio( window.devicePixelRatio );\n",
       "    renderer.setSize( window.innerWidth, window.innerHeight );\n",
       "    renderer.setClearColor( 0xffffff, 1 );\n",
       "    document.body.appendChild( renderer.domElement );\n",
       "\n",
       "    var options = {&quot;aspect_ratio&quot;: [1.0, 1.0, 1.0], &quot;axes&quot;: false, &quot;axes_labels&quot;: [&quot;x&quot;, &quot;y&quot;, &quot;z&quot;], &quot;decimals&quot;: 2, &quot;frame&quot;: true, &quot;projection&quot;: &quot;perspective&quot;};\n",
       "\n",
       "    // When animations are supported by the viewer, the value 'false'\n",
       "    // will be replaced with an option set in Python by the user\n",
       "    var animate = false; // options.animate;\n",
       "\n",
       "    var b = [{&quot;x&quot;:-1.0, &quot;y&quot;:-1.0, &quot;z&quot;:0.0013149243918474452}, {&quot;x&quot;:1.0, &quot;y&quot;:1.0, &quot;z&quot;:2.0}]; // bounds\n",
       "\n",
       "    if ( b[0].x === b[1].x ) {\n",
       "        b[0].x -= 1;\n",
       "        b[1].x += 1;\n",
       "    }\n",
       "    if ( b[0].y === b[1].y ) {\n",
       "        b[0].y -= 1;\n",
       "        b[1].y += 1;\n",
       "    }\n",
       "    if ( b[0].z === b[1].z ) {\n",
       "        b[0].z -= 1;\n",
       "        b[1].z += 1;\n",
       "    }\n",
       "\n",
       "    var rRange = Math.sqrt( Math.pow( b[1].x - b[0].x, 2 )\n",
       "                            + Math.pow( b[1].y - b[0].y, 2 ) );\n",
       "    var xRange = b[1].x - b[0].x;\n",
       "    var yRange = b[1].y - b[0].y;\n",
       "    var zRange = b[1].z - b[0].z;\n",
       "\n",
       "    var ar = options.aspect_ratio;\n",
       "    var a = [ ar[0], ar[1], ar[2] ]; // aspect multipliers\n",
       "    var autoAspect = 2.5;\n",
       "    if ( zRange > autoAspect * rRange && a[2] === 1 ) a[2] = autoAspect * rRange / zRange;\n",
       "\n",
       "    // Distance from (xMid,yMid,zMid) to any corner of the bounding box, after applying aspect_ratio.\n",
       "    var midToCorner = Math.sqrt( a[0]*a[0]*xRange*xRange + a[1]*a[1]*yRange*yRange + a[2]*a[2]*zRange*zRange ) / 2;\n",
       "\n",
       "    var xMid = ( b[0].x + b[1].x ) / 2;\n",
       "    var yMid = ( b[0].y + b[1].y ) / 2;\n",
       "    var zMid = ( b[0].z + b[1].z ) / 2;\n",
       "\n",
       "    var box = new THREE.Geometry();\n",
       "    box.vertices.push( new THREE.Vector3( a[0]*b[0].x, a[1]*b[0].y, a[2]*b[0].z ) );\n",
       "    box.vertices.push( new THREE.Vector3( a[0]*b[1].x, a[1]*b[1].y, a[2]*b[1].z ) );\n",
       "    var boxMesh = new THREE.Line( box );\n",
       "    if ( options.frame ) scene.add( new THREE.BoxHelper( boxMesh, 'black' ) );\n",
       "\n",
       "    if ( options.axes_labels ) {\n",
       "\n",
       "        var d = options.decimals; // decimals\n",
       "        var offsetRatio = 0.1;\n",
       "        var al = options.axes_labels;\n",
       "\n",
       "        var offset = offsetRatio * a[1]*( b[1].y - b[0].y );\n",
       "        var xm = xMid.toFixed(d);\n",
       "        if ( /^-0.?0*$/.test(xm) ) xm = xm.substr(1);\n",
       "        addLabel( al[0] + '=' + xm, a[0]*xMid, a[1]*b[1].y+offset, a[2]*b[0].z );\n",
       "        addLabel( ( b[0].x ).toFixed(d), a[0]*b[0].x, a[1]*b[1].y+offset, a[2]*b[0].z );\n",
       "        addLabel( ( b[1].x ).toFixed(d), a[0]*b[1].x, a[1]*b[1].y+offset, a[2]*b[0].z );\n",
       "\n",
       "        var offset = offsetRatio * a[0]*( b[1].x - b[0].x );\n",
       "        var ym = yMid.toFixed(d);\n",
       "        if ( /^-0.?0*$/.test(ym) ) ym = ym.substr(1);\n",
       "        addLabel( al[1] + '=' + ym, a[0]*b[1].x+offset, a[1]*yMid, a[2]*b[0].z );\n",
       "        addLabel( ( b[0].y ).toFixed(d), a[0]*b[1].x+offset, a[1]*b[0].y, a[2]*b[0].z );\n",
       "        addLabel( ( b[1].y ).toFixed(d), a[0]*b[1].x+offset, a[1]*b[1].y, a[2]*b[0].z );\n",
       "\n",
       "        var offset = offsetRatio * a[1]*( b[1].y - b[0].y );\n",
       "        var zm = zMid.toFixed(d);\n",
       "        if ( /^-0.?0*$/.test(zm) ) zm = zm.substr(1);\n",
       "        addLabel( al[2] + '=' + zm, a[0]*b[1].x, a[1]*b[0].y-offset, a[2]*zMid );\n",
       "        addLabel( ( b[0].z ).toFixed(d), a[0]*b[1].x, a[1]*b[0].y-offset, a[2]*b[0].z );\n",
       "        addLabel( ( b[1].z ).toFixed(d), a[0]*b[1].x, a[1]*b[0].y-offset, a[2]*b[1].z );\n",
       "\n",
       "    }\n",
       "\n",
       "    function addLabel( text, x, y, z ) {\n",
       "\n",
       "        var fontsize = 14;\n",
       "\n",
       "        var canvas = document.createElement( 'canvas' );\n",
       "        var pixelRatio = Math.round( window.devicePixelRatio );\n",
       "        canvas.width = 128 * pixelRatio;\n",
       "        canvas.height = 32 * pixelRatio; // powers of two\n",
       "        canvas.style.width = '128px';\n",
       "        canvas.style.height = '32px';\n",
       "\n",
       "        var context = canvas.getContext( '2d' );\n",
       "        context.scale( pixelRatio, pixelRatio );\n",
       "        context.fillStyle = 'black';\n",
       "        context.font = fontsize + 'px monospace';\n",
       "        context.textAlign = 'center';\n",
       "        context.textBaseline = 'middle';\n",
       "        context.fillText( text, canvas.width/2/pixelRatio, canvas.height/2/pixelRatio );\n",
       "\n",
       "        var texture = new THREE.Texture( canvas );\n",
       "        texture.needsUpdate = true;\n",
       "\n",
       "        var sprite = new THREE.Sprite( new THREE.SpriteMaterial( { map: texture } ) );\n",
       "        sprite.position.set( x, y, z );\n",
       "\n",
       "        // Set the initial scale based on plot size to accomodate orthographic projection.\n",
       "        // For other projections, the scale will get reset each frame based on camera distance.\n",
       "        var scale = midToCorner/2;\n",
       "        sprite.scale.set( scale, scale*.25 ); // ratio of canvas width to height\n",
       "\n",
       "        scene.add( sprite );\n",
       "\n",
       "    }\n",
       "\n",
       "    if ( options.axes ) scene.add( new THREE.AxesHelper( Math.min( a[0]*b[1].x, a[1]*b[1].y, a[2]*b[1].z ) ) );\n",
       "\n",
       "    var camera = createCamera();\n",
       "    camera.up.set( 0, 0, 1 );\n",
       "    camera.position.set( a[0]*(xMid+xRange), a[1]*(yMid+yRange), a[2]*(zMid+zRange) );\n",
       "\n",
       "    function createCamera() {\n",
       "\n",
       "        var aspect = window.innerWidth / window.innerHeight;\n",
       "\n",
       "        if ( options.projection === 'orthographic' ) {\n",
       "            var camera = new THREE.OrthographicCamera( -1, 1, 1, -1, -1000, 1000 );\n",
       "            updateCameraAspect( camera, aspect );\n",
       "            return camera;\n",
       "        }\n",
       "\n",
       "        return new THREE.PerspectiveCamera( 45, aspect, 0.1, 1000 );\n",
       "\n",
       "    }\n",
       "\n",
       "    function updateCameraAspect( camera, aspect ) {\n",
       "\n",
       "        if ( camera.isPerspectiveCamera ) {\n",
       "            camera.aspect = aspect;\n",
       "        } else if ( camera.isOrthographicCamera ) {\n",
       "            // Fit the camera frustum to the bounding box's diagonal so that the entire plot fits\n",
       "            // within at the default zoom level and camera position.\n",
       "            if ( aspect > 1 ) { // Wide window\n",
       "                camera.top = midToCorner;\n",
       "                camera.right = midToCorner * aspect;\n",
       "            } else { // Tall or square window\n",
       "                camera.top = midToCorner / aspect;\n",
       "                camera.right = midToCorner;\n",
       "            }\n",
       "            camera.bottom = -camera.top;\n",
       "            camera.left = -camera.right;\n",
       "        }\n",
       "\n",
       "        camera.updateProjectionMatrix();\n",
       "\n",
       "    }\n",
       "\n",
       "    var lights = [{&quot;x&quot;:-5, &quot;y&quot;:3, &quot;z&quot;:0, &quot;color&quot;:&quot;#7f7f7f&quot;, &quot;parent&quot;:&quot;camera&quot;}];\n",
       "    for ( var i=0 ; i < lights.length ; i++ ) {\n",
       "        var light = new THREE.DirectionalLight( lights[i].color, 1 );\n",
       "        light.position.set( a[0]*lights[i].x, a[1]*lights[i].y, a[2]*lights[i].z );\n",
       "        if ( lights[i].parent === 'camera' ) {\n",
       "            light.target.position.set( a[0]*xMid, a[1]*yMid, a[2]*zMid );\n",
       "            scene.add( light.target );\n",
       "            camera.add( light );\n",
       "        } else scene.add( light );\n",
       "    }\n",
       "    scene.add( camera );\n",
       "\n",
       "    var ambient = {&quot;color&quot;:&quot;#7f7f7f&quot;};\n",
       "    scene.add( new THREE.AmbientLight( ambient.color, 1 ) );\n",
       "\n",
       "    var controls = new THREE.OrbitControls( camera, renderer.domElement );\n",
       "    controls.target.set( a[0]*xMid, a[1]*yMid, a[2]*zMid );\n",
       "    controls.addEventListener( 'change', function() { if ( !animate ) render(); } );\n",
       "\n",
       "    window.addEventListener( 'resize', function() {\n",
       "        \n",
       "        renderer.setSize( window.innerWidth, window.innerHeight );\n",
       "        updateCameraAspect( camera, window.innerWidth / window.innerHeight );\n",
       "        if ( !animate ) render();\n",
       "        \n",
       "    } );\n",
       "\n",
       "    var texts = [];\n",
       "    for ( var i=0 ; i < texts.length ; i++ )\n",
       "        addLabel( texts[i].text, a[0]*texts[i].x, a[1]*texts[i].y, a[2]*texts[i].z );\n",
       "\n",
       "    var points = [];\n",
       "    for ( var i=0 ; i < points.length ; i++ ) addPoint( points[i] );\n",
       "\n",
       "    function addPoint( json ) {\n",
       "\n",
       "        var geometry = new THREE.Geometry();\n",
       "        var v = json.point;\n",
       "        geometry.vertices.push( new THREE.Vector3( a[0]*v[0], a[1]*v[1], a[2]*v[2] ) );\n",
       "\n",
       "        var canvas = document.createElement( 'canvas' );\n",
       "        canvas.width = 128;\n",
       "        canvas.height = 128;\n",
       "\n",
       "        var context = canvas.getContext( '2d' );\n",
       "        context.arc( 64, 64, 64, 0, 2 * Math.PI );\n",
       "        context.fillStyle = json.color;\n",
       "        context.fill();\n",
       "\n",
       "        var texture = new THREE.Texture( canvas );\n",
       "        texture.needsUpdate = true;\n",
       "\n",
       "        var transparent = json.opacity < 1 ? true : false;\n",
       "        var size = camera.isOrthographicCamera ? json.size : json.size/100;\n",
       "        var material = new THREE.PointsMaterial( { size: size, map: texture,\n",
       "                                                   transparent: transparent, opacity: json.opacity,\n",
       "                                                   alphaTest: .1 } );\n",
       "\n",
       "        var c = new THREE.Vector3();\n",
       "        geometry.computeBoundingBox();\n",
       "        geometry.boundingBox.getCenter( c );\n",
       "        geometry.translate( -c.x, -c.y, -c.z );\n",
       "\n",
       "        var mesh = new THREE.Points( geometry, material );\n",
       "        mesh.position.set( c.x, c.y, c.z );\n",
       "        scene.add( mesh );\n",
       "\n",
       "    }\n",
       "\n",
       "    var lines = [];\n",
       "    for ( var i=0 ; i < lines.length ; i++ ) addLine( lines[i] );\n",
       "\n",
       "    function addLine( json ) {\n",
       "\n",
       "        var geometry = new THREE.Geometry();\n",
       "        for ( var i=0 ; i < json.points.length ; i++ ) {\n",
       "            var v = json.points[i];\n",
       "            geometry.vertices.push( new THREE.Vector3( a[0]*v[0], a[1]*v[1], a[2]*v[2] ) );\n",
       "        }\n",
       "\n",
       "        var transparent = json.opacity < 1 ? true : false;\n",
       "        var material = new THREE.LineBasicMaterial( { color: json.color, linewidth: json.linewidth,\n",
       "                                                      transparent: transparent, opacity: json.opacity } );\n",
       "\n",
       "        var c = new THREE.Vector3();\n",
       "        geometry.computeBoundingBox();\n",
       "        geometry.boundingBox.getCenter( c );\n",
       "        geometry.translate( -c.x, -c.y, -c.z );\n",
       "\n",
       "        var mesh = new THREE.Line( geometry, material );\n",
       "        mesh.position.set( c.x, c.y, c.z );\n",
       "        scene.add( mesh );\n",
       "\n",
       "    }\n",
       "\n",
       "    var surfaces = [{&quot;vertices&quot;:[{&quot;x&quot;:-1,&quot;y&quot;:-1,&quot;z&quot;:2},{&quot;x&quot;:-1,&quot;y&quot;:-0.948718,&quot;z&quot;:1.90007},{&quot;x&quot;:-0.948718,&quot;y&quot;:-0.948718,&quot;z&quot;:1.80013},{&quot;x&quot;:-0.948718,&quot;y&quot;:-1,&quot;z&quot;:1.90007},{&quot;x&quot;:-1,&quot;y&quot;:-0.897436,&quot;z&quot;:1.80539},{&quot;x&quot;:-0.948718,&quot;y&quot;:-0.897436,&quot;z&quot;:1.70546},{&quot;x&quot;:-1,&quot;y&quot;:-0.846154,&quot;z&quot;:1.71598},{&quot;x&quot;:-0.948718,&quot;y&quot;:-0.846154,&quot;z&quot;:1.61604},{&quot;x&quot;:-1,&quot;y&quot;:-0.794872,&quot;z&quot;:1.63182},{&quot;x&quot;:-0.948718,&quot;y&quot;:-0.794872,&quot;z&quot;:1.53189},{&quot;x&quot;:-1,&quot;y&quot;:-0.74359,&quot;z&quot;:1.55293},{&quot;x&quot;:-0.948718,&quot;y&quot;:-0.74359,&quot;z&quot;:1.45299},{&quot;x&quot;:-1,&quot;y&quot;:-0.692308,&quot;z&quot;:1.47929},{&quot;x&quot;:-0.948718,&quot;y&quot;:-0.692308,&quot;z&quot;:1.37936},{&quot;x&quot;:-1,&quot;y&quot;:-0.641026,&quot;z&quot;:1.41091},{&quot;x&quot;:-0.948718,&quot;y&quot;:-0.641026,&quot;z&quot;:1.31098},{&quot;x&quot;:-1,&quot;y&quot;:-0.589744,&quot;z&quot;:1.3478},{&quot;x&quot;:-0.948718,&quot;y&quot;:-0.589744,&quot;z&quot;:1.24786},{&quot;x&quot;:-1,&quot;y&quot;:-0.538462,&quot;z&quot;:1.28994},{&quot;x&quot;:-0.948718,&quot;y&quot;:-0.538462,&quot;z&quot;:1.19001},{&quot;x&quot;:-1,&quot;y&quot;:-0.487179,&quot;z&quot;:1.23734},{&quot;x&quot;:-0.948718,&quot;y&quot;:-0.487179,&quot;z&quot;:1.13741},{&quot;x&quot;:-1,&quot;y&quot;:-0.435897,&quot;z&quot;:1.19001},{&quot;x&quot;:-0.948718,&quot;y&quot;:-0.435897,&quot;z&quot;:1.09007},{&quot;x&quot;:-1,&quot;y&quot;:-0.384615,&quot;z&quot;:1.14793},{&quot;x&quot;:-0.948718,&quot;y&quot;:-0.384615,&quot;z&quot;:1.04799},{&quot;x&quot;:-1,&quot;y&quot;:-0.333333,&quot;z&quot;:1.11111},{&quot;x&quot;:-0.948718,&quot;y&quot;:-0.333333,&quot;z&quot;:1.01118},{&quot;x&quot;:-1,&quot;y&quot;:-0.282051,&quot;z&quot;:1.07955},{&quot;x&quot;:-0.948718,&quot;y&quot;:-0.282051,&quot;z&quot;:0.979619},{&quot;x&quot;:-1,&quot;y&quot;:-0.230769,&quot;z&quot;:1.05325},{&quot;x&quot;:-0.948718,&quot;y&quot;:-0.230769,&quot;z&quot;:0.95332},{&quot;x&quot;:-1,&quot;y&quot;:-0.179487,&quot;z&quot;:1.03222},{&quot;x&quot;:-0.948718,&quot;y&quot;:-0.179487,&quot;z&quot;:0.932281},{&quot;x&quot;:-1,&quot;y&quot;:-0.128205,&quot;z&quot;:1.01644},{&quot;x&quot;:-0.948718,&quot;y&quot;:-0.128205,&quot;z&quot;:0.916502},{&quot;x&quot;:-1,&quot;y&quot;:-0.0769231,&quot;z&quot;:1.00592},{&quot;x&quot;:-0.948718,&quot;y&quot;:-0.0769231,&quot;z&quot;:0.905983},{&quot;x&quot;:-1,&quot;y&quot;:-0.025641,&quot;z&quot;:1.00066},{&quot;x&quot;:-0.948718,&quot;y&quot;:-0.025641,&quot;z&quot;:0.900723},{&quot;x&quot;:-1,&quot;y&quot;:0.025641,&quot;z&quot;:1.00066},{&quot;x&quot;:-0.948718,&quot;y&quot;:0.025641,&quot;z&quot;:0.900723},{&quot;x&quot;:-1,&quot;y&quot;:0.0769231,&quot;z&quot;:1.00592},{&quot;x&quot;:-0.948718,&quot;y&quot;:0.0769231,&quot;z&quot;:0.905983},{&quot;x&quot;:-1,&quot;y&quot;:0.128205,&quot;z&quot;:1.01644},{&quot;x&quot;:-0.948718,&quot;y&quot;:0.128205,&quot;z&quot;:0.916502},{&quot;x&quot;:-1,&quot;y&quot;:0.179487,&quot;z&quot;:1.03222},{&quot;x&quot;:-0.948718,&quot;y&quot;:0.179487,&quot;z&quot;:0.932281},{&quot;x&quot;:-1,&quot;y&quot;:0.230769,&quot;z&quot;:1.05325},{&quot;x&quot;:-0.948718,&quot;y&quot;:0.230769,&quot;z&quot;:0.95332},{&quot;x&quot;:-1,&quot;y&quot;:0.282051,&quot;z&quot;:1.07955},{&quot;x&quot;:-0.948718,&quot;y&quot;:0.282051,&quot;z&quot;:0.979619},{&quot;x&quot;:-1,&quot;y&quot;:0.333333,&quot;z&quot;:1.11111},{&quot;x&quot;:-0.948718,&quot;y&quot;:0.333333,&quot;z&quot;:1.01118},{&quot;x&quot;:-1,&quot;y&quot;:0.384615,&quot;z&quot;:1.14793},{&quot;x&quot;:-0.948718,&quot;y&quot;:0.384615,&quot;z&quot;:1.04799},{&quot;x&quot;:-1,&quot;y&quot;:0.435897,&quot;z&quot;:1.19001},{&quot;x&quot;:-0.948718,&quot;y&quot;:0.435897,&quot;z&quot;:1.09007},{&quot;x&quot;:-1,&quot;y&quot;:0.487179,&quot;z&quot;:1.23734},{&quot;x&quot;:-0.948718,&quot;y&quot;:0.487179,&quot;z&quot;:1.13741},{&quot;x&quot;:-1,&quot;y&quot;:0.538462,&quot;z&quot;:1.28994},{&quot;x&quot;:-0.948718,&quot;y&quot;:0.538462,&quot;z&quot;:1.19001},{&quot;x&quot;:-1,&quot;y&quot;:0.589744,&quot;z&quot;:1.3478},{&quot;x&quot;:-0.948718,&quot;y&quot;:0.589744,&quot;z&quot;:1.24786},{&quot;x&quot;:-1,&quot;y&quot;:0.641026,&quot;z&quot;:1.41091},{&quot;x&quot;:-0.948718,&quot;y&quot;:0.641026,&quot;z&quot;:1.31098},{&quot;x&quot;:-1,&quot;y&quot;:0.692308,&quot;z&quot;:1.47929},{&quot;x&quot;:-0.948718,&quot;y&quot;:0.692308,&quot;z&quot;:1.37936},{&quot;x&quot;:-1,&quot;y&quot;:0.74359,&quot;z&quot;:1.55293},{&quot;x&quot;:-0.948718,&quot;y&quot;:0.74359,&quot;z&quot;:1.45299},{&quot;x&quot;:-1,&quot;y&quot;:0.794872,&quot;z&quot;:1.63182},{&quot;x&quot;:-0.948718,&quot;y&quot;:0.794872,&quot;z&quot;:1.53189},{&quot;x&quot;:-1,&quot;y&quot;:0.846154,&quot;z&quot;:1.71598},{&quot;x&quot;:-0.948718,&quot;y&quot;:0.846154,&quot;z&quot;:1.61604},{&quot;x&quot;:-1,&quot;y&quot;:0.897436,&quot;z&quot;:1.80539},{&quot;x&quot;:-0.948718,&quot;y&quot;:0.897436,&quot;z&quot;:1.70546},{&quot;x&quot;:-1,&quot;y&quot;:0.948718,&quot;z&quot;:1.90007},{&quot;x&quot;:-0.948718,&quot;y&quot;:0.948718,&quot;z&quot;:1.80013},{&quot;x&quot;:-1,&quot;y&quot;:1,&quot;z&quot;:2},{&quot;x&quot;:-0.948718,&quot;y&quot;:1,&quot;z&quot;:1.90007},{&quot;x&quot;:-0.897436,&quot;y&quot;:-0.948718,&quot;z&quot;:1.70546},{&quot;x&quot;:-0.897436,&quot;y&quot;:-1,&quot;z&quot;:1.80539},{&quot;x&quot;:-0.897436,&quot;y&quot;:-0.897436,&quot;z&quot;:1.61078},{&quot;x&quot;:-0.897436,&quot;y&quot;:-0.846154,&quot;z&quot;:1.52137},{&quot;x&quot;:-0.897436,&quot;y&quot;:-0.794872,&quot;z&quot;:1.43721},{&quot;x&quot;:-0.897436,&quot;y&quot;:-0.74359,&quot;z&quot;:1.35832},{&quot;x&quot;:-0.897436,&quot;y&quot;:-0.692308,&quot;z&quot;:1.28468},{&quot;x&quot;:-0.897436,&quot;y&quot;:-0.641026,&quot;z&quot;:1.21631},{&quot;x&quot;:-0.897436,&quot;y&quot;:-0.589744,&quot;z&quot;:1.15319},{&quot;x&quot;:-0.897436,&quot;y&quot;:-0.538462,&quot;z&quot;:1.09533},{&quot;x&quot;:-0.897436,&quot;y&quot;:-0.487179,&quot;z&quot;:1.04274},{&quot;x&quot;:-0.897436,&quot;y&quot;:-0.435897,&quot;z&quot;:0.995398},{&quot;x&quot;:-0.897436,&quot;y&quot;:-0.384615,&quot;z&quot;:0.95332},{&quot;x&quot;:-0.897436,&quot;y&quot;:-0.333333,&quot;z&quot;:0.916502},{&quot;x&quot;:-0.897436,&quot;y&quot;:-0.282051,&quot;z&quot;:0.884944},{&quot;x&quot;:-0.897436,&quot;y&quot;:-0.230769,&quot;z&quot;:0.858646},{&quot;x&quot;:-0.897436,&quot;y&quot;:-0.179487,&quot;z&quot;:0.837607},{&quot;x&quot;:-0.897436,&quot;y&quot;:-0.128205,&quot;z&quot;:0.821828},{&quot;x&quot;:-0.897436,&quot;y&quot;:-0.0769231,&quot;z&quot;:0.811308},{&quot;x&quot;:-0.897436,&quot;y&quot;:-0.025641,&quot;z&quot;:0.806049},{&quot;x&quot;:-0.897436,&quot;y&quot;:0.025641,&quot;z&quot;:0.806049},{&quot;x&quot;:-0.897436,&quot;y&quot;:0.0769231,&quot;z&quot;:0.811308},{&quot;x&quot;:-0.897436,&quot;y&quot;:0.128205,&quot;z&quot;:0.821828},{&quot;x&quot;:-0.897436,&quot;y&quot;:0.179487,&quot;z&quot;:0.837607},{&quot;x&quot;:-0.897436,&quot;y&quot;:0.230769,&quot;z&quot;:0.858646},{&quot;x&quot;:-0.897436,&quot;y&quot;:0.282051,&quot;z&quot;:0.884944},{&quot;x&quot;:-0.897436,&quot;y&quot;:0.333333,&quot;z&quot;:0.916502},{&quot;x&quot;:-0.897436,&quot;y&quot;:0.384615,&quot;z&quot;:0.95332},{&quot;x&quot;:-0.897436,&quot;y&quot;:0.435897,&quot;z&quot;:0.995398},{&quot;x&quot;:-0.897436,&quot;y&quot;:0.487179,&quot;z&quot;:1.04274},{&quot;x&quot;:-0.897436,&quot;y&quot;:0.538462,&quot;z&quot;:1.09533},{&quot;x&quot;:-0.897436,&quot;y&quot;:0.589744,&quot;z&quot;:1.15319},{&quot;x&quot;:-0.897436,&quot;y&quot;:0.641026,&quot;z&quot;:1.21631},{&quot;x&quot;:-0.897436,&quot;y&quot;:0.692308,&quot;z&quot;:1.28468},{&quot;x&quot;:-0.897436,&quot;y&quot;:0.74359,&quot;z&quot;:1.35832},{&quot;x&quot;:-0.897436,&quot;y&quot;:0.794872,&quot;z&quot;:1.43721},{&quot;x&quot;:-0.897436,&quot;y&quot;:0.846154,&quot;z&quot;:1.52137},{&quot;x&quot;:-0.897436,&quot;y&quot;:0.897436,&quot;z&quot;:1.61078},{&quot;x&quot;:-0.897436,&quot;y&quot;:0.948718,&quot;z&quot;:1.70546},{&quot;x&quot;:-0.897436,&quot;y&quot;:1,&quot;z&quot;:1.80539},{&quot;x&quot;:-0.846154,&quot;y&quot;:-0.948718,&quot;z&quot;:1.61604},{&quot;x&quot;:-0.846154,&quot;y&quot;:-1,&quot;z&quot;:1.71598},{&quot;x&quot;:-0.846154,&quot;y&quot;:-0.897436,&quot;z&quot;:1.52137},{&quot;x&quot;:-0.846154,&quot;y&quot;:-0.846154,&quot;z&quot;:1.43195},{&quot;x&quot;:-0.846154,&quot;y&quot;:-0.794872,&quot;z&quot;:1.3478},{&quot;x&quot;:-0.846154,&quot;y&quot;:-0.74359,&quot;z&quot;:1.2689},{&quot;x&quot;:-0.846154,&quot;y&quot;:-0.692308,&quot;z&quot;:1.19527},{&quot;x&quot;:-0.846154,&quot;y&quot;:-0.641026,&quot;z&quot;:1.12689},{&quot;x&quot;:-0.846154,&quot;y&quot;:-0.589744,&quot;z&quot;:1.06377},{&quot;x&quot;:-0.846154,&quot;y&quot;:-0.538462,&quot;z&quot;:1.00592},{&quot;x&quot;:-0.846154,&quot;y&quot;:-0.487179,&quot;z&quot;:0.95332},{&quot;x&quot;:-0.846154,&quot;y&quot;:-0.435897,&quot;z&quot;:0.905983},{&quot;x&quot;:-0.846154,&quot;y&quot;:-0.384615,&quot;z&quot;:0.863905},{&quot;x&quot;:-0.846154,&quot;y&quot;:-0.333333,&quot;z&quot;:0.827087},{&quot;x&quot;:-0.846154,&quot;y&quot;:-0.282051,&quot;z&quot;:0.795529},{&quot;x&quot;:-0.846154,&quot;y&quot;:-0.230769,&quot;z&quot;:0.769231},{&quot;x&quot;:-0.846154,&quot;y&quot;:-0.179487,&quot;z&quot;:0.748192},{&quot;x&quot;:-0.846154,&quot;y&quot;:-0.128205,&quot;z&quot;:0.732413},{&quot;x&quot;:-0.846154,&quot;y&quot;:-0.0769231,&quot;z&quot;:0.721893},{&quot;x&quot;:-0.846154,&quot;y&quot;:-0.025641,&quot;z&quot;:0.716634},{&quot;x&quot;:-0.846154,&quot;y&quot;:0.025641,&quot;z&quot;:0.716634},{&quot;x&quot;:-0.846154,&quot;y&quot;:0.0769231,&quot;z&quot;:0.721893},{&quot;x&quot;:-0.846154,&quot;y&quot;:0.128205,&quot;z&quot;:0.732413},{&quot;x&quot;:-0.846154,&quot;y&quot;:0.179487,&quot;z&quot;:0.748192},{&quot;x&quot;:-0.846154,&quot;y&quot;:0.230769,&quot;z&quot;:0.769231},{&quot;x&quot;:-0.846154,&quot;y&quot;:0.282051,&quot;z&quot;:0.795529},{&quot;x&quot;:-0.846154,&quot;y&quot;:0.333333,&quot;z&quot;:0.827087},{&quot;x&quot;:-0.846154,&quot;y&quot;:0.384615,&quot;z&quot;:0.863905},{&quot;x&quot;:-0.846154,&quot;y&quot;:0.435897,&quot;z&quot;:0.905983},{&quot;x&quot;:-0.846154,&quot;y&quot;:0.487179,&quot;z&quot;:0.95332},{&quot;x&quot;:-0.846154,&quot;y&quot;:0.538462,&quot;z&quot;:1.00592},{&quot;x&quot;:-0.846154,&quot;y&quot;:0.589744,&quot;z&quot;:1.06377},{&quot;x&quot;:-0.846154,&quot;y&quot;:0.641026,&quot;z&quot;:1.12689},{&quot;x&quot;:-0.846154,&quot;y&quot;:0.692308,&quot;z&quot;:1.19527},{&quot;x&quot;:-0.846154,&quot;y&quot;:0.74359,&quot;z&quot;:1.2689},{&quot;x&quot;:-0.846154,&quot;y&quot;:0.794872,&quot;z&quot;:1.3478},{&quot;x&quot;:-0.846154,&quot;y&quot;:0.846154,&quot;z&quot;:1.43195},{&quot;x&quot;:-0.846154,&quot;y&quot;:0.897436,&quot;z&quot;:1.52137},{&quot;x&quot;:-0.846154,&quot;y&quot;:0.948718,&quot;z&quot;:1.61604},{&quot;x&quot;:-0.846154,&quot;y&quot;:1,&quot;z&quot;:1.71598},{&quot;x&quot;:-0.794872,&quot;y&quot;:-0.948718,&quot;z&quot;:1.53189},{&quot;x&quot;:-0.794872,&quot;y&quot;:-1,&quot;z&quot;:1.63182},{&quot;x&quot;:-0.794872,&quot;y&quot;:-0.897436,&quot;z&quot;:1.43721},{&quot;x&quot;:-0.794872,&quot;y&quot;:-0.846154,&quot;z&quot;:1.3478},{&quot;x&quot;:-0.794872,&quot;y&quot;:-0.794872,&quot;z&quot;:1.26364},{&quot;x&quot;:-0.794872,&quot;y&quot;:-0.74359,&quot;z&quot;:1.18475},{&quot;x&quot;:-0.794872,&quot;y&quot;:-0.692308,&quot;z&quot;:1.11111},{&quot;x&quot;:-0.794872,&quot;y&quot;:-0.641026,&quot;z&quot;:1.04274},{&quot;x&quot;:-0.794872,&quot;y&quot;:-0.589744,&quot;z&quot;:0.979619},{&quot;x&quot;:-0.794872,&quot;y&quot;:-0.538462,&quot;z&quot;:0.921762},{&quot;x&quot;:-0.794872,&quot;y&quot;:-0.487179,&quot;z&quot;:0.869165},{&quot;x&quot;:-0.794872,&quot;y&quot;:-0.435897,&quot;z&quot;:0.821828},{&quot;x&quot;:-0.794872,&quot;y&quot;:-0.384615,&quot;z&quot;:0.77975},{&quot;x&quot;:-0.794872,&quot;y&quot;:-0.333333,&quot;z&quot;:0.742932},{&quot;x&quot;:-0.794872,&quot;y&quot;:-0.282051,&quot;z&quot;:0.711374},{&quot;x&quot;:-0.794872,&quot;y&quot;:-0.230769,&quot;z&quot;:0.685076},{&quot;x&quot;:-0.794872,&quot;y&quot;:-0.179487,&quot;z&quot;:0.664037},{&quot;x&quot;:-0.794872,&quot;y&quot;:-0.128205,&quot;z&quot;:0.648258},{&quot;x&quot;:-0.794872,&quot;y&quot;:-0.0769231,&quot;z&quot;:0.637738},{&quot;x&quot;:-0.794872,&quot;y&quot;:-0.025641,&quot;z&quot;:0.632479},{&quot;x&quot;:-0.794872,&quot;y&quot;:0.025641,&quot;z&quot;:0.632479},{&quot;x&quot;:-0.794872,&quot;y&quot;:0.0769231,&quot;z&quot;:0.637738},{&quot;x&quot;:-0.794872,&quot;y&quot;:0.128205,&quot;z&quot;:0.648258},{&quot;x&quot;:-0.794872,&quot;y&quot;:0.179487,&quot;z&quot;:0.664037},{&quot;x&quot;:-0.794872,&quot;y&quot;:0.230769,&quot;z&quot;:0.685076},{&quot;x&quot;:-0.794872,&quot;y&quot;:0.282051,&quot;z&quot;:0.711374},{&quot;x&quot;:-0.794872,&quot;y&quot;:0.333333,&quot;z&quot;:0.742932},{&quot;x&quot;:-0.794872,&quot;y&quot;:0.384615,&quot;z&quot;:0.77975},{&quot;x&quot;:-0.794872,&quot;y&quot;:0.435897,&quot;z&quot;:0.821828},{&quot;x&quot;:-0.794872,&quot;y&quot;:0.487179,&quot;z&quot;:0.869165},{&quot;x&quot;:-0.794872,&quot;y&quot;:0.538462,&quot;z&quot;:0.921762},{&quot;x&quot;:-0.794872,&quot;y&quot;:0.589744,&quot;z&quot;:0.979619},{&quot;x&quot;:-0.794872,&quot;y&quot;:0.641026,&quot;z&quot;:1.04274},{&quot;x&quot;:-0.794872,&quot;y&quot;:0.692308,&quot;z&quot;:1.11111},{&quot;x&quot;:-0.794872,&quot;y&quot;:0.74359,&quot;z&quot;:1.18475},{&quot;x&quot;:-0.794872,&quot;y&quot;:0.794872,&quot;z&quot;:1.26364},{&quot;x&quot;:-0.794872,&quot;y&quot;:0.846154,&quot;z&quot;:1.3478},{&quot;x&quot;:-0.794872,&quot;y&quot;:0.897436,&quot;z&quot;:1.43721},{&quot;x&quot;:-0.794872,&quot;y&quot;:0.948718,&quot;z&quot;:1.53189},{&quot;x&quot;:-0.794872,&quot;y&quot;:1,&quot;z&quot;:1.63182},{&quot;x&quot;:-0.74359,&quot;y&quot;:-0.948718,&quot;z&quot;:1.45299},{&quot;x&quot;:-0.74359,&quot;y&quot;:-1,&quot;z&quot;:1.55293},{&quot;x&quot;:-0.74359,&quot;y&quot;:-0.897436,&quot;z&quot;:1.35832},{&quot;x&quot;:-0.74359,&quot;y&quot;:-0.846154,&quot;z&quot;:1.2689},{&quot;x&quot;:-0.74359,&quot;y&quot;:-0.794872,&quot;z&quot;:1.18475},{&quot;x&quot;:-0.74359,&quot;y&quot;:-0.74359,&quot;z&quot;:1.10585},{&quot;x&quot;:-0.74359,&quot;y&quot;:-0.692308,&quot;z&quot;:1.03222},{&quot;x&quot;:-0.74359,&quot;y&quot;:-0.641026,&quot;z&quot;:0.96384},{&quot;x&quot;:-0.74359,&quot;y&quot;:-0.589744,&quot;z&quot;:0.900723},{&quot;x&quot;:-0.74359,&quot;y&quot;:-0.538462,&quot;z&quot;:0.842867},{&quot;x&quot;:-0.74359,&quot;y&quot;:-0.487179,&quot;z&quot;:0.79027},{&quot;x&quot;:-0.74359,&quot;y&quot;:-0.435897,&quot;z&quot;:0.742932},{&quot;x&quot;:-0.74359,&quot;y&quot;:-0.384615,&quot;z&quot;:0.700855},{&quot;x&quot;:-0.74359,&quot;y&quot;:-0.333333,&quot;z&quot;:0.664037},{&quot;x&quot;:-0.74359,&quot;y&quot;:-0.282051,&quot;z&quot;:0.632479},{&quot;x&quot;:-0.74359,&quot;y&quot;:-0.230769,&quot;z&quot;:0.60618},{&quot;x&quot;:-0.74359,&quot;y&quot;:-0.179487,&quot;z&quot;:0.585141},{&quot;x&quot;:-0.74359,&quot;y&quot;:-0.128205,&quot;z&quot;:0.569362},{&quot;x&quot;:-0.74359,&quot;y&quot;:-0.0769231,&quot;z&quot;:0.558843},{&quot;x&quot;:-0.74359,&quot;y&quot;:-0.025641,&quot;z&quot;:0.553583},{&quot;x&quot;:-0.74359,&quot;y&quot;:0.025641,&quot;z&quot;:0.553583},{&quot;x&quot;:-0.74359,&quot;y&quot;:0.0769231,&quot;z&quot;:0.558843},{&quot;x&quot;:-0.74359,&quot;y&quot;:0.128205,&quot;z&quot;:0.569362},{&quot;x&quot;:-0.74359,&quot;y&quot;:0.179487,&quot;z&quot;:0.585141},{&quot;x&quot;:-0.74359,&quot;y&quot;:0.230769,&quot;z&quot;:0.60618},{&quot;x&quot;:-0.74359,&quot;y&quot;:0.282051,&quot;z&quot;:0.632479},{&quot;x&quot;:-0.74359,&quot;y&quot;:0.333333,&quot;z&quot;:0.664037},{&quot;x&quot;:-0.74359,&quot;y&quot;:0.384615,&quot;z&quot;:0.700855},{&quot;x&quot;:-0.74359,&quot;y&quot;:0.435897,&quot;z&quot;:0.742932},{&quot;x&quot;:-0.74359,&quot;y&quot;:0.487179,&quot;z&quot;:0.79027},{&quot;x&quot;:-0.74359,&quot;y&quot;:0.538462,&quot;z&quot;:0.842867},{&quot;x&quot;:-0.74359,&quot;y&quot;:0.589744,&quot;z&quot;:0.900723},{&quot;x&quot;:-0.74359,&quot;y&quot;:0.641026,&quot;z&quot;:0.96384},{&quot;x&quot;:-0.74359,&quot;y&quot;:0.692308,&quot;z&quot;:1.03222},{&quot;x&quot;:-0.74359,&quot;y&quot;:0.74359,&quot;z&quot;:1.10585},{&quot;x&quot;:-0.74359,&quot;y&quot;:0.794872,&quot;z&quot;:1.18475},{&quot;x&quot;:-0.74359,&quot;y&quot;:0.846154,&quot;z&quot;:1.2689},{&quot;x&quot;:-0.74359,&quot;y&quot;:0.897436,&quot;z&quot;:1.35832},{&quot;x&quot;:-0.74359,&quot;y&quot;:0.948718,&quot;z&quot;:1.45299},{&quot;x&quot;:-0.74359,&quot;y&quot;:1,&quot;z&quot;:1.55293},{&quot;x&quot;:-0.692308,&quot;y&quot;:-0.948718,&quot;z&quot;:1.37936},{&quot;x&quot;:-0.692308,&quot;y&quot;:-1,&quot;z&quot;:1.47929},{&quot;x&quot;:-0.692308,&quot;y&quot;:-0.897436,&quot;z&quot;:1.28468},{&quot;x&quot;:-0.692308,&quot;y&quot;:-0.846154,&quot;z&quot;:1.19527},{&quot;x&quot;:-0.692308,&quot;y&quot;:-0.794872,&quot;z&quot;:1.11111},{&quot;x&quot;:-0.692308,&quot;y&quot;:-0.74359,&quot;z&quot;:1.03222},{&quot;x&quot;:-0.692308,&quot;y&quot;:-0.692308,&quot;z&quot;:0.95858},{&quot;x&quot;:-0.692308,&quot;y&quot;:-0.641026,&quot;z&quot;:0.890204},{&quot;x&quot;:-0.692308,&quot;y&quot;:-0.589744,&quot;z&quot;:0.827087},{&quot;x&quot;:-0.692308,&quot;y&quot;:-0.538462,&quot;z&quot;:0.769231},{&quot;x&quot;:-0.692308,&quot;y&quot;:-0.487179,&quot;z&quot;:0.716634},{&quot;x&quot;:-0.692308,&quot;y&quot;:-0.435897,&quot;z&quot;:0.669297},{&quot;x&quot;:-0.692308,&quot;y&quot;:-0.384615,&quot;z&quot;:0.627219},{&quot;x&quot;:-0.692308,&quot;y&quot;:-0.333333,&quot;z&quot;:0.590401},{&quot;x&quot;:-0.692308,&quot;y&quot;:-0.282051,&quot;z&quot;:0.558843},{&quot;x&quot;:-0.692308,&quot;y&quot;:-0.230769,&quot;z&quot;:0.532544},{&quot;x&quot;:-0.692308,&quot;y&quot;:-0.179487,&quot;z&quot;:0.511506},{&quot;x&quot;:-0.692308,&quot;y&quot;:-0.128205,&quot;z&quot;:0.495726},{&quot;x&quot;:-0.692308,&quot;y&quot;:-0.0769231,&quot;z&quot;:0.485207},{&quot;x&quot;:-0.692308,&quot;y&quot;:-0.025641,&quot;z&quot;:0.479947},{&quot;x&quot;:-0.692308,&quot;y&quot;:0.025641,&quot;z&quot;:0.479947},{&quot;x&quot;:-0.692308,&quot;y&quot;:0.0769231,&quot;z&quot;:0.485207},{&quot;x&quot;:-0.692308,&quot;y&quot;:0.128205,&quot;z&quot;:0.495726},{&quot;x&quot;:-0.692308,&quot;y&quot;:0.179487,&quot;z&quot;:0.511506},{&quot;x&quot;:-0.692308,&quot;y&quot;:0.230769,&quot;z&quot;:0.532544},{&quot;x&quot;:-0.692308,&quot;y&quot;:0.282051,&quot;z&quot;:0.558843},{&quot;x&quot;:-0.692308,&quot;y&quot;:0.333333,&quot;z&quot;:0.590401},{&quot;x&quot;:-0.692308,&quot;y&quot;:0.384615,&quot;z&quot;:0.627219},{&quot;x&quot;:-0.692308,&quot;y&quot;:0.435897,&quot;z&quot;:0.669297},{&quot;x&quot;:-0.692308,&quot;y&quot;:0.487179,&quot;z&quot;:0.716634},{&quot;x&quot;:-0.692308,&quot;y&quot;:0.538462,&quot;z&quot;:0.769231},{&quot;x&quot;:-0.692308,&quot;y&quot;:0.589744,&quot;z&quot;:0.827087},{&quot;x&quot;:-0.692308,&quot;y&quot;:0.641026,&quot;z&quot;:0.890204},{&quot;x&quot;:-0.692308,&quot;y&quot;:0.692308,&quot;z&quot;:0.95858},{&quot;x&quot;:-0.692308,&quot;y&quot;:0.74359,&quot;z&quot;:1.03222},{&quot;x&quot;:-0.692308,&quot;y&quot;:0.794872,&quot;z&quot;:1.11111},{&quot;x&quot;:-0.692308,&quot;y&quot;:0.846154,&quot;z&quot;:1.19527},{&quot;x&quot;:-0.692308,&quot;y&quot;:0.897436,&quot;z&quot;:1.28468},{&quot;x&quot;:-0.692308,&quot;y&quot;:0.948718,&quot;z&quot;:1.37936},{&quot;x&quot;:-0.692308,&quot;y&quot;:1,&quot;z&quot;:1.47929},{&quot;x&quot;:-0.641026,&quot;y&quot;:-0.948718,&quot;z&quot;:1.31098},{&quot;x&quot;:-0.641026,&quot;y&quot;:-1,&quot;z&quot;:1.41091},{&quot;x&quot;:-0.641026,&quot;y&quot;:-0.897436,&quot;z&quot;:1.21631},{&quot;x&quot;:-0.641026,&quot;y&quot;:-0.846154,&quot;z&quot;:1.12689},{&quot;x&quot;:-0.641026,&quot;y&quot;:-0.794872,&quot;z&quot;:1.04274},{&quot;x&quot;:-0.641026,&quot;y&quot;:-0.74359,&quot;z&quot;:0.96384},{&quot;x&quot;:-0.641026,&quot;y&quot;:-0.692308,&quot;z&quot;:0.890204},{&quot;x&quot;:-0.641026,&quot;y&quot;:-0.641026,&quot;z&quot;:0.821828},{&quot;x&quot;:-0.641026,&quot;y&quot;:-0.589744,&quot;z&quot;:0.758711},{&quot;x&quot;:-0.641026,&quot;y&quot;:-0.538462,&quot;z&quot;:0.700855},{&quot;x&quot;:-0.641026,&quot;y&quot;:-0.487179,&quot;z&quot;:0.648258},{&quot;x&quot;:-0.641026,&quot;y&quot;:-0.435897,&quot;z&quot;:0.60092},{&quot;x&quot;:-0.641026,&quot;y&quot;:-0.384615,&quot;z&quot;:0.558843},{&quot;x&quot;:-0.641026,&quot;y&quot;:-0.333333,&quot;z&quot;:0.522025},{&quot;x&quot;:-0.641026,&quot;y&quot;:-0.282051,&quot;z&quot;:0.490467},{&quot;x&quot;:-0.641026,&quot;y&quot;:-0.230769,&quot;z&quot;:0.464168},{&quot;x&quot;:-0.641026,&quot;y&quot;:-0.179487,&quot;z&quot;:0.44313},{&quot;x&quot;:-0.641026,&quot;y&quot;:-0.128205,&quot;z&quot;:0.42735},{&quot;x&quot;:-0.641026,&quot;y&quot;:-0.0769231,&quot;z&quot;:0.416831},{&quot;x&quot;:-0.641026,&quot;y&quot;:-0.025641,&quot;z&quot;:0.411571},{&quot;x&quot;:-0.641026,&quot;y&quot;:0.025641,&quot;z&quot;:0.411571},{&quot;x&quot;:-0.641026,&quot;y&quot;:0.0769231,&quot;z&quot;:0.416831},{&quot;x&quot;:-0.641026,&quot;y&quot;:0.128205,&quot;z&quot;:0.42735},{&quot;x&quot;:-0.641026,&quot;y&quot;:0.179487,&quot;z&quot;:0.44313},{&quot;x&quot;:-0.641026,&quot;y&quot;:0.230769,&quot;z&quot;:0.464168},{&quot;x&quot;:-0.641026,&quot;y&quot;:0.282051,&quot;z&quot;:0.490467},{&quot;x&quot;:-0.641026,&quot;y&quot;:0.333333,&quot;z&quot;:0.522025},{&quot;x&quot;:-0.641026,&quot;y&quot;:0.384615,&quot;z&quot;:0.558843},{&quot;x&quot;:-0.641026,&quot;y&quot;:0.435897,&quot;z&quot;:0.60092},{&quot;x&quot;:-0.641026,&quot;y&quot;:0.487179,&quot;z&quot;:0.648258},{&quot;x&quot;:-0.641026,&quot;y&quot;:0.538462,&quot;z&quot;:0.700855},{&quot;x&quot;:-0.641026,&quot;y&quot;:0.589744,&quot;z&quot;:0.758711},{&quot;x&quot;:-0.641026,&quot;y&quot;:0.641026,&quot;z&quot;:0.821828},{&quot;x&quot;:-0.641026,&quot;y&quot;:0.692308,&quot;z&quot;:0.890204},{&quot;x&quot;:-0.641026,&quot;y&quot;:0.74359,&quot;z&quot;:0.96384},{&quot;x&quot;:-0.641026,&quot;y&quot;:0.794872,&quot;z&quot;:1.04274},{&quot;x&quot;:-0.641026,&quot;y&quot;:0.846154,&quot;z&quot;:1.12689},{&quot;x&quot;:-0.641026,&quot;y&quot;:0.897436,&quot;z&quot;:1.21631},{&quot;x&quot;:-0.641026,&quot;y&quot;:0.948718,&quot;z&quot;:1.31098},{&quot;x&quot;:-0.641026,&quot;y&quot;:1,&quot;z&quot;:1.41091},{&quot;x&quot;:-0.589744,&quot;y&quot;:-0.948718,&quot;z&quot;:1.24786},{&quot;x&quot;:-0.589744,&quot;y&quot;:-1,&quot;z&quot;:1.3478},{&quot;x&quot;:-0.589744,&quot;y&quot;:-0.897436,&quot;z&quot;:1.15319},{&quot;x&quot;:-0.589744,&quot;y&quot;:-0.846154,&quot;z&quot;:1.06377},{&quot;x&quot;:-0.589744,&quot;y&quot;:-0.794872,&quot;z&quot;:0.979619},{&quot;x&quot;:-0.589744,&quot;y&quot;:-0.74359,&quot;z&quot;:0.900723},{&quot;x&quot;:-0.589744,&quot;y&quot;:-0.692308,&quot;z&quot;:0.827087},{&quot;x&quot;:-0.589744,&quot;y&quot;:-0.641026,&quot;z&quot;:0.758711},{&quot;x&quot;:-0.589744,&quot;y&quot;:-0.589744,&quot;z&quot;:0.695595},{&quot;x&quot;:-0.589744,&quot;y&quot;:-0.538462,&quot;z&quot;:0.637738},{&quot;x&quot;:-0.589744,&quot;y&quot;:-0.487179,&quot;z&quot;:0.585141},{&quot;x&quot;:-0.589744,&quot;y&quot;:-0.435897,&quot;z&quot;:0.537804},{&quot;x&quot;:-0.589744,&quot;y&quot;:-0.384615,&quot;z&quot;:0.495726},{&quot;x&quot;:-0.589744,&quot;y&quot;:-0.333333,&quot;z&quot;:0.458909},{&quot;x&quot;:-0.589744,&quot;y&quot;:-0.282051,&quot;z&quot;:0.42735},{&quot;x&quot;:-0.589744,&quot;y&quot;:-0.230769,&quot;z&quot;:0.401052},{&quot;x&quot;:-0.589744,&quot;y&quot;:-0.179487,&quot;z&quot;:0.380013},{&quot;x&quot;:-0.589744,&quot;y&quot;:-0.128205,&quot;z&quot;:0.364234},{&quot;x&quot;:-0.589744,&quot;y&quot;:-0.0769231,&quot;z&quot;:0.353715},{&quot;x&quot;:-0.589744,&quot;y&quot;:-0.025641,&quot;z&quot;:0.348455},{&quot;x&quot;:-0.589744,&quot;y&quot;:0.025641,&quot;z&quot;:0.348455},{&quot;x&quot;:-0.589744,&quot;y&quot;:0.0769231,&quot;z&quot;:0.353715},{&quot;x&quot;:-0.589744,&quot;y&quot;:0.128205,&quot;z&quot;:0.364234},{&quot;x&quot;:-0.589744,&quot;y&quot;:0.179487,&quot;z&quot;:0.380013},{&quot;x&quot;:-0.589744,&quot;y&quot;:0.230769,&quot;z&quot;:0.401052},{&quot;x&quot;:-0.589744,&quot;y&quot;:0.282051,&quot;z&quot;:0.42735},{&quot;x&quot;:-0.589744,&quot;y&quot;:0.333333,&quot;z&quot;:0.458909},{&quot;x&quot;:-0.589744,&quot;y&quot;:0.384615,&quot;z&quot;:0.495726},{&quot;x&quot;:-0.589744,&quot;y&quot;:0.435897,&quot;z&quot;:0.537804},{&quot;x&quot;:-0.589744,&quot;y&quot;:0.487179,&quot;z&quot;:0.585141},{&quot;x&quot;:-0.589744,&quot;y&quot;:0.538462,&quot;z&quot;:0.637738},{&quot;x&quot;:-0.589744,&quot;y&quot;:0.589744,&quot;z&quot;:0.695595},{&quot;x&quot;:-0.589744,&quot;y&quot;:0.641026,&quot;z&quot;:0.758711},{&quot;x&quot;:-0.589744,&quot;y&quot;:0.692308,&quot;z&quot;:0.827087},{&quot;x&quot;:-0.589744,&quot;y&quot;:0.74359,&quot;z&quot;:0.900723},{&quot;x&quot;:-0.589744,&quot;y&quot;:0.794872,&quot;z&quot;:0.979619},{&quot;x&quot;:-0.589744,&quot;y&quot;:0.846154,&quot;z&quot;:1.06377},{&quot;x&quot;:-0.589744,&quot;y&quot;:0.897436,&quot;z&quot;:1.15319},{&quot;x&quot;:-0.589744,&quot;y&quot;:0.948718,&quot;z&quot;:1.24786},{&quot;x&quot;:-0.589744,&quot;y&quot;:1,&quot;z&quot;:1.3478},{&quot;x&quot;:-0.538462,&quot;y&quot;:-0.948718,&quot;z&quot;:1.19001},{&quot;x&quot;:-0.538462,&quot;y&quot;:-1,&quot;z&quot;:1.28994},{&quot;x&quot;:-0.538462,&quot;y&quot;:-0.897436,&quot;z&quot;:1.09533},{&quot;x&quot;:-0.538462,&quot;y&quot;:-0.846154,&quot;z&quot;:1.00592},{&quot;x&quot;:-0.538462,&quot;y&quot;:-0.794872,&quot;z&quot;:0.921762},{&quot;x&quot;:-0.538462,&quot;y&quot;:-0.74359,&quot;z&quot;:0.842867},{&quot;x&quot;:-0.538462,&quot;y&quot;:-0.692308,&quot;z&quot;:0.769231},{&quot;x&quot;:-0.538462,&quot;y&quot;:-0.641026,&quot;z&quot;:0.700855},{&quot;x&quot;:-0.538462,&quot;y&quot;:-0.589744,&quot;z&quot;:0.637738},{&quot;x&quot;:-0.538462,&quot;y&quot;:-0.538462,&quot;z&quot;:0.579882},{&quot;x&quot;:-0.538462,&quot;y&quot;:-0.487179,&quot;z&quot;:0.527285},{&quot;x&quot;:-0.538462,&quot;y&quot;:-0.435897,&quot;z&quot;:0.479947},{&quot;x&quot;:-0.538462,&quot;y&quot;:-0.384615,&quot;z&quot;:0.43787},{&quot;x&quot;:-0.538462,&quot;y&quot;:-0.333333,&quot;z&quot;:0.401052},{&quot;x&quot;:-0.538462,&quot;y&quot;:-0.282051,&quot;z&quot;:0.369494},{&quot;x&quot;:-0.538462,&quot;y&quot;:-0.230769,&quot;z&quot;:0.343195},{&quot;x&quot;:-0.538462,&quot;y&quot;:-0.179487,&quot;z&quot;:0.322156},{&quot;x&quot;:-0.538462,&quot;y&quot;:-0.128205,&quot;z&quot;:0.306377},{&quot;x&quot;:-0.538462,&quot;y&quot;:-0.0769231,&quot;z&quot;:0.295858},{&quot;x&quot;:-0.538462,&quot;y&quot;:-0.025641,&quot;z&quot;:0.290598},{&quot;x&quot;:-0.538462,&quot;y&quot;:0.025641,&quot;z&quot;:0.290598},{&quot;x&quot;:-0.538462,&quot;y&quot;:0.0769231,&quot;z&quot;:0.295858},{&quot;x&quot;:-0.538462,&quot;y&quot;:0.128205,&quot;z&quot;:0.306377},{&quot;x&quot;:-0.538462,&quot;y&quot;:0.179487,&quot;z&quot;:0.322156},{&quot;x&quot;:-0.538462,&quot;y&quot;:0.230769,&quot;z&quot;:0.343195},{&quot;x&quot;:-0.538462,&quot;y&quot;:0.282051,&quot;z&quot;:0.369494},{&quot;x&quot;:-0.538462,&quot;y&quot;:0.333333,&quot;z&quot;:0.401052},{&quot;x&quot;:-0.538462,&quot;y&quot;:0.384615,&quot;z&quot;:0.43787},{&quot;x&quot;:-0.538462,&quot;y&quot;:0.435897,&quot;z&quot;:0.479947},{&quot;x&quot;:-0.538462,&quot;y&quot;:0.487179,&quot;z&quot;:0.527285},{&quot;x&quot;:-0.538462,&quot;y&quot;:0.538462,&quot;z&quot;:0.579882},{&quot;x&quot;:-0.538462,&quot;y&quot;:0.589744,&quot;z&quot;:0.637738},{&quot;x&quot;:-0.538462,&quot;y&quot;:0.641026,&quot;z&quot;:0.700855},{&quot;x&quot;:-0.538462,&quot;y&quot;:0.692308,&quot;z&quot;:0.769231},{&quot;x&quot;:-0.538462,&quot;y&quot;:0.74359,&quot;z&quot;:0.842867},{&quot;x&quot;:-0.538462,&quot;y&quot;:0.794872,&quot;z&quot;:0.921762},{&quot;x&quot;:-0.538462,&quot;y&quot;:0.846154,&quot;z&quot;:1.00592},{&quot;x&quot;:-0.538462,&quot;y&quot;:0.897436,&quot;z&quot;:1.09533},{&quot;x&quot;:-0.538462,&quot;y&quot;:0.948718,&quot;z&quot;:1.19001},{&quot;x&quot;:-0.538462,&quot;y&quot;:1,&quot;z&quot;:1.28994},{&quot;x&quot;:-0.487179,&quot;y&quot;:-0.948718,&quot;z&quot;:1.13741},{&quot;x&quot;:-0.487179,&quot;y&quot;:-1,&quot;z&quot;:1.23734},{&quot;x&quot;:-0.487179,&quot;y&quot;:-0.897436,&quot;z&quot;:1.04274},{&quot;x&quot;:-0.487179,&quot;y&quot;:-0.846154,&quot;z&quot;:0.95332},{&quot;x&quot;:-0.487179,&quot;y&quot;:-0.794872,&quot;z&quot;:0.869165},{&quot;x&quot;:-0.487179,&quot;y&quot;:-0.74359,&quot;z&quot;:0.79027},{&quot;x&quot;:-0.487179,&quot;y&quot;:-0.692308,&quot;z&quot;:0.716634},{&quot;x&quot;:-0.487179,&quot;y&quot;:-0.641026,&quot;z&quot;:0.648258},{&quot;x&quot;:-0.487179,&quot;y&quot;:-0.589744,&quot;z&quot;:0.585141},{&quot;x&quot;:-0.487179,&quot;y&quot;:-0.538462,&quot;z&quot;:0.527285},{&quot;x&quot;:-0.487179,&quot;y&quot;:-0.487179,&quot;z&quot;:0.474688},{&quot;x&quot;:-0.487179,&quot;y&quot;:-0.435897,&quot;z&quot;:0.42735},{&quot;x&quot;:-0.487179,&quot;y&quot;:-0.384615,&quot;z&quot;:0.385273},{&quot;x&quot;:-0.487179,&quot;y&quot;:-0.333333,&quot;z&quot;:0.348455},{&quot;x&quot;:-0.487179,&quot;y&quot;:-0.282051,&quot;z&quot;:0.316897},{&quot;x&quot;:-0.487179,&quot;y&quot;:-0.230769,&quot;z&quot;:0.290598},{&quot;x&quot;:-0.487179,&quot;y&quot;:-0.179487,&quot;z&quot;:0.26956},{&quot;x&quot;:-0.487179,&quot;y&quot;:-0.128205,&quot;z&quot;:0.25378},{&quot;x&quot;:-0.487179,&quot;y&quot;:-0.0769231,&quot;z&quot;:0.243261},{&quot;x&quot;:-0.487179,&quot;y&quot;:-0.025641,&quot;z&quot;:0.238001},{&quot;x&quot;:-0.487179,&quot;y&quot;:0.025641,&quot;z&quot;:0.238001},{&quot;x&quot;:-0.487179,&quot;y&quot;:0.0769231,&quot;z&quot;:0.243261},{&quot;x&quot;:-0.487179,&quot;y&quot;:0.128205,&quot;z&quot;:0.25378},{&quot;x&quot;:-0.487179,&quot;y&quot;:0.179487,&quot;z&quot;:0.26956},{&quot;x&quot;:-0.487179,&quot;y&quot;:0.230769,&quot;z&quot;:0.290598},{&quot;x&quot;:-0.487179,&quot;y&quot;:0.282051,&quot;z&quot;:0.316897},{&quot;x&quot;:-0.487179,&quot;y&quot;:0.333333,&quot;z&quot;:0.348455},{&quot;x&quot;:-0.487179,&quot;y&quot;:0.384615,&quot;z&quot;:0.385273},{&quot;x&quot;:-0.487179,&quot;y&quot;:0.435897,&quot;z&quot;:0.42735},{&quot;x&quot;:-0.487179,&quot;y&quot;:0.487179,&quot;z&quot;:0.474688},{&quot;x&quot;:-0.487179,&quot;y&quot;:0.538462,&quot;z&quot;:0.527285},{&quot;x&quot;:-0.487179,&quot;y&quot;:0.589744,&quot;z&quot;:0.585141},{&quot;x&quot;:-0.487179,&quot;y&quot;:0.641026,&quot;z&quot;:0.648258},{&quot;x&quot;:-0.487179,&quot;y&quot;:0.692308,&quot;z&quot;:0.716634},{&quot;x&quot;:-0.487179,&quot;y&quot;:0.74359,&quot;z&quot;:0.79027},{&quot;x&quot;:-0.487179,&quot;y&quot;:0.794872,&quot;z&quot;:0.869165},{&quot;x&quot;:-0.487179,&quot;y&quot;:0.846154,&quot;z&quot;:0.95332},{&quot;x&quot;:-0.487179,&quot;y&quot;:0.897436,&quot;z&quot;:1.04274},{&quot;x&quot;:-0.487179,&quot;y&quot;:0.948718,&quot;z&quot;:1.13741},{&quot;x&quot;:-0.487179,&quot;y&quot;:1,&quot;z&quot;:1.23734},{&quot;x&quot;:-0.435897,&quot;y&quot;:-0.948718,&quot;z&quot;:1.09007},{&quot;x&quot;:-0.435897,&quot;y&quot;:-1,&quot;z&quot;:1.19001},{&quot;x&quot;:-0.435897,&quot;y&quot;:-0.897436,&quot;z&quot;:0.995398},{&quot;x&quot;:-0.435897,&quot;y&quot;:-0.846154,&quot;z&quot;:0.905983},{&quot;x&quot;:-0.435897,&quot;y&quot;:-0.794872,&quot;z&quot;:0.821828},{&quot;x&quot;:-0.435897,&quot;y&quot;:-0.74359,&quot;z&quot;:0.742932},{&quot;x&quot;:-0.435897,&quot;y&quot;:-0.692308,&quot;z&quot;:0.669297},{&quot;x&quot;:-0.435897,&quot;y&quot;:-0.641026,&quot;z&quot;:0.60092},{&quot;x&quot;:-0.435897,&quot;y&quot;:-0.589744,&quot;z&quot;:0.537804},{&quot;x&quot;:-0.435897,&quot;y&quot;:-0.538462,&quot;z&quot;:0.479947},{&quot;x&quot;:-0.435897,&quot;y&quot;:-0.487179,&quot;z&quot;:0.42735},{&quot;x&quot;:-0.435897,&quot;y&quot;:-0.435897,&quot;z&quot;:0.380013},{&quot;x&quot;:-0.435897,&quot;y&quot;:-0.384615,&quot;z&quot;:0.337936},{&quot;x&quot;:-0.435897,&quot;y&quot;:-0.333333,&quot;z&quot;:0.301118},{&quot;x&quot;:-0.435897,&quot;y&quot;:-0.282051,&quot;z&quot;:0.26956},{&quot;x&quot;:-0.435897,&quot;y&quot;:-0.230769,&quot;z&quot;:0.243261},{&quot;x&quot;:-0.435897,&quot;y&quot;:-0.179487,&quot;z&quot;:0.222222},{&quot;x&quot;:-0.435897,&quot;y&quot;:-0.128205,&quot;z&quot;:0.206443},{&quot;x&quot;:-0.435897,&quot;y&quot;:-0.0769231,&quot;z&quot;:0.195924},{&quot;x&quot;:-0.435897,&quot;y&quot;:-0.025641,&quot;z&quot;:0.190664},{&quot;x&quot;:-0.435897,&quot;y&quot;:0.025641,&quot;z&quot;:0.190664},{&quot;x&quot;:-0.435897,&quot;y&quot;:0.0769231,&quot;z&quot;:0.195924},{&quot;x&quot;:-0.435897,&quot;y&quot;:0.128205,&quot;z&quot;:0.206443},{&quot;x&quot;:-0.435897,&quot;y&quot;:0.179487,&quot;z&quot;:0.222222},{&quot;x&quot;:-0.435897,&quot;y&quot;:0.230769,&quot;z&quot;:0.243261},{&quot;x&quot;:-0.435897,&quot;y&quot;:0.282051,&quot;z&quot;:0.26956},{&quot;x&quot;:-0.435897,&quot;y&quot;:0.333333,&quot;z&quot;:0.301118},{&quot;x&quot;:-0.435897,&quot;y&quot;:0.384615,&quot;z&quot;:0.337936},{&quot;x&quot;:-0.435897,&quot;y&quot;:0.435897,&quot;z&quot;:0.380013},{&quot;x&quot;:-0.435897,&quot;y&quot;:0.487179,&quot;z&quot;:0.42735},{&quot;x&quot;:-0.435897,&quot;y&quot;:0.538462,&quot;z&quot;:0.479947},{&quot;x&quot;:-0.435897,&quot;y&quot;:0.589744,&quot;z&quot;:0.537804},{&quot;x&quot;:-0.435897,&quot;y&quot;:0.641026,&quot;z&quot;:0.60092},{&quot;x&quot;:-0.435897,&quot;y&quot;:0.692308,&quot;z&quot;:0.669297},{&quot;x&quot;:-0.435897,&quot;y&quot;:0.74359,&quot;z&quot;:0.742932},{&quot;x&quot;:-0.435897,&quot;y&quot;:0.794872,&quot;z&quot;:0.821828},{&quot;x&quot;:-0.435897,&quot;y&quot;:0.846154,&quot;z&quot;:0.905983},{&quot;x&quot;:-0.435897,&quot;y&quot;:0.897436,&quot;z&quot;:0.995398},{&quot;x&quot;:-0.435897,&quot;y&quot;:0.948718,&quot;z&quot;:1.09007},{&quot;x&quot;:-0.435897,&quot;y&quot;:1,&quot;z&quot;:1.19001},{&quot;x&quot;:-0.384615,&quot;y&quot;:-0.948718,&quot;z&quot;:1.04799},{&quot;x&quot;:-0.384615,&quot;y&quot;:-1,&quot;z&quot;:1.14793},{&quot;x&quot;:-0.384615,&quot;y&quot;:-0.897436,&quot;z&quot;:0.95332},{&quot;x&quot;:-0.384615,&quot;y&quot;:-0.846154,&quot;z&quot;:0.863905},{&quot;x&quot;:-0.384615,&quot;y&quot;:-0.794872,&quot;z&quot;:0.77975},{&quot;x&quot;:-0.384615,&quot;y&quot;:-0.74359,&quot;z&quot;:0.700855},{&quot;x&quot;:-0.384615,&quot;y&quot;:-0.692308,&quot;z&quot;:0.627219},{&quot;x&quot;:-0.384615,&quot;y&quot;:-0.641026,&quot;z&quot;:0.558843},{&quot;x&quot;:-0.384615,&quot;y&quot;:-0.589744,&quot;z&quot;:0.495726},{&quot;x&quot;:-0.384615,&quot;y&quot;:-0.538462,&quot;z&quot;:0.43787},{&quot;x&quot;:-0.384615,&quot;y&quot;:-0.487179,&quot;z&quot;:0.385273},{&quot;x&quot;:-0.384615,&quot;y&quot;:-0.435897,&quot;z&quot;:0.337936},{&quot;x&quot;:-0.384615,&quot;y&quot;:-0.384615,&quot;z&quot;:0.295858},{&quot;x&quot;:-0.384615,&quot;y&quot;:-0.333333,&quot;z&quot;:0.25904},{&quot;x&quot;:-0.384615,&quot;y&quot;:-0.282051,&quot;z&quot;:0.227482},{&quot;x&quot;:-0.384615,&quot;y&quot;:-0.230769,&quot;z&quot;:0.201183},{&quot;x&quot;:-0.384615,&quot;y&quot;:-0.179487,&quot;z&quot;:0.180145},{&quot;x&quot;:-0.384615,&quot;y&quot;:-0.128205,&quot;z&quot;:0.164366},{&quot;x&quot;:-0.384615,&quot;y&quot;:-0.0769231,&quot;z&quot;:0.153846},{&quot;x&quot;:-0.384615,&quot;y&quot;:-0.025641,&quot;z&quot;:0.148586},{&quot;x&quot;:-0.384615,&quot;y&quot;:0.025641,&quot;z&quot;:0.148586},{&quot;x&quot;:-0.384615,&quot;y&quot;:0.0769231,&quot;z&quot;:0.153846},{&quot;x&quot;:-0.384615,&quot;y&quot;:0.128205,&quot;z&quot;:0.164366},{&quot;x&quot;:-0.384615,&quot;y&quot;:0.179487,&quot;z&quot;:0.180145},{&quot;x&quot;:-0.384615,&quot;y&quot;:0.230769,&quot;z&quot;:0.201183},{&quot;x&quot;:-0.384615,&quot;y&quot;:0.282051,&quot;z&quot;:0.227482},{&quot;x&quot;:-0.384615,&quot;y&quot;:0.333333,&quot;z&quot;:0.25904},{&quot;x&quot;:-0.384615,&quot;y&quot;:0.384615,&quot;z&quot;:0.295858},{&quot;x&quot;:-0.384615,&quot;y&quot;:0.435897,&quot;z&quot;:0.337936},{&quot;x&quot;:-0.384615,&quot;y&quot;:0.487179,&quot;z&quot;:0.385273},{&quot;x&quot;:-0.384615,&quot;y&quot;:0.538462,&quot;z&quot;:0.43787},{&quot;x&quot;:-0.384615,&quot;y&quot;:0.589744,&quot;z&quot;:0.495726},{&quot;x&quot;:-0.384615,&quot;y&quot;:0.641026,&quot;z&quot;:0.558843},{&quot;x&quot;:-0.384615,&quot;y&quot;:0.692308,&quot;z&quot;:0.627219},{&quot;x&quot;:-0.384615,&quot;y&quot;:0.74359,&quot;z&quot;:0.700855},{&quot;x&quot;:-0.384615,&quot;y&quot;:0.794872,&quot;z&quot;:0.77975},{&quot;x&quot;:-0.384615,&quot;y&quot;:0.846154,&quot;z&quot;:0.863905},{&quot;x&quot;:-0.384615,&quot;y&quot;:0.897436,&quot;z&quot;:0.95332},{&quot;x&quot;:-0.384615,&quot;y&quot;:0.948718,&quot;z&quot;:1.04799},{&quot;x&quot;:-0.384615,&quot;y&quot;:1,&quot;z&quot;:1.14793},{&quot;x&quot;:-0.333333,&quot;y&quot;:-0.948718,&quot;z&quot;:1.01118},{&quot;x&quot;:-0.333333,&quot;y&quot;:-1,&quot;z&quot;:1.11111},{&quot;x&quot;:-0.333333,&quot;y&quot;:-0.897436,&quot;z&quot;:0.916502},{&quot;x&quot;:-0.333333,&quot;y&quot;:-0.846154,&quot;z&quot;:0.827087},{&quot;x&quot;:-0.333333,&quot;y&quot;:-0.794872,&quot;z&quot;:0.742932},{&quot;x&quot;:-0.333333,&quot;y&quot;:-0.74359,&quot;z&quot;:0.664037},{&quot;x&quot;:-0.333333,&quot;y&quot;:-0.692308,&quot;z&quot;:0.590401},{&quot;x&quot;:-0.333333,&quot;y&quot;:-0.641026,&quot;z&quot;:0.522025},{&quot;x&quot;:-0.333333,&quot;y&quot;:-0.589744,&quot;z&quot;:0.458909},{&quot;x&quot;:-0.333333,&quot;y&quot;:-0.538462,&quot;z&quot;:0.401052},{&quot;x&quot;:-0.333333,&quot;y&quot;:-0.487179,&quot;z&quot;:0.348455},{&quot;x&quot;:-0.333333,&quot;y&quot;:-0.435897,&quot;z&quot;:0.301118},{&quot;x&quot;:-0.333333,&quot;y&quot;:-0.384615,&quot;z&quot;:0.25904},{&quot;x&quot;:-0.333333,&quot;y&quot;:-0.333333,&quot;z&quot;:0.222222},{&quot;x&quot;:-0.333333,&quot;y&quot;:-0.282051,&quot;z&quot;:0.190664},{&quot;x&quot;:-0.333333,&quot;y&quot;:-0.230769,&quot;z&quot;:0.164366},{&quot;x&quot;:-0.333333,&quot;y&quot;:-0.179487,&quot;z&quot;:0.143327},{&quot;x&quot;:-0.333333,&quot;y&quot;:-0.128205,&quot;z&quot;:0.127548},{&quot;x&quot;:-0.333333,&quot;y&quot;:-0.0769231,&quot;z&quot;:0.117028},{&quot;x&quot;:-0.333333,&quot;y&quot;:-0.025641,&quot;z&quot;:0.111769},{&quot;x&quot;:-0.333333,&quot;y&quot;:0.025641,&quot;z&quot;:0.111769},{&quot;x&quot;:-0.333333,&quot;y&quot;:0.0769231,&quot;z&quot;:0.117028},{&quot;x&quot;:-0.333333,&quot;y&quot;:0.128205,&quot;z&quot;:0.127548},{&quot;x&quot;:-0.333333,&quot;y&quot;:0.179487,&quot;z&quot;:0.143327},{&quot;x&quot;:-0.333333,&quot;y&quot;:0.230769,&quot;z&quot;:0.164366},{&quot;x&quot;:-0.333333,&quot;y&quot;:0.282051,&quot;z&quot;:0.190664},{&quot;x&quot;:-0.333333,&quot;y&quot;:0.333333,&quot;z&quot;:0.222222},{&quot;x&quot;:-0.333333,&quot;y&quot;:0.384615,&quot;z&quot;:0.25904},{&quot;x&quot;:-0.333333,&quot;y&quot;:0.435897,&quot;z&quot;:0.301118},{&quot;x&quot;:-0.333333,&quot;y&quot;:0.487179,&quot;z&quot;:0.348455},{&quot;x&quot;:-0.333333,&quot;y&quot;:0.538462,&quot;z&quot;:0.401052},{&quot;x&quot;:-0.333333,&quot;y&quot;:0.589744,&quot;z&quot;:0.458909},{&quot;x&quot;:-0.333333,&quot;y&quot;:0.641026,&quot;z&quot;:0.522025},{&quot;x&quot;:-0.333333,&quot;y&quot;:0.692308,&quot;z&quot;:0.590401},{&quot;x&quot;:-0.333333,&quot;y&quot;:0.74359,&quot;z&quot;:0.664037},{&quot;x&quot;:-0.333333,&quot;y&quot;:0.794872,&quot;z&quot;:0.742932},{&quot;x&quot;:-0.333333,&quot;y&quot;:0.846154,&quot;z&quot;:0.827087},{&quot;x&quot;:-0.333333,&quot;y&quot;:0.897436,&quot;z&quot;:0.916502},{&quot;x&quot;:-0.333333,&quot;y&quot;:0.948718,&quot;z&quot;:1.01118},{&quot;x&quot;:-0.333333,&quot;y&quot;:1,&quot;z&quot;:1.11111},{&quot;x&quot;:-0.282051,&quot;y&quot;:-0.948718,&quot;z&quot;:0.979619},{&quot;x&quot;:-0.282051,&quot;y&quot;:-1,&quot;z&quot;:1.07955},{&quot;x&quot;:-0.282051,&quot;y&quot;:-0.897436,&quot;z&quot;:0.884944},{&quot;x&quot;:-0.282051,&quot;y&quot;:-0.846154,&quot;z&quot;:0.795529},{&quot;x&quot;:-0.282051,&quot;y&quot;:-0.794872,&quot;z&quot;:0.711374},{&quot;x&quot;:-0.282051,&quot;y&quot;:-0.74359,&quot;z&quot;:0.632479},{&quot;x&quot;:-0.282051,&quot;y&quot;:-0.692308,&quot;z&quot;:0.558843},{&quot;x&quot;:-0.282051,&quot;y&quot;:-0.641026,&quot;z&quot;:0.490467},{&quot;x&quot;:-0.282051,&quot;y&quot;:-0.589744,&quot;z&quot;:0.42735},{&quot;x&quot;:-0.282051,&quot;y&quot;:-0.538462,&quot;z&quot;:0.369494},{&quot;x&quot;:-0.282051,&quot;y&quot;:-0.487179,&quot;z&quot;:0.316897},{&quot;x&quot;:-0.282051,&quot;y&quot;:-0.435897,&quot;z&quot;:0.26956},{&quot;x&quot;:-0.282051,&quot;y&quot;:-0.384615,&quot;z&quot;:0.227482},{&quot;x&quot;:-0.282051,&quot;y&quot;:-0.333333,&quot;z&quot;:0.190664},{&quot;x&quot;:-0.282051,&quot;y&quot;:-0.282051,&quot;z&quot;:0.159106},{&quot;x&quot;:-0.282051,&quot;y&quot;:-0.230769,&quot;z&quot;:0.132807},{&quot;x&quot;:-0.282051,&quot;y&quot;:-0.179487,&quot;z&quot;:0.111769},{&quot;x&quot;:-0.282051,&quot;y&quot;:-0.128205,&quot;z&quot;:0.0959895},{&quot;x&quot;:-0.282051,&quot;y&quot;:-0.0769231,&quot;z&quot;:0.0854701},{&quot;x&quot;:-0.282051,&quot;y&quot;:-0.025641,&quot;z&quot;:0.0802104},{&quot;x&quot;:-0.282051,&quot;y&quot;:0.025641,&quot;z&quot;:0.0802104},{&quot;x&quot;:-0.282051,&quot;y&quot;:0.0769231,&quot;z&quot;:0.0854701},{&quot;x&quot;:-0.282051,&quot;y&quot;:0.128205,&quot;z&quot;:0.0959895},{&quot;x&quot;:-0.282051,&quot;y&quot;:0.179487,&quot;z&quot;:0.111769},{&quot;x&quot;:-0.282051,&quot;y&quot;:0.230769,&quot;z&quot;:0.132807},{&quot;x&quot;:-0.282051,&quot;y&quot;:0.282051,&quot;z&quot;:0.159106},{&quot;x&quot;:-0.282051,&quot;y&quot;:0.333333,&quot;z&quot;:0.190664},{&quot;x&quot;:-0.282051,&quot;y&quot;:0.384615,&quot;z&quot;:0.227482},{&quot;x&quot;:-0.282051,&quot;y&quot;:0.435897,&quot;z&quot;:0.26956},{&quot;x&quot;:-0.282051,&quot;y&quot;:0.487179,&quot;z&quot;:0.316897},{&quot;x&quot;:-0.282051,&quot;y&quot;:0.538462,&quot;z&quot;:0.369494},{&quot;x&quot;:-0.282051,&quot;y&quot;:0.589744,&quot;z&quot;:0.42735},{&quot;x&quot;:-0.282051,&quot;y&quot;:0.641026,&quot;z&quot;:0.490467},{&quot;x&quot;:-0.282051,&quot;y&quot;:0.692308,&quot;z&quot;:0.558843},{&quot;x&quot;:-0.282051,&quot;y&quot;:0.74359,&quot;z&quot;:0.632479},{&quot;x&quot;:-0.282051,&quot;y&quot;:0.794872,&quot;z&quot;:0.711374},{&quot;x&quot;:-0.282051,&quot;y&quot;:0.846154,&quot;z&quot;:0.795529},{&quot;x&quot;:-0.282051,&quot;y&quot;:0.897436,&quot;z&quot;:0.884944},{&quot;x&quot;:-0.282051,&quot;y&quot;:0.948718,&quot;z&quot;:0.979619},{&quot;x&quot;:-0.282051,&quot;y&quot;:1,&quot;z&quot;:1.07955},{&quot;x&quot;:-0.230769,&quot;y&quot;:-0.948718,&quot;z&quot;:0.95332},{&quot;x&quot;:-0.230769,&quot;y&quot;:-1,&quot;z&quot;:1.05325},{&quot;x&quot;:-0.230769,&quot;y&quot;:-0.897436,&quot;z&quot;:0.858646},{&quot;x&quot;:-0.230769,&quot;y&quot;:-0.846154,&quot;z&quot;:0.769231},{&quot;x&quot;:-0.230769,&quot;y&quot;:-0.794872,&quot;z&quot;:0.685076},{&quot;x&quot;:-0.230769,&quot;y&quot;:-0.74359,&quot;z&quot;:0.60618},{&quot;x&quot;:-0.230769,&quot;y&quot;:-0.692308,&quot;z&quot;:0.532544},{&quot;x&quot;:-0.230769,&quot;y&quot;:-0.641026,&quot;z&quot;:0.464168},{&quot;x&quot;:-0.230769,&quot;y&quot;:-0.589744,&quot;z&quot;:0.401052},{&quot;x&quot;:-0.230769,&quot;y&quot;:-0.538462,&quot;z&quot;:0.343195},{&quot;x&quot;:-0.230769,&quot;y&quot;:-0.487179,&quot;z&quot;:0.290598},{&quot;x&quot;:-0.230769,&quot;y&quot;:-0.435897,&quot;z&quot;:0.243261},{&quot;x&quot;:-0.230769,&quot;y&quot;:-0.384615,&quot;z&quot;:0.201183},{&quot;x&quot;:-0.230769,&quot;y&quot;:-0.333333,&quot;z&quot;:0.164366},{&quot;x&quot;:-0.230769,&quot;y&quot;:-0.282051,&quot;z&quot;:0.132807},{&quot;x&quot;:-0.230769,&quot;y&quot;:-0.230769,&quot;z&quot;:0.106509},{&quot;x&quot;:-0.230769,&quot;y&quot;:-0.179487,&quot;z&quot;:0.0854701},{&quot;x&quot;:-0.230769,&quot;y&quot;:-0.128205,&quot;z&quot;:0.069691},{&quot;x&quot;:-0.230769,&quot;y&quot;:-0.0769231,&quot;z&quot;:0.0591716},{&quot;x&quot;:-0.230769,&quot;y&quot;:-0.025641,&quot;z&quot;:0.0539119},{&quot;x&quot;:-0.230769,&quot;y&quot;:0.025641,&quot;z&quot;:0.0539119},{&quot;x&quot;:-0.230769,&quot;y&quot;:0.0769231,&quot;z&quot;:0.0591716},{&quot;x&quot;:-0.230769,&quot;y&quot;:0.128205,&quot;z&quot;:0.069691},{&quot;x&quot;:-0.230769,&quot;y&quot;:0.179487,&quot;z&quot;:0.0854701},{&quot;x&quot;:-0.230769,&quot;y&quot;:0.230769,&quot;z&quot;:0.106509},{&quot;x&quot;:-0.230769,&quot;y&quot;:0.282051,&quot;z&quot;:0.132807},{&quot;x&quot;:-0.230769,&quot;y&quot;:0.333333,&quot;z&quot;:0.164366},{&quot;x&quot;:-0.230769,&quot;y&quot;:0.384615,&quot;z&quot;:0.201183},{&quot;x&quot;:-0.230769,&quot;y&quot;:0.435897,&quot;z&quot;:0.243261},{&quot;x&quot;:-0.230769,&quot;y&quot;:0.487179,&quot;z&quot;:0.290598},{&quot;x&quot;:-0.230769,&quot;y&quot;:0.538462,&quot;z&quot;:0.343195},{&quot;x&quot;:-0.230769,&quot;y&quot;:0.589744,&quot;z&quot;:0.401052},{&quot;x&quot;:-0.230769,&quot;y&quot;:0.641026,&quot;z&quot;:0.464168},{&quot;x&quot;:-0.230769,&quot;y&quot;:0.692308,&quot;z&quot;:0.532544},{&quot;x&quot;:-0.230769,&quot;y&quot;:0.74359,&quot;z&quot;:0.60618},{&quot;x&quot;:-0.230769,&quot;y&quot;:0.794872,&quot;z&quot;:0.685076},{&quot;x&quot;:-0.230769,&quot;y&quot;:0.846154,&quot;z&quot;:0.769231},{&quot;x&quot;:-0.230769,&quot;y&quot;:0.897436,&quot;z&quot;:0.858646},{&quot;x&quot;:-0.230769,&quot;y&quot;:0.948718,&quot;z&quot;:0.95332},{&quot;x&quot;:-0.230769,&quot;y&quot;:1,&quot;z&quot;:1.05325},{&quot;x&quot;:-0.179487,&quot;y&quot;:-0.948718,&quot;z&quot;:0.932281},{&quot;x&quot;:-0.179487,&quot;y&quot;:-1,&quot;z&quot;:1.03222},{&quot;x&quot;:-0.179487,&quot;y&quot;:-0.897436,&quot;z&quot;:0.837607},{&quot;x&quot;:-0.179487,&quot;y&quot;:-0.846154,&quot;z&quot;:0.748192},{&quot;x&quot;:-0.179487,&quot;y&quot;:-0.794872,&quot;z&quot;:0.664037},{&quot;x&quot;:-0.179487,&quot;y&quot;:-0.74359,&quot;z&quot;:0.585141},{&quot;x&quot;:-0.179487,&quot;y&quot;:-0.692308,&quot;z&quot;:0.511506},{&quot;x&quot;:-0.179487,&quot;y&quot;:-0.641026,&quot;z&quot;:0.44313},{&quot;x&quot;:-0.179487,&quot;y&quot;:-0.589744,&quot;z&quot;:0.380013},{&quot;x&quot;:-0.179487,&quot;y&quot;:-0.538462,&quot;z&quot;:0.322156},{&quot;x&quot;:-0.179487,&quot;y&quot;:-0.487179,&quot;z&quot;:0.26956},{&quot;x&quot;:-0.179487,&quot;y&quot;:-0.435897,&quot;z&quot;:0.222222},{&quot;x&quot;:-0.179487,&quot;y&quot;:-0.384615,&quot;z&quot;:0.180145},{&quot;x&quot;:-0.179487,&quot;y&quot;:-0.333333,&quot;z&quot;:0.143327},{&quot;x&quot;:-0.179487,&quot;y&quot;:-0.282051,&quot;z&quot;:0.111769},{&quot;x&quot;:-0.179487,&quot;y&quot;:-0.230769,&quot;z&quot;:0.0854701},{&quot;x&quot;:-0.179487,&quot;y&quot;:-0.179487,&quot;z&quot;:0.0644313},{&quot;x&quot;:-0.179487,&quot;y&quot;:-0.128205,&quot;z&quot;:0.0486522},{&quot;x&quot;:-0.179487,&quot;y&quot;:-0.0769231,&quot;z&quot;:0.0381328},{&quot;x&quot;:-0.179487,&quot;y&quot;:-0.025641,&quot;z&quot;:0.0328731},{&quot;x&quot;:-0.179487,&quot;y&quot;:0.025641,&quot;z&quot;:0.0328731},{&quot;x&quot;:-0.179487,&quot;y&quot;:0.0769231,&quot;z&quot;:0.0381328},{&quot;x&quot;:-0.179487,&quot;y&quot;:0.128205,&quot;z&quot;:0.0486522},{&quot;x&quot;:-0.179487,&quot;y&quot;:0.179487,&quot;z&quot;:0.0644313},{&quot;x&quot;:-0.179487,&quot;y&quot;:0.230769,&quot;z&quot;:0.0854701},{&quot;x&quot;:-0.179487,&quot;y&quot;:0.282051,&quot;z&quot;:0.111769},{&quot;x&quot;:-0.179487,&quot;y&quot;:0.333333,&quot;z&quot;:0.143327},{&quot;x&quot;:-0.179487,&quot;y&quot;:0.384615,&quot;z&quot;:0.180145},{&quot;x&quot;:-0.179487,&quot;y&quot;:0.435897,&quot;z&quot;:0.222222},{&quot;x&quot;:-0.179487,&quot;y&quot;:0.487179,&quot;z&quot;:0.26956},{&quot;x&quot;:-0.179487,&quot;y&quot;:0.538462,&quot;z&quot;:0.322156},{&quot;x&quot;:-0.179487,&quot;y&quot;:0.589744,&quot;z&quot;:0.380013},{&quot;x&quot;:-0.179487,&quot;y&quot;:0.641026,&quot;z&quot;:0.44313},{&quot;x&quot;:-0.179487,&quot;y&quot;:0.692308,&quot;z&quot;:0.511506},{&quot;x&quot;:-0.179487,&quot;y&quot;:0.74359,&quot;z&quot;:0.585141},{&quot;x&quot;:-0.179487,&quot;y&quot;:0.794872,&quot;z&quot;:0.664037},{&quot;x&quot;:-0.179487,&quot;y&quot;:0.846154,&quot;z&quot;:0.748192},{&quot;x&quot;:-0.179487,&quot;y&quot;:0.897436,&quot;z&quot;:0.837607},{&quot;x&quot;:-0.179487,&quot;y&quot;:0.948718,&quot;z&quot;:0.932281},{&quot;x&quot;:-0.179487,&quot;y&quot;:1,&quot;z&quot;:1.03222},{&quot;x&quot;:-0.128205,&quot;y&quot;:-0.948718,&quot;z&quot;:0.916502},{&quot;x&quot;:-0.128205,&quot;y&quot;:-1,&quot;z&quot;:1.01644},{&quot;x&quot;:-0.128205,&quot;y&quot;:-0.897436,&quot;z&quot;:0.821828},{&quot;x&quot;:-0.128205,&quot;y&quot;:-0.846154,&quot;z&quot;:0.732413},{&quot;x&quot;:-0.128205,&quot;y&quot;:-0.794872,&quot;z&quot;:0.648258},{&quot;x&quot;:-0.128205,&quot;y&quot;:-0.74359,&quot;z&quot;:0.569362},{&quot;x&quot;:-0.128205,&quot;y&quot;:-0.692308,&quot;z&quot;:0.495726},{&quot;x&quot;:-0.128205,&quot;y&quot;:-0.641026,&quot;z&quot;:0.42735},{&quot;x&quot;:-0.128205,&quot;y&quot;:-0.589744,&quot;z&quot;:0.364234},{&quot;x&quot;:-0.128205,&quot;y&quot;:-0.538462,&quot;z&quot;:0.306377},{&quot;x&quot;:-0.128205,&quot;y&quot;:-0.487179,&quot;z&quot;:0.25378},{&quot;x&quot;:-0.128205,&quot;y&quot;:-0.435897,&quot;z&quot;:0.206443},{&quot;x&quot;:-0.128205,&quot;y&quot;:-0.384615,&quot;z&quot;:0.164366},{&quot;x&quot;:-0.128205,&quot;y&quot;:-0.333333,&quot;z&quot;:0.127548},{&quot;x&quot;:-0.128205,&quot;y&quot;:-0.282051,&quot;z&quot;:0.0959895},{&quot;x&quot;:-0.128205,&quot;y&quot;:-0.230769,&quot;z&quot;:0.069691},{&quot;x&quot;:-0.128205,&quot;y&quot;:-0.179487,&quot;z&quot;:0.0486522},{&quot;x&quot;:-0.128205,&quot;y&quot;:-0.128205,&quot;z&quot;:0.0328731},{&quot;x&quot;:-0.128205,&quot;y&quot;:-0.0769231,&quot;z&quot;:0.0223537},{&quot;x&quot;:-0.128205,&quot;y&quot;:-0.025641,&quot;z&quot;:0.017094},{&quot;x&quot;:-0.128205,&quot;y&quot;:0.025641,&quot;z&quot;:0.017094},{&quot;x&quot;:-0.128205,&quot;y&quot;:0.0769231,&quot;z&quot;:0.0223537},{&quot;x&quot;:-0.128205,&quot;y&quot;:0.128205,&quot;z&quot;:0.0328731},{&quot;x&quot;:-0.128205,&quot;y&quot;:0.179487,&quot;z&quot;:0.0486522},{&quot;x&quot;:-0.128205,&quot;y&quot;:0.230769,&quot;z&quot;:0.069691},{&quot;x&quot;:-0.128205,&quot;y&quot;:0.282051,&quot;z&quot;:0.0959895},{&quot;x&quot;:-0.128205,&quot;y&quot;:0.333333,&quot;z&quot;:0.127548},{&quot;x&quot;:-0.128205,&quot;y&quot;:0.384615,&quot;z&quot;:0.164366},{&quot;x&quot;:-0.128205,&quot;y&quot;:0.435897,&quot;z&quot;:0.206443},{&quot;x&quot;:-0.128205,&quot;y&quot;:0.487179,&quot;z&quot;:0.25378},{&quot;x&quot;:-0.128205,&quot;y&quot;:0.538462,&quot;z&quot;:0.306377},{&quot;x&quot;:-0.128205,&quot;y&quot;:0.589744,&quot;z&quot;:0.364234},{&quot;x&quot;:-0.128205,&quot;y&quot;:0.641026,&quot;z&quot;:0.42735},{&quot;x&quot;:-0.128205,&quot;y&quot;:0.692308,&quot;z&quot;:0.495726},{&quot;x&quot;:-0.128205,&quot;y&quot;:0.74359,&quot;z&quot;:0.569362},{&quot;x&quot;:-0.128205,&quot;y&quot;:0.794872,&quot;z&quot;:0.648258},{&quot;x&quot;:-0.128205,&quot;y&quot;:0.846154,&quot;z&quot;:0.732413},{&quot;x&quot;:-0.128205,&quot;y&quot;:0.897436,&quot;z&quot;:0.821828},{&quot;x&quot;:-0.128205,&quot;y&quot;:0.948718,&quot;z&quot;:0.916502},{&quot;x&quot;:-0.128205,&quot;y&quot;:1,&quot;z&quot;:1.01644},{&quot;x&quot;:-0.0769231,&quot;y&quot;:-0.948718,&quot;z&quot;:0.905983},{&quot;x&quot;:-0.0769231,&quot;y&quot;:-1,&quot;z&quot;:1.00592},{&quot;x&quot;:-0.0769231,&quot;y&quot;:-0.897436,&quot;z&quot;:0.811308},{&quot;x&quot;:-0.0769231,&quot;y&quot;:-0.846154,&quot;z&quot;:0.721893},{&quot;x&quot;:-0.0769231,&quot;y&quot;:-0.794872,&quot;z&quot;:0.637738},{&quot;x&quot;:-0.0769231,&quot;y&quot;:-0.74359,&quot;z&quot;:0.558843},{&quot;x&quot;:-0.0769231,&quot;y&quot;:-0.692308,&quot;z&quot;:0.485207},{&quot;x&quot;:-0.0769231,&quot;y&quot;:-0.641026,&quot;z&quot;:0.416831},{&quot;x&quot;:-0.0769231,&quot;y&quot;:-0.589744,&quot;z&quot;:0.353715},{&quot;x&quot;:-0.0769231,&quot;y&quot;:-0.538462,&quot;z&quot;:0.295858},{&quot;x&quot;:-0.0769231,&quot;y&quot;:-0.487179,&quot;z&quot;:0.243261},{&quot;x&quot;:-0.0769231,&quot;y&quot;:-0.435897,&quot;z&quot;:0.195924},{&quot;x&quot;:-0.0769231,&quot;y&quot;:-0.384615,&quot;z&quot;:0.153846},{&quot;x&quot;:-0.0769231,&quot;y&quot;:-0.333333,&quot;z&quot;:0.117028},{&quot;x&quot;:-0.0769231,&quot;y&quot;:-0.282051,&quot;z&quot;:0.0854701},{&quot;x&quot;:-0.0769231,&quot;y&quot;:-0.230769,&quot;z&quot;:0.0591716},{&quot;x&quot;:-0.0769231,&quot;y&quot;:-0.179487,&quot;z&quot;:0.0381328},{&quot;x&quot;:-0.0769231,&quot;y&quot;:-0.128205,&quot;z&quot;:0.0223537},{&quot;x&quot;:-0.0769231,&quot;y&quot;:-0.0769231,&quot;z&quot;:0.0118343},{&quot;x&quot;:-0.0769231,&quot;y&quot;:-0.025641,&quot;z&quot;:0.00657462},{&quot;x&quot;:-0.0769231,&quot;y&quot;:0.025641,&quot;z&quot;:0.00657462},{&quot;x&quot;:-0.0769231,&quot;y&quot;:0.0769231,&quot;z&quot;:0.0118343},{&quot;x&quot;:-0.0769231,&quot;y&quot;:0.128205,&quot;z&quot;:0.0223537},{&quot;x&quot;:-0.0769231,&quot;y&quot;:0.179487,&quot;z&quot;:0.0381328},{&quot;x&quot;:-0.0769231,&quot;y&quot;:0.230769,&quot;z&quot;:0.0591716},{&quot;x&quot;:-0.0769231,&quot;y&quot;:0.282051,&quot;z&quot;:0.0854701},{&quot;x&quot;:-0.0769231,&quot;y&quot;:0.333333,&quot;z&quot;:0.117028},{&quot;x&quot;:-0.0769231,&quot;y&quot;:0.384615,&quot;z&quot;:0.153846},{&quot;x&quot;:-0.0769231,&quot;y&quot;:0.435897,&quot;z&quot;:0.195924},{&quot;x&quot;:-0.0769231,&quot;y&quot;:0.487179,&quot;z&quot;:0.243261},{&quot;x&quot;:-0.0769231,&quot;y&quot;:0.538462,&quot;z&quot;:0.295858},{&quot;x&quot;:-0.0769231,&quot;y&quot;:0.589744,&quot;z&quot;:0.353715},{&quot;x&quot;:-0.0769231,&quot;y&quot;:0.641026,&quot;z&quot;:0.416831},{&quot;x&quot;:-0.0769231,&quot;y&quot;:0.692308,&quot;z&quot;:0.485207},{&quot;x&quot;:-0.0769231,&quot;y&quot;:0.74359,&quot;z&quot;:0.558843},{&quot;x&quot;:-0.0769231,&quot;y&quot;:0.794872,&quot;z&quot;:0.637738},{&quot;x&quot;:-0.0769231,&quot;y&quot;:0.846154,&quot;z&quot;:0.721893},{&quot;x&quot;:-0.0769231,&quot;y&quot;:0.897436,&quot;z&quot;:0.811308},{&quot;x&quot;:-0.0769231,&quot;y&quot;:0.948718,&quot;z&quot;:0.905983},{&quot;x&quot;:-0.0769231,&quot;y&quot;:1,&quot;z&quot;:1.00592},{&quot;x&quot;:-0.025641,&quot;y&quot;:-0.948718,&quot;z&quot;:0.900723},{&quot;x&quot;:-0.025641,&quot;y&quot;:-1,&quot;z&quot;:1.00066},{&quot;x&quot;:-0.025641,&quot;y&quot;:-0.897436,&quot;z&quot;:0.806049},{&quot;x&quot;:-0.025641,&quot;y&quot;:-0.846154,&quot;z&quot;:0.716634},{&quot;x&quot;:-0.025641,&quot;y&quot;:-0.794872,&quot;z&quot;:0.632479},{&quot;x&quot;:-0.025641,&quot;y&quot;:-0.74359,&quot;z&quot;:0.553583},{&quot;x&quot;:-0.025641,&quot;y&quot;:-0.692308,&quot;z&quot;:0.479947},{&quot;x&quot;:-0.025641,&quot;y&quot;:-0.641026,&quot;z&quot;:0.411571},{&quot;x&quot;:-0.025641,&quot;y&quot;:-0.589744,&quot;z&quot;:0.348455},{&quot;x&quot;:-0.025641,&quot;y&quot;:-0.538462,&quot;z&quot;:0.290598},{&quot;x&quot;:-0.025641,&quot;y&quot;:-0.487179,&quot;z&quot;:0.238001},{&quot;x&quot;:-0.025641,&quot;y&quot;:-0.435897,&quot;z&quot;:0.190664},{&quot;x&quot;:-0.025641,&quot;y&quot;:-0.384615,&quot;z&quot;:0.148586},{&quot;x&quot;:-0.025641,&quot;y&quot;:-0.333333,&quot;z&quot;:0.111769},{&quot;x&quot;:-0.025641,&quot;y&quot;:-0.282051,&quot;z&quot;:0.0802104},{&quot;x&quot;:-0.025641,&quot;y&quot;:-0.230769,&quot;z&quot;:0.0539119},{&quot;x&quot;:-0.025641,&quot;y&quot;:-0.179487,&quot;z&quot;:0.0328731},{&quot;x&quot;:-0.025641,&quot;y&quot;:-0.128205,&quot;z&quot;:0.017094},{&quot;x&quot;:-0.025641,&quot;y&quot;:-0.0769231,&quot;z&quot;:0.00657462},{&quot;x&quot;:-0.025641,&quot;y&quot;:-0.025641,&quot;z&quot;:0.00131492},{&quot;x&quot;:-0.025641,&quot;y&quot;:0.025641,&quot;z&quot;:0.00131492},{&quot;x&quot;:-0.025641,&quot;y&quot;:0.0769231,&quot;z&quot;:0.00657462},{&quot;x&quot;:-0.025641,&quot;y&quot;:0.128205,&quot;z&quot;:0.017094},{&quot;x&quot;:-0.025641,&quot;y&quot;:0.179487,&quot;z&quot;:0.0328731},{&quot;x&quot;:-0.025641,&quot;y&quot;:0.230769,&quot;z&quot;:0.0539119},{&quot;x&quot;:-0.025641,&quot;y&quot;:0.282051,&quot;z&quot;:0.0802104},{&quot;x&quot;:-0.025641,&quot;y&quot;:0.333333,&quot;z&quot;:0.111769},{&quot;x&quot;:-0.025641,&quot;y&quot;:0.384615,&quot;z&quot;:0.148586},{&quot;x&quot;:-0.025641,&quot;y&quot;:0.435897,&quot;z&quot;:0.190664},{&quot;x&quot;:-0.025641,&quot;y&quot;:0.487179,&quot;z&quot;:0.238001},{&quot;x&quot;:-0.025641,&quot;y&quot;:0.538462,&quot;z&quot;:0.290598},{&quot;x&quot;:-0.025641,&quot;y&quot;:0.589744,&quot;z&quot;:0.348455},{&quot;x&quot;:-0.025641,&quot;y&quot;:0.641026,&quot;z&quot;:0.411571},{&quot;x&quot;:-0.025641,&quot;y&quot;:0.692308,&quot;z&quot;:0.479947},{&quot;x&quot;:-0.025641,&quot;y&quot;:0.74359,&quot;z&quot;:0.553583},{&quot;x&quot;:-0.025641,&quot;y&quot;:0.794872,&quot;z&quot;:0.632479},{&quot;x&quot;:-0.025641,&quot;y&quot;:0.846154,&quot;z&quot;:0.716634},{&quot;x&quot;:-0.025641,&quot;y&quot;:0.897436,&quot;z&quot;:0.806049},{&quot;x&quot;:-0.025641,&quot;y&quot;:0.948718,&quot;z&quot;:0.900723},{&quot;x&quot;:-0.025641,&quot;y&quot;:1,&quot;z&quot;:1.00066},{&quot;x&quot;:0.025641,&quot;y&quot;:-0.948718,&quot;z&quot;:0.900723},{&quot;x&quot;:0.025641,&quot;y&quot;:-1,&quot;z&quot;:1.00066},{&quot;x&quot;:0.025641,&quot;y&quot;:-0.897436,&quot;z&quot;:0.806049},{&quot;x&quot;:0.025641,&quot;y&quot;:-0.846154,&quot;z&quot;:0.716634},{&quot;x&quot;:0.025641,&quot;y&quot;:-0.794872,&quot;z&quot;:0.632479},{&quot;x&quot;:0.025641,&quot;y&quot;:-0.74359,&quot;z&quot;:0.553583},{&quot;x&quot;:0.025641,&quot;y&quot;:-0.692308,&quot;z&quot;:0.479947},{&quot;x&quot;:0.025641,&quot;y&quot;:-0.641026,&quot;z&quot;:0.411571},{&quot;x&quot;:0.025641,&quot;y&quot;:-0.589744,&quot;z&quot;:0.348455},{&quot;x&quot;:0.025641,&quot;y&quot;:-0.538462,&quot;z&quot;:0.290598},{&quot;x&quot;:0.025641,&quot;y&quot;:-0.487179,&quot;z&quot;:0.238001},{&quot;x&quot;:0.025641,&quot;y&quot;:-0.435897,&quot;z&quot;:0.190664},{&quot;x&quot;:0.025641,&quot;y&quot;:-0.384615,&quot;z&quot;:0.148586},{&quot;x&quot;:0.025641,&quot;y&quot;:-0.333333,&quot;z&quot;:0.111769},{&quot;x&quot;:0.025641,&quot;y&quot;:-0.282051,&quot;z&quot;:0.0802104},{&quot;x&quot;:0.025641,&quot;y&quot;:-0.230769,&quot;z&quot;:0.0539119},{&quot;x&quot;:0.025641,&quot;y&quot;:-0.179487,&quot;z&quot;:0.0328731},{&quot;x&quot;:0.025641,&quot;y&quot;:-0.128205,&quot;z&quot;:0.017094},{&quot;x&quot;:0.025641,&quot;y&quot;:-0.0769231,&quot;z&quot;:0.00657462},{&quot;x&quot;:0.025641,&quot;y&quot;:-0.025641,&quot;z&quot;:0.00131492},{&quot;x&quot;:0.025641,&quot;y&quot;:0.025641,&quot;z&quot;:0.00131492},{&quot;x&quot;:0.025641,&quot;y&quot;:0.0769231,&quot;z&quot;:0.00657462},{&quot;x&quot;:0.025641,&quot;y&quot;:0.128205,&quot;z&quot;:0.017094},{&quot;x&quot;:0.025641,&quot;y&quot;:0.179487,&quot;z&quot;:0.0328731},{&quot;x&quot;:0.025641,&quot;y&quot;:0.230769,&quot;z&quot;:0.0539119},{&quot;x&quot;:0.025641,&quot;y&quot;:0.282051,&quot;z&quot;:0.0802104},{&quot;x&quot;:0.025641,&quot;y&quot;:0.333333,&quot;z&quot;:0.111769},{&quot;x&quot;:0.025641,&quot;y&quot;:0.384615,&quot;z&quot;:0.148586},{&quot;x&quot;:0.025641,&quot;y&quot;:0.435897,&quot;z&quot;:0.190664},{&quot;x&quot;:0.025641,&quot;y&quot;:0.487179,&quot;z&quot;:0.238001},{&quot;x&quot;:0.025641,&quot;y&quot;:0.538462,&quot;z&quot;:0.290598},{&quot;x&quot;:0.025641,&quot;y&quot;:0.589744,&quot;z&quot;:0.348455},{&quot;x&quot;:0.025641,&quot;y&quot;:0.641026,&quot;z&quot;:0.411571},{&quot;x&quot;:0.025641,&quot;y&quot;:0.692308,&quot;z&quot;:0.479947},{&quot;x&quot;:0.025641,&quot;y&quot;:0.74359,&quot;z&quot;:0.553583},{&quot;x&quot;:0.025641,&quot;y&quot;:0.794872,&quot;z&quot;:0.632479},{&quot;x&quot;:0.025641,&quot;y&quot;:0.846154,&quot;z&quot;:0.716634},{&quot;x&quot;:0.025641,&quot;y&quot;:0.897436,&quot;z&quot;:0.806049},{&quot;x&quot;:0.025641,&quot;y&quot;:0.948718,&quot;z&quot;:0.900723},{&quot;x&quot;:0.025641,&quot;y&quot;:1,&quot;z&quot;:1.00066},{&quot;x&quot;:0.0769231,&quot;y&quot;:-0.948718,&quot;z&quot;:0.905983},{&quot;x&quot;:0.0769231,&quot;y&quot;:-1,&quot;z&quot;:1.00592},{&quot;x&quot;:0.0769231,&quot;y&quot;:-0.897436,&quot;z&quot;:0.811308},{&quot;x&quot;:0.0769231,&quot;y&quot;:-0.846154,&quot;z&quot;:0.721893},{&quot;x&quot;:0.0769231,&quot;y&quot;:-0.794872,&quot;z&quot;:0.637738},{&quot;x&quot;:0.0769231,&quot;y&quot;:-0.74359,&quot;z&quot;:0.558843},{&quot;x&quot;:0.0769231,&quot;y&quot;:-0.692308,&quot;z&quot;:0.485207},{&quot;x&quot;:0.0769231,&quot;y&quot;:-0.641026,&quot;z&quot;:0.416831},{&quot;x&quot;:0.0769231,&quot;y&quot;:-0.589744,&quot;z&quot;:0.353715},{&quot;x&quot;:0.0769231,&quot;y&quot;:-0.538462,&quot;z&quot;:0.295858},{&quot;x&quot;:0.0769231,&quot;y&quot;:-0.487179,&quot;z&quot;:0.243261},{&quot;x&quot;:0.0769231,&quot;y&quot;:-0.435897,&quot;z&quot;:0.195924},{&quot;x&quot;:0.0769231,&quot;y&quot;:-0.384615,&quot;z&quot;:0.153846},{&quot;x&quot;:0.0769231,&quot;y&quot;:-0.333333,&quot;z&quot;:0.117028},{&quot;x&quot;:0.0769231,&quot;y&quot;:-0.282051,&quot;z&quot;:0.0854701},{&quot;x&quot;:0.0769231,&quot;y&quot;:-0.230769,&quot;z&quot;:0.0591716},{&quot;x&quot;:0.0769231,&quot;y&quot;:-0.179487,&quot;z&quot;:0.0381328},{&quot;x&quot;:0.0769231,&quot;y&quot;:-0.128205,&quot;z&quot;:0.0223537},{&quot;x&quot;:0.0769231,&quot;y&quot;:-0.0769231,&quot;z&quot;:0.0118343},{&quot;x&quot;:0.0769231,&quot;y&quot;:-0.025641,&quot;z&quot;:0.00657462},{&quot;x&quot;:0.0769231,&quot;y&quot;:0.025641,&quot;z&quot;:0.00657462},{&quot;x&quot;:0.0769231,&quot;y&quot;:0.0769231,&quot;z&quot;:0.0118343},{&quot;x&quot;:0.0769231,&quot;y&quot;:0.128205,&quot;z&quot;:0.0223537},{&quot;x&quot;:0.0769231,&quot;y&quot;:0.179487,&quot;z&quot;:0.0381328},{&quot;x&quot;:0.0769231,&quot;y&quot;:0.230769,&quot;z&quot;:0.0591716},{&quot;x&quot;:0.0769231,&quot;y&quot;:0.282051,&quot;z&quot;:0.0854701},{&quot;x&quot;:0.0769231,&quot;y&quot;:0.333333,&quot;z&quot;:0.117028},{&quot;x&quot;:0.0769231,&quot;y&quot;:0.384615,&quot;z&quot;:0.153846},{&quot;x&quot;:0.0769231,&quot;y&quot;:0.435897,&quot;z&quot;:0.195924},{&quot;x&quot;:0.0769231,&quot;y&quot;:0.487179,&quot;z&quot;:0.243261},{&quot;x&quot;:0.0769231,&quot;y&quot;:0.538462,&quot;z&quot;:0.295858},{&quot;x&quot;:0.0769231,&quot;y&quot;:0.589744,&quot;z&quot;:0.353715},{&quot;x&quot;:0.0769231,&quot;y&quot;:0.641026,&quot;z&quot;:0.416831},{&quot;x&quot;:0.0769231,&quot;y&quot;:0.692308,&quot;z&quot;:0.485207},{&quot;x&quot;:0.0769231,&quot;y&quot;:0.74359,&quot;z&quot;:0.558843},{&quot;x&quot;:0.0769231,&quot;y&quot;:0.794872,&quot;z&quot;:0.637738},{&quot;x&quot;:0.0769231,&quot;y&quot;:0.846154,&quot;z&quot;:0.721893},{&quot;x&quot;:0.0769231,&quot;y&quot;:0.897436,&quot;z&quot;:0.811308},{&quot;x&quot;:0.0769231,&quot;y&quot;:0.948718,&quot;z&quot;:0.905983},{&quot;x&quot;:0.0769231,&quot;y&quot;:1,&quot;z&quot;:1.00592},{&quot;x&quot;:0.128205,&quot;y&quot;:-0.948718,&quot;z&quot;:0.916502},{&quot;x&quot;:0.128205,&quot;y&quot;:-1,&quot;z&quot;:1.01644},{&quot;x&quot;:0.128205,&quot;y&quot;:-0.897436,&quot;z&quot;:0.821828},{&quot;x&quot;:0.128205,&quot;y&quot;:-0.846154,&quot;z&quot;:0.732413},{&quot;x&quot;:0.128205,&quot;y&quot;:-0.794872,&quot;z&quot;:0.648258},{&quot;x&quot;:0.128205,&quot;y&quot;:-0.74359,&quot;z&quot;:0.569362},{&quot;x&quot;:0.128205,&quot;y&quot;:-0.692308,&quot;z&quot;:0.495726},{&quot;x&quot;:0.128205,&quot;y&quot;:-0.641026,&quot;z&quot;:0.42735},{&quot;x&quot;:0.128205,&quot;y&quot;:-0.589744,&quot;z&quot;:0.364234},{&quot;x&quot;:0.128205,&quot;y&quot;:-0.538462,&quot;z&quot;:0.306377},{&quot;x&quot;:0.128205,&quot;y&quot;:-0.487179,&quot;z&quot;:0.25378},{&quot;x&quot;:0.128205,&quot;y&quot;:-0.435897,&quot;z&quot;:0.206443},{&quot;x&quot;:0.128205,&quot;y&quot;:-0.384615,&quot;z&quot;:0.164366},{&quot;x&quot;:0.128205,&quot;y&quot;:-0.333333,&quot;z&quot;:0.127548},{&quot;x&quot;:0.128205,&quot;y&quot;:-0.282051,&quot;z&quot;:0.0959895},{&quot;x&quot;:0.128205,&quot;y&quot;:-0.230769,&quot;z&quot;:0.069691},{&quot;x&quot;:0.128205,&quot;y&quot;:-0.179487,&quot;z&quot;:0.0486522},{&quot;x&quot;:0.128205,&quot;y&quot;:-0.128205,&quot;z&quot;:0.0328731},{&quot;x&quot;:0.128205,&quot;y&quot;:-0.0769231,&quot;z&quot;:0.0223537},{&quot;x&quot;:0.128205,&quot;y&quot;:-0.025641,&quot;z&quot;:0.017094},{&quot;x&quot;:0.128205,&quot;y&quot;:0.025641,&quot;z&quot;:0.017094},{&quot;x&quot;:0.128205,&quot;y&quot;:0.0769231,&quot;z&quot;:0.0223537},{&quot;x&quot;:0.128205,&quot;y&quot;:0.128205,&quot;z&quot;:0.0328731},{&quot;x&quot;:0.128205,&quot;y&quot;:0.179487,&quot;z&quot;:0.0486522},{&quot;x&quot;:0.128205,&quot;y&quot;:0.230769,&quot;z&quot;:0.069691},{&quot;x&quot;:0.128205,&quot;y&quot;:0.282051,&quot;z&quot;:0.0959895},{&quot;x&quot;:0.128205,&quot;y&quot;:0.333333,&quot;z&quot;:0.127548},{&quot;x&quot;:0.128205,&quot;y&quot;:0.384615,&quot;z&quot;:0.164366},{&quot;x&quot;:0.128205,&quot;y&quot;:0.435897,&quot;z&quot;:0.206443},{&quot;x&quot;:0.128205,&quot;y&quot;:0.487179,&quot;z&quot;:0.25378},{&quot;x&quot;:0.128205,&quot;y&quot;:0.538462,&quot;z&quot;:0.306377},{&quot;x&quot;:0.128205,&quot;y&quot;:0.589744,&quot;z&quot;:0.364234},{&quot;x&quot;:0.128205,&quot;y&quot;:0.641026,&quot;z&quot;:0.42735},{&quot;x&quot;:0.128205,&quot;y&quot;:0.692308,&quot;z&quot;:0.495726},{&quot;x&quot;:0.128205,&quot;y&quot;:0.74359,&quot;z&quot;:0.569362},{&quot;x&quot;:0.128205,&quot;y&quot;:0.794872,&quot;z&quot;:0.648258},{&quot;x&quot;:0.128205,&quot;y&quot;:0.846154,&quot;z&quot;:0.732413},{&quot;x&quot;:0.128205,&quot;y&quot;:0.897436,&quot;z&quot;:0.821828},{&quot;x&quot;:0.128205,&quot;y&quot;:0.948718,&quot;z&quot;:0.916502},{&quot;x&quot;:0.128205,&quot;y&quot;:1,&quot;z&quot;:1.01644},{&quot;x&quot;:0.179487,&quot;y&quot;:-0.948718,&quot;z&quot;:0.932281},{&quot;x&quot;:0.179487,&quot;y&quot;:-1,&quot;z&quot;:1.03222},{&quot;x&quot;:0.179487,&quot;y&quot;:-0.897436,&quot;z&quot;:0.837607},{&quot;x&quot;:0.179487,&quot;y&quot;:-0.846154,&quot;z&quot;:0.748192},{&quot;x&quot;:0.179487,&quot;y&quot;:-0.794872,&quot;z&quot;:0.664037},{&quot;x&quot;:0.179487,&quot;y&quot;:-0.74359,&quot;z&quot;:0.585141},{&quot;x&quot;:0.179487,&quot;y&quot;:-0.692308,&quot;z&quot;:0.511506},{&quot;x&quot;:0.179487,&quot;y&quot;:-0.641026,&quot;z&quot;:0.44313},{&quot;x&quot;:0.179487,&quot;y&quot;:-0.589744,&quot;z&quot;:0.380013},{&quot;x&quot;:0.179487,&quot;y&quot;:-0.538462,&quot;z&quot;:0.322156},{&quot;x&quot;:0.179487,&quot;y&quot;:-0.487179,&quot;z&quot;:0.26956},{&quot;x&quot;:0.179487,&quot;y&quot;:-0.435897,&quot;z&quot;:0.222222},{&quot;x&quot;:0.179487,&quot;y&quot;:-0.384615,&quot;z&quot;:0.180145},{&quot;x&quot;:0.179487,&quot;y&quot;:-0.333333,&quot;z&quot;:0.143327},{&quot;x&quot;:0.179487,&quot;y&quot;:-0.282051,&quot;z&quot;:0.111769},{&quot;x&quot;:0.179487,&quot;y&quot;:-0.230769,&quot;z&quot;:0.0854701},{&quot;x&quot;:0.179487,&quot;y&quot;:-0.179487,&quot;z&quot;:0.0644313},{&quot;x&quot;:0.179487,&quot;y&quot;:-0.128205,&quot;z&quot;:0.0486522},{&quot;x&quot;:0.179487,&quot;y&quot;:-0.0769231,&quot;z&quot;:0.0381328},{&quot;x&quot;:0.179487,&quot;y&quot;:-0.025641,&quot;z&quot;:0.0328731},{&quot;x&quot;:0.179487,&quot;y&quot;:0.025641,&quot;z&quot;:0.0328731},{&quot;x&quot;:0.179487,&quot;y&quot;:0.0769231,&quot;z&quot;:0.0381328},{&quot;x&quot;:0.179487,&quot;y&quot;:0.128205,&quot;z&quot;:0.0486522},{&quot;x&quot;:0.179487,&quot;y&quot;:0.179487,&quot;z&quot;:0.0644313},{&quot;x&quot;:0.179487,&quot;y&quot;:0.230769,&quot;z&quot;:0.0854701},{&quot;x&quot;:0.179487,&quot;y&quot;:0.282051,&quot;z&quot;:0.111769},{&quot;x&quot;:0.179487,&quot;y&quot;:0.333333,&quot;z&quot;:0.143327},{&quot;x&quot;:0.179487,&quot;y&quot;:0.384615,&quot;z&quot;:0.180145},{&quot;x&quot;:0.179487,&quot;y&quot;:0.435897,&quot;z&quot;:0.222222},{&quot;x&quot;:0.179487,&quot;y&quot;:0.487179,&quot;z&quot;:0.26956},{&quot;x&quot;:0.179487,&quot;y&quot;:0.538462,&quot;z&quot;:0.322156},{&quot;x&quot;:0.179487,&quot;y&quot;:0.589744,&quot;z&quot;:0.380013},{&quot;x&quot;:0.179487,&quot;y&quot;:0.641026,&quot;z&quot;:0.44313},{&quot;x&quot;:0.179487,&quot;y&quot;:0.692308,&quot;z&quot;:0.511506},{&quot;x&quot;:0.179487,&quot;y&quot;:0.74359,&quot;z&quot;:0.585141},{&quot;x&quot;:0.179487,&quot;y&quot;:0.794872,&quot;z&quot;:0.664037},{&quot;x&quot;:0.179487,&quot;y&quot;:0.846154,&quot;z&quot;:0.748192},{&quot;x&quot;:0.179487,&quot;y&quot;:0.897436,&quot;z&quot;:0.837607},{&quot;x&quot;:0.179487,&quot;y&quot;:0.948718,&quot;z&quot;:0.932281},{&quot;x&quot;:0.179487,&quot;y&quot;:1,&quot;z&quot;:1.03222},{&quot;x&quot;:0.230769,&quot;y&quot;:-0.948718,&quot;z&quot;:0.95332},{&quot;x&quot;:0.230769,&quot;y&quot;:-1,&quot;z&quot;:1.05325},{&quot;x&quot;:0.230769,&quot;y&quot;:-0.897436,&quot;z&quot;:0.858646},{&quot;x&quot;:0.230769,&quot;y&quot;:-0.846154,&quot;z&quot;:0.769231},{&quot;x&quot;:0.230769,&quot;y&quot;:-0.794872,&quot;z&quot;:0.685076},{&quot;x&quot;:0.230769,&quot;y&quot;:-0.74359,&quot;z&quot;:0.60618},{&quot;x&quot;:0.230769,&quot;y&quot;:-0.692308,&quot;z&quot;:0.532544},{&quot;x&quot;:0.230769,&quot;y&quot;:-0.641026,&quot;z&quot;:0.464168},{&quot;x&quot;:0.230769,&quot;y&quot;:-0.589744,&quot;z&quot;:0.401052},{&quot;x&quot;:0.230769,&quot;y&quot;:-0.538462,&quot;z&quot;:0.343195},{&quot;x&quot;:0.230769,&quot;y&quot;:-0.487179,&quot;z&quot;:0.290598},{&quot;x&quot;:0.230769,&quot;y&quot;:-0.435897,&quot;z&quot;:0.243261},{&quot;x&quot;:0.230769,&quot;y&quot;:-0.384615,&quot;z&quot;:0.201183},{&quot;x&quot;:0.230769,&quot;y&quot;:-0.333333,&quot;z&quot;:0.164366},{&quot;x&quot;:0.230769,&quot;y&quot;:-0.282051,&quot;z&quot;:0.132807},{&quot;x&quot;:0.230769,&quot;y&quot;:-0.230769,&quot;z&quot;:0.106509},{&quot;x&quot;:0.230769,&quot;y&quot;:-0.179487,&quot;z&quot;:0.0854701},{&quot;x&quot;:0.230769,&quot;y&quot;:-0.128205,&quot;z&quot;:0.069691},{&quot;x&quot;:0.230769,&quot;y&quot;:-0.0769231,&quot;z&quot;:0.0591716},{&quot;x&quot;:0.230769,&quot;y&quot;:-0.025641,&quot;z&quot;:0.0539119},{&quot;x&quot;:0.230769,&quot;y&quot;:0.025641,&quot;z&quot;:0.0539119},{&quot;x&quot;:0.230769,&quot;y&quot;:0.0769231,&quot;z&quot;:0.0591716},{&quot;x&quot;:0.230769,&quot;y&quot;:0.128205,&quot;z&quot;:0.069691},{&quot;x&quot;:0.230769,&quot;y&quot;:0.179487,&quot;z&quot;:0.0854701},{&quot;x&quot;:0.230769,&quot;y&quot;:0.230769,&quot;z&quot;:0.106509},{&quot;x&quot;:0.230769,&quot;y&quot;:0.282051,&quot;z&quot;:0.132807},{&quot;x&quot;:0.230769,&quot;y&quot;:0.333333,&quot;z&quot;:0.164366},{&quot;x&quot;:0.230769,&quot;y&quot;:0.384615,&quot;z&quot;:0.201183},{&quot;x&quot;:0.230769,&quot;y&quot;:0.435897,&quot;z&quot;:0.243261},{&quot;x&quot;:0.230769,&quot;y&quot;:0.487179,&quot;z&quot;:0.290598},{&quot;x&quot;:0.230769,&quot;y&quot;:0.538462,&quot;z&quot;:0.343195},{&quot;x&quot;:0.230769,&quot;y&quot;:0.589744,&quot;z&quot;:0.401052},{&quot;x&quot;:0.230769,&quot;y&quot;:0.641026,&quot;z&quot;:0.464168},{&quot;x&quot;:0.230769,&quot;y&quot;:0.692308,&quot;z&quot;:0.532544},{&quot;x&quot;:0.230769,&quot;y&quot;:0.74359,&quot;z&quot;:0.60618},{&quot;x&quot;:0.230769,&quot;y&quot;:0.794872,&quot;z&quot;:0.685076},{&quot;x&quot;:0.230769,&quot;y&quot;:0.846154,&quot;z&quot;:0.769231},{&quot;x&quot;:0.230769,&quot;y&quot;:0.897436,&quot;z&quot;:0.858646},{&quot;x&quot;:0.230769,&quot;y&quot;:0.948718,&quot;z&quot;:0.95332},{&quot;x&quot;:0.230769,&quot;y&quot;:1,&quot;z&quot;:1.05325},{&quot;x&quot;:0.282051,&quot;y&quot;:-0.948718,&quot;z&quot;:0.979619},{&quot;x&quot;:0.282051,&quot;y&quot;:-1,&quot;z&quot;:1.07955},{&quot;x&quot;:0.282051,&quot;y&quot;:-0.897436,&quot;z&quot;:0.884944},{&quot;x&quot;:0.282051,&quot;y&quot;:-0.846154,&quot;z&quot;:0.795529},{&quot;x&quot;:0.282051,&quot;y&quot;:-0.794872,&quot;z&quot;:0.711374},{&quot;x&quot;:0.282051,&quot;y&quot;:-0.74359,&quot;z&quot;:0.632479},{&quot;x&quot;:0.282051,&quot;y&quot;:-0.692308,&quot;z&quot;:0.558843},{&quot;x&quot;:0.282051,&quot;y&quot;:-0.641026,&quot;z&quot;:0.490467},{&quot;x&quot;:0.282051,&quot;y&quot;:-0.589744,&quot;z&quot;:0.42735},{&quot;x&quot;:0.282051,&quot;y&quot;:-0.538462,&quot;z&quot;:0.369494},{&quot;x&quot;:0.282051,&quot;y&quot;:-0.487179,&quot;z&quot;:0.316897},{&quot;x&quot;:0.282051,&quot;y&quot;:-0.435897,&quot;z&quot;:0.26956},{&quot;x&quot;:0.282051,&quot;y&quot;:-0.384615,&quot;z&quot;:0.227482},{&quot;x&quot;:0.282051,&quot;y&quot;:-0.333333,&quot;z&quot;:0.190664},{&quot;x&quot;:0.282051,&quot;y&quot;:-0.282051,&quot;z&quot;:0.159106},{&quot;x&quot;:0.282051,&quot;y&quot;:-0.230769,&quot;z&quot;:0.132807},{&quot;x&quot;:0.282051,&quot;y&quot;:-0.179487,&quot;z&quot;:0.111769},{&quot;x&quot;:0.282051,&quot;y&quot;:-0.128205,&quot;z&quot;:0.0959895},{&quot;x&quot;:0.282051,&quot;y&quot;:-0.0769231,&quot;z&quot;:0.0854701},{&quot;x&quot;:0.282051,&quot;y&quot;:-0.025641,&quot;z&quot;:0.0802104},{&quot;x&quot;:0.282051,&quot;y&quot;:0.025641,&quot;z&quot;:0.0802104},{&quot;x&quot;:0.282051,&quot;y&quot;:0.0769231,&quot;z&quot;:0.0854701},{&quot;x&quot;:0.282051,&quot;y&quot;:0.128205,&quot;z&quot;:0.0959895},{&quot;x&quot;:0.282051,&quot;y&quot;:0.179487,&quot;z&quot;:0.111769},{&quot;x&quot;:0.282051,&quot;y&quot;:0.230769,&quot;z&quot;:0.132807},{&quot;x&quot;:0.282051,&quot;y&quot;:0.282051,&quot;z&quot;:0.159106},{&quot;x&quot;:0.282051,&quot;y&quot;:0.333333,&quot;z&quot;:0.190664},{&quot;x&quot;:0.282051,&quot;y&quot;:0.384615,&quot;z&quot;:0.227482},{&quot;x&quot;:0.282051,&quot;y&quot;:0.435897,&quot;z&quot;:0.26956},{&quot;x&quot;:0.282051,&quot;y&quot;:0.487179,&quot;z&quot;:0.316897},{&quot;x&quot;:0.282051,&quot;y&quot;:0.538462,&quot;z&quot;:0.369494},{&quot;x&quot;:0.282051,&quot;y&quot;:0.589744,&quot;z&quot;:0.42735},{&quot;x&quot;:0.282051,&quot;y&quot;:0.641026,&quot;z&quot;:0.490467},{&quot;x&quot;:0.282051,&quot;y&quot;:0.692308,&quot;z&quot;:0.558843},{&quot;x&quot;:0.282051,&quot;y&quot;:0.74359,&quot;z&quot;:0.632479},{&quot;x&quot;:0.282051,&quot;y&quot;:0.794872,&quot;z&quot;:0.711374},{&quot;x&quot;:0.282051,&quot;y&quot;:0.846154,&quot;z&quot;:0.795529},{&quot;x&quot;:0.282051,&quot;y&quot;:0.897436,&quot;z&quot;:0.884944},{&quot;x&quot;:0.282051,&quot;y&quot;:0.948718,&quot;z&quot;:0.979619},{&quot;x&quot;:0.282051,&quot;y&quot;:1,&quot;z&quot;:1.07955},{&quot;x&quot;:0.333333,&quot;y&quot;:-0.948718,&quot;z&quot;:1.01118},{&quot;x&quot;:0.333333,&quot;y&quot;:-1,&quot;z&quot;:1.11111},{&quot;x&quot;:0.333333,&quot;y&quot;:-0.897436,&quot;z&quot;:0.916502},{&quot;x&quot;:0.333333,&quot;y&quot;:-0.846154,&quot;z&quot;:0.827087},{&quot;x&quot;:0.333333,&quot;y&quot;:-0.794872,&quot;z&quot;:0.742932},{&quot;x&quot;:0.333333,&quot;y&quot;:-0.74359,&quot;z&quot;:0.664037},{&quot;x&quot;:0.333333,&quot;y&quot;:-0.692308,&quot;z&quot;:0.590401},{&quot;x&quot;:0.333333,&quot;y&quot;:-0.641026,&quot;z&quot;:0.522025},{&quot;x&quot;:0.333333,&quot;y&quot;:-0.589744,&quot;z&quot;:0.458909},{&quot;x&quot;:0.333333,&quot;y&quot;:-0.538462,&quot;z&quot;:0.401052},{&quot;x&quot;:0.333333,&quot;y&quot;:-0.487179,&quot;z&quot;:0.348455},{&quot;x&quot;:0.333333,&quot;y&quot;:-0.435897,&quot;z&quot;:0.301118},{&quot;x&quot;:0.333333,&quot;y&quot;:-0.384615,&quot;z&quot;:0.25904},{&quot;x&quot;:0.333333,&quot;y&quot;:-0.333333,&quot;z&quot;:0.222222},{&quot;x&quot;:0.333333,&quot;y&quot;:-0.282051,&quot;z&quot;:0.190664},{&quot;x&quot;:0.333333,&quot;y&quot;:-0.230769,&quot;z&quot;:0.164366},{&quot;x&quot;:0.333333,&quot;y&quot;:-0.179487,&quot;z&quot;:0.143327},{&quot;x&quot;:0.333333,&quot;y&quot;:-0.128205,&quot;z&quot;:0.127548},{&quot;x&quot;:0.333333,&quot;y&quot;:-0.0769231,&quot;z&quot;:0.117028},{&quot;x&quot;:0.333333,&quot;y&quot;:-0.025641,&quot;z&quot;:0.111769},{&quot;x&quot;:0.333333,&quot;y&quot;:0.025641,&quot;z&quot;:0.111769},{&quot;x&quot;:0.333333,&quot;y&quot;:0.0769231,&quot;z&quot;:0.117028},{&quot;x&quot;:0.333333,&quot;y&quot;:0.128205,&quot;z&quot;:0.127548},{&quot;x&quot;:0.333333,&quot;y&quot;:0.179487,&quot;z&quot;:0.143327},{&quot;x&quot;:0.333333,&quot;y&quot;:0.230769,&quot;z&quot;:0.164366},{&quot;x&quot;:0.333333,&quot;y&quot;:0.282051,&quot;z&quot;:0.190664},{&quot;x&quot;:0.333333,&quot;y&quot;:0.333333,&quot;z&quot;:0.222222},{&quot;x&quot;:0.333333,&quot;y&quot;:0.384615,&quot;z&quot;:0.25904},{&quot;x&quot;:0.333333,&quot;y&quot;:0.435897,&quot;z&quot;:0.301118},{&quot;x&quot;:0.333333,&quot;y&quot;:0.487179,&quot;z&quot;:0.348455},{&quot;x&quot;:0.333333,&quot;y&quot;:0.538462,&quot;z&quot;:0.401052},{&quot;x&quot;:0.333333,&quot;y&quot;:0.589744,&quot;z&quot;:0.458909},{&quot;x&quot;:0.333333,&quot;y&quot;:0.641026,&quot;z&quot;:0.522025},{&quot;x&quot;:0.333333,&quot;y&quot;:0.692308,&quot;z&quot;:0.590401},{&quot;x&quot;:0.333333,&quot;y&quot;:0.74359,&quot;z&quot;:0.664037},{&quot;x&quot;:0.333333,&quot;y&quot;:0.794872,&quot;z&quot;:0.742932},{&quot;x&quot;:0.333333,&quot;y&quot;:0.846154,&quot;z&quot;:0.827087},{&quot;x&quot;:0.333333,&quot;y&quot;:0.897436,&quot;z&quot;:0.916502},{&quot;x&quot;:0.333333,&quot;y&quot;:0.948718,&quot;z&quot;:1.01118},{&quot;x&quot;:0.333333,&quot;y&quot;:1,&quot;z&quot;:1.11111},{&quot;x&quot;:0.384615,&quot;y&quot;:-0.948718,&quot;z&quot;:1.04799},{&quot;x&quot;:0.384615,&quot;y&quot;:-1,&quot;z&quot;:1.14793},{&quot;x&quot;:0.384615,&quot;y&quot;:-0.897436,&quot;z&quot;:0.95332},{&quot;x&quot;:0.384615,&quot;y&quot;:-0.846154,&quot;z&quot;:0.863905},{&quot;x&quot;:0.384615,&quot;y&quot;:-0.794872,&quot;z&quot;:0.77975},{&quot;x&quot;:0.384615,&quot;y&quot;:-0.74359,&quot;z&quot;:0.700855},{&quot;x&quot;:0.384615,&quot;y&quot;:-0.692308,&quot;z&quot;:0.627219},{&quot;x&quot;:0.384615,&quot;y&quot;:-0.641026,&quot;z&quot;:0.558843},{&quot;x&quot;:0.384615,&quot;y&quot;:-0.589744,&quot;z&quot;:0.495726},{&quot;x&quot;:0.384615,&quot;y&quot;:-0.538462,&quot;z&quot;:0.43787},{&quot;x&quot;:0.384615,&quot;y&quot;:-0.487179,&quot;z&quot;:0.385273},{&quot;x&quot;:0.384615,&quot;y&quot;:-0.435897,&quot;z&quot;:0.337936},{&quot;x&quot;:0.384615,&quot;y&quot;:-0.384615,&quot;z&quot;:0.295858},{&quot;x&quot;:0.384615,&quot;y&quot;:-0.333333,&quot;z&quot;:0.25904},{&quot;x&quot;:0.384615,&quot;y&quot;:-0.282051,&quot;z&quot;:0.227482},{&quot;x&quot;:0.384615,&quot;y&quot;:-0.230769,&quot;z&quot;:0.201183},{&quot;x&quot;:0.384615,&quot;y&quot;:-0.179487,&quot;z&quot;:0.180145},{&quot;x&quot;:0.384615,&quot;y&quot;:-0.128205,&quot;z&quot;:0.164366},{&quot;x&quot;:0.384615,&quot;y&quot;:-0.0769231,&quot;z&quot;:0.153846},{&quot;x&quot;:0.384615,&quot;y&quot;:-0.025641,&quot;z&quot;:0.148586},{&quot;x&quot;:0.384615,&quot;y&quot;:0.025641,&quot;z&quot;:0.148586},{&quot;x&quot;:0.384615,&quot;y&quot;:0.0769231,&quot;z&quot;:0.153846},{&quot;x&quot;:0.384615,&quot;y&quot;:0.128205,&quot;z&quot;:0.164366},{&quot;x&quot;:0.384615,&quot;y&quot;:0.179487,&quot;z&quot;:0.180145},{&quot;x&quot;:0.384615,&quot;y&quot;:0.230769,&quot;z&quot;:0.201183},{&quot;x&quot;:0.384615,&quot;y&quot;:0.282051,&quot;z&quot;:0.227482},{&quot;x&quot;:0.384615,&quot;y&quot;:0.333333,&quot;z&quot;:0.25904},{&quot;x&quot;:0.384615,&quot;y&quot;:0.384615,&quot;z&quot;:0.295858},{&quot;x&quot;:0.384615,&quot;y&quot;:0.435897,&quot;z&quot;:0.337936},{&quot;x&quot;:0.384615,&quot;y&quot;:0.487179,&quot;z&quot;:0.385273},{&quot;x&quot;:0.384615,&quot;y&quot;:0.538462,&quot;z&quot;:0.43787},{&quot;x&quot;:0.384615,&quot;y&quot;:0.589744,&quot;z&quot;:0.495726},{&quot;x&quot;:0.384615,&quot;y&quot;:0.641026,&quot;z&quot;:0.558843},{&quot;x&quot;:0.384615,&quot;y&quot;:0.692308,&quot;z&quot;:0.627219},{&quot;x&quot;:0.384615,&quot;y&quot;:0.74359,&quot;z&quot;:0.700855},{&quot;x&quot;:0.384615,&quot;y&quot;:0.794872,&quot;z&quot;:0.77975},{&quot;x&quot;:0.384615,&quot;y&quot;:0.846154,&quot;z&quot;:0.863905},{&quot;x&quot;:0.384615,&quot;y&quot;:0.897436,&quot;z&quot;:0.95332},{&quot;x&quot;:0.384615,&quot;y&quot;:0.948718,&quot;z&quot;:1.04799},{&quot;x&quot;:0.384615,&quot;y&quot;:1,&quot;z&quot;:1.14793},{&quot;x&quot;:0.435897,&quot;y&quot;:-0.948718,&quot;z&quot;:1.09007},{&quot;x&quot;:0.435897,&quot;y&quot;:-1,&quot;z&quot;:1.19001},{&quot;x&quot;:0.435897,&quot;y&quot;:-0.897436,&quot;z&quot;:0.995398},{&quot;x&quot;:0.435897,&quot;y&quot;:-0.846154,&quot;z&quot;:0.905983},{&quot;x&quot;:0.435897,&quot;y&quot;:-0.794872,&quot;z&quot;:0.821828},{&quot;x&quot;:0.435897,&quot;y&quot;:-0.74359,&quot;z&quot;:0.742932},{&quot;x&quot;:0.435897,&quot;y&quot;:-0.692308,&quot;z&quot;:0.669297},{&quot;x&quot;:0.435897,&quot;y&quot;:-0.641026,&quot;z&quot;:0.60092},{&quot;x&quot;:0.435897,&quot;y&quot;:-0.589744,&quot;z&quot;:0.537804},{&quot;x&quot;:0.435897,&quot;y&quot;:-0.538462,&quot;z&quot;:0.479947},{&quot;x&quot;:0.435897,&quot;y&quot;:-0.487179,&quot;z&quot;:0.42735},{&quot;x&quot;:0.435897,&quot;y&quot;:-0.435897,&quot;z&quot;:0.380013},{&quot;x&quot;:0.435897,&quot;y&quot;:-0.384615,&quot;z&quot;:0.337936},{&quot;x&quot;:0.435897,&quot;y&quot;:-0.333333,&quot;z&quot;:0.301118},{&quot;x&quot;:0.435897,&quot;y&quot;:-0.282051,&quot;z&quot;:0.26956},{&quot;x&quot;:0.435897,&quot;y&quot;:-0.230769,&quot;z&quot;:0.243261},{&quot;x&quot;:0.435897,&quot;y&quot;:-0.179487,&quot;z&quot;:0.222222},{&quot;x&quot;:0.435897,&quot;y&quot;:-0.128205,&quot;z&quot;:0.206443},{&quot;x&quot;:0.435897,&quot;y&quot;:-0.0769231,&quot;z&quot;:0.195924},{&quot;x&quot;:0.435897,&quot;y&quot;:-0.025641,&quot;z&quot;:0.190664},{&quot;x&quot;:0.435897,&quot;y&quot;:0.025641,&quot;z&quot;:0.190664},{&quot;x&quot;:0.435897,&quot;y&quot;:0.0769231,&quot;z&quot;:0.195924},{&quot;x&quot;:0.435897,&quot;y&quot;:0.128205,&quot;z&quot;:0.206443},{&quot;x&quot;:0.435897,&quot;y&quot;:0.179487,&quot;z&quot;:0.222222},{&quot;x&quot;:0.435897,&quot;y&quot;:0.230769,&quot;z&quot;:0.243261},{&quot;x&quot;:0.435897,&quot;y&quot;:0.282051,&quot;z&quot;:0.26956},{&quot;x&quot;:0.435897,&quot;y&quot;:0.333333,&quot;z&quot;:0.301118},{&quot;x&quot;:0.435897,&quot;y&quot;:0.384615,&quot;z&quot;:0.337936},{&quot;x&quot;:0.435897,&quot;y&quot;:0.435897,&quot;z&quot;:0.380013},{&quot;x&quot;:0.435897,&quot;y&quot;:0.487179,&quot;z&quot;:0.42735},{&quot;x&quot;:0.435897,&quot;y&quot;:0.538462,&quot;z&quot;:0.479947},{&quot;x&quot;:0.435897,&quot;y&quot;:0.589744,&quot;z&quot;:0.537804},{&quot;x&quot;:0.435897,&quot;y&quot;:0.641026,&quot;z&quot;:0.60092},{&quot;x&quot;:0.435897,&quot;y&quot;:0.692308,&quot;z&quot;:0.669297},{&quot;x&quot;:0.435897,&quot;y&quot;:0.74359,&quot;z&quot;:0.742932},{&quot;x&quot;:0.435897,&quot;y&quot;:0.794872,&quot;z&quot;:0.821828},{&quot;x&quot;:0.435897,&quot;y&quot;:0.846154,&quot;z&quot;:0.905983},{&quot;x&quot;:0.435897,&quot;y&quot;:0.897436,&quot;z&quot;:0.995398},{&quot;x&quot;:0.435897,&quot;y&quot;:0.948718,&quot;z&quot;:1.09007},{&quot;x&quot;:0.435897,&quot;y&quot;:1,&quot;z&quot;:1.19001},{&quot;x&quot;:0.487179,&quot;y&quot;:-0.948718,&quot;z&quot;:1.13741},{&quot;x&quot;:0.487179,&quot;y&quot;:-1,&quot;z&quot;:1.23734},{&quot;x&quot;:0.487179,&quot;y&quot;:-0.897436,&quot;z&quot;:1.04274},{&quot;x&quot;:0.487179,&quot;y&quot;:-0.846154,&quot;z&quot;:0.95332},{&quot;x&quot;:0.487179,&quot;y&quot;:-0.794872,&quot;z&quot;:0.869165},{&quot;x&quot;:0.487179,&quot;y&quot;:-0.74359,&quot;z&quot;:0.79027},{&quot;x&quot;:0.487179,&quot;y&quot;:-0.692308,&quot;z&quot;:0.716634},{&quot;x&quot;:0.487179,&quot;y&quot;:-0.641026,&quot;z&quot;:0.648258},{&quot;x&quot;:0.487179,&quot;y&quot;:-0.589744,&quot;z&quot;:0.585141},{&quot;x&quot;:0.487179,&quot;y&quot;:-0.538462,&quot;z&quot;:0.527285},{&quot;x&quot;:0.487179,&quot;y&quot;:-0.487179,&quot;z&quot;:0.474688},{&quot;x&quot;:0.487179,&quot;y&quot;:-0.435897,&quot;z&quot;:0.42735},{&quot;x&quot;:0.487179,&quot;y&quot;:-0.384615,&quot;z&quot;:0.385273},{&quot;x&quot;:0.487179,&quot;y&quot;:-0.333333,&quot;z&quot;:0.348455},{&quot;x&quot;:0.487179,&quot;y&quot;:-0.282051,&quot;z&quot;:0.316897},{&quot;x&quot;:0.487179,&quot;y&quot;:-0.230769,&quot;z&quot;:0.290598},{&quot;x&quot;:0.487179,&quot;y&quot;:-0.179487,&quot;z&quot;:0.26956},{&quot;x&quot;:0.487179,&quot;y&quot;:-0.128205,&quot;z&quot;:0.25378},{&quot;x&quot;:0.487179,&quot;y&quot;:-0.0769231,&quot;z&quot;:0.243261},{&quot;x&quot;:0.487179,&quot;y&quot;:-0.025641,&quot;z&quot;:0.238001},{&quot;x&quot;:0.487179,&quot;y&quot;:0.025641,&quot;z&quot;:0.238001},{&quot;x&quot;:0.487179,&quot;y&quot;:0.0769231,&quot;z&quot;:0.243261},{&quot;x&quot;:0.487179,&quot;y&quot;:0.128205,&quot;z&quot;:0.25378},{&quot;x&quot;:0.487179,&quot;y&quot;:0.179487,&quot;z&quot;:0.26956},{&quot;x&quot;:0.487179,&quot;y&quot;:0.230769,&quot;z&quot;:0.290598},{&quot;x&quot;:0.487179,&quot;y&quot;:0.282051,&quot;z&quot;:0.316897},{&quot;x&quot;:0.487179,&quot;y&quot;:0.333333,&quot;z&quot;:0.348455},{&quot;x&quot;:0.487179,&quot;y&quot;:0.384615,&quot;z&quot;:0.385273},{&quot;x&quot;:0.487179,&quot;y&quot;:0.435897,&quot;z&quot;:0.42735},{&quot;x&quot;:0.487179,&quot;y&quot;:0.487179,&quot;z&quot;:0.474688},{&quot;x&quot;:0.487179,&quot;y&quot;:0.538462,&quot;z&quot;:0.527285},{&quot;x&quot;:0.487179,&quot;y&quot;:0.589744,&quot;z&quot;:0.585141},{&quot;x&quot;:0.487179,&quot;y&quot;:0.641026,&quot;z&quot;:0.648258},{&quot;x&quot;:0.487179,&quot;y&quot;:0.692308,&quot;z&quot;:0.716634},{&quot;x&quot;:0.487179,&quot;y&quot;:0.74359,&quot;z&quot;:0.79027},{&quot;x&quot;:0.487179,&quot;y&quot;:0.794872,&quot;z&quot;:0.869165},{&quot;x&quot;:0.487179,&quot;y&quot;:0.846154,&quot;z&quot;:0.95332},{&quot;x&quot;:0.487179,&quot;y&quot;:0.897436,&quot;z&quot;:1.04274},{&quot;x&quot;:0.487179,&quot;y&quot;:0.948718,&quot;z&quot;:1.13741},{&quot;x&quot;:0.487179,&quot;y&quot;:1,&quot;z&quot;:1.23734},{&quot;x&quot;:0.538462,&quot;y&quot;:-0.948718,&quot;z&quot;:1.19001},{&quot;x&quot;:0.538462,&quot;y&quot;:-1,&quot;z&quot;:1.28994},{&quot;x&quot;:0.538462,&quot;y&quot;:-0.897436,&quot;z&quot;:1.09533},{&quot;x&quot;:0.538462,&quot;y&quot;:-0.846154,&quot;z&quot;:1.00592},{&quot;x&quot;:0.538462,&quot;y&quot;:-0.794872,&quot;z&quot;:0.921762},{&quot;x&quot;:0.538462,&quot;y&quot;:-0.74359,&quot;z&quot;:0.842867},{&quot;x&quot;:0.538462,&quot;y&quot;:-0.692308,&quot;z&quot;:0.769231},{&quot;x&quot;:0.538462,&quot;y&quot;:-0.641026,&quot;z&quot;:0.700855},{&quot;x&quot;:0.538462,&quot;y&quot;:-0.589744,&quot;z&quot;:0.637738},{&quot;x&quot;:0.538462,&quot;y&quot;:-0.538462,&quot;z&quot;:0.579882},{&quot;x&quot;:0.538462,&quot;y&quot;:-0.487179,&quot;z&quot;:0.527285},{&quot;x&quot;:0.538462,&quot;y&quot;:-0.435897,&quot;z&quot;:0.479947},{&quot;x&quot;:0.538462,&quot;y&quot;:-0.384615,&quot;z&quot;:0.43787},{&quot;x&quot;:0.538462,&quot;y&quot;:-0.333333,&quot;z&quot;:0.401052},{&quot;x&quot;:0.538462,&quot;y&quot;:-0.282051,&quot;z&quot;:0.369494},{&quot;x&quot;:0.538462,&quot;y&quot;:-0.230769,&quot;z&quot;:0.343195},{&quot;x&quot;:0.538462,&quot;y&quot;:-0.179487,&quot;z&quot;:0.322156},{&quot;x&quot;:0.538462,&quot;y&quot;:-0.128205,&quot;z&quot;:0.306377},{&quot;x&quot;:0.538462,&quot;y&quot;:-0.0769231,&quot;z&quot;:0.295858},{&quot;x&quot;:0.538462,&quot;y&quot;:-0.025641,&quot;z&quot;:0.290598},{&quot;x&quot;:0.538462,&quot;y&quot;:0.025641,&quot;z&quot;:0.290598},{&quot;x&quot;:0.538462,&quot;y&quot;:0.0769231,&quot;z&quot;:0.295858},{&quot;x&quot;:0.538462,&quot;y&quot;:0.128205,&quot;z&quot;:0.306377},{&quot;x&quot;:0.538462,&quot;y&quot;:0.179487,&quot;z&quot;:0.322156},{&quot;x&quot;:0.538462,&quot;y&quot;:0.230769,&quot;z&quot;:0.343195},{&quot;x&quot;:0.538462,&quot;y&quot;:0.282051,&quot;z&quot;:0.369494},{&quot;x&quot;:0.538462,&quot;y&quot;:0.333333,&quot;z&quot;:0.401052},{&quot;x&quot;:0.538462,&quot;y&quot;:0.384615,&quot;z&quot;:0.43787},{&quot;x&quot;:0.538462,&quot;y&quot;:0.435897,&quot;z&quot;:0.479947},{&quot;x&quot;:0.538462,&quot;y&quot;:0.487179,&quot;z&quot;:0.527285},{&quot;x&quot;:0.538462,&quot;y&quot;:0.538462,&quot;z&quot;:0.579882},{&quot;x&quot;:0.538462,&quot;y&quot;:0.589744,&quot;z&quot;:0.637738},{&quot;x&quot;:0.538462,&quot;y&quot;:0.641026,&quot;z&quot;:0.700855},{&quot;x&quot;:0.538462,&quot;y&quot;:0.692308,&quot;z&quot;:0.769231},{&quot;x&quot;:0.538462,&quot;y&quot;:0.74359,&quot;z&quot;:0.842867},{&quot;x&quot;:0.538462,&quot;y&quot;:0.794872,&quot;z&quot;:0.921762},{&quot;x&quot;:0.538462,&quot;y&quot;:0.846154,&quot;z&quot;:1.00592},{&quot;x&quot;:0.538462,&quot;y&quot;:0.897436,&quot;z&quot;:1.09533},{&quot;x&quot;:0.538462,&quot;y&quot;:0.948718,&quot;z&quot;:1.19001},{&quot;x&quot;:0.538462,&quot;y&quot;:1,&quot;z&quot;:1.28994},{&quot;x&quot;:0.589744,&quot;y&quot;:-0.948718,&quot;z&quot;:1.24786},{&quot;x&quot;:0.589744,&quot;y&quot;:-1,&quot;z&quot;:1.3478},{&quot;x&quot;:0.589744,&quot;y&quot;:-0.897436,&quot;z&quot;:1.15319},{&quot;x&quot;:0.589744,&quot;y&quot;:-0.846154,&quot;z&quot;:1.06377},{&quot;x&quot;:0.589744,&quot;y&quot;:-0.794872,&quot;z&quot;:0.979619},{&quot;x&quot;:0.589744,&quot;y&quot;:-0.74359,&quot;z&quot;:0.900723},{&quot;x&quot;:0.589744,&quot;y&quot;:-0.692308,&quot;z&quot;:0.827087},{&quot;x&quot;:0.589744,&quot;y&quot;:-0.641026,&quot;z&quot;:0.758711},{&quot;x&quot;:0.589744,&quot;y&quot;:-0.589744,&quot;z&quot;:0.695595},{&quot;x&quot;:0.589744,&quot;y&quot;:-0.538462,&quot;z&quot;:0.637738},{&quot;x&quot;:0.589744,&quot;y&quot;:-0.487179,&quot;z&quot;:0.585141},{&quot;x&quot;:0.589744,&quot;y&quot;:-0.435897,&quot;z&quot;:0.537804},{&quot;x&quot;:0.589744,&quot;y&quot;:-0.384615,&quot;z&quot;:0.495726},{&quot;x&quot;:0.589744,&quot;y&quot;:-0.333333,&quot;z&quot;:0.458909},{&quot;x&quot;:0.589744,&quot;y&quot;:-0.282051,&quot;z&quot;:0.42735},{&quot;x&quot;:0.589744,&quot;y&quot;:-0.230769,&quot;z&quot;:0.401052},{&quot;x&quot;:0.589744,&quot;y&quot;:-0.179487,&quot;z&quot;:0.380013},{&quot;x&quot;:0.589744,&quot;y&quot;:-0.128205,&quot;z&quot;:0.364234},{&quot;x&quot;:0.589744,&quot;y&quot;:-0.0769231,&quot;z&quot;:0.353715},{&quot;x&quot;:0.589744,&quot;y&quot;:-0.025641,&quot;z&quot;:0.348455},{&quot;x&quot;:0.589744,&quot;y&quot;:0.025641,&quot;z&quot;:0.348455},{&quot;x&quot;:0.589744,&quot;y&quot;:0.0769231,&quot;z&quot;:0.353715},{&quot;x&quot;:0.589744,&quot;y&quot;:0.128205,&quot;z&quot;:0.364234},{&quot;x&quot;:0.589744,&quot;y&quot;:0.179487,&quot;z&quot;:0.380013},{&quot;x&quot;:0.589744,&quot;y&quot;:0.230769,&quot;z&quot;:0.401052},{&quot;x&quot;:0.589744,&quot;y&quot;:0.282051,&quot;z&quot;:0.42735},{&quot;x&quot;:0.589744,&quot;y&quot;:0.333333,&quot;z&quot;:0.458909},{&quot;x&quot;:0.589744,&quot;y&quot;:0.384615,&quot;z&quot;:0.495726},{&quot;x&quot;:0.589744,&quot;y&quot;:0.435897,&quot;z&quot;:0.537804},{&quot;x&quot;:0.589744,&quot;y&quot;:0.487179,&quot;z&quot;:0.585141},{&quot;x&quot;:0.589744,&quot;y&quot;:0.538462,&quot;z&quot;:0.637738},{&quot;x&quot;:0.589744,&quot;y&quot;:0.589744,&quot;z&quot;:0.695595},{&quot;x&quot;:0.589744,&quot;y&quot;:0.641026,&quot;z&quot;:0.758711},{&quot;x&quot;:0.589744,&quot;y&quot;:0.692308,&quot;z&quot;:0.827087},{&quot;x&quot;:0.589744,&quot;y&quot;:0.74359,&quot;z&quot;:0.900723},{&quot;x&quot;:0.589744,&quot;y&quot;:0.794872,&quot;z&quot;:0.979619},{&quot;x&quot;:0.589744,&quot;y&quot;:0.846154,&quot;z&quot;:1.06377},{&quot;x&quot;:0.589744,&quot;y&quot;:0.897436,&quot;z&quot;:1.15319},{&quot;x&quot;:0.589744,&quot;y&quot;:0.948718,&quot;z&quot;:1.24786},{&quot;x&quot;:0.589744,&quot;y&quot;:1,&quot;z&quot;:1.3478},{&quot;x&quot;:0.641026,&quot;y&quot;:-0.948718,&quot;z&quot;:1.31098},{&quot;x&quot;:0.641026,&quot;y&quot;:-1,&quot;z&quot;:1.41091},{&quot;x&quot;:0.641026,&quot;y&quot;:-0.897436,&quot;z&quot;:1.21631},{&quot;x&quot;:0.641026,&quot;y&quot;:-0.846154,&quot;z&quot;:1.12689},{&quot;x&quot;:0.641026,&quot;y&quot;:-0.794872,&quot;z&quot;:1.04274},{&quot;x&quot;:0.641026,&quot;y&quot;:-0.74359,&quot;z&quot;:0.96384},{&quot;x&quot;:0.641026,&quot;y&quot;:-0.692308,&quot;z&quot;:0.890204},{&quot;x&quot;:0.641026,&quot;y&quot;:-0.641026,&quot;z&quot;:0.821828},{&quot;x&quot;:0.641026,&quot;y&quot;:-0.589744,&quot;z&quot;:0.758711},{&quot;x&quot;:0.641026,&quot;y&quot;:-0.538462,&quot;z&quot;:0.700855},{&quot;x&quot;:0.641026,&quot;y&quot;:-0.487179,&quot;z&quot;:0.648258},{&quot;x&quot;:0.641026,&quot;y&quot;:-0.435897,&quot;z&quot;:0.60092},{&quot;x&quot;:0.641026,&quot;y&quot;:-0.384615,&quot;z&quot;:0.558843},{&quot;x&quot;:0.641026,&quot;y&quot;:-0.333333,&quot;z&quot;:0.522025},{&quot;x&quot;:0.641026,&quot;y&quot;:-0.282051,&quot;z&quot;:0.490467},{&quot;x&quot;:0.641026,&quot;y&quot;:-0.230769,&quot;z&quot;:0.464168},{&quot;x&quot;:0.641026,&quot;y&quot;:-0.179487,&quot;z&quot;:0.44313},{&quot;x&quot;:0.641026,&quot;y&quot;:-0.128205,&quot;z&quot;:0.42735},{&quot;x&quot;:0.641026,&quot;y&quot;:-0.0769231,&quot;z&quot;:0.416831},{&quot;x&quot;:0.641026,&quot;y&quot;:-0.025641,&quot;z&quot;:0.411571},{&quot;x&quot;:0.641026,&quot;y&quot;:0.025641,&quot;z&quot;:0.411571},{&quot;x&quot;:0.641026,&quot;y&quot;:0.0769231,&quot;z&quot;:0.416831},{&quot;x&quot;:0.641026,&quot;y&quot;:0.128205,&quot;z&quot;:0.42735},{&quot;x&quot;:0.641026,&quot;y&quot;:0.179487,&quot;z&quot;:0.44313},{&quot;x&quot;:0.641026,&quot;y&quot;:0.230769,&quot;z&quot;:0.464168},{&quot;x&quot;:0.641026,&quot;y&quot;:0.282051,&quot;z&quot;:0.490467},{&quot;x&quot;:0.641026,&quot;y&quot;:0.333333,&quot;z&quot;:0.522025},{&quot;x&quot;:0.641026,&quot;y&quot;:0.384615,&quot;z&quot;:0.558843},{&quot;x&quot;:0.641026,&quot;y&quot;:0.435897,&quot;z&quot;:0.60092},{&quot;x&quot;:0.641026,&quot;y&quot;:0.487179,&quot;z&quot;:0.648258},{&quot;x&quot;:0.641026,&quot;y&quot;:0.538462,&quot;z&quot;:0.700855},{&quot;x&quot;:0.641026,&quot;y&quot;:0.589744,&quot;z&quot;:0.758711},{&quot;x&quot;:0.641026,&quot;y&quot;:0.641026,&quot;z&quot;:0.821828},{&quot;x&quot;:0.641026,&quot;y&quot;:0.692308,&quot;z&quot;:0.890204},{&quot;x&quot;:0.641026,&quot;y&quot;:0.74359,&quot;z&quot;:0.96384},{&quot;x&quot;:0.641026,&quot;y&quot;:0.794872,&quot;z&quot;:1.04274},{&quot;x&quot;:0.641026,&quot;y&quot;:0.846154,&quot;z&quot;:1.12689},{&quot;x&quot;:0.641026,&quot;y&quot;:0.897436,&quot;z&quot;:1.21631},{&quot;x&quot;:0.641026,&quot;y&quot;:0.948718,&quot;z&quot;:1.31098},{&quot;x&quot;:0.641026,&quot;y&quot;:1,&quot;z&quot;:1.41091},{&quot;x&quot;:0.692308,&quot;y&quot;:-0.948718,&quot;z&quot;:1.37936},{&quot;x&quot;:0.692308,&quot;y&quot;:-1,&quot;z&quot;:1.47929},{&quot;x&quot;:0.692308,&quot;y&quot;:-0.897436,&quot;z&quot;:1.28468},{&quot;x&quot;:0.692308,&quot;y&quot;:-0.846154,&quot;z&quot;:1.19527},{&quot;x&quot;:0.692308,&quot;y&quot;:-0.794872,&quot;z&quot;:1.11111},{&quot;x&quot;:0.692308,&quot;y&quot;:-0.74359,&quot;z&quot;:1.03222},{&quot;x&quot;:0.692308,&quot;y&quot;:-0.692308,&quot;z&quot;:0.95858},{&quot;x&quot;:0.692308,&quot;y&quot;:-0.641026,&quot;z&quot;:0.890204},{&quot;x&quot;:0.692308,&quot;y&quot;:-0.589744,&quot;z&quot;:0.827087},{&quot;x&quot;:0.692308,&quot;y&quot;:-0.538462,&quot;z&quot;:0.769231},{&quot;x&quot;:0.692308,&quot;y&quot;:-0.487179,&quot;z&quot;:0.716634},{&quot;x&quot;:0.692308,&quot;y&quot;:-0.435897,&quot;z&quot;:0.669297},{&quot;x&quot;:0.692308,&quot;y&quot;:-0.384615,&quot;z&quot;:0.627219},{&quot;x&quot;:0.692308,&quot;y&quot;:-0.333333,&quot;z&quot;:0.590401},{&quot;x&quot;:0.692308,&quot;y&quot;:-0.282051,&quot;z&quot;:0.558843},{&quot;x&quot;:0.692308,&quot;y&quot;:-0.230769,&quot;z&quot;:0.532544},{&quot;x&quot;:0.692308,&quot;y&quot;:-0.179487,&quot;z&quot;:0.511506},{&quot;x&quot;:0.692308,&quot;y&quot;:-0.128205,&quot;z&quot;:0.495726},{&quot;x&quot;:0.692308,&quot;y&quot;:-0.0769231,&quot;z&quot;:0.485207},{&quot;x&quot;:0.692308,&quot;y&quot;:-0.025641,&quot;z&quot;:0.479947},{&quot;x&quot;:0.692308,&quot;y&quot;:0.025641,&quot;z&quot;:0.479947},{&quot;x&quot;:0.692308,&quot;y&quot;:0.0769231,&quot;z&quot;:0.485207},{&quot;x&quot;:0.692308,&quot;y&quot;:0.128205,&quot;z&quot;:0.495726},{&quot;x&quot;:0.692308,&quot;y&quot;:0.179487,&quot;z&quot;:0.511506},{&quot;x&quot;:0.692308,&quot;y&quot;:0.230769,&quot;z&quot;:0.532544},{&quot;x&quot;:0.692308,&quot;y&quot;:0.282051,&quot;z&quot;:0.558843},{&quot;x&quot;:0.692308,&quot;y&quot;:0.333333,&quot;z&quot;:0.590401},{&quot;x&quot;:0.692308,&quot;y&quot;:0.384615,&quot;z&quot;:0.627219},{&quot;x&quot;:0.692308,&quot;y&quot;:0.435897,&quot;z&quot;:0.669297},{&quot;x&quot;:0.692308,&quot;y&quot;:0.487179,&quot;z&quot;:0.716634},{&quot;x&quot;:0.692308,&quot;y&quot;:0.538462,&quot;z&quot;:0.769231},{&quot;x&quot;:0.692308,&quot;y&quot;:0.589744,&quot;z&quot;:0.827087},{&quot;x&quot;:0.692308,&quot;y&quot;:0.641026,&quot;z&quot;:0.890204},{&quot;x&quot;:0.692308,&quot;y&quot;:0.692308,&quot;z&quot;:0.95858},{&quot;x&quot;:0.692308,&quot;y&quot;:0.74359,&quot;z&quot;:1.03222},{&quot;x&quot;:0.692308,&quot;y&quot;:0.794872,&quot;z&quot;:1.11111},{&quot;x&quot;:0.692308,&quot;y&quot;:0.846154,&quot;z&quot;:1.19527},{&quot;x&quot;:0.692308,&quot;y&quot;:0.897436,&quot;z&quot;:1.28468},{&quot;x&quot;:0.692308,&quot;y&quot;:0.948718,&quot;z&quot;:1.37936},{&quot;x&quot;:0.692308,&quot;y&quot;:1,&quot;z&quot;:1.47929},{&quot;x&quot;:0.74359,&quot;y&quot;:-0.948718,&quot;z&quot;:1.45299},{&quot;x&quot;:0.74359,&quot;y&quot;:-1,&quot;z&quot;:1.55293},{&quot;x&quot;:0.74359,&quot;y&quot;:-0.897436,&quot;z&quot;:1.35832},{&quot;x&quot;:0.74359,&quot;y&quot;:-0.846154,&quot;z&quot;:1.2689},{&quot;x&quot;:0.74359,&quot;y&quot;:-0.794872,&quot;z&quot;:1.18475},{&quot;x&quot;:0.74359,&quot;y&quot;:-0.74359,&quot;z&quot;:1.10585},{&quot;x&quot;:0.74359,&quot;y&quot;:-0.692308,&quot;z&quot;:1.03222},{&quot;x&quot;:0.74359,&quot;y&quot;:-0.641026,&quot;z&quot;:0.96384},{&quot;x&quot;:0.74359,&quot;y&quot;:-0.589744,&quot;z&quot;:0.900723},{&quot;x&quot;:0.74359,&quot;y&quot;:-0.538462,&quot;z&quot;:0.842867},{&quot;x&quot;:0.74359,&quot;y&quot;:-0.487179,&quot;z&quot;:0.79027},{&quot;x&quot;:0.74359,&quot;y&quot;:-0.435897,&quot;z&quot;:0.742932},{&quot;x&quot;:0.74359,&quot;y&quot;:-0.384615,&quot;z&quot;:0.700855},{&quot;x&quot;:0.74359,&quot;y&quot;:-0.333333,&quot;z&quot;:0.664037},{&quot;x&quot;:0.74359,&quot;y&quot;:-0.282051,&quot;z&quot;:0.632479},{&quot;x&quot;:0.74359,&quot;y&quot;:-0.230769,&quot;z&quot;:0.60618},{&quot;x&quot;:0.74359,&quot;y&quot;:-0.179487,&quot;z&quot;:0.585141},{&quot;x&quot;:0.74359,&quot;y&quot;:-0.128205,&quot;z&quot;:0.569362},{&quot;x&quot;:0.74359,&quot;y&quot;:-0.0769231,&quot;z&quot;:0.558843},{&quot;x&quot;:0.74359,&quot;y&quot;:-0.025641,&quot;z&quot;:0.553583},{&quot;x&quot;:0.74359,&quot;y&quot;:0.025641,&quot;z&quot;:0.553583},{&quot;x&quot;:0.74359,&quot;y&quot;:0.0769231,&quot;z&quot;:0.558843},{&quot;x&quot;:0.74359,&quot;y&quot;:0.128205,&quot;z&quot;:0.569362},{&quot;x&quot;:0.74359,&quot;y&quot;:0.179487,&quot;z&quot;:0.585141},{&quot;x&quot;:0.74359,&quot;y&quot;:0.230769,&quot;z&quot;:0.60618},{&quot;x&quot;:0.74359,&quot;y&quot;:0.282051,&quot;z&quot;:0.632479},{&quot;x&quot;:0.74359,&quot;y&quot;:0.333333,&quot;z&quot;:0.664037},{&quot;x&quot;:0.74359,&quot;y&quot;:0.384615,&quot;z&quot;:0.700855},{&quot;x&quot;:0.74359,&quot;y&quot;:0.435897,&quot;z&quot;:0.742932},{&quot;x&quot;:0.74359,&quot;y&quot;:0.487179,&quot;z&quot;:0.79027},{&quot;x&quot;:0.74359,&quot;y&quot;:0.538462,&quot;z&quot;:0.842867},{&quot;x&quot;:0.74359,&quot;y&quot;:0.589744,&quot;z&quot;:0.900723},{&quot;x&quot;:0.74359,&quot;y&quot;:0.641026,&quot;z&quot;:0.96384},{&quot;x&quot;:0.74359,&quot;y&quot;:0.692308,&quot;z&quot;:1.03222},{&quot;x&quot;:0.74359,&quot;y&quot;:0.74359,&quot;z&quot;:1.10585},{&quot;x&quot;:0.74359,&quot;y&quot;:0.794872,&quot;z&quot;:1.18475},{&quot;x&quot;:0.74359,&quot;y&quot;:0.846154,&quot;z&quot;:1.2689},{&quot;x&quot;:0.74359,&quot;y&quot;:0.897436,&quot;z&quot;:1.35832},{&quot;x&quot;:0.74359,&quot;y&quot;:0.948718,&quot;z&quot;:1.45299},{&quot;x&quot;:0.74359,&quot;y&quot;:1,&quot;z&quot;:1.55293},{&quot;x&quot;:0.794872,&quot;y&quot;:-0.948718,&quot;z&quot;:1.53189},{&quot;x&quot;:0.794872,&quot;y&quot;:-1,&quot;z&quot;:1.63182},{&quot;x&quot;:0.794872,&quot;y&quot;:-0.897436,&quot;z&quot;:1.43721},{&quot;x&quot;:0.794872,&quot;y&quot;:-0.846154,&quot;z&quot;:1.3478},{&quot;x&quot;:0.794872,&quot;y&quot;:-0.794872,&quot;z&quot;:1.26364},{&quot;x&quot;:0.794872,&quot;y&quot;:-0.74359,&quot;z&quot;:1.18475},{&quot;x&quot;:0.794872,&quot;y&quot;:-0.692308,&quot;z&quot;:1.11111},{&quot;x&quot;:0.794872,&quot;y&quot;:-0.641026,&quot;z&quot;:1.04274},{&quot;x&quot;:0.794872,&quot;y&quot;:-0.589744,&quot;z&quot;:0.979619},{&quot;x&quot;:0.794872,&quot;y&quot;:-0.538462,&quot;z&quot;:0.921762},{&quot;x&quot;:0.794872,&quot;y&quot;:-0.487179,&quot;z&quot;:0.869165},{&quot;x&quot;:0.794872,&quot;y&quot;:-0.435897,&quot;z&quot;:0.821828},{&quot;x&quot;:0.794872,&quot;y&quot;:-0.384615,&quot;z&quot;:0.77975},{&quot;x&quot;:0.794872,&quot;y&quot;:-0.333333,&quot;z&quot;:0.742932},{&quot;x&quot;:0.794872,&quot;y&quot;:-0.282051,&quot;z&quot;:0.711374},{&quot;x&quot;:0.794872,&quot;y&quot;:-0.230769,&quot;z&quot;:0.685076},{&quot;x&quot;:0.794872,&quot;y&quot;:-0.179487,&quot;z&quot;:0.664037},{&quot;x&quot;:0.794872,&quot;y&quot;:-0.128205,&quot;z&quot;:0.648258},{&quot;x&quot;:0.794872,&quot;y&quot;:-0.0769231,&quot;z&quot;:0.637738},{&quot;x&quot;:0.794872,&quot;y&quot;:-0.025641,&quot;z&quot;:0.632479},{&quot;x&quot;:0.794872,&quot;y&quot;:0.025641,&quot;z&quot;:0.632479},{&quot;x&quot;:0.794872,&quot;y&quot;:0.0769231,&quot;z&quot;:0.637738},{&quot;x&quot;:0.794872,&quot;y&quot;:0.128205,&quot;z&quot;:0.648258},{&quot;x&quot;:0.794872,&quot;y&quot;:0.179487,&quot;z&quot;:0.664037},{&quot;x&quot;:0.794872,&quot;y&quot;:0.230769,&quot;z&quot;:0.685076},{&quot;x&quot;:0.794872,&quot;y&quot;:0.282051,&quot;z&quot;:0.711374},{&quot;x&quot;:0.794872,&quot;y&quot;:0.333333,&quot;z&quot;:0.742932},{&quot;x&quot;:0.794872,&quot;y&quot;:0.384615,&quot;z&quot;:0.77975},{&quot;x&quot;:0.794872,&quot;y&quot;:0.435897,&quot;z&quot;:0.821828},{&quot;x&quot;:0.794872,&quot;y&quot;:0.487179,&quot;z&quot;:0.869165},{&quot;x&quot;:0.794872,&quot;y&quot;:0.538462,&quot;z&quot;:0.921762},{&quot;x&quot;:0.794872,&quot;y&quot;:0.589744,&quot;z&quot;:0.979619},{&quot;x&quot;:0.794872,&quot;y&quot;:0.641026,&quot;z&quot;:1.04274},{&quot;x&quot;:0.794872,&quot;y&quot;:0.692308,&quot;z&quot;:1.11111},{&quot;x&quot;:0.794872,&quot;y&quot;:0.74359,&quot;z&quot;:1.18475},{&quot;x&quot;:0.794872,&quot;y&quot;:0.794872,&quot;z&quot;:1.26364},{&quot;x&quot;:0.794872,&quot;y&quot;:0.846154,&quot;z&quot;:1.3478},{&quot;x&quot;:0.794872,&quot;y&quot;:0.897436,&quot;z&quot;:1.43721},{&quot;x&quot;:0.794872,&quot;y&quot;:0.948718,&quot;z&quot;:1.53189},{&quot;x&quot;:0.794872,&quot;y&quot;:1,&quot;z&quot;:1.63182},{&quot;x&quot;:0.846154,&quot;y&quot;:-0.948718,&quot;z&quot;:1.61604},{&quot;x&quot;:0.846154,&quot;y&quot;:-1,&quot;z&quot;:1.71598},{&quot;x&quot;:0.846154,&quot;y&quot;:-0.897436,&quot;z&quot;:1.52137},{&quot;x&quot;:0.846154,&quot;y&quot;:-0.846154,&quot;z&quot;:1.43195},{&quot;x&quot;:0.846154,&quot;y&quot;:-0.794872,&quot;z&quot;:1.3478},{&quot;x&quot;:0.846154,&quot;y&quot;:-0.74359,&quot;z&quot;:1.2689},{&quot;x&quot;:0.846154,&quot;y&quot;:-0.692308,&quot;z&quot;:1.19527},{&quot;x&quot;:0.846154,&quot;y&quot;:-0.641026,&quot;z&quot;:1.12689},{&quot;x&quot;:0.846154,&quot;y&quot;:-0.589744,&quot;z&quot;:1.06377},{&quot;x&quot;:0.846154,&quot;y&quot;:-0.538462,&quot;z&quot;:1.00592},{&quot;x&quot;:0.846154,&quot;y&quot;:-0.487179,&quot;z&quot;:0.95332},{&quot;x&quot;:0.846154,&quot;y&quot;:-0.435897,&quot;z&quot;:0.905983},{&quot;x&quot;:0.846154,&quot;y&quot;:-0.384615,&quot;z&quot;:0.863905},{&quot;x&quot;:0.846154,&quot;y&quot;:-0.333333,&quot;z&quot;:0.827087},{&quot;x&quot;:0.846154,&quot;y&quot;:-0.282051,&quot;z&quot;:0.795529},{&quot;x&quot;:0.846154,&quot;y&quot;:-0.230769,&quot;z&quot;:0.769231},{&quot;x&quot;:0.846154,&quot;y&quot;:-0.179487,&quot;z&quot;:0.748192},{&quot;x&quot;:0.846154,&quot;y&quot;:-0.128205,&quot;z&quot;:0.732413},{&quot;x&quot;:0.846154,&quot;y&quot;:-0.0769231,&quot;z&quot;:0.721893},{&quot;x&quot;:0.846154,&quot;y&quot;:-0.025641,&quot;z&quot;:0.716634},{&quot;x&quot;:0.846154,&quot;y&quot;:0.025641,&quot;z&quot;:0.716634},{&quot;x&quot;:0.846154,&quot;y&quot;:0.0769231,&quot;z&quot;:0.721893},{&quot;x&quot;:0.846154,&quot;y&quot;:0.128205,&quot;z&quot;:0.732413},{&quot;x&quot;:0.846154,&quot;y&quot;:0.179487,&quot;z&quot;:0.748192},{&quot;x&quot;:0.846154,&quot;y&quot;:0.230769,&quot;z&quot;:0.769231},{&quot;x&quot;:0.846154,&quot;y&quot;:0.282051,&quot;z&quot;:0.795529},{&quot;x&quot;:0.846154,&quot;y&quot;:0.333333,&quot;z&quot;:0.827087},{&quot;x&quot;:0.846154,&quot;y&quot;:0.384615,&quot;z&quot;:0.863905},{&quot;x&quot;:0.846154,&quot;y&quot;:0.435897,&quot;z&quot;:0.905983},{&quot;x&quot;:0.846154,&quot;y&quot;:0.487179,&quot;z&quot;:0.95332},{&quot;x&quot;:0.846154,&quot;y&quot;:0.538462,&quot;z&quot;:1.00592},{&quot;x&quot;:0.846154,&quot;y&quot;:0.589744,&quot;z&quot;:1.06377},{&quot;x&quot;:0.846154,&quot;y&quot;:0.641026,&quot;z&quot;:1.12689},{&quot;x&quot;:0.846154,&quot;y&quot;:0.692308,&quot;z&quot;:1.19527},{&quot;x&quot;:0.846154,&quot;y&quot;:0.74359,&quot;z&quot;:1.2689},{&quot;x&quot;:0.846154,&quot;y&quot;:0.794872,&quot;z&quot;:1.3478},{&quot;x&quot;:0.846154,&quot;y&quot;:0.846154,&quot;z&quot;:1.43195},{&quot;x&quot;:0.846154,&quot;y&quot;:0.897436,&quot;z&quot;:1.52137},{&quot;x&quot;:0.846154,&quot;y&quot;:0.948718,&quot;z&quot;:1.61604},{&quot;x&quot;:0.846154,&quot;y&quot;:1,&quot;z&quot;:1.71598},{&quot;x&quot;:0.897436,&quot;y&quot;:-0.948718,&quot;z&quot;:1.70546},{&quot;x&quot;:0.897436,&quot;y&quot;:-1,&quot;z&quot;:1.80539},{&quot;x&quot;:0.897436,&quot;y&quot;:-0.897436,&quot;z&quot;:1.61078},{&quot;x&quot;:0.897436,&quot;y&quot;:-0.846154,&quot;z&quot;:1.52137},{&quot;x&quot;:0.897436,&quot;y&quot;:-0.794872,&quot;z&quot;:1.43721},{&quot;x&quot;:0.897436,&quot;y&quot;:-0.74359,&quot;z&quot;:1.35832},{&quot;x&quot;:0.897436,&quot;y&quot;:-0.692308,&quot;z&quot;:1.28468},{&quot;x&quot;:0.897436,&quot;y&quot;:-0.641026,&quot;z&quot;:1.21631},{&quot;x&quot;:0.897436,&quot;y&quot;:-0.589744,&quot;z&quot;:1.15319},{&quot;x&quot;:0.897436,&quot;y&quot;:-0.538462,&quot;z&quot;:1.09533},{&quot;x&quot;:0.897436,&quot;y&quot;:-0.487179,&quot;z&quot;:1.04274},{&quot;x&quot;:0.897436,&quot;y&quot;:-0.435897,&quot;z&quot;:0.995398},{&quot;x&quot;:0.897436,&quot;y&quot;:-0.384615,&quot;z&quot;:0.95332},{&quot;x&quot;:0.897436,&quot;y&quot;:-0.333333,&quot;z&quot;:0.916502},{&quot;x&quot;:0.897436,&quot;y&quot;:-0.282051,&quot;z&quot;:0.884944},{&quot;x&quot;:0.897436,&quot;y&quot;:-0.230769,&quot;z&quot;:0.858646},{&quot;x&quot;:0.897436,&quot;y&quot;:-0.179487,&quot;z&quot;:0.837607},{&quot;x&quot;:0.897436,&quot;y&quot;:-0.128205,&quot;z&quot;:0.821828},{&quot;x&quot;:0.897436,&quot;y&quot;:-0.0769231,&quot;z&quot;:0.811308},{&quot;x&quot;:0.897436,&quot;y&quot;:-0.025641,&quot;z&quot;:0.806049},{&quot;x&quot;:0.897436,&quot;y&quot;:0.025641,&quot;z&quot;:0.806049},{&quot;x&quot;:0.897436,&quot;y&quot;:0.0769231,&quot;z&quot;:0.811308},{&quot;x&quot;:0.897436,&quot;y&quot;:0.128205,&quot;z&quot;:0.821828},{&quot;x&quot;:0.897436,&quot;y&quot;:0.179487,&quot;z&quot;:0.837607},{&quot;x&quot;:0.897436,&quot;y&quot;:0.230769,&quot;z&quot;:0.858646},{&quot;x&quot;:0.897436,&quot;y&quot;:0.282051,&quot;z&quot;:0.884944},{&quot;x&quot;:0.897436,&quot;y&quot;:0.333333,&quot;z&quot;:0.916502},{&quot;x&quot;:0.897436,&quot;y&quot;:0.384615,&quot;z&quot;:0.95332},{&quot;x&quot;:0.897436,&quot;y&quot;:0.435897,&quot;z&quot;:0.995398},{&quot;x&quot;:0.897436,&quot;y&quot;:0.487179,&quot;z&quot;:1.04274},{&quot;x&quot;:0.897436,&quot;y&quot;:0.538462,&quot;z&quot;:1.09533},{&quot;x&quot;:0.897436,&quot;y&quot;:0.589744,&quot;z&quot;:1.15319},{&quot;x&quot;:0.897436,&quot;y&quot;:0.641026,&quot;z&quot;:1.21631},{&quot;x&quot;:0.897436,&quot;y&quot;:0.692308,&quot;z&quot;:1.28468},{&quot;x&quot;:0.897436,&quot;y&quot;:0.74359,&quot;z&quot;:1.35832},{&quot;x&quot;:0.897436,&quot;y&quot;:0.794872,&quot;z&quot;:1.43721},{&quot;x&quot;:0.897436,&quot;y&quot;:0.846154,&quot;z&quot;:1.52137},{&quot;x&quot;:0.897436,&quot;y&quot;:0.897436,&quot;z&quot;:1.61078},{&quot;x&quot;:0.897436,&quot;y&quot;:0.948718,&quot;z&quot;:1.70546},{&quot;x&quot;:0.897436,&quot;y&quot;:1,&quot;z&quot;:1.80539},{&quot;x&quot;:0.948718,&quot;y&quot;:-0.948718,&quot;z&quot;:1.80013},{&quot;x&quot;:0.948718,&quot;y&quot;:-1,&quot;z&quot;:1.90007},{&quot;x&quot;:0.948718,&quot;y&quot;:-0.897436,&quot;z&quot;:1.70546},{&quot;x&quot;:0.948718,&quot;y&quot;:-0.846154,&quot;z&quot;:1.61604},{&quot;x&quot;:0.948718,&quot;y&quot;:-0.794872,&quot;z&quot;:1.53189},{&quot;x&quot;:0.948718,&quot;y&quot;:-0.74359,&quot;z&quot;:1.45299},{&quot;x&quot;:0.948718,&quot;y&quot;:-0.692308,&quot;z&quot;:1.37936},{&quot;x&quot;:0.948718,&quot;y&quot;:-0.641026,&quot;z&quot;:1.31098},{&quot;x&quot;:0.948718,&quot;y&quot;:-0.589744,&quot;z&quot;:1.24786},{&quot;x&quot;:0.948718,&quot;y&quot;:-0.538462,&quot;z&quot;:1.19001},{&quot;x&quot;:0.948718,&quot;y&quot;:-0.487179,&quot;z&quot;:1.13741},{&quot;x&quot;:0.948718,&quot;y&quot;:-0.435897,&quot;z&quot;:1.09007},{&quot;x&quot;:0.948718,&quot;y&quot;:-0.384615,&quot;z&quot;:1.04799},{&quot;x&quot;:0.948718,&quot;y&quot;:-0.333333,&quot;z&quot;:1.01118},{&quot;x&quot;:0.948718,&quot;y&quot;:-0.282051,&quot;z&quot;:0.979619},{&quot;x&quot;:0.948718,&quot;y&quot;:-0.230769,&quot;z&quot;:0.95332},{&quot;x&quot;:0.948718,&quot;y&quot;:-0.179487,&quot;z&quot;:0.932281},{&quot;x&quot;:0.948718,&quot;y&quot;:-0.128205,&quot;z&quot;:0.916502},{&quot;x&quot;:0.948718,&quot;y&quot;:-0.0769231,&quot;z&quot;:0.905983},{&quot;x&quot;:0.948718,&quot;y&quot;:-0.025641,&quot;z&quot;:0.900723},{&quot;x&quot;:0.948718,&quot;y&quot;:0.025641,&quot;z&quot;:0.900723},{&quot;x&quot;:0.948718,&quot;y&quot;:0.0769231,&quot;z&quot;:0.905983},{&quot;x&quot;:0.948718,&quot;y&quot;:0.128205,&quot;z&quot;:0.916502},{&quot;x&quot;:0.948718,&quot;y&quot;:0.179487,&quot;z&quot;:0.932281},{&quot;x&quot;:0.948718,&quot;y&quot;:0.230769,&quot;z&quot;:0.95332},{&quot;x&quot;:0.948718,&quot;y&quot;:0.282051,&quot;z&quot;:0.979619},{&quot;x&quot;:0.948718,&quot;y&quot;:0.333333,&quot;z&quot;:1.01118},{&quot;x&quot;:0.948718,&quot;y&quot;:0.384615,&quot;z&quot;:1.04799},{&quot;x&quot;:0.948718,&quot;y&quot;:0.435897,&quot;z&quot;:1.09007},{&quot;x&quot;:0.948718,&quot;y&quot;:0.487179,&quot;z&quot;:1.13741},{&quot;x&quot;:0.948718,&quot;y&quot;:0.538462,&quot;z&quot;:1.19001},{&quot;x&quot;:0.948718,&quot;y&quot;:0.589744,&quot;z&quot;:1.24786},{&quot;x&quot;:0.948718,&quot;y&quot;:0.641026,&quot;z&quot;:1.31098},{&quot;x&quot;:0.948718,&quot;y&quot;:0.692308,&quot;z&quot;:1.37936},{&quot;x&quot;:0.948718,&quot;y&quot;:0.74359,&quot;z&quot;:1.45299},{&quot;x&quot;:0.948718,&quot;y&quot;:0.794872,&quot;z&quot;:1.53189},{&quot;x&quot;:0.948718,&quot;y&quot;:0.846154,&quot;z&quot;:1.61604},{&quot;x&quot;:0.948718,&quot;y&quot;:0.897436,&quot;z&quot;:1.70546},{&quot;x&quot;:0.948718,&quot;y&quot;:0.948718,&quot;z&quot;:1.80013},{&quot;x&quot;:0.948718,&quot;y&quot;:1,&quot;z&quot;:1.90007},{&quot;x&quot;:1,&quot;y&quot;:-0.948718,&quot;z&quot;:1.90007},{&quot;x&quot;:1,&quot;y&quot;:-1,&quot;z&quot;:2},{&quot;x&quot;:1,&quot;y&quot;:-0.897436,&quot;z&quot;:1.80539},{&quot;x&quot;:1,&quot;y&quot;:-0.846154,&quot;z&quot;:1.71598},{&quot;x&quot;:1,&quot;y&quot;:-0.794872,&quot;z&quot;:1.63182},{&quot;x&quot;:1,&quot;y&quot;:-0.74359,&quot;z&quot;:1.55293},{&quot;x&quot;:1,&quot;y&quot;:-0.692308,&quot;z&quot;:1.47929},{&quot;x&quot;:1,&quot;y&quot;:-0.641026,&quot;z&quot;:1.41091},{&quot;x&quot;:1,&quot;y&quot;:-0.589744,&quot;z&quot;:1.3478},{&quot;x&quot;:1,&quot;y&quot;:-0.538462,&quot;z&quot;:1.28994},{&quot;x&quot;:1,&quot;y&quot;:-0.487179,&quot;z&quot;:1.23734},{&quot;x&quot;:1,&quot;y&quot;:-0.435897,&quot;z&quot;:1.19001},{&quot;x&quot;:1,&quot;y&quot;:-0.384615,&quot;z&quot;:1.14793},{&quot;x&quot;:1,&quot;y&quot;:-0.333333,&quot;z&quot;:1.11111},{&quot;x&quot;:1,&quot;y&quot;:-0.282051,&quot;z&quot;:1.07955},{&quot;x&quot;:1,&quot;y&quot;:-0.230769,&quot;z&quot;:1.05325},{&quot;x&quot;:1,&quot;y&quot;:-0.179487,&quot;z&quot;:1.03222},{&quot;x&quot;:1,&quot;y&quot;:-0.128205,&quot;z&quot;:1.01644},{&quot;x&quot;:1,&quot;y&quot;:-0.0769231,&quot;z&quot;:1.00592},{&quot;x&quot;:1,&quot;y&quot;:-0.025641,&quot;z&quot;:1.00066},{&quot;x&quot;:1,&quot;y&quot;:0.025641,&quot;z&quot;:1.00066},{&quot;x&quot;:1,&quot;y&quot;:0.0769231,&quot;z&quot;:1.00592},{&quot;x&quot;:1,&quot;y&quot;:0.128205,&quot;z&quot;:1.01644},{&quot;x&quot;:1,&quot;y&quot;:0.179487,&quot;z&quot;:1.03222},{&quot;x&quot;:1,&quot;y&quot;:0.230769,&quot;z&quot;:1.05325},{&quot;x&quot;:1,&quot;y&quot;:0.282051,&quot;z&quot;:1.07955},{&quot;x&quot;:1,&quot;y&quot;:0.333333,&quot;z&quot;:1.11111},{&quot;x&quot;:1,&quot;y&quot;:0.384615,&quot;z&quot;:1.14793},{&quot;x&quot;:1,&quot;y&quot;:0.435897,&quot;z&quot;:1.19001},{&quot;x&quot;:1,&quot;y&quot;:0.487179,&quot;z&quot;:1.23734},{&quot;x&quot;:1,&quot;y&quot;:0.538462,&quot;z&quot;:1.28994},{&quot;x&quot;:1,&quot;y&quot;:0.589744,&quot;z&quot;:1.3478},{&quot;x&quot;:1,&quot;y&quot;:0.641026,&quot;z&quot;:1.41091},{&quot;x&quot;:1,&quot;y&quot;:0.692308,&quot;z&quot;:1.47929},{&quot;x&quot;:1,&quot;y&quot;:0.74359,&quot;z&quot;:1.55293},{&quot;x&quot;:1,&quot;y&quot;:0.794872,&quot;z&quot;:1.63182},{&quot;x&quot;:1,&quot;y&quot;:0.846154,&quot;z&quot;:1.71598},{&quot;x&quot;:1,&quot;y&quot;:0.897436,&quot;z&quot;:1.80539},{&quot;x&quot;:1,&quot;y&quot;:0.948718,&quot;z&quot;:1.90007},{&quot;x&quot;:1,&quot;y&quot;:1,&quot;z&quot;:2}], &quot;faces&quot;:[[0,1,2,3],[1,4,5,2],[4,6,7,5],[6,8,9,7],[8,10,11,9],[10,12,13,11],[12,14,15,13],[14,16,17,15],[16,18,19,17],[18,20,21,19],[20,22,23,21],[22,24,25,23],[24,26,27,25],[26,28,29,27],[28,30,31,29],[30,32,33,31],[32,34,35,33],[34,36,37,35],[36,38,39,37],[38,40,41,39],[40,42,43,41],[42,44,45,43],[44,46,47,45],[46,48,49,47],[48,50,51,49],[50,52,53,51],[52,54,55,53],[54,56,57,55],[56,58,59,57],[58,60,61,59],[60,62,63,61],[62,64,65,63],[64,66,67,65],[66,68,69,67],[68,70,71,69],[70,72,73,71],[72,74,75,73],[74,76,77,75],[76,78,79,77],[3,2,80,81],[2,5,82,80],[5,7,83,82],[7,9,84,83],[9,11,85,84],[11,13,86,85],[13,15,87,86],[15,17,88,87],[17,19,89,88],[19,21,90,89],[21,23,91,90],[23,25,92,91],[25,27,93,92],[27,29,94,93],[29,31,95,94],[31,33,96,95],[33,35,97,96],[35,37,98,97],[37,39,99,98],[39,41,100,99],[41,43,101,100],[43,45,102,101],[45,47,103,102],[47,49,104,103],[49,51,105,104],[51,53,106,105],[53,55,107,106],[55,57,108,107],[57,59,109,108],[59,61,110,109],[61,63,111,110],[63,65,112,111],[65,67,113,112],[67,69,114,113],[69,71,115,114],[71,73,116,115],[73,75,117,116],[75,77,118,117],[77,79,119,118],[81,80,120,121],[80,82,122,120],[82,83,123,122],[83,84,124,123],[84,85,125,124],[85,86,126,125],[86,87,127,126],[87,88,128,127],[88,89,129,128],[89,90,130,129],[90,91,131,130],[91,92,132,131],[92,93,133,132],[93,94,134,133],[94,95,135,134],[95,96,136,135],[96,97,137,136],[97,98,138,137],[98,99,139,138],[99,100,140,139],[100,101,141,140],[101,102,142,141],[102,103,143,142],[103,104,144,143],[104,105,145,144],[105,106,146,145],[106,107,147,146],[107,108,148,147],[108,109,149,148],[109,110,150,149],[110,111,151,150],[111,112,152,151],[112,113,153,152],[113,114,154,153],[114,115,155,154],[115,116,156,155],[116,117,157,156],[117,118,158,157],[118,119,159,158],[121,120,160,161],[120,122,162,160],[122,123,163,162],[123,124,164,163],[124,125,165,164],[125,126,166,165],[126,127,167,166],[127,128,168,167],[128,129,169,168],[129,130,170,169],[130,131,171,170],[131,132,172,171],[132,133,173,172],[133,134,174,173],[134,135,175,174],[135,136,176,175],[136,137,177,176],[137,138,178,177],[138,139,179,178],[139,140,180,179],[140,141,181,180],[141,142,182,181],[142,143,183,182],[143,144,184,183],[144,145,185,184],[145,146,186,185],[146,147,187,186],[147,148,188,187],[148,149,189,188],[149,150,190,189],[150,151,191,190],[151,152,192,191],[152,153,193,192],[153,154,194,193],[154,155,195,194],[155,156,196,195],[156,157,197,196],[157,158,198,197],[158,159,199,198],[161,160,200,201],[160,162,202,200],[162,163,203,202],[163,164,204,203],[164,165,205,204],[165,166,206,205],[166,167,207,206],[167,168,208,207],[168,169,209,208],[169,170,210,209],[170,171,211,210],[171,172,212,211],[172,173,213,212],[173,174,214,213],[174,175,215,214],[175,176,216,215],[176,177,217,216],[177,178,218,217],[178,179,219,218],[179,180,220,219],[180,181,221,220],[181,182,222,221],[182,183,223,222],[183,184,224,223],[184,185,225,224],[185,186,226,225],[186,187,227,226],[187,188,228,227],[188,189,229,228],[189,190,230,229],[190,191,231,230],[191,192,232,231],[192,193,233,232],[193,194,234,233],[194,195,235,234],[195,196,236,235],[196,197,237,236],[197,198,238,237],[198,199,239,238],[201,200,240,241],[200,202,242,240],[202,203,243,242],[203,204,244,243],[204,205,245,244],[205,206,246,245],[206,207,247,246],[207,208,248,247],[208,209,249,248],[209,210,250,249],[210,211,251,250],[211,212,252,251],[212,213,253,252],[213,214,254,253],[214,215,255,254],[215,216,256,255],[216,217,257,256],[217,218,258,257],[218,219,259,258],[219,220,260,259],[220,221,261,260],[221,222,262,261],[222,223,263,262],[223,224,264,263],[224,225,265,264],[225,226,266,265],[226,227,267,266],[227,228,268,267],[228,229,269,268],[229,230,270,269],[230,231,271,270],[231,232,272,271],[232,233,273,272],[233,234,274,273],[234,235,275,274],[235,236,276,275],[236,237,277,276],[237,238,278,277],[238,239,279,278],[241,240,280,281],[240,242,282,280],[242,243,283,282],[243,244,284,283],[244,245,285,284],[245,246,286,285],[246,247,287,286],[247,248,288,287],[248,249,289,288],[249,250,290,289],[250,251,291,290],[251,252,292,291],[252,253,293,292],[253,254,294,293],[254,255,295,294],[255,256,296,295],[256,257,297,296],[257,258,298,297],[258,259,299,298],[259,260,300,299],[260,261,301,300],[261,262,302,301],[262,263,303,302],[263,264,304,303],[264,265,305,304],[265,266,306,305],[266,267,307,306],[267,268,308,307],[268,269,309,308],[269,270,310,309],[270,271,311,310],[271,272,312,311],[272,273,313,312],[273,274,314,313],[274,275,315,314],[275,276,316,315],[276,277,317,316],[277,278,318,317],[278,279,319,318],[281,280,320,321],[280,282,322,320],[282,283,323,322],[283,284,324,323],[284,285,325,324],[285,286,326,325],[286,287,327,326],[287,288,328,327],[288,289,329,328],[289,290,330,329],[290,291,331,330],[291,292,332,331],[292,293,333,332],[293,294,334,333],[294,295,335,334],[295,296,336,335],[296,297,337,336],[297,298,338,337],[298,299,339,338],[299,300,340,339],[300,301,341,340],[301,302,342,341],[302,303,343,342],[303,304,344,343],[304,305,345,344],[305,306,346,345],[306,307,347,346],[307,308,348,347],[308,309,349,348],[309,310,350,349],[310,311,351,350],[311,312,352,351],[312,313,353,352],[313,314,354,353],[314,315,355,354],[315,316,356,355],[316,317,357,356],[317,318,358,357],[318,319,359,358],[321,320,360,361],[320,322,362,360],[322,323,363,362],[323,324,364,363],[324,325,365,364],[325,326,366,365],[326,327,367,366],[327,328,368,367],[328,329,369,368],[329,330,370,369],[330,331,371,370],[331,332,372,371],[332,333,373,372],[333,334,374,373],[334,335,375,374],[335,336,376,375],[336,337,377,376],[337,338,378,377],[338,339,379,378],[339,340,380,379],[340,341,381,380],[341,342,382,381],[342,343,383,382],[343,344,384,383],[344,345,385,384],[345,346,386,385],[346,347,387,386],[347,348,388,387],[348,349,389,388],[349,350,390,389],[350,351,391,390],[351,352,392,391],[352,353,393,392],[353,354,394,393],[354,355,395,394],[355,356,396,395],[356,357,397,396],[357,358,398,397],[358,359,399,398],[361,360,400,401],[360,362,402,400],[362,363,403,402],[363,364,404,403],[364,365,405,404],[365,366,406,405],[366,367,407,406],[367,368,408,407],[368,369,409,408],[369,370,410,409],[370,371,411,410],[371,372,412,411],[372,373,413,412],[373,374,414,413],[374,375,415,414],[375,376,416,415],[376,377,417,416],[377,378,418,417],[378,379,419,418],[379,380,420,419],[380,381,421,420],[381,382,422,421],[382,383,423,422],[383,384,424,423],[384,385,425,424],[385,386,426,425],[386,387,427,426],[387,388,428,427],[388,389,429,428],[389,390,430,429],[390,391,431,430],[391,392,432,431],[392,393,433,432],[393,394,434,433],[394,395,435,434],[395,396,436,435],[396,397,437,436],[397,398,438,437],[398,399,439,438],[401,400,440,441],[400,402,442,440],[402,403,443,442],[403,404,444,443],[404,405,445,444],[405,406,446,445],[406,407,447,446],[407,408,448,447],[408,409,449,448],[409,410,450,449],[410,411,451,450],[411,412,452,451],[412,413,453,452],[413,414,454,453],[414,415,455,454],[415,416,456,455],[416,417,457,456],[417,418,458,457],[418,419,459,458],[419,420,460,459],[420,421,461,460],[421,422,462,461],[422,423,463,462],[423,424,464,463],[424,425,465,464],[425,426,466,465],[426,427,467,466],[427,428,468,467],[428,429,469,468],[429,430,470,469],[430,431,471,470],[431,432,472,471],[432,433,473,472],[433,434,474,473],[434,435,475,474],[435,436,476,475],[436,437,477,476],[437,438,478,477],[438,439,479,478],[441,440,480,481],[440,442,482,480],[442,443,483,482],[443,444,484,483],[444,445,485,484],[445,446,486,485],[446,447,487,486],[447,448,488,487],[448,449,489,488],[449,450,490,489],[450,451,491,490],[451,452,492,491],[452,453,493,492],[453,454,494,493],[454,455,495,494],[455,456,496,495],[456,457,497,496],[457,458,498,497],[458,459,499,498],[459,460,500,499],[460,461,501,500],[461,462,502,501],[462,463,503,502],[463,464,504,503],[464,465,505,504],[465,466,506,505],[466,467,507,506],[467,468,508,507],[468,469,509,508],[469,470,510,509],[470,471,511,510],[471,472,512,511],[472,473,513,512],[473,474,514,513],[474,475,515,514],[475,476,516,515],[476,477,517,516],[477,478,518,517],[478,479,519,518],[481,480,520,521],[480,482,522,520],[482,483,523,522],[483,484,524,523],[484,485,525,524],[485,486,526,525],[486,487,527,526],[487,488,528,527],[488,489,529,528],[489,490,530,529],[490,491,531,530],[491,492,532,531],[492,493,533,532],[493,494,534,533],[494,495,535,534],[495,496,536,535],[496,497,537,536],[497,498,538,537],[498,499,539,538],[499,500,540,539],[500,501,541,540],[501,502,542,541],[502,503,543,542],[503,504,544,543],[504,505,545,544],[505,506,546,545],[506,507,547,546],[507,508,548,547],[508,509,549,548],[509,510,550,549],[510,511,551,550],[511,512,552,551],[512,513,553,552],[513,514,554,553],[514,515,555,554],[515,516,556,555],[516,517,557,556],[517,518,558,557],[518,519,559,558],[521,520,560,561],[520,522,562,560],[522,523,563,562],[523,524,564,563],[524,525,565,564],[525,526,566,565],[526,527,567,566],[527,528,568,567],[528,529,569,568],[529,530,570,569],[530,531,571,570],[531,532,572,571],[532,533,573,572],[533,534,574,573],[534,535,575,574],[535,536,576,575],[536,537,577,576],[537,538,578,577],[538,539,579,578],[539,540,580,579],[540,541,581,580],[541,542,582,581],[542,543,583,582],[543,544,584,583],[544,545,585,584],[545,546,586,585],[546,547,587,586],[547,548,588,587],[548,549,589,588],[549,550,590,589],[550,551,591,590],[551,552,592,591],[552,553,593,592],[553,554,594,593],[554,555,595,594],[555,556,596,595],[556,557,597,596],[557,558,598,597],[558,559,599,598],[561,560,600,601],[560,562,602,600],[562,563,603,602],[563,564,604,603],[564,565,605,604],[565,566,606,605],[566,567,607,606],[567,568,608,607],[568,569,609,608],[569,570,610,609],[570,571,611,610],[571,572,612,611],[572,573,613,612],[573,574,614,613],[574,575,615,614],[575,576,616,615],[576,577,617,616],[577,578,618,617],[578,579,619,618],[579,580,620,619],[580,581,621,620],[581,582,622,621],[582,583,623,622],[583,584,624,623],[584,585,625,624],[585,586,626,625],[586,587,627,626],[587,588,628,627],[588,589,629,628],[589,590,630,629],[590,591,631,630],[591,592,632,631],[592,593,633,632],[593,594,634,633],[594,595,635,634],[595,596,636,635],[596,597,637,636],[597,598,638,637],[598,599,639,638],[601,600,640,641],[600,602,642,640],[602,603,643,642],[603,604,644,643],[604,605,645,644],[605,606,646,645],[606,607,647,646],[607,608,648,647],[608,609,649,648],[609,610,650,649],[610,611,651,650],[611,612,652,651],[612,613,653,652],[613,614,654,653],[614,615,655,654],[615,616,656,655],[616,617,657,656],[617,618,658,657],[618,619,659,658],[619,620,660,659],[620,621,661,660],[621,622,662,661],[622,623,663,662],[623,624,664,663],[624,625,665,664],[625,626,666,665],[626,627,667,666],[627,628,668,667],[628,629,669,668],[629,630,670,669],[630,631,671,670],[631,632,672,671],[632,633,673,672],[633,634,674,673],[634,635,675,674],[635,636,676,675],[636,637,677,676],[637,638,678,677],[638,639,679,678],[641,640,680,681],[640,642,682,680],[642,643,683,682],[643,644,684,683],[644,645,685,684],[645,646,686,685],[646,647,687,686],[647,648,688,687],[648,649,689,688],[649,650,690,689],[650,651,691,690],[651,652,692,691],[652,653,693,692],[653,654,694,693],[654,655,695,694],[655,656,696,695],[656,657,697,696],[657,658,698,697],[658,659,699,698],[659,660,700,699],[660,661,701,700],[661,662,702,701],[662,663,703,702],[663,664,704,703],[664,665,705,704],[665,666,706,705],[666,667,707,706],[667,668,708,707],[668,669,709,708],[669,670,710,709],[670,671,711,710],[671,672,712,711],[672,673,713,712],[673,674,714,713],[674,675,715,714],[675,676,716,715],[676,677,717,716],[677,678,718,717],[678,679,719,718],[681,680,720,721],[680,682,722,720],[682,683,723,722],[683,684,724,723],[684,685,725,724],[685,686,726,725],[686,687,727,726],[687,688,728,727],[688,689,729,728],[689,690,730,729],[690,691,731,730],[691,692,732,731],[692,693,733,732],[693,694,734,733],[694,695,735,734],[695,696,736,735],[696,697,737,736],[697,698,738,737],[698,699,739,738],[699,700,740,739],[700,701,741,740],[701,702,742,741],[702,703,743,742],[703,704,744,743],[704,705,745,744],[705,706,746,745],[706,707,747,746],[707,708,748,747],[708,709,749,748],[709,710,750,749],[710,711,751,750],[711,712,752,751],[712,713,753,752],[713,714,754,753],[714,715,755,754],[715,716,756,755],[716,717,757,756],[717,718,758,757],[718,719,759,758],[721,720,760,761],[720,722,762,760],[722,723,763,762],[723,724,764,763],[724,725,765,764],[725,726,766,765],[726,727,767,766],[727,728,768,767],[728,729,769,768],[729,730,770,769],[730,731,771,770],[731,732,772,771],[732,733,773,772],[733,734,774,773],[734,735,775,774],[735,736,776,775],[736,737,777,776],[737,738,778,777],[738,739,779,778],[739,740,780,779],[740,741,781,780],[741,742,782,781],[742,743,783,782],[743,744,784,783],[744,745,785,784],[745,746,786,785],[746,747,787,786],[747,748,788,787],[748,749,789,788],[749,750,790,789],[750,751,791,790],[751,752,792,791],[752,753,793,792],[753,754,794,793],[754,755,795,794],[755,756,796,795],[756,757,797,796],[757,758,798,797],[758,759,799,798],[761,760,800,801],[760,762,802,800],[762,763,803,802],[763,764,804,803],[764,765,805,804],[765,766,806,805],[766,767,807,806],[767,768,808,807],[768,769,809,808],[769,770,810,809],[770,771,811,810],[771,772,812,811],[772,773,813,812],[773,774,814,813],[774,775,815,814],[775,776,816,815],[776,777,817,816],[777,778,818,817],[778,779,819,818],[779,780,820,819],[780,781,821,820],[781,782,822,821],[782,783,823,822],[783,784,824,823],[784,785,825,824],[785,786,826,825],[786,787,827,826],[787,788,828,827],[788,789,829,828],[789,790,830,829],[790,791,831,830],[791,792,832,831],[792,793,833,832],[793,794,834,833],[794,795,835,834],[795,796,836,835],[796,797,837,836],[797,798,838,837],[798,799,839,838],[801,800,840,841],[800,802,842,840],[802,803,843,842],[803,804,844,843],[804,805,845,844],[805,806,846,845],[806,807,847,846],[807,808,848,847],[808,809,849,848],[809,810,850,849],[810,811,851,850],[811,812,852,851],[812,813,853,852],[813,814,854,853],[814,815,855,854],[815,816,856,855],[816,817,857,856],[817,818,858,857],[818,819,859,858],[819,820,860,859],[820,821,861,860],[821,822,862,861],[822,823,863,862],[823,824,864,863],[824,825,865,864],[825,826,866,865],[826,827,867,866],[827,828,868,867],[828,829,869,868],[829,830,870,869],[830,831,871,870],[831,832,872,871],[832,833,873,872],[833,834,874,873],[834,835,875,874],[835,836,876,875],[836,837,877,876],[837,838,878,877],[838,839,879,878],[841,840,880,881],[840,842,882,880],[842,843,883,882],[843,844,884,883],[844,845,885,884],[845,846,886,885],[846,847,887,886],[847,848,888,887],[848,849,889,888],[849,850,890,889],[850,851,891,890],[851,852,892,891],[852,853,893,892],[853,854,894,893],[854,855,895,894],[855,856,896,895],[856,857,897,896],[857,858,898,897],[858,859,899,898],[859,860,900,899],[860,861,901,900],[861,862,902,901],[862,863,903,902],[863,864,904,903],[864,865,905,904],[865,866,906,905],[866,867,907,906],[867,868,908,907],[868,869,909,908],[869,870,910,909],[870,871,911,910],[871,872,912,911],[872,873,913,912],[873,874,914,913],[874,875,915,914],[875,876,916,915],[876,877,917,916],[877,878,918,917],[878,879,919,918],[881,880,920,921],[880,882,922,920],[882,883,923,922],[883,884,924,923],[884,885,925,924],[885,886,926,925],[886,887,927,926],[887,888,928,927],[888,889,929,928],[889,890,930,929],[890,891,931,930],[891,892,932,931],[892,893,933,932],[893,894,934,933],[894,895,935,934],[895,896,936,935],[896,897,937,936],[897,898,938,937],[898,899,939,938],[899,900,940,939],[900,901,941,940],[901,902,942,941],[902,903,943,942],[903,904,944,943],[904,905,945,944],[905,906,946,945],[906,907,947,946],[907,908,948,947],[908,909,949,948],[909,910,950,949],[910,911,951,950],[911,912,952,951],[912,913,953,952],[913,914,954,953],[914,915,955,954],[915,916,956,955],[916,917,957,956],[917,918,958,957],[918,919,959,958],[921,920,960,961],[920,922,962,960],[922,923,963,962],[923,924,964,963],[924,925,965,964],[925,926,966,965],[926,927,967,966],[927,928,968,967],[928,929,969,968],[929,930,970,969],[930,931,971,970],[931,932,972,971],[932,933,973,972],[933,934,974,973],[934,935,975,974],[935,936,976,975],[936,937,977,976],[937,938,978,977],[938,939,979,978],[939,940,980,979],[940,941,981,980],[941,942,982,981],[942,943,983,982],[943,944,984,983],[944,945,985,984],[945,946,986,985],[946,947,987,986],[947,948,988,987],[948,949,989,988],[949,950,990,989],[950,951,991,990],[951,952,992,991],[952,953,993,992],[953,954,994,993],[954,955,995,994],[955,956,996,995],[956,957,997,996],[957,958,998,997],[958,959,999,998],[961,960,1000,1001],[960,962,1002,1000],[962,963,1003,1002],[963,964,1004,1003],[964,965,1005,1004],[965,966,1006,1005],[966,967,1007,1006],[967,968,1008,1007],[968,969,1009,1008],[969,970,1010,1009],[970,971,1011,1010],[971,972,1012,1011],[972,973,1013,1012],[973,974,1014,1013],[974,975,1015,1014],[975,976,1016,1015],[976,977,1017,1016],[977,978,1018,1017],[978,979,1019,1018],[979,980,1020,1019],[980,981,1021,1020],[981,982,1022,1021],[982,983,1023,1022],[983,984,1024,1023],[984,985,1025,1024],[985,986,1026,1025],[986,987,1027,1026],[987,988,1028,1027],[988,989,1029,1028],[989,990,1030,1029],[990,991,1031,1030],[991,992,1032,1031],[992,993,1033,1032],[993,994,1034,1033],[994,995,1035,1034],[995,996,1036,1035],[996,997,1037,1036],[997,998,1038,1037],[998,999,1039,1038],[1001,1000,1040,1041],[1000,1002,1042,1040],[1002,1003,1043,1042],[1003,1004,1044,1043],[1004,1005,1045,1044],[1005,1006,1046,1045],[1006,1007,1047,1046],[1007,1008,1048,1047],[1008,1009,1049,1048],[1009,1010,1050,1049],[1010,1011,1051,1050],[1011,1012,1052,1051],[1012,1013,1053,1052],[1013,1014,1054,1053],[1014,1015,1055,1054],[1015,1016,1056,1055],[1016,1017,1057,1056],[1017,1018,1058,1057],[1018,1019,1059,1058],[1019,1020,1060,1059],[1020,1021,1061,1060],[1021,1022,1062,1061],[1022,1023,1063,1062],[1023,1024,1064,1063],[1024,1025,1065,1064],[1025,1026,1066,1065],[1026,1027,1067,1066],[1027,1028,1068,1067],[1028,1029,1069,1068],[1029,1030,1070,1069],[1030,1031,1071,1070],[1031,1032,1072,1071],[1032,1033,1073,1072],[1033,1034,1074,1073],[1034,1035,1075,1074],[1035,1036,1076,1075],[1036,1037,1077,1076],[1037,1038,1078,1077],[1038,1039,1079,1078],[1041,1040,1080,1081],[1040,1042,1082,1080],[1042,1043,1083,1082],[1043,1044,1084,1083],[1044,1045,1085,1084],[1045,1046,1086,1085],[1046,1047,1087,1086],[1047,1048,1088,1087],[1048,1049,1089,1088],[1049,1050,1090,1089],[1050,1051,1091,1090],[1051,1052,1092,1091],[1052,1053,1093,1092],[1053,1054,1094,1093],[1054,1055,1095,1094],[1055,1056,1096,1095],[1056,1057,1097,1096],[1057,1058,1098,1097],[1058,1059,1099,1098],[1059,1060,1100,1099],[1060,1061,1101,1100],[1061,1062,1102,1101],[1062,1063,1103,1102],[1063,1064,1104,1103],[1064,1065,1105,1104],[1065,1066,1106,1105],[1066,1067,1107,1106],[1067,1068,1108,1107],[1068,1069,1109,1108],[1069,1070,1110,1109],[1070,1071,1111,1110],[1071,1072,1112,1111],[1072,1073,1113,1112],[1073,1074,1114,1113],[1074,1075,1115,1114],[1075,1076,1116,1115],[1076,1077,1117,1116],[1077,1078,1118,1117],[1078,1079,1119,1118],[1081,1080,1120,1121],[1080,1082,1122,1120],[1082,1083,1123,1122],[1083,1084,1124,1123],[1084,1085,1125,1124],[1085,1086,1126,1125],[1086,1087,1127,1126],[1087,1088,1128,1127],[1088,1089,1129,1128],[1089,1090,1130,1129],[1090,1091,1131,1130],[1091,1092,1132,1131],[1092,1093,1133,1132],[1093,1094,1134,1133],[1094,1095,1135,1134],[1095,1096,1136,1135],[1096,1097,1137,1136],[1097,1098,1138,1137],[1098,1099,1139,1138],[1099,1100,1140,1139],[1100,1101,1141,1140],[1101,1102,1142,1141],[1102,1103,1143,1142],[1103,1104,1144,1143],[1104,1105,1145,1144],[1105,1106,1146,1145],[1106,1107,1147,1146],[1107,1108,1148,1147],[1108,1109,1149,1148],[1109,1110,1150,1149],[1110,1111,1151,1150],[1111,1112,1152,1151],[1112,1113,1153,1152],[1113,1114,1154,1153],[1114,1115,1155,1154],[1115,1116,1156,1155],[1116,1117,1157,1156],[1117,1118,1158,1157],[1118,1119,1159,1158],[1121,1120,1160,1161],[1120,1122,1162,1160],[1122,1123,1163,1162],[1123,1124,1164,1163],[1124,1125,1165,1164],[1125,1126,1166,1165],[1126,1127,1167,1166],[1127,1128,1168,1167],[1128,1129,1169,1168],[1129,1130,1170,1169],[1130,1131,1171,1170],[1131,1132,1172,1171],[1132,1133,1173,1172],[1133,1134,1174,1173],[1134,1135,1175,1174],[1135,1136,1176,1175],[1136,1137,1177,1176],[1137,1138,1178,1177],[1138,1139,1179,1178],[1139,1140,1180,1179],[1140,1141,1181,1180],[1141,1142,1182,1181],[1142,1143,1183,1182],[1143,1144,1184,1183],[1144,1145,1185,1184],[1145,1146,1186,1185],[1146,1147,1187,1186],[1147,1148,1188,1187],[1148,1149,1189,1188],[1149,1150,1190,1189],[1150,1151,1191,1190],[1151,1152,1192,1191],[1152,1153,1193,1192],[1153,1154,1194,1193],[1154,1155,1195,1194],[1155,1156,1196,1195],[1156,1157,1197,1196],[1157,1158,1198,1197],[1158,1159,1199,1198],[1161,1160,1200,1201],[1160,1162,1202,1200],[1162,1163,1203,1202],[1163,1164,1204,1203],[1164,1165,1205,1204],[1165,1166,1206,1205],[1166,1167,1207,1206],[1167,1168,1208,1207],[1168,1169,1209,1208],[1169,1170,1210,1209],[1170,1171,1211,1210],[1171,1172,1212,1211],[1172,1173,1213,1212],[1173,1174,1214,1213],[1174,1175,1215,1214],[1175,1176,1216,1215],[1176,1177,1217,1216],[1177,1178,1218,1217],[1178,1179,1219,1218],[1179,1180,1220,1219],[1180,1181,1221,1220],[1181,1182,1222,1221],[1182,1183,1223,1222],[1183,1184,1224,1223],[1184,1185,1225,1224],[1185,1186,1226,1225],[1186,1187,1227,1226],[1187,1188,1228,1227],[1188,1189,1229,1228],[1189,1190,1230,1229],[1190,1191,1231,1230],[1191,1192,1232,1231],[1192,1193,1233,1232],[1193,1194,1234,1233],[1194,1195,1235,1234],[1195,1196,1236,1235],[1196,1197,1237,1236],[1197,1198,1238,1237],[1198,1199,1239,1238],[1201,1200,1240,1241],[1200,1202,1242,1240],[1202,1203,1243,1242],[1203,1204,1244,1243],[1204,1205,1245,1244],[1205,1206,1246,1245],[1206,1207,1247,1246],[1207,1208,1248,1247],[1208,1209,1249,1248],[1209,1210,1250,1249],[1210,1211,1251,1250],[1211,1212,1252,1251],[1212,1213,1253,1252],[1213,1214,1254,1253],[1214,1215,1255,1254],[1215,1216,1256,1255],[1216,1217,1257,1256],[1217,1218,1258,1257],[1218,1219,1259,1258],[1219,1220,1260,1259],[1220,1221,1261,1260],[1221,1222,1262,1261],[1222,1223,1263,1262],[1223,1224,1264,1263],[1224,1225,1265,1264],[1225,1226,1266,1265],[1226,1227,1267,1266],[1227,1228,1268,1267],[1228,1229,1269,1268],[1229,1230,1270,1269],[1230,1231,1271,1270],[1231,1232,1272,1271],[1232,1233,1273,1272],[1233,1234,1274,1273],[1234,1235,1275,1274],[1235,1236,1276,1275],[1236,1237,1277,1276],[1237,1238,1278,1277],[1238,1239,1279,1278],[1241,1240,1280,1281],[1240,1242,1282,1280],[1242,1243,1283,1282],[1243,1244,1284,1283],[1244,1245,1285,1284],[1245,1246,1286,1285],[1246,1247,1287,1286],[1247,1248,1288,1287],[1248,1249,1289,1288],[1249,1250,1290,1289],[1250,1251,1291,1290],[1251,1252,1292,1291],[1252,1253,1293,1292],[1253,1254,1294,1293],[1254,1255,1295,1294],[1255,1256,1296,1295],[1256,1257,1297,1296],[1257,1258,1298,1297],[1258,1259,1299,1298],[1259,1260,1300,1299],[1260,1261,1301,1300],[1261,1262,1302,1301],[1262,1263,1303,1302],[1263,1264,1304,1303],[1264,1265,1305,1304],[1265,1266,1306,1305],[1266,1267,1307,1306],[1267,1268,1308,1307],[1268,1269,1309,1308],[1269,1270,1310,1309],[1270,1271,1311,1310],[1271,1272,1312,1311],[1272,1273,1313,1312],[1273,1274,1314,1313],[1274,1275,1315,1314],[1275,1276,1316,1315],[1276,1277,1317,1316],[1277,1278,1318,1317],[1278,1279,1319,1318],[1281,1280,1320,1321],[1280,1282,1322,1320],[1282,1283,1323,1322],[1283,1284,1324,1323],[1284,1285,1325,1324],[1285,1286,1326,1325],[1286,1287,1327,1326],[1287,1288,1328,1327],[1288,1289,1329,1328],[1289,1290,1330,1329],[1290,1291,1331,1330],[1291,1292,1332,1331],[1292,1293,1333,1332],[1293,1294,1334,1333],[1294,1295,1335,1334],[1295,1296,1336,1335],[1296,1297,1337,1336],[1297,1298,1338,1337],[1298,1299,1339,1338],[1299,1300,1340,1339],[1300,1301,1341,1340],[1301,1302,1342,1341],[1302,1303,1343,1342],[1303,1304,1344,1343],[1304,1305,1345,1344],[1305,1306,1346,1345],[1306,1307,1347,1346],[1307,1308,1348,1347],[1308,1309,1349,1348],[1309,1310,1350,1349],[1310,1311,1351,1350],[1311,1312,1352,1351],[1312,1313,1353,1352],[1313,1314,1354,1353],[1314,1315,1355,1354],[1315,1316,1356,1355],[1316,1317,1357,1356],[1317,1318,1358,1357],[1318,1319,1359,1358],[1321,1320,1360,1361],[1320,1322,1362,1360],[1322,1323,1363,1362],[1323,1324,1364,1363],[1324,1325,1365,1364],[1325,1326,1366,1365],[1326,1327,1367,1366],[1327,1328,1368,1367],[1328,1329,1369,1368],[1329,1330,1370,1369],[1330,1331,1371,1370],[1331,1332,1372,1371],[1332,1333,1373,1372],[1333,1334,1374,1373],[1334,1335,1375,1374],[1335,1336,1376,1375],[1336,1337,1377,1376],[1337,1338,1378,1377],[1338,1339,1379,1378],[1339,1340,1380,1379],[1340,1341,1381,1380],[1341,1342,1382,1381],[1342,1343,1383,1382],[1343,1344,1384,1383],[1344,1345,1385,1384],[1345,1346,1386,1385],[1346,1347,1387,1386],[1347,1348,1388,1387],[1348,1349,1389,1388],[1349,1350,1390,1389],[1350,1351,1391,1390],[1351,1352,1392,1391],[1352,1353,1393,1392],[1353,1354,1394,1393],[1354,1355,1395,1394],[1355,1356,1396,1395],[1356,1357,1397,1396],[1357,1358,1398,1397],[1358,1359,1399,1398],[1361,1360,1400,1401],[1360,1362,1402,1400],[1362,1363,1403,1402],[1363,1364,1404,1403],[1364,1365,1405,1404],[1365,1366,1406,1405],[1366,1367,1407,1406],[1367,1368,1408,1407],[1368,1369,1409,1408],[1369,1370,1410,1409],[1370,1371,1411,1410],[1371,1372,1412,1411],[1372,1373,1413,1412],[1373,1374,1414,1413],[1374,1375,1415,1414],[1375,1376,1416,1415],[1376,1377,1417,1416],[1377,1378,1418,1417],[1378,1379,1419,1418],[1379,1380,1420,1419],[1380,1381,1421,1420],[1381,1382,1422,1421],[1382,1383,1423,1422],[1383,1384,1424,1423],[1384,1385,1425,1424],[1385,1386,1426,1425],[1386,1387,1427,1426],[1387,1388,1428,1427],[1388,1389,1429,1428],[1389,1390,1430,1429],[1390,1391,1431,1430],[1391,1392,1432,1431],[1392,1393,1433,1432],[1393,1394,1434,1433],[1394,1395,1435,1434],[1395,1396,1436,1435],[1396,1397,1437,1436],[1397,1398,1438,1437],[1398,1399,1439,1438],[1401,1400,1440,1441],[1400,1402,1442,1440],[1402,1403,1443,1442],[1403,1404,1444,1443],[1404,1405,1445,1444],[1405,1406,1446,1445],[1406,1407,1447,1446],[1407,1408,1448,1447],[1408,1409,1449,1448],[1409,1410,1450,1449],[1410,1411,1451,1450],[1411,1412,1452,1451],[1412,1413,1453,1452],[1413,1414,1454,1453],[1414,1415,1455,1454],[1415,1416,1456,1455],[1416,1417,1457,1456],[1417,1418,1458,1457],[1418,1419,1459,1458],[1419,1420,1460,1459],[1420,1421,1461,1460],[1421,1422,1462,1461],[1422,1423,1463,1462],[1423,1424,1464,1463],[1424,1425,1465,1464],[1425,1426,1466,1465],[1426,1427,1467,1466],[1427,1428,1468,1467],[1428,1429,1469,1468],[1429,1430,1470,1469],[1430,1431,1471,1470],[1431,1432,1472,1471],[1432,1433,1473,1472],[1433,1434,1474,1473],[1434,1435,1475,1474],[1435,1436,1476,1475],[1436,1437,1477,1476],[1437,1438,1478,1477],[1438,1439,1479,1478],[1441,1440,1480,1481],[1440,1442,1482,1480],[1442,1443,1483,1482],[1443,1444,1484,1483],[1444,1445,1485,1484],[1445,1446,1486,1485],[1446,1447,1487,1486],[1447,1448,1488,1487],[1448,1449,1489,1488],[1449,1450,1490,1489],[1450,1451,1491,1490],[1451,1452,1492,1491],[1452,1453,1493,1492],[1453,1454,1494,1493],[1454,1455,1495,1494],[1455,1456,1496,1495],[1456,1457,1497,1496],[1457,1458,1498,1497],[1458,1459,1499,1498],[1459,1460,1500,1499],[1460,1461,1501,1500],[1461,1462,1502,1501],[1462,1463,1503,1502],[1463,1464,1504,1503],[1464,1465,1505,1504],[1465,1466,1506,1505],[1466,1467,1507,1506],[1467,1468,1508,1507],[1468,1469,1509,1508],[1469,1470,1510,1509],[1470,1471,1511,1510],[1471,1472,1512,1511],[1472,1473,1513,1512],[1473,1474,1514,1513],[1474,1475,1515,1514],[1475,1476,1516,1515],[1476,1477,1517,1516],[1477,1478,1518,1517],[1478,1479,1519,1518],[1481,1480,1520,1521],[1480,1482,1522,1520],[1482,1483,1523,1522],[1483,1484,1524,1523],[1484,1485,1525,1524],[1485,1486,1526,1525],[1486,1487,1527,1526],[1487,1488,1528,1527],[1488,1489,1529,1528],[1489,1490,1530,1529],[1490,1491,1531,1530],[1491,1492,1532,1531],[1492,1493,1533,1532],[1493,1494,1534,1533],[1494,1495,1535,1534],[1495,1496,1536,1535],[1496,1497,1537,1536],[1497,1498,1538,1537],[1498,1499,1539,1538],[1499,1500,1540,1539],[1500,1501,1541,1540],[1501,1502,1542,1541],[1502,1503,1543,1542],[1503,1504,1544,1543],[1504,1505,1545,1544],[1505,1506,1546,1545],[1506,1507,1547,1546],[1507,1508,1548,1547],[1508,1509,1549,1548],[1509,1510,1550,1549],[1510,1511,1551,1550],[1511,1512,1552,1551],[1512,1513,1553,1552],[1513,1514,1554,1553],[1514,1515,1555,1554],[1515,1516,1556,1555],[1516,1517,1557,1556],[1517,1518,1558,1557],[1518,1519,1559,1558],[1521,1520,1560,1561],[1520,1522,1562,1560],[1522,1523,1563,1562],[1523,1524,1564,1563],[1524,1525,1565,1564],[1525,1526,1566,1565],[1526,1527,1567,1566],[1527,1528,1568,1567],[1528,1529,1569,1568],[1529,1530,1570,1569],[1530,1531,1571,1570],[1531,1532,1572,1571],[1532,1533,1573,1572],[1533,1534,1574,1573],[1534,1535,1575,1574],[1535,1536,1576,1575],[1536,1537,1577,1576],[1537,1538,1578,1577],[1538,1539,1579,1578],[1539,1540,1580,1579],[1540,1541,1581,1580],[1541,1542,1582,1581],[1542,1543,1583,1582],[1543,1544,1584,1583],[1544,1545,1585,1584],[1545,1546,1586,1585],[1546,1547,1587,1586],[1547,1548,1588,1587],[1548,1549,1589,1588],[1549,1550,1590,1589],[1550,1551,1591,1590],[1551,1552,1592,1591],[1552,1553,1593,1592],[1553,1554,1594,1593],[1554,1555,1595,1594],[1555,1556,1596,1595],[1556,1557,1597,1596],[1557,1558,1598,1597],[1558,1559,1599,1598]], &quot;color&quot;:&quot;#6666ff&quot;, &quot;opacity&quot;:1.0}];\n",
       "    for ( var i=0 ; i < surfaces.length ; i++ ) addSurface( surfaces[i] );\n",
       "\n",
       "    function addSurface( json ) {\n",
       "\n",
       "        var useFaceColors = 'faceColors' in json ? true : false;\n",
       "\n",
       "        var geometry = new THREE.Geometry();\n",
       "        for ( var i=0 ; i < json.vertices.length ; i++ ) {\n",
       "            var v = json.vertices[i];\n",
       "            geometry.vertices.push( new THREE.Vector3( a[0]*v.x, a[1]*v.y, a[2]*v.z ) );\n",
       "        }\n",
       "        for ( var i=0 ; i < json.faces.length ; i++ ) {\n",
       "            var f = json.faces[i];\n",
       "            for ( var j=0 ; j < f.length - 2 ; j++ ) {\n",
       "                var face = new THREE.Face3( f[0], f[j+1], f[j+2] );\n",
       "                if ( useFaceColors ) face.color.set( json.faceColors[i] );\n",
       "                geometry.faces.push( face );\n",
       "            }\n",
       "        }\n",
       "        geometry.computeVertexNormals();\n",
       "\n",
       "        var side = json.singleSide ? THREE.FrontSide : THREE.DoubleSide;\n",
       "        var transparent = json.opacity < 1 ? true : false;\n",
       "\n",
       "        var material = new THREE.MeshPhongMaterial( { side: side,\n",
       "                                     color: useFaceColors ? 'white' : json.color,\n",
       "                                     vertexColors: useFaceColors ? THREE.FaceColors : THREE.NoColors,\n",
       "                                     transparent: transparent, opacity: json.opacity,\n",
       "                                     shininess: 20, flatShading: json.useFlatShading } );\n",
       "\n",
       "        var c = new THREE.Vector3();\n",
       "        geometry.computeBoundingBox();\n",
       "        geometry.boundingBox.getCenter( c );\n",
       "        geometry.translate( -c.x, -c.y, -c.z );\n",
       "\n",
       "        var mesh = new THREE.Mesh( geometry, material );\n",
       "        mesh.position.set( c.x, c.y, c.z );\n",
       "        if ( transparent && json.renderOrder ) mesh.renderOrder = json.renderOrder;\n",
       "        scene.add( mesh );\n",
       "\n",
       "        if ( json.showMeshGrid ) {\n",
       "\n",
       "            var geometry = new THREE.Geometry();\n",
       "\n",
       "            for ( var i=0 ; i < json.faces.length ; i++ ) {\n",
       "                var f = json.faces[i];\n",
       "                for ( var j=0 ; j < f.length ; j++ ) {\n",
       "                    var k = j === f.length-1 ? 0 : j+1;\n",
       "                    var v1 = json.vertices[f[j]];\n",
       "                    var v2 = json.vertices[f[k]];\n",
       "                    // vertices in opposite directions on neighboring faces\n",
       "                    var nudge = f[j] < f[k] ? .0005*zRange : -.0005*zRange;\n",
       "                    geometry.vertices.push( new THREE.Vector3( a[0]*v1.x, a[1]*v1.y, a[2]*(v1.z+nudge) ) );\n",
       "                    geometry.vertices.push( new THREE.Vector3( a[0]*v2.x, a[1]*v2.y, a[2]*(v2.z+nudge) ) );\n",
       "                }\n",
       "            }\n",
       "\n",
       "            var material = new THREE.LineBasicMaterial( { color: 'black', linewidth: 1 } );\n",
       "\n",
       "            var c = new THREE.Vector3();\n",
       "            geometry.computeBoundingBox();\n",
       "            geometry.boundingBox.getCenter( c );\n",
       "            geometry.translate( -c.x, -c.y, -c.z );\n",
       "\n",
       "            var mesh = new THREE.LineSegments( geometry, material );\n",
       "            mesh.position.set( c.x, c.y, c.z );\n",
       "            scene.add( mesh );\n",
       "\n",
       "        }\n",
       "\n",
       "    }\n",
       "\n",
       "    var scratch = new THREE.Vector3();\n",
       "\n",
       "    function render() {\n",
       "\n",
       "        if ( animate ) requestAnimationFrame( render );\n",
       "        renderer.render( scene, camera );\n",
       "\n",
       "        // Resize text based on distance from camera.\n",
       "        // Not neccessary for orthographic due to the nature of the projection (preserves sizes).\n",
       "        if ( !camera.isOrthographicCamera ) {\n",
       "            for ( var i=0 ; i < scene.children.length ; i++ ) {\n",
       "                if ( scene.children[i].type === 'Sprite' ) {\n",
       "                    var sprite = scene.children[i];\n",
       "                    var adjust = scratch.addVectors( sprite.position, scene.position )\n",
       "                                    .sub( camera.position ).length() / 5;\n",
       "                    sprite.scale.set( adjust, .25*adjust ); // ratio of canvas width to height\n",
       "                }\n",
       "            }\n",
       "        }\n",
       "    }\n",
       "    \n",
       "    render();\n",
       "    controls.update();\n",
       "    if ( !animate ) render();\n",
       "\n",
       "\n",
       "    // menu functions\n",
       "\n",
       "    function toggleMenu() {\n",
       "\n",
       "        var m = document.getElementById( 'menu-content' );\n",
       "        if ( m.style.display === 'block' ) m.style.display = 'none'\n",
       "        else m.style.display = 'block';\n",
       "\n",
       "    }\n",
       "\n",
       "\n",
       "    function saveAsPNG() {\n",
       "\n",
       "        var a = document.body.appendChild( document.createElement( 'a' ) );\n",
       "        a.href = renderer.domElement.toDataURL( 'image/png' );\n",
       "        a.download = 'screenshot';\n",
       "        a.click();\n",
       "\n",
       "    }\n",
       "\n",
       "    function saveAsHTML() {\n",
       "\n",
       "        toggleMenu(); // otherwise visible in output\n",
       "        event.stopPropagation();\n",
       "\n",
       "        var blob = new Blob( [ '<!DOCTYPE html>\\n' + document.documentElement.outerHTML ] );\n",
       "        var a = document.body.appendChild( document.createElement( 'a' ) );\n",
       "        a.href = window.URL.createObjectURL( blob );\n",
       "        a.download = 'graphic.html';\n",
       "        a.click();\n",
       "\n",
       "    }\n",
       "\n",
       "    function getViewpoint() {\n",
       "\n",
       "        var info = '<pre>' + JSON.stringify( camera, null, '\\t' ) + '</pre>';\n",
       "        window.open().document.write( info );\n",
       "\n",
       "    }\n",
       "\n",
       "</script>\n",
       "\n",
       "<div id=&quot;menu-container&quot; onclick=&quot;toggleMenu()&quot;>&#x24d8;\n",
       "<div id=&quot;menu-content&quot;>\n",
       "<div onclick=&quot;saveAsPNG()&quot;>Save as PNG</div>\n",
       "<div onclick=&quot;saveAsHTML()&quot;>Save as HTML</div>\n",
       "<div onclick=&quot;getViewpoint()&quot;>Camera Info</div>\n",
       "<div>Close Menu</div>\n",
       "</div></div>\n",
       "\n",
       "</body>\n",
       "</html>\n",
       "\"\n",
       "        width=\"100%\"\n",
       "        height=\"400\"\n",
       "        style=\"border: 0;\">\n",
       "</iframe>\n"
      ],
      "text/plain": [
       "Graphics3d Object"
      ]
     },
     "execution_count": 274,
     "metadata": {},
     "output_type": "execute_result"
    }
   ],
   "source": [
    "plot3d(f, (x, -1, 1), (y, -1, 1))"
   ]
  },
  {
   "cell_type": "markdown",
   "metadata": {},
   "source": [
    "**Importante.** Quando queremos respostas numéricas, computação simbólica mais atrapalha do que ajuda."
   ]
  },
  {
   "cell_type": "code",
   "execution_count": 110,
   "metadata": {},
   "outputs": [
    {
     "data": {
      "text/plain": [
       "93/13"
      ]
     },
     "execution_count": 110,
     "metadata": {},
     "output_type": "execute_result"
    }
   ],
   "source": [
    "93/13"
   ]
  },
  {
   "cell_type": "code",
   "execution_count": 111,
   "metadata": {},
   "outputs": [
    {
     "data": {
      "text/plain": [
       "log(1201)/log(2)"
      ]
     },
     "execution_count": 111,
     "metadata": {},
     "output_type": "execute_result"
    }
   ],
   "source": [
    "log(1201, 2)"
   ]
  },
  {
   "cell_type": "markdown",
   "metadata": {},
   "source": [
    "Para obtermos a aproximação numérica de uma expressão, usamos a função `n` que toma como parâmetros uma expressão  e, opcionalmente, o número de dígitos da aproximação."
   ]
  },
  {
   "cell_type": "code",
   "execution_count": 112,
   "metadata": {},
   "outputs": [
    {
     "data": {
      "text/plain": [
       "7.15384615384615"
      ]
     },
     "execution_count": 112,
     "metadata": {},
     "output_type": "execute_result"
    }
   ],
   "source": [
    "n(93/13)"
   ]
  },
  {
   "cell_type": "code",
   "execution_count": 114,
   "metadata": {},
   "outputs": [
    {
     "data": {
      "text/plain": [
       "10.2300204357056340945901830909"
      ]
     },
     "execution_count": 114,
     "metadata": {},
     "output_type": "execute_result"
    }
   ],
   "source": [
    "n(log(1201, 2), digits=30)"
   ]
  },
  {
   "cell_type": "markdown",
   "metadata": {},
   "source": [
    "### Para que usar Sage?"
   ]
  },
  {
   "cell_type": "markdown",
   "metadata": {},
   "source": [
    "Vamos comparar código em C e Sage para fazer multiplicações de matrizes binárias."
   ]
  },
  {
   "cell_type": "markdown",
   "metadata": {},
   "source": [
    "Em C, a biblioteca mais rápida para fazer multiplicação binária eficiente é chamada M4RI. \n",
    "\n",
    "Considere a implementação abaixo:"
   ]
  },
  {
   "cell_type": "markdown",
   "metadata": {},
   "source": [
    "```C\n",
    "mzd_t* multiply_two_random_matrices(rci_t n) {\n",
    "  mzd_t* A = mzd_init(n, n);\n",
    "  mzd_t* B = mzd_init(n, n);\n",
    "  mzd_randomize(A);\n",
    "  mzd_randomize(B);\n",
    "  mzd_t* C = mzd_mul(NULL, A, B, NULL);\n",
    "  \n",
    "  mzd_free(A);\n",
    "  mzd_free(B);\n",
    "    \n",
    "  return C;\n",
    "}\n",
    "```"
   ]
  },
  {
   "cell_type": "markdown",
   "metadata": {},
   "source": [
    "Agora o código em Sage que realiza exatemente a mesma computação:"
   ]
  },
  {
   "cell_type": "code",
   "execution_count": 66,
   "metadata": {},
   "outputs": [],
   "source": [
    "def multiply_two_random_matrices(n):\n",
    "    A = random_matrix(GF(2), n, n)\n",
    "    B = random_matrix(GF(2), n, n)\n",
    "    return A*B"
   ]
  },
  {
   "cell_type": "code",
   "execution_count": 85,
   "metadata": {},
   "outputs": [
    {
     "name": "stdout",
     "output_type": "stream",
     "text": [
      "[0 1 1 0 1 1 0 1]\n",
      "[0 0 1 0 0 0 0 0]\n",
      "[0 1 0 1 0 1 0 0]\n",
      "[1 0 1 1 1 0 1 1]\n",
      "[0 1 1 1 0 0 1 0]\n",
      "[1 1 0 1 1 1 0 1]\n",
      "[1 0 0 1 1 1 0 1]\n",
      "[1 0 0 1 1 1 1 1]\n"
     ]
    }
   ],
   "source": [
    "C = multiply_two_random_matrices(8)\n",
    "print(C)"
   ]
  },
  {
   "cell_type": "markdown",
   "metadata": {},
   "source": [
    "As duas implementações rodam em tempo similar **pois Sage chama a rotina da M4RI para fazer a multiplicação!**"
   ]
  },
  {
   "cell_type": "markdown",
   "metadata": {},
   "source": [
    "Além disso, temos a vantagem de ter a mesma interface para vários sistemas bem diferentes entre si. Por exemplo: podemos usar $\\mathbf{C}$ diretamente como matriz de adjacência para construir um grafo"
   ]
  },
  {
   "cell_type": "code",
   "execution_count": 115,
   "metadata": {},
   "outputs": [
    {
     "data": {
      "image/png": "[encoded data removed]",
      "text/plain": [
       "Graphics object consisting of 26 graphics primitives"
      ]
     },
     "execution_count": 115,
     "metadata": {},
     "output_type": "execute_result"
    }
   ],
   "source": [
    "G = sage.graphs.graph.Graph(C, format='adjacency_matrix')\n",
    "plot(G)"
   ]
  },
  {
   "cell_type": "markdown",
   "metadata": {},
   "source": [
    "Podemos obter informações importantes sobre o grafo gerado. Por exemplo, se o grafo é conexo ou não."
   ]
  },
  {
   "cell_type": "code",
   "execution_count": 116,
   "metadata": {},
   "outputs": [
    {
     "data": {
      "text/plain": [
       "True"
      ]
     },
     "execution_count": 116,
     "metadata": {},
     "output_type": "execute_result"
    }
   ],
   "source": [
    "G.is_connected()"
   ]
  },
  {
   "cell_type": "markdown",
   "metadata": {},
   "source": [
    "Por onde você começaria a implementar em C isso que acabamos de fazer tão facilmente?"
   ]
  },
  {
   "cell_type": "markdown",
   "metadata": {},
   "source": [
    "\n",
    "### Como usar o Sage?\n"
   ]
  },
  {
   "cell_type": "markdown",
   "metadata": {},
   "source": [
    "O SageMath pode ser usado de 3 formas:\n",
    "- Usando o Jupyter Notebook (essa é a forma sendo usada neste documento)\n",
    "- Com um interpretador interativo (como Python): \n",
    "- Por meio de scripts (como Python)\n"
   ]
  },
  {
   "cell_type": "markdown",
   "metadata": {},
   "source": [
    "Para o EP, vocês deverão entregar um script `.py`.\n",
    "\n",
    "Um dos melhores editores para isso é o Atom (https://atom.io/), porém qualquer editor de texto pode ser usado.\n",
    "\n",
    "Para que seu script possa usar todas as funções do sage, ele deve conter `from sage.all import *` no topo."
   ]
  },
  {
   "cell_type": "markdown",
   "metadata": {},
   "source": [
    "`script.py`\n",
    "```python\n",
    "from sage.all import *\n",
    "\n",
    "def func1():\n",
    "    print('Esta é a função 1')\n",
    "\n",
    "def func2():\n",
    "    print('Esta é a função 2')\n",
    "\n",
    "if __name__ == \"__main__\":\n",
    "    func1()  # Chama a função 1\n",
    "    func2()  # Chama a função 2\n",
    "\n",
    "\n",
    "```"
   ]
  },
  {
   "cell_type": "markdown",
   "metadata": {},
   "source": [
    "Para rodar o arquivo `script.py`, use:\n",
    "\n",
    "`sage script.py`"
   ]
  },
  {
   "cell_type": "markdown",
   "metadata": {},
   "source": [
    "Para a depuração do seu script, é muito útil rodar o script dentro do interpretador interativo do Sage. Da mesma forma que fazemos isso no iPython, podemos rodar `%run script.py` dentro do Sage.\n",
    "\n",
    "```\n",
    "/home/user/$ sage\n",
    "┌────────────────────────────────────────────────────────────────────┐\n",
    "  SageMath version 9.0, Release Date: 2020-01-01                                  \n",
    "  Using Python 3.8.2. Type \"help()\" for help.                                     \n",
    "└────────────────────────────────────────────────────────────────────┘\n",
    "sage: %run script.py \n",
    "```"
   ]
  },
  {
   "cell_type": "markdown",
   "metadata": {},
   "source": [
    "## Aritmética modular"
   ]
  },
  {
   "cell_type": "markdown",
   "metadata": {},
   "source": [
    "Nesta seção, trataremos de $Z_n$, que é o anel de inteiros módulo $n$. \n",
    "Primeiro relembremos a definição de Anel."
   ]
  },
  {
   "cell_type": "markdown",
   "metadata": {},
   "source": [
    "**Definição.** Um anel $R$ é um conjunto munido de duas operações $+$ (adição) e $.$ (multiplicação), que, para todos $a, b, c \\in R$, satisfazem:\n",
    "1. Associatividade de $+$\n",
    "$$\n",
    "(a + b) + c = a + ( b + c)\n",
    "$$\n",
    "2. Comutatividade de $+$\n",
    "$$\n",
    "a + b = b + a\n",
    "$$\n",
    "3. Existência do identidade de $+$. Existe um elemento $0 \\in R$ tal que \n",
    "    $$\n",
    "    a + 0 = a\n",
    "    $$\n",
    "\n",
    "4. Existência da inversa aditiva. Existe um elemento $(-a) \\in R$ tal que \n",
    "    $$\n",
    "    a + (-a) = 0\n",
    "    $$\n",
    "\n",
    "5. Associatividade de $.$\n",
    "$$\n",
    "(a b) c = a ( b c)\n",
    "$$\n",
    "6. Existência da identidade de $.$\n",
    "\n",
    "    Existe um elemento $1 \\in R$ tal que \n",
    "    $$ \n",
    "    a1 = 1a = a\n",
    "    $$\n",
    "7. Distributividade de $.$ sobre $+$:\n",
    "$$\n",
    "    (a + b)c = ac + bc \\\\\n",
    "    c(a + b) = ca + cb\n",
    "$$"
   ]
  },
  {
   "cell_type": "markdown",
   "metadata": {},
   "source": [
    "**Importante**. Note que num anel não é necessário que $.$ seja comutativa, e nem que exista a inversa multiplicativa de todos os elementos."
   ]
  },
  {
   "cell_type": "markdown",
   "metadata": {},
   "source": [
    "\n",
    "Em Sage, é muito simples trabalhar com $Z_n$, o anel de inteiros $\\bmod n$."
   ]
  },
  {
   "cell_type": "code",
   "execution_count": 122,
   "metadata": {},
   "outputs": [],
   "source": [
    "n = 13"
   ]
  },
  {
   "cell_type": "code",
   "execution_count": 131,
   "metadata": {},
   "outputs": [
    {
     "name": "stdout",
     "output_type": "stream",
     "text": [
      "Ring of integers modulo 13\n"
     ]
    }
   ],
   "source": [
    "Zn = Integers(n)\n",
    "print(Zn)"
   ]
  },
  {
   "cell_type": "code",
   "execution_count": 128,
   "metadata": {},
   "outputs": [
    {
     "data": {
      "text/plain": [
       " +   0  1  2  3  4  5  6  7  8  9 10 11 12\n",
       "  +---------------------------------------\n",
       " 0|  0  1  2  3  4  5  6  7  8  9 10 11 12\n",
       " 1|  1  2  3  4  5  6  7  8  9 10 11 12  0\n",
       " 2|  2  3  4  5  6  7  8  9 10 11 12  0  1\n",
       " 3|  3  4  5  6  7  8  9 10 11 12  0  1  2\n",
       " 4|  4  5  6  7  8  9 10 11 12  0  1  2  3\n",
       " 5|  5  6  7  8  9 10 11 12  0  1  2  3  4\n",
       " 6|  6  7  8  9 10 11 12  0  1  2  3  4  5\n",
       " 7|  7  8  9 10 11 12  0  1  2  3  4  5  6\n",
       " 8|  8  9 10 11 12  0  1  2  3  4  5  6  7\n",
       " 9|  9 10 11 12  0  1  2  3  4  5  6  7  8\n",
       "10| 10 11 12  0  1  2  3  4  5  6  7  8  9\n",
       "11| 11 12  0  1  2  3  4  5  6  7  8  9 10\n",
       "12| 12  0  1  2  3  4  5  6  7  8  9 10 11\n"
      ]
     },
     "execution_count": 128,
     "metadata": {},
     "output_type": "execute_result"
    }
   ],
   "source": [
    "Zn.addition_table(names='elements')"
   ]
  },
  {
   "cell_type": "code",
   "execution_count": 130,
   "metadata": {},
   "outputs": [
    {
     "data": {
      "text/plain": [
       " *   0  1  2  3  4  5  6  7  8  9 10 11 12\n",
       "  +---------------------------------------\n",
       " 0|  0  0  0  0  0  0  0  0  0  0  0  0  0\n",
       " 1|  0  1  2  3  4  5  6  7  8  9 10 11 12\n",
       " 2|  0  2  4  6  8 10 12  1  3  5  7  9 11\n",
       " 3|  0  3  6  9 12  2  5  8 11  1  4  7 10\n",
       " 4|  0  4  8 12  3  7 11  2  6 10  1  5  9\n",
       " 5|  0  5 10  2  7 12  4  9  1  6 11  3  8\n",
       " 6|  0  6 12  5 11  4 10  3  9  2  8  1  7\n",
       " 7|  0  7  1  8  2  9  3 10  4 11  5 12  6\n",
       " 8|  0  8  3 11  6  1  9  4 12  7  2 10  5\n",
       " 9|  0  9  5  1 10  6  2 11  7  3 12  8  4\n",
       "10|  0 10  7  4  1 11  8  5  2 12  9  6  3\n",
       "11|  0 11  9  7  5  3  1 12 10  8  6  4  2\n",
       "12|  0 12 11 10  9  8  7  6  5  4  3  2  1\n"
      ]
     },
     "execution_count": 130,
     "metadata": {},
     "output_type": "execute_result"
    }
   ],
   "source": [
    "Zn.multiplication_table(names='elements')"
   ]
  },
  {
   "cell_type": "markdown",
   "metadata": {},
   "source": [
    "O Sage cuida para que as operações sejam feitas dentro deste anel."
   ]
  },
  {
   "cell_type": "code",
   "execution_count": 135,
   "metadata": {},
   "outputs": [
    {
     "data": {
      "text/plain": [
       "19"
      ]
     },
     "execution_count": 135,
     "metadata": {},
     "output_type": "execute_result"
    }
   ],
   "source": [
    "10 + 9  # Operação fora de Zn"
   ]
  },
  {
   "cell_type": "code",
   "execution_count": 139,
   "metadata": {},
   "outputs": [
    {
     "data": {
      "text/plain": [
       "100000000000000000000"
      ]
     },
     "execution_count": 139,
     "metadata": {},
     "output_type": "execute_result"
    }
   ],
   "source": [
    "10**20  # Operação fora de Zn"
   ]
  },
  {
   "cell_type": "code",
   "execution_count": 136,
   "metadata": {},
   "outputs": [
    {
     "data": {
      "text/plain": [
       "6"
      ]
     },
     "execution_count": 136,
     "metadata": {},
     "output_type": "execute_result"
    }
   ],
   "source": [
    "Zn(10) + Zn(9)  # Operação em Zn"
   ]
  },
  {
   "cell_type": "code",
   "execution_count": 138,
   "metadata": {},
   "outputs": [
    {
     "data": {
      "text/plain": [
       "9"
      ]
     },
     "execution_count": 138,
     "metadata": {},
     "output_type": "execute_result"
    }
   ],
   "source": [
    "Zn(10)**20  # Operação em Zn"
   ]
  },
  {
   "cell_type": "markdown",
   "metadata": {},
   "source": [
    "Note que, quando $\\gcd(a, n) = 1$, existe inversa de $a \\bmod n$, que pode é computada diretamente:"
   ]
  },
  {
   "cell_type": "code",
   "execution_count": 172,
   "metadata": {},
   "outputs": [
    {
     "data": {
      "text/plain": [
       "10"
      ]
     },
     "execution_count": 172,
     "metadata": {},
     "output_type": "execute_result"
    }
   ],
   "source": [
    "Zn(4)^-1"
   ]
  },
  {
   "cell_type": "code",
   "execution_count": 173,
   "metadata": {},
   "outputs": [
    {
     "data": {
      "text/plain": [
       "1"
      ]
     },
     "execution_count": 173,
     "metadata": {},
     "output_type": "execute_result"
    }
   ],
   "source": [
    "Zn(10)*Zn(4)"
   ]
  },
  {
   "cell_type": "markdown",
   "metadata": {},
   "source": [
    "Além disso, para casos em que precisamos apenas da exponenciação ou inversão modular, sem que seja necessário fazer outras operações em $Z_n$, podemos usar as funções `power_mod` ou `inverse_mod`. Isso evita a sobrecarga de criar o $Z_n$, como fizemos anteriormente."
   ]
  },
  {
   "cell_type": "code",
   "execution_count": 168,
   "metadata": {
    "scrolled": true
   },
   "outputs": [
    {
     "data": {
      "text/plain": [
       "9"
      ]
     },
     "execution_count": 168,
     "metadata": {},
     "output_type": "execute_result"
    }
   ],
   "source": [
    "power_mod(10, 20, 13)"
   ]
  },
  {
   "cell_type": "code",
   "execution_count": 174,
   "metadata": {},
   "outputs": [
    {
     "data": {
      "text/plain": [
       "10"
      ]
     },
     "execution_count": 174,
     "metadata": {},
     "output_type": "execute_result"
    }
   ],
   "source": [
    "inverse_mod(4, 13)"
   ]
  },
  {
   "cell_type": "markdown",
   "metadata": {},
   "source": [
    "Compare as respotas acima com as calculadas sobre elementos de $Z_n$ diretamente."
   ]
  },
  {
   "cell_type": "markdown",
   "metadata": {},
   "source": [
    "***"
   ]
  },
  {
   "cell_type": "markdown",
   "metadata": {},
   "source": [
    "Funções importantes como o Máximo Divisor Comum, Algoritmo de Euclides estendido, e Teorema Chinês do Resto são implementados em Sage."
   ]
  },
  {
   "cell_type": "markdown",
   "metadata": {},
   "source": [
    "O MDC (Greatest Common Divisor - GCD) pode ser computado usando a função `gcd`"
   ]
  },
  {
   "cell_type": "code",
   "execution_count": 163,
   "metadata": {},
   "outputs": [
    {
     "data": {
      "text/plain": [
       "1"
      ]
     },
     "execution_count": 163,
     "metadata": {},
     "output_type": "execute_result"
    }
   ],
   "source": [
    "gcd(133, 48)"
   ]
  },
  {
   "cell_type": "markdown",
   "metadata": {},
   "source": [
    "O algoritmo de Euclides estendido é feito pela função `xgcd`"
   ]
  },
  {
   "cell_type": "code",
   "execution_count": 165,
   "metadata": {},
   "outputs": [],
   "source": [
    "res, u, v = xgcd(133, 48)"
   ]
  },
  {
   "cell_type": "code",
   "execution_count": 166,
   "metadata": {},
   "outputs": [
    {
     "data": {
      "text/plain": [
       "1"
      ]
     },
     "execution_count": 166,
     "metadata": {},
     "output_type": "execute_result"
    }
   ],
   "source": [
    "res"
   ]
  },
  {
   "cell_type": "code",
   "execution_count": 167,
   "metadata": {},
   "outputs": [
    {
     "data": {
      "text/plain": [
       "1"
      ]
     },
     "execution_count": 167,
     "metadata": {},
     "output_type": "execute_result"
    }
   ],
   "source": [
    "u*133 + v*48"
   ]
  },
  {
   "cell_type": "markdown",
   "metadata": {},
   "source": [
    "Considere os seguintes resíduos para os quais queremos aplicar o Teorema Chinês do Resto (TCR).\n",
    "$$\n",
    "\\begin{cases}\n",
    "    x \\equiv 17 \\mod 23 \\\\\n",
    "    x \\equiv 91 \\mod 111 \\\\\n",
    "    x \\equiv 40 \\mod 57 \\\\\n",
    "\\end{cases}\n",
    "$$\n",
    "\n",
    "O Teorema Chinês do Resto (Chinese Remainder Theorem - CRT) pode ser usado para encontrar uma solução para as congruências usando a função `crt`"
   ]
  },
  {
   "cell_type": "code",
   "execution_count": 156,
   "metadata": {},
   "outputs": [],
   "source": [
    "x = crt([17, 91, 40], [23, 111, 57])"
   ]
  },
  {
   "cell_type": "code",
   "execution_count": 175,
   "metadata": {},
   "outputs": [
    {
     "data": {
      "text/plain": [
       "(17, 91, 40)"
      ]
     },
     "execution_count": 175,
     "metadata": {},
     "output_type": "execute_result"
    }
   ],
   "source": [
    "x % 23, x % 111, x % 57"
   ]
  },
  {
   "cell_type": "markdown",
   "metadata": {},
   "source": [
    "## Matrizes"
   ]
  },
  {
   "cell_type": "markdown",
   "metadata": {},
   "source": [
    "Como vimos no começo da aula, Sage é capaz de trabalhar com álgebra de matrizes."
   ]
  },
  {
   "cell_type": "markdown",
   "metadata": {},
   "source": [
    "### Criando matrizes e vetores"
   ]
  },
  {
   "cell_type": "markdown",
   "metadata": {},
   "source": [
    "Para criar uma matriz usando uma lista de listas, usamos a função `matrix`"
   ]
  },
  {
   "cell_type": "code",
   "execution_count": 186,
   "metadata": {},
   "outputs": [
    {
     "name": "stdout",
     "output_type": "stream",
     "text": [
      "[1 3 2]\n",
      "[2 5 1]\n",
      "[7 8 3]\n"
     ]
    }
   ],
   "source": [
    "A = matrix(\n",
    "    [\n",
    "        [1, 3, 2],\n",
    "        [2, 5, 1], \n",
    "        [7, 8, 3],\n",
    "    ]\n",
    ")\n",
    "print(A)"
   ]
  },
  {
   "cell_type": "markdown",
   "metadata": {},
   "source": [
    "Como não foi explicitado a que anel pertencem os elementos de `A`, o Sage supõe que são inteiros. Portanto, ao calcular `A*A`, a resposta é dada em inteiros."
   ]
  },
  {
   "cell_type": "code",
   "execution_count": 197,
   "metadata": {},
   "outputs": [
    {
     "data": {
      "text/plain": [
       "[21 34 11]\n",
       "[19 39 12]\n",
       "[44 85 31]"
      ]
     },
     "execution_count": 197,
     "metadata": {},
     "output_type": "execute_result"
    }
   ],
   "source": [
    "A*A"
   ]
  },
  {
   "cell_type": "markdown",
   "metadata": {},
   "source": [
    "Em criptografia, é muito comum trabalharmos com matrizes de inteiros $\\bmod n$. Para isso, podemos fazer a inicialização da seguinte forma."
   ]
  },
  {
   "cell_type": "code",
   "execution_count": 237,
   "metadata": {},
   "outputs": [
    {
     "name": "stdout",
     "output_type": "stream",
     "text": [
      "[1 3 2]\n",
      "[2 5 1]\n",
      "[7 8 3]\n"
     ]
    }
   ],
   "source": [
    "Zn = Integers(13)  # Apenas para lembrar do que é Zn\n",
    "\n",
    "An = matrix(Zn,\n",
    "    [\n",
    "        [1, 3, 2],\n",
    "        [2, 5, 1], \n",
    "        [7, 8, 3],\n",
    "    ]\n",
    ")\n",
    "print(An)"
   ]
  },
  {
   "cell_type": "markdown",
   "metadata": {},
   "source": [
    "Agora, o produto `An*An` e soma `An + An` são calculado em `Zn`"
   ]
  },
  {
   "cell_type": "code",
   "execution_count": 238,
   "metadata": {},
   "outputs": [
    {
     "data": {
      "text/plain": [
       "[ 8  8 11]\n",
       "[ 6  0 12]\n",
       "[ 5  7  5]"
      ]
     },
     "execution_count": 238,
     "metadata": {},
     "output_type": "execute_result"
    }
   ],
   "source": [
    "An*An"
   ]
  },
  {
   "cell_type": "code",
   "execution_count": 239,
   "metadata": {},
   "outputs": [
    {
     "data": {
      "text/plain": [
       "[ 2  6  4]\n",
       "[ 4 10  2]\n",
       "[ 1  3  6]"
      ]
     },
     "execution_count": 239,
     "metadata": {},
     "output_type": "execute_result"
    }
   ],
   "source": [
    "An + An"
   ]
  },
  {
   "cell_type": "markdown",
   "metadata": {},
   "source": [
    "Muitas vezes, em criptografia, precisamos gerar matrizes aleatórias. Isto pode ser feito usando a função `random_matrix`, que recebe como parâmetro um Anel de base, o número de linhas e o número de colunas."
   ]
  },
  {
   "cell_type": "code",
   "execution_count": 240,
   "metadata": {},
   "outputs": [
    {
     "data": {
      "text/plain": [
       "[ 5  2  0]\n",
       "[11  6 10]\n",
       "[ 8  5  8]"
      ]
     },
     "execution_count": 240,
     "metadata": {},
     "output_type": "execute_result"
    }
   ],
   "source": [
    "random_matrix(Zn, 3, 3)"
   ]
  },
  {
   "cell_type": "markdown",
   "metadata": {},
   "source": [
    "### Operações sobre matrizes"
   ]
  },
  {
   "cell_type": "markdown",
   "metadata": {},
   "source": [
    "O método `inverse` calucula inversa de uma matriz quadrada, quando esta é não singular."
   ]
  },
  {
   "cell_type": "code",
   "execution_count": 241,
   "metadata": {},
   "outputs": [
    {
     "name": "stdout",
     "output_type": "stream",
     "text": [
      "[ 3  3 10]\n",
      "[ 6 12  5]\n",
      "[ 3  0  7]\n"
     ]
    }
   ],
   "source": [
    "An_inv = An.inverse()\n",
    "print(An_inv)"
   ]
  },
  {
   "cell_type": "code",
   "execution_count": 242,
   "metadata": {},
   "outputs": [
    {
     "data": {
      "text/plain": [
       "[1 0 0]\n",
       "[0 1 0]\n",
       "[0 0 1]"
      ]
     },
     "execution_count": 242,
     "metadata": {},
     "output_type": "execute_result"
    }
   ],
   "source": [
    "An_inv*An"
   ]
  },
  {
   "cell_type": "markdown",
   "metadata": {},
   "source": [
    "O determinante pode ser calculado usando o método `determinant`"
   ]
  },
  {
   "cell_type": "code",
   "execution_count": 261,
   "metadata": {},
   "outputs": [
    {
     "data": {
      "text/plain": [
       "-28"
      ]
     },
     "execution_count": 261,
     "metadata": {},
     "output_type": "execute_result"
    }
   ],
   "source": [
    "A.determinant()"
   ]
  },
  {
   "cell_type": "markdown",
   "metadata": {},
   "source": [
    "O método `echelon_form` devolve a matriz escalonada. Não confunda com o método `echelonize`, que escalona a matriz, alterando-a."
   ]
  },
  {
   "cell_type": "code",
   "execution_count": 247,
   "metadata": {},
   "outputs": [
    {
     "name": "stdout",
     "output_type": "stream",
     "text": [
      "Matriz B\n",
      "[ 3 12  7  5  9  4  2  4  5 10]\n",
      "[ 7  7  7  3 10  3  2 11  6 11]\n",
      "[10 10 11  3  1  0 10  4  3  8]\n",
      "[ 5  1  4 11  1  1  7  7  0  8]\n",
      "[11 10 12  4  7 12  9  7  7  6]\n",
      "Matriz B escalonada\n",
      "[ 1  0  0  0  0  7 11 11 12  7]\n",
      "[ 0  1  0  0  0 11  5 10  3  4]\n",
      "[ 0  0  1  0  0  5 11  5  2  7]\n",
      "[ 0  0  0  1  0  5 12  5  9  2]\n",
      "[ 0  0  0  0  1 10  5 10 12 10]\n"
     ]
    }
   ],
   "source": [
    "B = random_matrix(Zn, 5, 10)\n",
    "print('Matriz B')\n",
    "print(B)\n",
    "\n",
    "print('Matriz B escalonada')\n",
    "print(B.echelon_form())"
   ]
  },
  {
   "cell_type": "markdown",
   "metadata": {},
   "source": [
    "Posto e nulidade:"
   ]
  },
  {
   "cell_type": "code",
   "execution_count": 250,
   "metadata": {},
   "outputs": [
    {
     "data": {
      "text/plain": [
       "5"
      ]
     },
     "execution_count": 250,
     "metadata": {},
     "output_type": "execute_result"
    }
   ],
   "source": [
    "B.rank()"
   ]
  },
  {
   "cell_type": "code",
   "execution_count": 255,
   "metadata": {},
   "outputs": [
    {
     "data": {
      "text/plain": [
       "0"
      ]
     },
     "execution_count": 255,
     "metadata": {},
     "output_type": "execute_result"
    }
   ],
   "source": [
    "B.nullity()"
   ]
  },
  {
   "cell_type": "markdown",
   "metadata": {},
   "source": [
    "### Resolvendo sistemas lineares"
   ]
  },
  {
   "cell_type": "markdown",
   "metadata": {},
   "source": [
    "Para resolver um sistema da forma $\\mathbf{D} \\mathbf{x} = \\mathbf{b}$, usamos o método `solve_right`."
   ]
  },
  {
   "cell_type": "code",
   "execution_count": 284,
   "metadata": {},
   "outputs": [
    {
     "name": "stdout",
     "output_type": "stream",
     "text": [
      "D = \n",
      "[ 5 11 12  2]\n",
      "[ 9 10  5 12]\n",
      "[ 9  9 11  5]\n",
      "[ 2  2  5  2]\n",
      "b =  (2, 6, 0, 11)\n"
     ]
    }
   ],
   "source": [
    "D = random_matrix(Zn, 4, 4)\n",
    "b = random_vector(Zn, 4)\n",
    "print('D = ')\n",
    "print(D)\n",
    "print('b = ', b)"
   ]
  },
  {
   "cell_type": "code",
   "execution_count": 298,
   "metadata": {},
   "outputs": [
    {
     "name": "stdout",
     "output_type": "stream",
     "text": [
      "(0, 6, 4, 9)\n"
     ]
    }
   ],
   "source": [
    "x = D.solve_right(b)\n",
    "print(x)"
   ]
  },
  {
   "cell_type": "code",
   "execution_count": 300,
   "metadata": {},
   "outputs": [
    {
     "data": {
      "text/plain": [
       "True"
      ]
     },
     "execution_count": 300,
     "metadata": {},
     "output_type": "execute_result"
    }
   ],
   "source": [
    "D*x == b"
   ]
  },
  {
   "cell_type": "markdown",
   "metadata": {},
   "source": [
    "## Corpos"
   ]
  },
  {
   "cell_type": "markdown",
   "metadata": {},
   "source": [
    "*Definição.* Um Corpo K é um conjunto munido de duas operações $+$ e $.$ tais que:\n",
    "1. $(K, +, .)$ é um anel\n",
    "2. A operação $.$ é comutativa. Ou seja, para todos $a, b \\in K$:\n",
    "   $$\n",
    "   a b = b a, \n",
    "   $$\n",
    "   \n",
    "3. Para todo elemento $a$ **não nulo** de $K$, existe o seu inverso multiplicativo $a^{-1} \\in K$ tal que:\n",
    "    $$\n",
    "    aa^{-1} = a^{-1}a = 1\n",
    "    $$"
   ]
  },
  {
   "cell_type": "markdown",
   "metadata": {},
   "source": [
    "**Observação**. Corpo é uma abstração do conjunto dos Racionais, onde todos os elementos diferentes de 0 têm inversa."
   ]
  },
  {
   "cell_type": "markdown",
   "metadata": {},
   "source": [
    "Em criptografia, tipicamente estamos interessados em corpos finitos, pois os elementos devem ser representados num número finito e prefixado de bits."
   ]
  },
  {
   "cell_type": "markdown",
   "metadata": {},
   "source": [
    "**Teorema**. Se $p$ é número primo, então $Z_p$ é um corpo finito.\n",
    "\n",
    "*Demontração*. Sabemos que $(Z_p, +, .)$ é um anel, então só precisamos mostrar que valem as propriedades 2 e 3. \n",
    "Sabemos também que a multiplicação modular é comutativa, o que prova que a propriedade 2 vale.\n",
    "Além disso, como $p$ é primo, então $\\gcd(a, p) = 1$ para todo $a \\in Z_p - \\{0\\}$. Portanto existe a inversa de $a \\mod p$, e vale a propriedade 3.\n"
   ]
  },
  {
   "cell_type": "markdown",
   "metadata": {},
   "source": [
    "Em sage, para determinar se um determinado anel é também um, podemos usar o método `is_field`"
   ]
  },
  {
   "cell_type": "code",
   "execution_count": 601,
   "metadata": {},
   "outputs": [
    {
     "data": {
      "text/plain": [
       "True"
      ]
     },
     "execution_count": 601,
     "metadata": {},
     "output_type": "execute_result"
    }
   ],
   "source": [
    "Integers(13).is_field()\n"
   ]
  },
  {
   "cell_type": "code",
   "execution_count": 602,
   "metadata": {},
   "outputs": [
    {
     "data": {
      "text/plain": [
       "False"
      ]
     },
     "execution_count": 602,
     "metadata": {},
     "output_type": "execute_result"
    }
   ],
   "source": [
    "Integers(10).is_field()"
   ]
  },
  {
   "cell_type": "markdown",
   "metadata": {},
   "source": [
    "Em geral, ao programar, devemos ser o mais explícitos possível. Portanto, ao declarar um conjunto que sabemos que é um corpo, é preferível usar o construtor `GF` (de Galois Field) "
   ]
  },
  {
   "cell_type": "code",
   "execution_count": 603,
   "metadata": {},
   "outputs": [],
   "source": [
    "K = GF(13)"
   ]
  },
  {
   "cell_type": "markdown",
   "metadata": {},
   "source": [
    "Este construtor quebra quando passamos um tamanho incompatível com um corpo finito"
   ]
  },
  {
   "cell_type": "code",
   "execution_count": 608,
   "metadata": {},
   "outputs": [
    {
     "name": "stdout",
     "output_type": "stream",
     "text": [
      "the order of a finite field must be a prime power\n"
     ]
    }
   ],
   "source": [
    "try:\n",
    "    GF(10)\n",
    "except Exception as e:\n",
    "    print(e)"
   ]
  },
  {
   "cell_type": "markdown",
   "metadata": {},
   "source": [
    "Há corpos de tamanho não-primo. Em particular o tamanho de um corpo é sempre $q = p^k$ para algum primo $p$ e algum inteiro positivo $k \\geq 1$.\n",
    "\n",
    "Porém, pelo modo como é feita a multiplicação em corpos finitos de tamanhos não primos, seus elementos são melhor representados por polinômios e não por inteiros."
   ]
  },
  {
   "cell_type": "code",
   "execution_count": 624,
   "metadata": {},
   "outputs": [
    {
     "data": {
      "text/plain": [
       "t^8 + t^7 + t^5 + t^4 + t^3 + t + 1"
      ]
     },
     "execution_count": 624,
     "metadata": {},
     "output_type": "execute_result"
    }
   ],
   "source": [
    "GF(2**10, 't').random_element()"
   ]
  },
  {
   "cell_type": "markdown",
   "metadata": {},
   "source": [
    "Para entender como chegar nisso, primeiro vejamos como construir anéis polinômiais."
   ]
  },
  {
   "cell_type": "markdown",
   "metadata": {},
   "source": [
    "## Anéis Polinomiais"
   ]
  },
  {
   "cell_type": "markdown",
   "metadata": {},
   "source": [
    "Um anel polinomial $K[x]$ nada mais é que o conjunto de polinômios em $x$ com coeficientes em $K$. Tipicamente, estamos interessados em $K$ sendo um corpo, mas a construção vale para $K$ sendo apenas um anel.\n",
    "Para ver que $K[x]$ é um anel, basta usar o fato de que $K$ é um corpo (e portanto um anel) e usar as regras de adição e multiplicações de polinômios."
   ]
  },
  {
   "cell_type": "markdown",
   "metadata": {},
   "source": [
    "Para criar um anel polinomial `R` sobre a variavel `x` e com coeficientes em `GF(13)`, em Sage, fazemos:"
   ]
  },
  {
   "cell_type": "code",
   "execution_count": 698,
   "metadata": {},
   "outputs": [],
   "source": [
    "R.<x> = GF(13)[]"
   ]
  },
  {
   "cell_type": "code",
   "execution_count": 699,
   "metadata": {},
   "outputs": [
    {
     "name": "stdout",
     "output_type": "stream",
     "text": [
      "3*x^10 + 2*x^9 + 12*x^7 + 6*x^6 + 8*x^5 + 9*x^4 + 9*x^3 + 10*x + 9\n"
     ]
    }
   ],
   "source": [
    "v = R.random_element(10)  # 10 é o grau do elemento aleatório\n",
    "print(v)"
   ]
  },
  {
   "cell_type": "markdown",
   "metadata": {},
   "source": [
    "Note que $GF(n)[x]$ é infinito."
   ]
  },
  {
   "cell_type": "code",
   "execution_count": 700,
   "metadata": {},
   "outputs": [
    {
     "data": {
      "text/plain": [
       "+Infinity"
      ]
     },
     "execution_count": 700,
     "metadata": {},
     "output_type": "execute_result"
    }
   ],
   "source": [
    "R.cardinality()"
   ]
  },
  {
   "cell_type": "markdown",
   "metadata": {},
   "source": [
    "Para contruir um anel polinomial finito, podemos fazer o análogo do que fizemos para construir $Z_n$ a partir de $Z$: pegar os resíduos quando dividimos por um elemento $p_1$ \\in R. O anel construído é denotado por $R/p_1$"
   ]
  },
  {
   "cell_type": "code",
   "execution_count": 705,
   "metadata": {},
   "outputs": [],
   "source": [
    "p1 = x^2 + x\n",
    "R_mod_p1 = R.quotient(p1)"
   ]
  },
  {
   "cell_type": "markdown",
   "metadata": {},
   "source": [
    "Note que o número de resíduos quando dividimos por um polinômio de grau 2 é dado por\n",
    "$$\n",
    "( \\text{possibilidades para coeficiente de grau 0}) \\times (\\text{possibilidades para coeficiente de grau 1}) = n^2\n",
    "$$"
   ]
  },
  {
   "cell_type": "code",
   "execution_count": 702,
   "metadata": {},
   "outputs": [
    {
     "data": {
      "text/plain": [
       "169"
      ]
     },
     "execution_count": 702,
     "metadata": {},
     "output_type": "execute_result"
    }
   ],
   "source": [
    "R_mod_p1.cardinality()"
   ]
  },
  {
   "cell_type": "markdown",
   "metadata": {},
   "source": [
    "Porém note que o anel quociente construído não é um corpo:"
   ]
  },
  {
   "cell_type": "code",
   "execution_count": 703,
   "metadata": {},
   "outputs": [
    {
     "data": {
      "text/plain": [
       "False"
      ]
     },
     "execution_count": 703,
     "metadata": {},
     "output_type": "execute_result"
    }
   ],
   "source": [
    "R_mod_p1.is_field()"
   ]
  },
  {
   "cell_type": "markdown",
   "metadata": {},
   "source": [
    "O motivo por que $R/p_1$ não é um corpo é análogo ao motivo de $Z_{10}$ não ser um corpo: o módulo não é primo, e há elementos $a$ em $R/p_1$ tais que $\\gcd(a, p_1) \\neq 1$"
   ]
  },
  {
   "cell_type": "code",
   "execution_count": 706,
   "metadata": {},
   "outputs": [
    {
     "data": {
      "text/plain": [
       "x + 1"
      ]
     },
     "execution_count": 706,
     "metadata": {},
     "output_type": "execute_result"
    }
   ],
   "source": [
    "gcd(x + 1, x^2 + x)"
   ]
  },
  {
   "cell_type": "markdown",
   "metadata": {},
   "source": [
    "**Definição**. Um polinômio $m \\in GF(q)[x]$ é primo (ou irredutível) quando ele **não** pode ser fatorado em dois polinômios não-constantes de $GF(q)[x]$."
   ]
  },
  {
   "cell_type": "markdown",
   "metadata": {},
   "source": [
    "No caso anterior, $p_1= x^2 + x$ claramente pode ser fatorado em $x(x + 1)$."
   ]
  },
  {
   "cell_type": "markdown",
   "metadata": {},
   "source": [
    "**Observação**. Para mostrar que um polinômio não é primo, basta mostrar uma fatoração. Agora, para mostrar que um polinômio é primo não é tão fácil..."
   ]
  },
  {
   "cell_type": "markdown",
   "metadata": {},
   "source": [
    "Por sorte, o Sage vem com um método que devolve um polinômio irredutível num anel polinomial, dado um grau."
   ]
  },
  {
   "cell_type": "code",
   "execution_count": 718,
   "metadata": {},
   "outputs": [
    {
     "name": "stdout",
     "output_type": "stream",
     "text": [
      "x^2 + 12*x + 2\n"
     ]
    }
   ],
   "source": [
    "m = R.irreducible_element(2)\n",
    "print(m)"
   ]
  },
  {
   "cell_type": "markdown",
   "metadata": {},
   "source": [
    "Podemos agora fazer a mesma construção anterior só que com $m$ irredutível no lugar de $p_1$."
   ]
  },
  {
   "cell_type": "code",
   "execution_count": 720,
   "metadata": {},
   "outputs": [],
   "source": [
    "R_mod_m = R.quotient(m)"
   ]
  },
  {
   "cell_type": "markdown",
   "metadata": {},
   "source": [
    "Neste caso, $R/m$ será um corpo finito de $13^2 = 169$ elementos."
   ]
  },
  {
   "cell_type": "code",
   "execution_count": 722,
   "metadata": {},
   "outputs": [
    {
     "data": {
      "text/plain": [
       "True"
      ]
     },
     "execution_count": 722,
     "metadata": {},
     "output_type": "execute_result"
    }
   ],
   "source": [
    "R_mod_m.is_field()"
   ]
  },
  {
   "cell_type": "code",
   "execution_count": 723,
   "metadata": {},
   "outputs": [
    {
     "data": {
      "text/plain": [
       "169"
      ]
     },
     "execution_count": 723,
     "metadata": {},
     "output_type": "execute_result"
    }
   ],
   "source": [
    "R_mod_m.cardinality()"
   ]
  },
  {
   "cell_type": "markdown",
   "metadata": {},
   "source": [
    "Note que $R/m$ e $R/p_1$ contam com exatamente os mesmos polinômios! A diferença ocorre na multiplicação de elementos, que, quando feita $\\bmod m$, mantém a propriedade da existência do inverso."
   ]
  },
  {
   "cell_type": "markdown",
   "metadata": {},
   "source": [
    "**Importante**. Se tomarmos outro polinômio irredutível $m_2$ do mesmo grau de $m$, os corpos finitos $R/m$ e $R/m_2$ são isomórficos. Há um teorema importante que diz que todos os corpos finitos de mesmos tamanhos são isomórficos."
   ]
  },
  {
   "cell_type": "markdown",
   "metadata": {},
   "source": [
    "Para ver isso na prática, considere."
   ]
  },
  {
   "cell_type": "code",
   "execution_count": 746,
   "metadata": {},
   "outputs": [],
   "source": [
    "P.<t1> = GF(2)[]"
   ]
  },
  {
   "cell_type": "code",
   "execution_count": 752,
   "metadata": {},
   "outputs": [
    {
     "name": "stdout",
     "output_type": "stream",
     "text": [
      "Queremos m1 != m2\n",
      "t1^3 + t1 + 1\n",
      "t1^3 + t1^2 + 1\n"
     ]
    }
   ],
   "source": [
    "m1 = P.irreducible_element(3, algorithm='random')\n",
    "m2 = P.irreducible_element(3, algorithm='random')\n",
    "print(\"Queremos m1 != m2\")\n",
    "print(m1)\n",
    "print(m2)"
   ]
  },
  {
   "cell_type": "code",
   "execution_count": 767,
   "metadata": {},
   "outputs": [
    {
     "data": {
      "text/plain": [
       "          *            0           1           i       i + 1         i^2     i^2 + 1     i^2 + i i^2 + i + 1\n",
       "           +------------------------------------------------------------------------------------------------\n",
       "          0|           0           0           0           0           0           0           0           0\n",
       "          1|           0           1           i       i + 1         i^2     i^2 + 1     i^2 + i i^2 + i + 1\n",
       "          i|           0           i         i^2     i^2 + i       i + 1           1 i^2 + i + 1     i^2 + 1\n",
       "      i + 1|           0       i + 1     i^2 + i     i^2 + 1 i^2 + i + 1         i^2           1           i\n",
       "        i^2|           0         i^2       i + 1 i^2 + i + 1     i^2 + i           i     i^2 + 1           1\n",
       "    i^2 + 1|           0     i^2 + 1           1         i^2           i i^2 + i + 1       i + 1     i^2 + i\n",
       "    i^2 + i|           0     i^2 + i i^2 + i + 1           1     i^2 + 1       i + 1           i         i^2\n",
       "i^2 + i + 1|           0 i^2 + i + 1     i^2 + 1           i           1     i^2 + i         i^2       i + 1\n"
      ]
     },
     "execution_count": 767,
     "metadata": {},
     "output_type": "execute_result"
    }
   ],
   "source": [
    "P.quotient(m1, 'i').multiplication_table(names='elements')"
   ]
  },
  {
   "cell_type": "code",
   "execution_count": 770,
   "metadata": {},
   "outputs": [
    {
     "data": {
      "text/plain": [
       "          *            0           1           j       j + 1         j^2     j^2 + 1     j^2 + j j^2 + j + 1\n",
       "           +------------------------------------------------------------------------------------------------\n",
       "          0|           0           0           0           0           0           0           0           0\n",
       "          1|           0           1           j       j + 1         j^2     j^2 + 1     j^2 + j j^2 + j + 1\n",
       "          j|           0           j         j^2     j^2 + j     j^2 + 1 j^2 + j + 1           1       j + 1\n",
       "      j + 1|           0       j + 1     j^2 + j     j^2 + 1           1           j j^2 + j + 1         j^2\n",
       "        j^2|           0         j^2     j^2 + 1           1 j^2 + j + 1       j + 1           j     j^2 + j\n",
       "    j^2 + 1|           0     j^2 + 1 j^2 + j + 1           j       j + 1     j^2 + j         j^2           1\n",
       "    j^2 + j|           0     j^2 + j           1 j^2 + j + 1           j         j^2       j + 1     j^2 + 1\n",
       "j^2 + j + 1|           0 j^2 + j + 1       j + 1         j^2     j^2 + j           1     j^2 + 1           j\n"
      ]
     },
     "execution_count": 770,
     "metadata": {},
     "output_type": "execute_result"
    }
   ],
   "source": [
    "P.quotient(m2, 'j').multiplication_table(names='elements')"
   ]
  },
  {
   "cell_type": "markdown",
   "metadata": {},
   "source": [
    "**Observação**. É possível achar uma bijeção entre os polinômios dos dois corpos que transforma uma tabela na outra. (Não que seja uma coisa muito fácil de fazer agora, mas acho que a ideia do isomorfismo fica bem ilustrada pelas tabelas.)"
   ]
  },
  {
   "cell_type": "markdown",
   "metadata": {},
   "source": [
    "## O Corpo finito $GF(2^m)$"
   ]
  },
  {
   "cell_type": "markdown",
   "metadata": {},
   "source": [
    "Vimos que todos os corpos finitos são isomórficos a $GF(p^k)$ para algum primo $p$ e algum inteiro $k \\geq 1$. Vimos também que para usar qualquer um desses corpos finitos em Sage, usamos o construtor `GF`, **não** sendo necessário criar anéis polinomiais e selecionar um polinômio irredutível.\n",
    "\n",
    "Em criptografia é comum usarmos corpos finitos de característica 2, isto é, $p = 2$, pois algumas operações podem ser simplificadas usando operações de bits."
   ]
  },
  {
   "cell_type": "markdown",
   "metadata": {},
   "source": [
    "Uma aplicação interessante é que podemos definir uma operação de multiplicação sobre bytes.\n",
    "\n",
    "Considere por exemplo o $GF(2^8)$ na representação usada pelo AES."
   ]
  },
  {
   "cell_type": "code",
   "execution_count": 791,
   "metadata": {},
   "outputs": [],
   "source": [
    "t = GF(2).polynomial_ring().gen()\n",
    "F8 = GF(2^8, 't', modulus=t^8 + t^4 + t^3 + t + 1)"
   ]
  },
  {
   "cell_type": "code",
   "execution_count": 797,
   "metadata": {},
   "outputs": [
    {
     "name": "stdout",
     "output_type": "stream",
     "text": [
      "t^5 + t^4 + 1\n",
      "t^7 + t^6 + t^5 + t + 1\n"
     ]
    }
   ],
   "source": [
    "b1 = F8.random_element()\n",
    "b2 = F8.random_element()\n",
    "print(b1)\n",
    "print(b2)"
   ]
  },
  {
   "cell_type": "markdown",
   "metadata": {},
   "source": [
    "Para obter a representação de `b1` e `b2` como sequências de bits, podemos fazer:"
   ]
  },
  {
   "cell_type": "code",
   "execution_count": 809,
   "metadata": {},
   "outputs": [
    {
     "name": "stdout",
     "output_type": "stream",
     "text": [
      "[1, 0, 0, 0, 1, 1]\n",
      "[1, 1, 0, 0, 0, 1, 1, 1]\n"
     ]
    }
   ],
   "source": [
    "print(list(b1.polynomial()))\n",
    "print(list(b2.polynomial()))"
   ]
  },
  {
   "cell_type": "markdown",
   "metadata": {},
   "source": [
    "Note como a soma de `b1` e `b2` é simplesmente o XOR bit a bit "
   ]
  },
  {
   "cell_type": "code",
   "execution_count": 812,
   "metadata": {},
   "outputs": [
    {
     "name": "stdout",
     "output_type": "stream",
     "text": [
      "[0, 1, 0, 0, 1, 0, 1, 1]\n"
     ]
    }
   ],
   "source": [
    "print(list((b1 + b2).polynomial()))"
   ]
  },
  {
   "cell_type": "markdown",
   "metadata": {},
   "source": [
    "E agora temos uma definição para o produto de dois bytes `b1*b2`"
   ]
  },
  {
   "cell_type": "code",
   "execution_count": 813,
   "metadata": {},
   "outputs": [
    {
     "data": {
      "text/plain": [
       "t^5 + t^3 + t^2 + t"
      ]
     },
     "execution_count": 813,
     "metadata": {},
     "output_type": "execute_result"
    }
   ],
   "source": [
    "b1*b2"
   ]
  },
  {
   "cell_type": "code",
   "execution_count": 815,
   "metadata": {},
   "outputs": [
    {
     "name": "stdout",
     "output_type": "stream",
     "text": [
      "[0, 1, 1, 1, 0, 1]\n"
     ]
    }
   ],
   "source": [
    "print(list((b1*b2).polynomial()))"
   ]
  },
  {
   "cell_type": "markdown",
   "metadata": {},
   "source": [
    "Para pegar a representação em bytes de um elemento de `F8`, basta usarmos o método `integer_representation`"
   ]
  },
  {
   "cell_type": "code",
   "execution_count": 838,
   "metadata": {},
   "outputs": [
    {
     "name": "stdout",
     "output_type": "stream",
     "text": [
      "49\n"
     ]
    }
   ],
   "source": [
    "n1 = b1.integer_representation()\n",
    "print(n1)"
   ]
  },
  {
   "cell_type": "markdown",
   "metadata": {},
   "source": [
    "Para o processo inverso, não há uma função pronta. Podemos usar a função `bin` para implementar a conversão de inteiros para elementos de `F8`"
   ]
  },
  {
   "cell_type": "code",
   "execution_count": 830,
   "metadata": {},
   "outputs": [],
   "source": [
    "def int_to_F8_poly(n):\n",
    "    t = F8.gen()\n",
    "    if not (0 <= n < 2**8) or not (0 <= n < 2**8):\n",
    "        raise ValueError('Deve-se obedecer à condição 0 <= int1, int2 < 256')\n",
    "    coeffs = reversed(bin(n)[2:])\n",
    "    return sum(GF(2)(v)*(t**i) for i, v in enumerate(coeffs))"
   ]
  },
  {
   "cell_type": "code",
   "execution_count": 840,
   "metadata": {},
   "outputs": [
    {
     "data": {
      "text/plain": [
       "t^4 + t^2 + t + 1"
      ]
     },
     "execution_count": 840,
     "metadata": {},
     "output_type": "execute_result"
    }
   ],
   "source": [
    "int_to_F8_poly(23)"
   ]
  },
  {
   "cell_type": "markdown",
   "metadata": {},
   "source": [
    "Teste de sanidade:"
   ]
  },
  {
   "cell_type": "code",
   "execution_count": 842,
   "metadata": {},
   "outputs": [
    {
     "data": {
      "text/plain": [
       "True"
      ]
     },
     "execution_count": 842,
     "metadata": {},
     "output_type": "execute_result"
    }
   ],
   "source": [
    "int_to_F8_poly(b1.integer_representation()) == b1"
   ]
  },
  {
   "cell_type": "markdown",
   "metadata": {},
   "source": [
    "Para explicitar as operações que queremos implementar, podemos usar as seguintes funções `bytes_sum` e `bytes_product`:"
   ]
  },
  {
   "cell_type": "code",
   "execution_count": 861,
   "metadata": {},
   "outputs": [],
   "source": [
    "def bytes_sum(n1, n2):\n",
    "    '''\n",
    "        n1: Inteiro >= 0 e < 256\n",
    "        n2: Inteiro >= 0 e < 256\n",
    "    '''\n",
    "    b1 = int_to_F8_poly(n1)\n",
    "    b2 = int_to_F8_poly(n2)\n",
    "    \n",
    "    return (b1 + b2).integer_representation()\n",
    "\n",
    "def bytes_product(n1, n2):\n",
    "    '''\n",
    "        n1: Inteiro >= 0 e < 256\n",
    "        n2: Inteiro >= 0 e < 256\n",
    "    '''\n",
    "    b1 = int_to_F8_poly(n1)\n",
    "    b2 = int_to_F8_poly(n2)\n",
    "    \n",
    "    return (b1 * b2).integer_representation()\n",
    "\n"
   ]
  },
  {
   "cell_type": "code",
   "execution_count": 862,
   "metadata": {},
   "outputs": [
    {
     "data": {
      "text/plain": [
       "'0x1'"
      ]
     },
     "execution_count": 862,
     "metadata": {},
     "output_type": "execute_result"
    }
   ],
   "source": [
    "hex(bytes_product(int('53', 16), int('ca', 16)))  # Deve dar 0x01"
   ]
  },
  {
   "cell_type": "code",
   "execution_count": 863,
   "metadata": {},
   "outputs": [
    {
     "data": {
      "text/plain": [
       "'0x8a'"
      ]
     },
     "execution_count": 863,
     "metadata": {},
     "output_type": "execute_result"
    }
   ],
   "source": [
    "hex(bytes_product(int('45', 16), int('02', 16)))  # Deve dar 0x8a"
   ]
  },
  {
   "cell_type": "code",
   "execution_count": 869,
   "metadata": {},
   "outputs": [
    {
     "data": {
      "text/plain": [
       "'0x91'"
      ]
     },
     "execution_count": 869,
     "metadata": {},
     "output_type": "execute_result"
    }
   ],
   "source": [
    "hex(bytes_product(int('c5', 16), int('02', 16)))  # Deve dar 0x91"
   ]
  },
  {
   "cell_type": "markdown",
   "metadata": {},
   "source": [
    "**Importante**. Este modo de implementar a soma e o produto não é o mais eficiente. Em geral, as operações são implementadas usando operações de bits, que são muito mais rápidas."
   ]
  },
  {
   "cell_type": "markdown",
   "metadata": {},
   "source": [
    "## Curvas Elípticas"
   ]
  },
  {
   "cell_type": "code",
   "execution_count": 526,
   "metadata": {},
   "outputs": [
    {
     "name": "stdout",
     "output_type": "stream",
     "text": [
      "Elliptic Curve defined by y^2 + y = x^3 + 14 over Finite Field of size 17\n"
     ]
    }
   ],
   "source": [
    "E = EllipticCurve(GF(17),[0, 0, 1, -17, -20])\n",
    "print(E)"
   ]
  },
  {
   "cell_type": "code",
   "execution_count": 574,
   "metadata": {},
   "outputs": [],
   "source": [
    "ec(x, y) = y^2 + 3*y - x^3 - 14 "
   ]
  },
  {
   "cell_type": "code",
   "execution_count": 527,
   "metadata": {},
   "outputs": [
    {
     "data": {
      "image/png": "[encoded data removed]",
      "text/plain": [
       "Graphics object consisting of 1 graphics primitive"
      ]
     },
     "execution_count": 527,
     "metadata": {},
     "output_type": "execute_result"
    }
   ],
   "source": [
    "plot(E)"
   ]
  }
 ],
 "metadata": {
  "kernelspec": {
   "display_name": "SageMath 9.0",
   "language": "sage",
   "name": "sagemath"
  },
  "language_info": {
   "codemirror_mode": {
    "name": "ipython",
    "version": 3
   },
   "file_extension": ".py",
   "mimetype": "text/x-python",
   "name": "python",
   "nbconvert_exporter": "python",
   "pygments_lexer": "ipython3",
   "version": "3.8.2"
  },
  "toc": {
   "base_numbering": 1,
   "nav_menu": {},
   "number_sections": true,
   "sideBar": true,
   "skip_h1_title": true,
   "title_cell": "Conteúdo",
   "title_sidebar": "Contents",
   "toc_cell": false,
   "toc_position": {},
   "toc_section_display": true,
   "toc_window_display": false
  }
 },
 "nbformat": 4,
 "nbformat_minor": 2
}
