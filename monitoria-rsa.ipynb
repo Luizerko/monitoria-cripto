{
 "cells": [
  {
   "cell_type": "markdown",
   "metadata": {},
   "source": [
    "# Uma introdução prática ao RSA"
   ]
  },
  {
   "cell_type": "markdown",
   "metadata": {},
   "source": [
    "## Pré-requisitos"
   ]
  },
  {
   "cell_type": "markdown",
   "metadata": {},
   "source": [
    "### Função $\\phi$ de Euler"
   ]
  },
  {
   "cell_type": "markdown",
   "metadata": {},
   "source": [
    "Considere o seguinte grupo\n",
    "\n",
    "$$\n",
    "\\mathbb{Z}_n^* = \\{ {0 < i \\leq n : \\gcd(i, n) = 1} \\}.\n",
    "$$\n",
    "\n",
    "A função $\\phi$ de Euler representa o número de elementos $\\mathbb{Z}_n^*$\n",
    "\n",
    "$$\n",
    "    \\phi(n) = |\\mathbb{Z}_n^*|.\n",
    "$$"
   ]
  },
  {
   "cell_type": "markdown",
   "metadata": {},
   "source": [
    "A função $\\phi$ é multiplicativa, isto é, se $\\gcd(a, b) = 1$\n",
    "\n",
    "$$\n",
    "    \\phi(ab) = \\phi(a)\\phi(b).\n",
    "$$\n",
    "\n",
    "Para o RSA precisamos apenas o seguinte caso particular desta propriedade para números primos.\n",
    "\n",
    "*Lema. Se $p$ e $q$ são primos, então*\n",
    "\n",
    "$$\n",
    "    \\phi(pq) = \\phi(p)\\phi(q) = (p-1)(q-1).\n",
    "$$\n",
    "\n",
    "*Demonstração.* Queremos calcular o número de elementos de $\\mathbb{Z}_n$\n",
    "que são coprimos a $n = pq$. \n",
    "\n",
    "Como $n$ é produto de primos, se $\\gcd(a, n) = 1$ para\n",
    "algum $ a \\in \\mathbb{Z}_n$, então $p | a$ ou $q | a$. \n",
    "\n",
    "Sejam $M_p, M_q,$ e $M_{pq}$ o número de múltiplos de $p, q$ e $pq$ \n",
    "em $\\mathbb{Z}_n$, temos que:\n",
    "\n",
    "$$\n",
    "\\begin{eqnarray}\n",
    "    \\phi(n)\n",
    "        &=& |\\mathbb{Z}_n| - M_q - M_p + M{pq} \\\\\n",
    "        &=& n - p - q + 1 \\\\\n",
    "        &=& pq - p - q + 1 \\\\\n",
    "        &=& (p - 1)(q - 1).\n",
    "\\end{eqnarray}\n",
    "$$\n"
   ]
  },
  {
   "cell_type": "markdown",
   "metadata": {},
   "source": [
    "### Teorema de Euler"
   ]
  },
  {
   "cell_type": "markdown",
   "metadata": {},
   "source": [
    "*Teorema de Euler.* Se $\\gcd(a, n) = 1$, então\n",
    "\n",
    "$$\n",
    "    a^{\\phi(n)} \\equiv 1 \\mod n.\n",
    "$$\n",
    "\n",
    "*Demonstração.* Começamos mostrando que $\\{ ax : x \\in \\mathbb{Z}_n^* \\} = \\mathbb{Z}_n^* $. Isso\n",
    "pode ser visto facilmente notando que a função $f_a: \\mathbb{Z}_n^* \\rightarrow \\mathbb{Z}_n^*$ tal que \n",
    "$f_a(x) = ax$ é uma bijeção quando $\\gcd(a, n) = 1$. Como a e n são coprimos então existe o inverso de $a \\bmod n$. \n",
    "e a função inversa de $f_a$ é $f_a^{-1}(y) = a^{-1}y$.\n",
    "\n",
    "Agora note que\n",
    "\n",
    "$$\n",
    "\\begin{eqnarray}\n",
    "    \\prod_{x \\in \\mathbb{Z}_n^*} x \n",
    "        &=& \\prod_{x \\in \\mathbb{Z}_n^*} ax \\\\\n",
    "        &=& a^{\\phi(n)} \\prod_{x \\in Z_n} x.\n",
    "\\end{eqnarray}\n",
    "$$\n",
    "\n",
    "E como a inversa $\\bmod n$ existe para todo $x \\in \\mathbb{Z}_n^*$, então\n",
    "\n",
    "$$\n",
    "    \\prod_{x \\in \\mathbb{Z}_n^*} x \n",
    "        = a^{\\phi(n)} \\prod_{x \\in Z_n} x \\implies a^{\\phi(n)} \\equiv 1 \\mod n.\n",
    "$$\n"
   ]
  },
  {
   "cell_type": "markdown",
   "metadata": {},
   "source": [
    "## O esquema RSA"
   ]
  },
  {
   "cell_type": "markdown",
   "metadata": {},
   "source": [
    "O esquema RSA é composto de 3 algoritmos:\n",
    "* $\\textbf{KeyGen}$ Geração de Chaves \n",
    "* $\\textbf{Enc}$ Encriptação \n",
    "* $\\textbf{Dec}$ Decriptação "
   ]
  },
  {
   "cell_type": "markdown",
   "metadata": {},
   "source": [
    "### $\\textbf{KeyGen}$"
   ]
  },
  {
   "cell_type": "markdown",
   "metadata": {},
   "source": [
    "Para gerar um par de chaves $k_\\text{Sec}$ e $k_\\text{pub}$, faça: \n",
    "1. Escolha dois primos grandes $p$ e $q$\n",
    "2. Faça $n = pq$\n",
    "3. Compute a função totiente de Euler\n",
    "\n",
    "$$\n",
    "    \\phi(n) = (p - 1)(q - 1)\n",
    "$$\n",
    "\n",
    "\n",
    "4. Escolha aleatoriamente um $e$ do conjunto\n",
    "\n",
    "$$\n",
    "e \\in \\left\\{ 1 < x < \\phi(n) : \\gcd(x, \\phi(n)) = 1 \\right\\}.\n",
    "$$\n",
    "\n",
    "Isto é, o $e$ e $\\phi(n)$ são é coprimos. Este inteiro $e$ é a **chave de encriptação**.\n",
    "5. Compute a **chave de decriptação** $d$ usando o *Algoritmo de Euclides Estendido*\n",
    "\n",
    "$$\n",
    "d \\equiv e^{-1} \\mod \\phi(n).\n",
    "$$ \n",
    "\n",
    "6. O par de chaves secreta e pública é\n",
    "\n",
    "$$\n",
    "k_\\text{Sec} = (n, e) \\text{ e } k_\\text{Pub} = d.\n",
    "$$"
   ]
  },
  {
   "cell_type": "markdown",
   "metadata": {},
   "source": [
    "### $\\textbf{Enc}$"
   ]
  },
  {
   "cell_type": "markdown",
   "metadata": {},
   "source": [
    "Seja $m$ um inteiro $0 \\leq m < n$ a mensagem a ser transmitida. A encriptação de $m$ é simplesmente\n",
    "\n",
    "$$\n",
    "    \\textbf{Enc}(m) \\equiv m^e \\mod n.\n",
    "$$"
   ]
  },
  {
   "cell_type": "markdown",
   "metadata": {},
   "source": [
    "### $\\textbf{Dec}$"
   ]
  },
  {
   "cell_type": "markdown",
   "metadata": {},
   "source": [
    "Seja $c = \\textbf{Enc}(m)$, para decriptar $c$, basta computar\n",
    "\n",
    "$$\n",
    "\\begin{eqnarray}\n",
    "    \\textbf{Dec}(c) \n",
    "        &\\equiv& c^d &\\mod n& \\\\\n",
    "        &=& (m^e)^d = m^{ed}  &\\mod n&.\n",
    "\\end{eqnarray}\n",
    "$$\n",
    "\n",
    "Como $ed \\equiv 1 \\mod \\phi(n)$, temos\n",
    "\n",
    "$$\n",
    "\\begin{eqnarray}\n",
    "    \\textbf{Dec}(c) \n",
    "        &=& m^{k\\phi(n) + 1}, &\\text{ para algum $k$}& \\\\\n",
    "        &=& \\left( m^{\\phi(n)} \\right)^k m.\n",
    "\\end{eqnarray}\n",
    "$$\n",
    "\n",
    "**Caso 1:** \n",
    "$m \\in \\mathbb{Z}_n^{*}$\n",
    "\n",
    "Lembre do Teorema de Euler, que garante que para todo $a \\in \\mathbb{Z}_n^*$, vale que \n",
    "$$\n",
    "    a^\\phi(n) \\equiv 1 \\mod (n).\n",
    "$$\n",
    "\n",
    "Então:\n",
    "\n",
    "$$\n",
    "\\begin{eqnarray}\n",
    "    \\textbf{Dec}(c) \n",
    "        &=& \\left( m^{\\phi(n)} \\right)^k m \\\\\n",
    "        &\\equiv& \\left( 1 \\right)^k m \\mod n \\\\\n",
    "        &=& m \\mod n.\n",
    "\\end{eqnarray}\n",
    "$$\n",
    "\n",
    "**Caso 2:** \n",
    "$m \\notin \\mathbb{Z}_n^{*}$\n",
    "\n",
    "Então $p | m$ ou $q | m$. Suponha sem perda de generalidade que $p | m $, então $m = pt$ para algum $t$. Note que $m$ não pode ser múltiplo de $q$, ao mesmo tempo, pois senão seria múltiplo de $n$.\n",
    "\n",
    "Podemos então aplicar o Teorema de Euler a $m$ e $q$, e temos que\n",
    "$m^{\\phi(q)} \\equiv 1 \\mod q$.\n",
    "\n",
    "\n",
    "$$\n",
    "\\begin{eqnarray}\n",
    "    \\textbf{Dec}(c) \n",
    "        &=& \\left( m^{\\phi(n)} \\right)^k m \\\\\n",
    "        &=& \\left( m^{\\phi(p)\\phi(q)} \\right)^k m \\\\\n",
    "        &=& \\left( m^{\\phi(q)} \\right)^{\\phi(p)k} m \\\\\n",
    "        &\\equiv& \\left( 1 \\right)^{\\phi(p)k} m &\\mod q& \\\\\n",
    "        &\\equiv& m &\\mod q.&\n",
    "\\end{eqnarray}\n",
    "$$\n",
    "\n",
    "Em relação a $\\bmod p$, temos\n",
    "\n",
    "\n",
    "$$\n",
    "\\begin{eqnarray}\n",
    "    \\textbf{Dec}(c) \n",
    "        &=& \\left( m^{\\phi(n)} \\right)^k m \\\\\n",
    "        &\\equiv& 0  &\\mod p& \\\\\n",
    "        &\\equiv& m &\\mod p.&\n",
    "\\end{eqnarray}\n",
    "$$\n",
    "\n",
    "Dessa forma:\n",
    "$$\n",
    "    \\begin{cases}\n",
    "        \\textbf{Dec}(c) \\equiv m \\mod p, \\\\\n",
    "        \\textbf{Dec}(c) \\equiv m \\mod q.\n",
    "    \\end{cases}\n",
    "$$\n",
    "\n",
    "Assim $p | (\\textbf{Dec}(c) - m)$ e $q | (\\textbf{Dec}(c) - m)$, e como $p$ e $q$ são primos, \n",
    "vale que $(\\textbf{Dec}(c) - m) | n$. Portanto\n",
    "\n",
    "$$\n",
    "    \\textbf{Dec}(c) = m \\mod n.\n",
    "$$\n"
   ]
  },
  {
   "cell_type": "markdown",
   "metadata": {},
   "source": [
    "## RSA na prática com SageMath"
   ]
  },
  {
   "cell_type": "markdown",
   "metadata": {},
   "source": [
    "### Geração de chaves"
   ]
  },
  {
   "cell_type": "markdown",
   "metadata": {},
   "source": [
    "#### Escolha dois primos"
   ]
  },
  {
   "cell_type": "code",
   "execution_count": 12,
   "metadata": {},
   "outputs": [
    {
     "name": "stdout",
     "output_type": "stream",
     "text": [
      "Primos escolhidos: p = 367 e q = 1459\n"
     ]
    }
   ],
   "source": [
    "MAX_PRIME = 10000\n",
    "p = random_prime(MAX_PRIME);\n",
    "q = random_prime(MAX_PRIME)\n",
    "print('Primos escolhidos: p = %d e q = %d' % (p, q))"
   ]
  },
  {
   "cell_type": "markdown",
   "metadata": {},
   "source": [
    "#### Faça $n = pq$"
   ]
  },
  {
   "cell_type": "code",
   "execution_count": 13,
   "metadata": {},
   "outputs": [
    {
     "name": "stdout",
     "output_type": "stream",
     "text": [
      "n = 535453\n"
     ]
    }
   ],
   "source": [
    "n = p*q\n",
    "print('n =', n)"
   ]
  },
  {
   "cell_type": "markdown",
   "metadata": {},
   "source": [
    "#### Compute a função totiente de Euler"
   ]
  },
  {
   "cell_type": "code",
   "execution_count": 14,
   "metadata": {},
   "outputs": [
    {
     "name": "stdout",
     "output_type": "stream",
     "text": [
      "phi_n = 533628\n"
     ]
    }
   ],
   "source": [
    "phi_n = (p - 1)*(q - 1)\n",
    "print('phi_n =', phi_n)"
   ]
  },
  {
   "cell_type": "markdown",
   "metadata": {},
   "source": [
    "Note que o SageMath fornece uma função para isso:"
   ]
  },
  {
   "cell_type": "code",
   "execution_count": 15,
   "metadata": {},
   "outputs": [
    {
     "data": {
      "text/plain": [
       "533628"
      ]
     },
     "execution_count": 15,
     "metadata": {},
     "output_type": "execute_result"
    }
   ],
   "source": [
    "euler_phi(n)"
   ]
  },
  {
   "cell_type": "markdown",
   "metadata": {},
   "source": [
    "**A seguir vem a coisa mais importante dessa revisão pois o resto você acha em qualquer lugar.**\n",
    "\n",
    "Mas observe como ela é mais lenta do que para quem sabe os primos $p$ e $q$:\n"
   ]
  },
  {
   "cell_type": "code",
   "execution_count": 5,
   "metadata": {},
   "outputs": [
    {
     "name": "stdout",
     "output_type": "stream",
     "text": [
      "CPU times: user 43 µs, sys: 0 ns, total: 43 µs\n",
      "Wall time: 49.4 µs\n"
     ]
    },
    {
     "data": {
      "text/plain": [
       "45211152"
      ]
     },
     "execution_count": 5,
     "metadata": {},
     "output_type": "execute_result"
    }
   ],
   "source": [
    "%time euler_phi(n)"
   ]
  },
  {
   "cell_type": "code",
   "execution_count": 6,
   "metadata": {},
   "outputs": [
    {
     "name": "stdout",
     "output_type": "stream",
     "text": [
      "CPU times: user 20 µs, sys: 0 ns, total: 20 µs\n",
      "Wall time: 24.6 µs\n"
     ]
    }
   ],
   "source": [
    "%time phi_n = (p - 1)*(q - 1)"
   ]
  },
  {
   "cell_type": "code",
   "execution_count": 65,
   "metadata": {},
   "outputs": [],
   "source": [
    "import timeit\n",
    "\n",
    "START    = 10000000\n",
    "END      = 100000000\n",
    "STEP     = 10000000\n",
    "NSAMPLES = 1000 \n",
    "\n",
    "def estimate_euler_phi_efficiency(start=START, end=END, step=STEP, nsamples=NSAMPLES):\n",
    "    \n",
    "    data = {\n",
    "        'n': [],\n",
    "        'time_using_primes': [],\n",
    "        'time_without_using_primes': []\n",
    "    }\n",
    "    \n",
    "    for max_prime in range(start, end + 1, step):\n",
    "        for _ in range(nsamples):\n",
    "            p = random_prime(max_prime, lbound=max_prime - step)\n",
    "            q = random_prime(max_prime, lbound=max_prime - step)\n",
    "\n",
    "            n = p*q\n",
    "\n",
    "            def compute_euler_phi_using_primes():\n",
    "                phi_n = p*q\n",
    "\n",
    "            time_using_primes = timeit.timeit(compute_euler_phi_using_primes, number=10)\n",
    "\n",
    "            def compute_euler_phi_without_using_primes():\n",
    "                phi_n = euler_phi(n)\n",
    "\n",
    "            time_without_using_primes = timeit.timeit(compute_euler_phi_without_using_primes, number=1)\n",
    "\n",
    "            data['n'].append(n)\n",
    "            data['time_using_primes'].append(time_using_primes)\n",
    "            data['time_without_using_primes'].append(time_without_using_primes)\n",
    "\n",
    "        \n",
    "    return data\n",
    "\n",
    "data = estimate_euler_phi_efficiency()"
   ]
  },
  {
   "cell_type": "code",
   "execution_count": 72,
   "metadata": {},
   "outputs": [
    {
     "data": {
      "application/javascript": [
       "/* Put everything inside the global mpl namespace */\n",
       "window.mpl = {};\n",
       "\n",
       "\n",
       "mpl.get_websocket_type = function() {\n",
       "    if (typeof(WebSocket) !== 'undefined') {\n",
       "        return WebSocket;\n",
       "    } else if (typeof(MozWebSocket) !== 'undefined') {\n",
       "        return MozWebSocket;\n",
       "    } else {\n",
       "        alert('Your browser does not have WebSocket support. ' +\n",
       "              'Please try Chrome, Safari or Firefox ≥ 6. ' +\n",
       "              'Firefox 4 and 5 are also supported but you ' +\n",
       "              'have to enable WebSockets in about:config.');\n",
       "    };\n",
       "}\n",
       "\n",
       "mpl.figure = function(figure_id, websocket, ondownload, parent_element) {\n",
       "    this.id = figure_id;\n",
       "\n",
       "    this.ws = websocket;\n",
       "\n",
       "    this.supports_binary = (this.ws.binaryType != undefined);\n",
       "\n",
       "    if (!this.supports_binary) {\n",
       "        var warnings = document.getElementById(\"mpl-warnings\");\n",
       "        if (warnings) {\n",
       "            warnings.style.display = 'block';\n",
       "            warnings.textContent = (\n",
       "                \"This browser does not support binary websocket messages. \" +\n",
       "                    \"Performance may be slow.\");\n",
       "        }\n",
       "    }\n",
       "\n",
       "    this.imageObj = new Image();\n",
       "\n",
       "    this.context = undefined;\n",
       "    this.message = undefined;\n",
       "    this.canvas = undefined;\n",
       "    this.rubberband_canvas = undefined;\n",
       "    this.rubberband_context = undefined;\n",
       "    this.format_dropdown = undefined;\n",
       "\n",
       "    this.image_mode = 'full';\n",
       "\n",
       "    this.root = $('<div/>');\n",
       "    this._root_extra_style(this.root)\n",
       "    this.root.attr('style', 'display: inline-block');\n",
       "\n",
       "    $(parent_element).append(this.root);\n",
       "\n",
       "    this._init_header(this);\n",
       "    this._init_canvas(this);\n",
       "    this._init_toolbar(this);\n",
       "\n",
       "    var fig = this;\n",
       "\n",
       "    this.waiting = false;\n",
       "\n",
       "    this.ws.onopen =  function () {\n",
       "            fig.send_message(\"supports_binary\", {value: fig.supports_binary});\n",
       "            fig.send_message(\"send_image_mode\", {});\n",
       "            if (mpl.ratio != 1) {\n",
       "                fig.send_message(\"set_dpi_ratio\", {'dpi_ratio': mpl.ratio});\n",
       "            }\n",
       "            fig.send_message(\"refresh\", {});\n",
       "        }\n",
       "\n",
       "    this.imageObj.onload = function() {\n",
       "            if (fig.image_mode == 'full') {\n",
       "                // Full images could contain transparency (where diff images\n",
       "                // almost always do), so we need to clear the canvas so that\n",
       "                // there is no ghosting.\n",
       "                fig.context.clearRect(0, 0, fig.canvas.width, fig.canvas.height);\n",
       "            }\n",
       "            fig.context.drawImage(fig.imageObj, 0, 0);\n",
       "        };\n",
       "\n",
       "    this.imageObj.onunload = function() {\n",
       "        fig.ws.close();\n",
       "    }\n",
       "\n",
       "    this.ws.onmessage = this._make_on_message_function(this);\n",
       "\n",
       "    this.ondownload = ondownload;\n",
       "}\n",
       "\n",
       "mpl.figure.prototype._init_header = function() {\n",
       "    var titlebar = $(\n",
       "        '<div class=\"ui-dialog-titlebar ui-widget-header ui-corner-all ' +\n",
       "        'ui-helper-clearfix\"/>');\n",
       "    var titletext = $(\n",
       "        '<div class=\"ui-dialog-title\" style=\"width: 100%; ' +\n",
       "        'text-align: center; padding: 3px;\"/>');\n",
       "    titlebar.append(titletext)\n",
       "    this.root.append(titlebar);\n",
       "    this.header = titletext[0];\n",
       "}\n",
       "\n",
       "\n",
       "\n",
       "mpl.figure.prototype._canvas_extra_style = function(canvas_div) {\n",
       "\n",
       "}\n",
       "\n",
       "\n",
       "mpl.figure.prototype._root_extra_style = function(canvas_div) {\n",
       "\n",
       "}\n",
       "\n",
       "mpl.figure.prototype._init_canvas = function() {\n",
       "    var fig = this;\n",
       "\n",
       "    var canvas_div = $('<div/>');\n",
       "\n",
       "    canvas_div.attr('style', 'position: relative; clear: both; outline: 0');\n",
       "\n",
       "    function canvas_keyboard_event(event) {\n",
       "        return fig.key_event(event, event['data']);\n",
       "    }\n",
       "\n",
       "    canvas_div.keydown('key_press', canvas_keyboard_event);\n",
       "    canvas_div.keyup('key_release', canvas_keyboard_event);\n",
       "    this.canvas_div = canvas_div\n",
       "    this._canvas_extra_style(canvas_div)\n",
       "    this.root.append(canvas_div);\n",
       "\n",
       "    var canvas = $('<canvas/>');\n",
       "    canvas.addClass('mpl-canvas');\n",
       "    canvas.attr('style', \"left: 0; top: 0; z-index: 0; outline: 0\")\n",
       "\n",
       "    this.canvas = canvas[0];\n",
       "    this.context = canvas[0].getContext(\"2d\");\n",
       "\n",
       "    var backingStore = this.context.backingStorePixelRatio ||\n",
       "\tthis.context.webkitBackingStorePixelRatio ||\n",
       "\tthis.context.mozBackingStorePixelRatio ||\n",
       "\tthis.context.msBackingStorePixelRatio ||\n",
       "\tthis.context.oBackingStorePixelRatio ||\n",
       "\tthis.context.backingStorePixelRatio || 1;\n",
       "\n",
       "    mpl.ratio = (window.devicePixelRatio || 1) / backingStore;\n",
       "\n",
       "    var rubberband = $('<canvas/>');\n",
       "    rubberband.attr('style', \"position: absolute; left: 0; top: 0; z-index: 1;\")\n",
       "\n",
       "    var pass_mouse_events = true;\n",
       "\n",
       "    canvas_div.resizable({\n",
       "        start: function(event, ui) {\n",
       "            pass_mouse_events = false;\n",
       "        },\n",
       "        resize: function(event, ui) {\n",
       "            fig.request_resize(ui.size.width, ui.size.height);\n",
       "        },\n",
       "        stop: function(event, ui) {\n",
       "            pass_mouse_events = true;\n",
       "            fig.request_resize(ui.size.width, ui.size.height);\n",
       "        },\n",
       "    });\n",
       "\n",
       "    function mouse_event_fn(event) {\n",
       "        if (pass_mouse_events)\n",
       "            return fig.mouse_event(event, event['data']);\n",
       "    }\n",
       "\n",
       "    rubberband.mousedown('button_press', mouse_event_fn);\n",
       "    rubberband.mouseup('button_release', mouse_event_fn);\n",
       "    // Throttle sequential mouse events to 1 every 20ms.\n",
       "    rubberband.mousemove('motion_notify', mouse_event_fn);\n",
       "\n",
       "    rubberband.mouseenter('figure_enter', mouse_event_fn);\n",
       "    rubberband.mouseleave('figure_leave', mouse_event_fn);\n",
       "\n",
       "    canvas_div.on(\"wheel\", function (event) {\n",
       "        event = event.originalEvent;\n",
       "        event['data'] = 'scroll'\n",
       "        if (event.deltaY < 0) {\n",
       "            event.step = 1;\n",
       "        } else {\n",
       "            event.step = -1;\n",
       "        }\n",
       "        mouse_event_fn(event);\n",
       "    });\n",
       "\n",
       "    canvas_div.append(canvas);\n",
       "    canvas_div.append(rubberband);\n",
       "\n",
       "    this.rubberband = rubberband;\n",
       "    this.rubberband_canvas = rubberband[0];\n",
       "    this.rubberband_context = rubberband[0].getContext(\"2d\");\n",
       "    this.rubberband_context.strokeStyle = \"#000000\";\n",
       "\n",
       "    this._resize_canvas = function(width, height) {\n",
       "        // Keep the size of the canvas, canvas container, and rubber band\n",
       "        // canvas in synch.\n",
       "        canvas_div.css('width', width)\n",
       "        canvas_div.css('height', height)\n",
       "\n",
       "        canvas.attr('width', width * mpl.ratio);\n",
       "        canvas.attr('height', height * mpl.ratio);\n",
       "        canvas.attr('style', 'width: ' + width + 'px; height: ' + height + 'px;');\n",
       "\n",
       "        rubberband.attr('width', width);\n",
       "        rubberband.attr('height', height);\n",
       "    }\n",
       "\n",
       "    // Set the figure to an initial 600x600px, this will subsequently be updated\n",
       "    // upon first draw.\n",
       "    this._resize_canvas(600, 600);\n",
       "\n",
       "    // Disable right mouse context menu.\n",
       "    $(this.rubberband_canvas).bind(\"contextmenu\",function(e){\n",
       "        return false;\n",
       "    });\n",
       "\n",
       "    function set_focus () {\n",
       "        canvas.focus();\n",
       "        canvas_div.focus();\n",
       "    }\n",
       "\n",
       "    window.setTimeout(set_focus, 100);\n",
       "}\n",
       "\n",
       "mpl.figure.prototype._init_toolbar = function() {\n",
       "    var fig = this;\n",
       "\n",
       "    var nav_element = $('<div/>');\n",
       "    nav_element.attr('style', 'width: 100%');\n",
       "    this.root.append(nav_element);\n",
       "\n",
       "    // Define a callback function for later on.\n",
       "    function toolbar_event(event) {\n",
       "        return fig.toolbar_button_onclick(event['data']);\n",
       "    }\n",
       "    function toolbar_mouse_event(event) {\n",
       "        return fig.toolbar_button_onmouseover(event['data']);\n",
       "    }\n",
       "\n",
       "    for(var toolbar_ind in mpl.toolbar_items) {\n",
       "        var name = mpl.toolbar_items[toolbar_ind][0];\n",
       "        var tooltip = mpl.toolbar_items[toolbar_ind][1];\n",
       "        var image = mpl.toolbar_items[toolbar_ind][2];\n",
       "        var method_name = mpl.toolbar_items[toolbar_ind][3];\n",
       "\n",
       "        if (!name) {\n",
       "            // put a spacer in here.\n",
       "            continue;\n",
       "        }\n",
       "        var button = $('<button/>');\n",
       "        button.addClass('ui-button ui-widget ui-state-default ui-corner-all ' +\n",
       "                        'ui-button-icon-only');\n",
       "        button.attr('role', 'button');\n",
       "        button.attr('aria-disabled', 'false');\n",
       "        button.click(method_name, toolbar_event);\n",
       "        button.mouseover(tooltip, toolbar_mouse_event);\n",
       "\n",
       "        var icon_img = $('<span/>');\n",
       "        icon_img.addClass('ui-button-icon-primary ui-icon');\n",
       "        icon_img.addClass(image);\n",
       "        icon_img.addClass('ui-corner-all');\n",
       "\n",
       "        var tooltip_span = $('<span/>');\n",
       "        tooltip_span.addClass('ui-button-text');\n",
       "        tooltip_span.html(tooltip);\n",
       "\n",
       "        button.append(icon_img);\n",
       "        button.append(tooltip_span);\n",
       "\n",
       "        nav_element.append(button);\n",
       "    }\n",
       "\n",
       "    var fmt_picker_span = $('<span/>');\n",
       "\n",
       "    var fmt_picker = $('<select/>');\n",
       "    fmt_picker.addClass('mpl-toolbar-option ui-widget ui-widget-content');\n",
       "    fmt_picker_span.append(fmt_picker);\n",
       "    nav_element.append(fmt_picker_span);\n",
       "    this.format_dropdown = fmt_picker[0];\n",
       "\n",
       "    for (var ind in mpl.extensions) {\n",
       "        var fmt = mpl.extensions[ind];\n",
       "        var option = $(\n",
       "            '<option/>', {selected: fmt === mpl.default_extension}).html(fmt);\n",
       "        fmt_picker.append(option);\n",
       "    }\n",
       "\n",
       "    // Add hover states to the ui-buttons\n",
       "    $( \".ui-button\" ).hover(\n",
       "        function() { $(this).addClass(\"ui-state-hover\");},\n",
       "        function() { $(this).removeClass(\"ui-state-hover\");}\n",
       "    );\n",
       "\n",
       "    var status_bar = $('<span class=\"mpl-message\"/>');\n",
       "    nav_element.append(status_bar);\n",
       "    this.message = status_bar[0];\n",
       "}\n",
       "\n",
       "mpl.figure.prototype.request_resize = function(x_pixels, y_pixels) {\n",
       "    // Request matplotlib to resize the figure. Matplotlib will then trigger a resize in the client,\n",
       "    // which will in turn request a refresh of the image.\n",
       "    this.send_message('resize', {'width': x_pixels, 'height': y_pixels});\n",
       "}\n",
       "\n",
       "mpl.figure.prototype.send_message = function(type, properties) {\n",
       "    properties['type'] = type;\n",
       "    properties['figure_id'] = this.id;\n",
       "    this.ws.send(JSON.stringify(properties));\n",
       "}\n",
       "\n",
       "mpl.figure.prototype.send_draw_message = function() {\n",
       "    if (!this.waiting) {\n",
       "        this.waiting = true;\n",
       "        this.ws.send(JSON.stringify({type: \"draw\", figure_id: this.id}));\n",
       "    }\n",
       "}\n",
       "\n",
       "\n",
       "mpl.figure.prototype.handle_save = function(fig, msg) {\n",
       "    var format_dropdown = fig.format_dropdown;\n",
       "    var format = format_dropdown.options[format_dropdown.selectedIndex].value;\n",
       "    fig.ondownload(fig, format);\n",
       "}\n",
       "\n",
       "\n",
       "mpl.figure.prototype.handle_resize = function(fig, msg) {\n",
       "    var size = msg['size'];\n",
       "    if (size[0] != fig.canvas.width || size[1] != fig.canvas.height) {\n",
       "        fig._resize_canvas(size[0], size[1]);\n",
       "        fig.send_message(\"refresh\", {});\n",
       "    };\n",
       "}\n",
       "\n",
       "mpl.figure.prototype.handle_rubberband = function(fig, msg) {\n",
       "    var x0 = msg['x0'] / mpl.ratio;\n",
       "    var y0 = (fig.canvas.height - msg['y0']) / mpl.ratio;\n",
       "    var x1 = msg['x1'] / mpl.ratio;\n",
       "    var y1 = (fig.canvas.height - msg['y1']) / mpl.ratio;\n",
       "    x0 = Math.floor(x0) + 0.5;\n",
       "    y0 = Math.floor(y0) + 0.5;\n",
       "    x1 = Math.floor(x1) + 0.5;\n",
       "    y1 = Math.floor(y1) + 0.5;\n",
       "    var min_x = Math.min(x0, x1);\n",
       "    var min_y = Math.min(y0, y1);\n",
       "    var width = Math.abs(x1 - x0);\n",
       "    var height = Math.abs(y1 - y0);\n",
       "\n",
       "    fig.rubberband_context.clearRect(\n",
       "        0, 0, fig.canvas.width / mpl.ratio, fig.canvas.height / mpl.ratio);\n",
       "\n",
       "    fig.rubberband_context.strokeRect(min_x, min_y, width, height);\n",
       "}\n",
       "\n",
       "mpl.figure.prototype.handle_figure_label = function(fig, msg) {\n",
       "    // Updates the figure title.\n",
       "    fig.header.textContent = msg['label'];\n",
       "}\n",
       "\n",
       "mpl.figure.prototype.handle_cursor = function(fig, msg) {\n",
       "    var cursor = msg['cursor'];\n",
       "    switch(cursor)\n",
       "    {\n",
       "    case 0:\n",
       "        cursor = 'pointer';\n",
       "        break;\n",
       "    case 1:\n",
       "        cursor = 'default';\n",
       "        break;\n",
       "    case 2:\n",
       "        cursor = 'crosshair';\n",
       "        break;\n",
       "    case 3:\n",
       "        cursor = 'move';\n",
       "        break;\n",
       "    }\n",
       "    fig.rubberband_canvas.style.cursor = cursor;\n",
       "}\n",
       "\n",
       "mpl.figure.prototype.handle_message = function(fig, msg) {\n",
       "    fig.message.textContent = msg['message'];\n",
       "}\n",
       "\n",
       "mpl.figure.prototype.handle_draw = function(fig, msg) {\n",
       "    // Request the server to send over a new figure.\n",
       "    fig.send_draw_message();\n",
       "}\n",
       "\n",
       "mpl.figure.prototype.handle_image_mode = function(fig, msg) {\n",
       "    fig.image_mode = msg['mode'];\n",
       "}\n",
       "\n",
       "mpl.figure.prototype.updated_canvas_event = function() {\n",
       "    // Called whenever the canvas gets updated.\n",
       "    this.send_message(\"ack\", {});\n",
       "}\n",
       "\n",
       "// A function to construct a web socket function for onmessage handling.\n",
       "// Called in the figure constructor.\n",
       "mpl.figure.prototype._make_on_message_function = function(fig) {\n",
       "    return function socket_on_message(evt) {\n",
       "        if (evt.data instanceof Blob) {\n",
       "            /* FIXME: We get \"Resource interpreted as Image but\n",
       "             * transferred with MIME type text/plain:\" errors on\n",
       "             * Chrome.  But how to set the MIME type?  It doesn't seem\n",
       "             * to be part of the websocket stream */\n",
       "            evt.data.type = \"image/png\";\n",
       "\n",
       "            /* Free the memory for the previous frames */\n",
       "            if (fig.imageObj.src) {\n",
       "                (window.URL || window.webkitURL).revokeObjectURL(\n",
       "                    fig.imageObj.src);\n",
       "            }\n",
       "\n",
       "            fig.imageObj.src = (window.URL || window.webkitURL).createObjectURL(\n",
       "                evt.data);\n",
       "            fig.updated_canvas_event();\n",
       "            fig.waiting = false;\n",
       "            return;\n",
       "        }\n",
       "        else if (typeof evt.data === 'string' && evt.data.slice(0, 21) == \"data:image/png;base64\") {\n",
       "            fig.imageObj.src = evt.data;\n",
       "            fig.updated_canvas_event();\n",
       "            fig.waiting = false;\n",
       "            return;\n",
       "        }\n",
       "\n",
       "        var msg = JSON.parse(evt.data);\n",
       "        var msg_type = msg['type'];\n",
       "\n",
       "        // Call the  \"handle_{type}\" callback, which takes\n",
       "        // the figure and JSON message as its only arguments.\n",
       "        try {\n",
       "            var callback = fig[\"handle_\" + msg_type];\n",
       "        } catch (e) {\n",
       "            console.log(\"No handler for the '\" + msg_type + \"' message type: \", msg);\n",
       "            return;\n",
       "        }\n",
       "\n",
       "        if (callback) {\n",
       "            try {\n",
       "                // console.log(\"Handling '\" + msg_type + \"' message: \", msg);\n",
       "                callback(fig, msg);\n",
       "            } catch (e) {\n",
       "                console.log(\"Exception inside the 'handler_\" + msg_type + \"' callback:\", e, e.stack, msg);\n",
       "            }\n",
       "        }\n",
       "    };\n",
       "}\n",
       "\n",
       "// from http://stackoverflow.com/questions/1114465/getting-mouse-location-in-canvas\n",
       "mpl.findpos = function(e) {\n",
       "    //this section is from http://www.quirksmode.org/js/events_properties.html\n",
       "    var targ;\n",
       "    if (!e)\n",
       "        e = window.event;\n",
       "    if (e.target)\n",
       "        targ = e.target;\n",
       "    else if (e.srcElement)\n",
       "        targ = e.srcElement;\n",
       "    if (targ.nodeType == 3) // defeat Safari bug\n",
       "        targ = targ.parentNode;\n",
       "\n",
       "    // jQuery normalizes the pageX and pageY\n",
       "    // pageX,Y are the mouse positions relative to the document\n",
       "    // offset() returns the position of the element relative to the document\n",
       "    var x = e.pageX - $(targ).offset().left;\n",
       "    var y = e.pageY - $(targ).offset().top;\n",
       "\n",
       "    return {\"x\": x, \"y\": y};\n",
       "};\n",
       "\n",
       "/*\n",
       " * return a copy of an object with only non-object keys\n",
       " * we need this to avoid circular references\n",
       " * http://stackoverflow.com/a/24161582/3208463\n",
       " */\n",
       "function simpleKeys (original) {\n",
       "  return Object.keys(original).reduce(function (obj, key) {\n",
       "    if (typeof original[key] !== 'object')\n",
       "        obj[key] = original[key]\n",
       "    return obj;\n",
       "  }, {});\n",
       "}\n",
       "\n",
       "mpl.figure.prototype.mouse_event = function(event, name) {\n",
       "    var canvas_pos = mpl.findpos(event)\n",
       "\n",
       "    if (name === 'button_press')\n",
       "    {\n",
       "        this.canvas.focus();\n",
       "        this.canvas_div.focus();\n",
       "    }\n",
       "\n",
       "    var x = canvas_pos.x * mpl.ratio;\n",
       "    var y = canvas_pos.y * mpl.ratio;\n",
       "\n",
       "    this.send_message(name, {x: x, y: y, button: event.button,\n",
       "                             step: event.step,\n",
       "                             guiEvent: simpleKeys(event)});\n",
       "\n",
       "    /* This prevents the web browser from automatically changing to\n",
       "     * the text insertion cursor when the button is pressed.  We want\n",
       "     * to control all of the cursor setting manually through the\n",
       "     * 'cursor' event from matplotlib */\n",
       "    event.preventDefault();\n",
       "    return false;\n",
       "}\n",
       "\n",
       "mpl.figure.prototype._key_event_extra = function(event, name) {\n",
       "    // Handle any extra behaviour associated with a key event\n",
       "}\n",
       "\n",
       "mpl.figure.prototype.key_event = function(event, name) {\n",
       "\n",
       "    // Prevent repeat events\n",
       "    if (name == 'key_press')\n",
       "    {\n",
       "        if (event.which === this._key)\n",
       "            return;\n",
       "        else\n",
       "            this._key = event.which;\n",
       "    }\n",
       "    if (name == 'key_release')\n",
       "        this._key = null;\n",
       "\n",
       "    var value = '';\n",
       "    if (event.ctrlKey && event.which != 17)\n",
       "        value += \"ctrl+\";\n",
       "    if (event.altKey && event.which != 18)\n",
       "        value += \"alt+\";\n",
       "    if (event.shiftKey && event.which != 16)\n",
       "        value += \"shift+\";\n",
       "\n",
       "    value += 'k';\n",
       "    value += event.which.toString();\n",
       "\n",
       "    this._key_event_extra(event, name);\n",
       "\n",
       "    this.send_message(name, {key: value,\n",
       "                             guiEvent: simpleKeys(event)});\n",
       "    return false;\n",
       "}\n",
       "\n",
       "mpl.figure.prototype.toolbar_button_onclick = function(name) {\n",
       "    if (name == 'download') {\n",
       "        this.handle_save(this, null);\n",
       "    } else {\n",
       "        this.send_message(\"toolbar_button\", {name: name});\n",
       "    }\n",
       "};\n",
       "\n",
       "mpl.figure.prototype.toolbar_button_onmouseover = function(tooltip) {\n",
       "    this.message.textContent = tooltip;\n",
       "};\n",
       "mpl.toolbar_items = [[\"Home\", \"Reset original view\", \"fa fa-home icon-home\", \"home\"], [\"Back\", \"Back to previous view\", \"fa fa-arrow-left icon-arrow-left\", \"back\"], [\"Forward\", \"Forward to next view\", \"fa fa-arrow-right icon-arrow-right\", \"forward\"], [\"\", \"\", \"\", \"\"], [\"Pan\", \"Pan axes with left mouse, zoom with right\", \"fa fa-arrows icon-move\", \"pan\"], [\"Zoom\", \"Zoom to rectangle\", \"fa fa-square-o icon-check-empty\", \"zoom\"], [\"\", \"\", \"\", \"\"], [\"Download\", \"Download plot\", \"fa fa-floppy-o icon-save\", \"download\"]];\n",
       "\n",
       "mpl.extensions = [\"eps\", \"jpeg\", \"pdf\", \"png\", \"ps\", \"raw\", \"svg\", \"tif\"];\n",
       "\n",
       "mpl.default_extension = \"png\";var comm_websocket_adapter = function(comm) {\n",
       "    // Create a \"websocket\"-like object which calls the given IPython comm\n",
       "    // object with the appropriate methods. Currently this is a non binary\n",
       "    // socket, so there is still some room for performance tuning.\n",
       "    var ws = {};\n",
       "\n",
       "    ws.close = function() {\n",
       "        comm.close()\n",
       "    };\n",
       "    ws.send = function(m) {\n",
       "        //console.log('sending', m);\n",
       "        comm.send(m);\n",
       "    };\n",
       "    // Register the callback with on_msg.\n",
       "    comm.on_msg(function(msg) {\n",
       "        //console.log('receiving', msg['content']['data'], msg);\n",
       "        // Pass the mpl event to the overridden (by mpl) onmessage function.\n",
       "        ws.onmessage(msg['content']['data'])\n",
       "    });\n",
       "    return ws;\n",
       "}\n",
       "\n",
       "mpl.mpl_figure_comm = function(comm, msg) {\n",
       "    // This is the function which gets called when the mpl process\n",
       "    // starts-up an IPython Comm through the \"matplotlib\" channel.\n",
       "\n",
       "    var id = msg.content.data.id;\n",
       "    // Get hold of the div created by the display call when the Comm\n",
       "    // socket was opened in Python.\n",
       "    var element = $(\"#\" + id);\n",
       "    var ws_proxy = comm_websocket_adapter(comm)\n",
       "\n",
       "    function ondownload(figure, format) {\n",
       "        window.open(figure.imageObj.src);\n",
       "    }\n",
       "\n",
       "    var fig = new mpl.figure(id, ws_proxy,\n",
       "                           ondownload,\n",
       "                           element.get(0));\n",
       "\n",
       "    // Call onopen now - mpl needs it, as it is assuming we've passed it a real\n",
       "    // web socket which is closed, not our websocket->open comm proxy.\n",
       "    ws_proxy.onopen();\n",
       "\n",
       "    fig.parent_element = element.get(0);\n",
       "    fig.cell_info = mpl.find_output_cell(\"<div id='\" + id + \"'></div>\");\n",
       "    if (!fig.cell_info) {\n",
       "        console.error(\"Failed to find cell for figure\", id, fig);\n",
       "        return;\n",
       "    }\n",
       "\n",
       "    var output_index = fig.cell_info[2]\n",
       "    var cell = fig.cell_info[0];\n",
       "\n",
       "};\n",
       "\n",
       "mpl.figure.prototype.handle_close = function(fig, msg) {\n",
       "    var width = fig.canvas.width/mpl.ratio\n",
       "    fig.root.unbind('remove')\n",
       "\n",
       "    // Update the output cell to use the data from the current canvas.\n",
       "    fig.push_to_output();\n",
       "    var dataURL = fig.canvas.toDataURL();\n",
       "    // Re-enable the keyboard manager in IPython - without this line, in FF,\n",
       "    // the notebook keyboard shortcuts fail.\n",
       "    IPython.keyboard_manager.enable()\n",
       "    $(fig.parent_element).html('<img src=\"' + dataURL + '\" width=\"' + width + '\">');\n",
       "    fig.close_ws(fig, msg);\n",
       "}\n",
       "\n",
       "mpl.figure.prototype.close_ws = function(fig, msg){\n",
       "    fig.send_message('closing', msg);\n",
       "    // fig.ws.close()\n",
       "}\n",
       "\n",
       "mpl.figure.prototype.push_to_output = function(remove_interactive) {\n",
       "    // Turn the data on the canvas into data in the output cell.\n",
       "    var width = this.canvas.width/mpl.ratio\n",
       "    var dataURL = this.canvas.toDataURL();\n",
       "    this.cell_info[1]['text/html'] = '<img src=\"' + dataURL + '\" width=\"' + width + '\">';\n",
       "}\n",
       "\n",
       "mpl.figure.prototype.updated_canvas_event = function() {\n",
       "    // Tell IPython that the notebook contents must change.\n",
       "    IPython.notebook.set_dirty(true);\n",
       "    this.send_message(\"ack\", {});\n",
       "    var fig = this;\n",
       "    // Wait a second, then push the new image to the DOM so\n",
       "    // that it is saved nicely (might be nice to debounce this).\n",
       "    setTimeout(function () { fig.push_to_output() }, 1000);\n",
       "}\n",
       "\n",
       "mpl.figure.prototype._init_toolbar = function() {\n",
       "    var fig = this;\n",
       "\n",
       "    var nav_element = $('<div/>');\n",
       "    nav_element.attr('style', 'width: 100%');\n",
       "    this.root.append(nav_element);\n",
       "\n",
       "    // Define a callback function for later on.\n",
       "    function toolbar_event(event) {\n",
       "        return fig.toolbar_button_onclick(event['data']);\n",
       "    }\n",
       "    function toolbar_mouse_event(event) {\n",
       "        return fig.toolbar_button_onmouseover(event['data']);\n",
       "    }\n",
       "\n",
       "    for(var toolbar_ind in mpl.toolbar_items){\n",
       "        var name = mpl.toolbar_items[toolbar_ind][0];\n",
       "        var tooltip = mpl.toolbar_items[toolbar_ind][1];\n",
       "        var image = mpl.toolbar_items[toolbar_ind][2];\n",
       "        var method_name = mpl.toolbar_items[toolbar_ind][3];\n",
       "\n",
       "        if (!name) { continue; };\n",
       "\n",
       "        var button = $('<button class=\"btn btn-default\" href=\"#\" title=\"' + name + '\"><i class=\"fa ' + image + ' fa-lg\"></i></button>');\n",
       "        button.click(method_name, toolbar_event);\n",
       "        button.mouseover(tooltip, toolbar_mouse_event);\n",
       "        nav_element.append(button);\n",
       "    }\n",
       "\n",
       "    // Add the status bar.\n",
       "    var status_bar = $('<span class=\"mpl-message\" style=\"text-align:right; float: right;\"/>');\n",
       "    nav_element.append(status_bar);\n",
       "    this.message = status_bar[0];\n",
       "\n",
       "    // Add the close button to the window.\n",
       "    var buttongrp = $('<div class=\"btn-group inline pull-right\"></div>');\n",
       "    var button = $('<button class=\"btn btn-mini btn-primary\" href=\"#\" title=\"Stop Interaction\"><i class=\"fa fa-power-off icon-remove icon-large\"></i></button>');\n",
       "    button.click(function (evt) { fig.handle_close(fig, {}); } );\n",
       "    button.mouseover('Stop Interaction', toolbar_mouse_event);\n",
       "    buttongrp.append(button);\n",
       "    var titlebar = this.root.find($('.ui-dialog-titlebar'));\n",
       "    titlebar.prepend(buttongrp);\n",
       "}\n",
       "\n",
       "mpl.figure.prototype._root_extra_style = function(el){\n",
       "    var fig = this\n",
       "    el.on(\"remove\", function(){\n",
       "\tfig.close_ws(fig, {});\n",
       "    });\n",
       "}\n",
       "\n",
       "mpl.figure.prototype._canvas_extra_style = function(el){\n",
       "    // this is important to make the div 'focusable\n",
       "    el.attr('tabindex', 0)\n",
       "    // reach out to IPython and tell the keyboard manager to turn it's self\n",
       "    // off when our div gets focus\n",
       "\n",
       "    // location in version 3\n",
       "    if (IPython.notebook.keyboard_manager) {\n",
       "        IPython.notebook.keyboard_manager.register_events(el);\n",
       "    }\n",
       "    else {\n",
       "        // location in version 2\n",
       "        IPython.keyboard_manager.register_events(el);\n",
       "    }\n",
       "\n",
       "}\n",
       "\n",
       "mpl.figure.prototype._key_event_extra = function(event, name) {\n",
       "    var manager = IPython.notebook.keyboard_manager;\n",
       "    if (!manager)\n",
       "        manager = IPython.keyboard_manager;\n",
       "\n",
       "    // Check for shift+enter\n",
       "    if (event.shiftKey && event.which == 13) {\n",
       "        this.canvas_div.blur();\n",
       "        // select the cell after this one\n",
       "        var index = IPython.notebook.find_cell_index(this.cell_info[0]);\n",
       "        IPython.notebook.select(index + 1);\n",
       "    }\n",
       "}\n",
       "\n",
       "mpl.figure.prototype.handle_save = function(fig, msg) {\n",
       "    fig.ondownload(fig, null);\n",
       "}\n",
       "\n",
       "\n",
       "mpl.find_output_cell = function(html_output) {\n",
       "    // Return the cell and output element which can be found *uniquely* in the notebook.\n",
       "    // Note - this is a bit hacky, but it is done because the \"notebook_saving.Notebook\"\n",
       "    // IPython event is triggered only after the cells have been serialised, which for\n",
       "    // our purposes (turning an active figure into a static one), is too late.\n",
       "    var cells = IPython.notebook.get_cells();\n",
       "    var ncells = cells.length;\n",
       "    for (var i=0; i<ncells; i++) {\n",
       "        var cell = cells[i];\n",
       "        if (cell.cell_type === 'code'){\n",
       "            for (var j=0; j<cell.output_area.outputs.length; j++) {\n",
       "                var data = cell.output_area.outputs[j];\n",
       "                if (data.data) {\n",
       "                    // IPython >= 3 moved mimebundle to data attribute of output\n",
       "                    data = data.data;\n",
       "                }\n",
       "                if (data['text/html'] == html_output) {\n",
       "                    return [cell, data, j];\n",
       "                }\n",
       "            }\n",
       "        }\n",
       "    }\n",
       "}\n",
       "\n",
       "// Register the function which deals with the matplotlib target/channel.\n",
       "// The kernel may be null if the page has been refreshed.\n",
       "if (IPython.notebook.kernel != null) {\n",
       "    IPython.notebook.kernel.comm_manager.register_target('matplotlib', mpl.mpl_figure_comm);\n",
       "}\n"
      ],
      "text/plain": [
       "<IPython.core.display.Javascript object>"
      ]
     },
     "metadata": {},
     "output_type": "display_data"
    },
    {
     "data": {
      "text/html": [
       "<img src=\"data:image/png;base64,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\" width=\"640\">"
      ],
      "text/plain": [
       "<IPython.core.display.HTML object>"
      ]
     },
     "metadata": {},
     "output_type": "display_data"
    },
    {
     "data": {
      "text/plain": [
       "<matplotlib.legend.Legend object at 0x7fdbee3304c0>"
      ]
     },
     "execution_count": 72,
     "metadata": {},
     "output_type": "execute_result"
    }
   ],
   "source": [
    "%matplotlib notebook\n",
    "\n",
    "import matplotlib.pyplot as plt\n",
    "\n",
    "import pandas as pd\n",
    "\n",
    "df = pd.DataFrame.from_dict(data)\n",
    "\n",
    "ax = plt.gca()\n",
    "\n",
    "df.plot.scatter(x='n', y='time_without_using_primes', label='Não sabe p e q', c='red', ax=ax, s=0.4)\n",
    "df.plot.scatter(x='n', y='time_using_primes', c='blue', label='Sabe p e q', ax=ax, s=0.4)\n",
    "\n",
    "plt.ylabel('Tempo de execução')\n",
    "plt.legend()\n"
   ]
  },
  {
   "cell_type": "markdown",
   "metadata": {},
   "source": [
    "A moral da história é: quem não conhece $p$ e $q$, dificilmente saberá calcular $\\phi(n)$, se $n$ for suficientemente grande."
   ]
  },
  {
   "cell_type": "markdown",
   "metadata": {},
   "source": [
    "#### Escolha aleatoriamente um $e$\n",
    "\n",
    "$$\n",
    "    e \\in \\left\\{ 1 < x < \\phi(n) : \\gcd(x, \\phi(n)) = 1 \\right\\}\n",
    "$$"
   ]
  },
  {
   "cell_type": "code",
   "execution_count": 20,
   "metadata": {
    "scrolled": true
   },
   "outputs": [
    {
     "name": "stdout",
     "output_type": "stream",
     "text": [
      "Chave de encriptação e = 362591\n"
     ]
    }
   ],
   "source": [
    "def choose_e(phi_n):\n",
    "    e = randint(1, phi_n)\n",
    "    while gcd(e, phi_n) != 1:\n",
    "        e = randint(1, phi_n)\n",
    "    return e\n",
    "\n",
    "e = choose_e(phi_n)\n",
    "print('Chave de encriptação e =', e)"
   ]
  },
  {
   "cell_type": "code",
   "execution_count": 21,
   "metadata": {},
   "outputs": [
    {
     "data": {
      "text/plain": [
       "1"
      ]
     },
     "execution_count": 21,
     "metadata": {},
     "output_type": "execute_result"
    }
   ],
   "source": [
    "gcd(e, phi_n)"
   ]
  },
  {
   "cell_type": "markdown",
   "metadata": {},
   "source": [
    "#### Compute a **chave de decriptação** $d$\n",
    "\n",
    "Usando o *Algoritmo de Euclides Estendido*, temos que encontrar:\n",
    "\n",
    "$$\n",
    "    d \\equiv e^{-1} \\mod \\phi(n).\n",
    "$$ \n"
   ]
  },
  {
   "cell_type": "markdown",
   "metadata": {},
   "source": [
    "Dados $a$ e $b$, o algoritmo de Euclides estendido nos devolve o $\\gcd(a, b)$ e inteiros $u$ e $v$ tais que\n",
    "\n",
    "$$\n",
    "    ua + vb = \\gcd(a, b).\n",
    "$$"
   ]
  },
  {
   "cell_type": "code",
   "execution_count": 42,
   "metadata": {},
   "outputs": [
    {
     "name": "stdout",
     "output_type": "stream",
     "text": [
      "gcd = 1 , u = 140579 , v = -95521\n"
     ]
    }
   ],
   "source": [
    "gcd, u, v = xgcd(e, phi_n)\n",
    "print('gcd =', gcd, ', u =', u, ', v =', v)"
   ]
  },
  {
   "cell_type": "markdown",
   "metadata": {},
   "source": [
    "Note que\n",
    "\n",
    "$$\n",
    "    ue + v\\phi(n) = 1 \\implies ue = 1 \\mod \\phi(n).\n",
    "$$\n",
    "\n",
    "Portanto, $d = u$ é a inversa de $e \\mod \\phi(n)$.\n"
   ]
  },
  {
   "cell_type": "code",
   "execution_count": 45,
   "metadata": {},
   "outputs": [
    {
     "name": "stdout",
     "output_type": "stream",
     "text": [
      "d = 140579\n"
     ]
    }
   ],
   "source": [
    "d = u\n",
    "print('d =', d)"
   ]
  },
  {
   "cell_type": "code",
   "execution_count": 41,
   "metadata": {},
   "outputs": [
    {
     "data": {
      "text/plain": [
       "1"
      ]
     },
     "execution_count": 41,
     "metadata": {},
     "output_type": "execute_result"
    }
   ],
   "source": [
    "e*d % phi_n"
   ]
  },
  {
   "cell_type": "markdown",
   "metadata": {},
   "source": [
    "Calcular a inversa $\\bmod $ é uma operação muito importante e já vem implementada no Sage: "
   ]
  },
  {
   "cell_type": "code",
   "execution_count": 43,
   "metadata": {},
   "outputs": [
    {
     "data": {
      "text/plain": [
       "140579"
      ]
     },
     "execution_count": 43,
     "metadata": {},
     "output_type": "execute_result"
    }
   ],
   "source": [
    "inverse_mod(e, phi_n)"
   ]
  },
  {
   "cell_type": "markdown",
   "metadata": {},
   "source": [
    "### Encriptação"
   ]
  },
  {
   "cell_type": "markdown",
   "metadata": {},
   "source": [
    "Seja $m$ um inteiro $0 < m < n$.  "
   ]
  },
  {
   "cell_type": "code",
   "execution_count": 49,
   "metadata": {},
   "outputs": [
    {
     "name": "stdout",
     "output_type": "stream",
     "text": [
      "430577\n"
     ]
    }
   ],
   "source": [
    "m = randint(1, n)\n",
    "print(m)"
   ]
  },
  {
   "cell_type": "code",
   "execution_count": 60,
   "metadata": {},
   "outputs": [
    {
     "name": "stdout",
     "output_type": "stream",
     "text": [
      "enc_m =  473622\n"
     ]
    }
   ],
   "source": [
    "enc_m = power_mod(m, e, n)\n",
    "print('enc_m = ', enc_m)"
   ]
  },
  {
   "cell_type": "markdown",
   "metadata": {},
   "source": [
    "### Decriptação"
   ]
  },
  {
   "cell_type": "code",
   "execution_count": 61,
   "metadata": {},
   "outputs": [],
   "source": [
    "dec_m = power_mod(enc_m, d, n)"
   ]
  },
  {
   "cell_type": "code",
   "execution_count": 62,
   "metadata": {},
   "outputs": [
    {
     "data": {
      "text/plain": [
       "430577"
      ]
     },
     "execution_count": 62,
     "metadata": {},
     "output_type": "execute_result"
    }
   ],
   "source": [
    "dec_m"
   ]
  }
 ],
 "metadata": {
  "kernelspec": {
   "display_name": "SageMath 9.0",
   "language": "sage",
   "name": "sagemath"
  },
  "language_info": {
   "codemirror_mode": {
    "name": "ipython",
    "version": 3
   },
   "file_extension": ".py",
   "mimetype": "text/x-python",
   "name": "python",
   "nbconvert_exporter": "python",
   "pygments_lexer": "ipython3",
   "version": "3.8.1"
  },
  "toc": {
   "base_numbering": 1,
   "nav_menu": {
    "height": "296px",
    "width": "298px"
   },
   "number_sections": true,
   "sideBar": true,
   "skip_h1_title": false,
   "title_cell": "Table of Contents",
   "title_sidebar": "Contents",
   "toc_cell": false,
   "toc_position": {},
   "toc_section_display": true,
   "toc_window_display": false
  }
 },
 "nbformat": 4,
 "nbformat_minor": 2
}
