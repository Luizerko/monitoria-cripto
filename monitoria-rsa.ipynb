{
 "cells": [
  {
   "cell_type": "markdown",
   "metadata": {},
   "source": [
    "# Uma introdução prática ao RSA"
   ]
  },
  {
   "cell_type": "markdown",
   "metadata": {},
   "source": [
    "## Pré-requisitos"
   ]
  },
  {
   "cell_type": "markdown",
   "metadata": {},
   "source": [
    "### Nível de segurança"
   ]
  },
  {
   "cell_type": "markdown",
   "metadata": {},
   "source": [
    "O nível de segurança de um esquema criptográfico é o $\\log_2$ número de operações necessário pelo melhor ataque contra ele. Hoje usamos um nível de segurança de 128 bits, que significa que os melhores ataques conhecidos a esquemas tomam tempo proporcional a $2^{128}$."
   ]
  },
  {
   "cell_type": "markdown",
   "metadata": {},
   "source": [
    "A ideia é que a probabilidade de escolher um número $p$ não primo, ou de um atacante selecionar um dos fatores de $n$ aleatoriamente, e tudo mais... tem que ser menor do que $2^{-128}$."
   ]
  },
  {
   "cell_type": "code",
   "execution_count": null,
   "metadata": {},
   "outputs": [],
   "source": []
  },
  {
   "cell_type": "markdown",
   "metadata": {},
   "source": [
    "### Função $\\phi$ de Euler"
   ]
  },
  {
   "cell_type": "markdown",
   "metadata": {},
   "source": [
    "Considere o seguinte grupo\n",
    "\n",
    "$$\n",
    "\\mathbb{Z}_n^* = \\{ {0 < i \\leq n : \\gcd(i, n) = 1} \\}.\n",
    "$$\n",
    "\n",
    "A função $\\phi$ de Euler representa o número de elementos $\\mathbb{Z}_n^*$\n",
    "\n",
    "$$\n",
    "    \\phi(n) = |\\mathbb{Z}_n^*|.\n",
    "$$"
   ]
  },
  {
   "cell_type": "markdown",
   "metadata": {},
   "source": [
    "A função $\\phi$ é multiplicativa, isto é, se $\\gcd(a, b) = 1$\n",
    "\n",
    "$$\n",
    "    \\phi(ab) = \\phi(a)\\phi(b).\n",
    "$$\n",
    "\n",
    "Para o RSA precisamos apenas o seguinte caso particular desta propriedade para números primos.\n",
    "\n",
    "*Lema. Se $p$ e $q$ são primos, então*\n",
    "\n",
    "$$\n",
    "    \\phi(pq) = \\phi(p)\\phi(q) = (p-1)(q-1).\n",
    "$$\n",
    "\n",
    "*Demonstração.* Queremos calcular o número de elementos de $\\mathbb{Z}_n$\n",
    "que são coprimos a $n = pq$, onde $\\mathbb{Z}_n = \\{0, 1, 2, 3, \\ldots, n - 1\\}$.\n",
    "\n",
    "Como $n$ é produto de primos, se $\\gcd(a, n) = 1$ para\n",
    "algum $ a \\in \\mathbb{Z}_n$, então $p | a$ ou $q | a$. \n",
    "\n",
    "Sejam $M_p, M_q,$ e $M_{pq}$ o número de múltiplos de $p, q$ e $pq$ \n",
    "em $\\mathbb{Z}_n$, temos que:\n",
    "\n",
    "$$\n",
    "\\begin{eqnarray}\n",
    "    \\phi(n)\n",
    "        &=& |\\mathbb{Z}_n| - M_q - M_p + M_{pq} \\\\\n",
    "        &=& n - p - q + 1 \\\\\n",
    "        &=& pq - p - q + 1 \\\\\n",
    "        &=& (p - 1)(q - 1).\n",
    "\\end{eqnarray}\n",
    "$$\n"
   ]
  },
  {
   "cell_type": "markdown",
   "metadata": {},
   "source": [
    "$M_{pq} = 1$\n",
    "$M_p = q$\n",
    "$M_q = p$"
   ]
  },
  {
   "cell_type": "markdown",
   "metadata": {},
   "source": [
    "### Teorema de Euler"
   ]
  },
  {
   "cell_type": "markdown",
   "metadata": {},
   "source": [
    "*Teorema de Euler.* Se $\\gcd(a, n) = 1$, então\n",
    "\n",
    "$$\n",
    "    a^{\\phi(n)} \\equiv 1 \\mod n.\n",
    "$$\n",
    "\n",
    "*Demonstração.* Começamos mostrando que $\\{ ax \\mod n : x \\in \\mathbb{Z}_n^* \\} = \\mathbb{Z}_n^* $. Isso\n",
    "pode ser visto facilmente notando que a função $f_a: \\mathbb{Z}_n^* \\rightarrow \\mathbb{Z}_n^*$ tal que \n",
    "$f_a(x) = ax$ é uma bijeção quando $\\gcd(a, n) = 1$. Como a e n são coprimos então existe o inverso de $a \\bmod n$. \n",
    "e a função inversa de $f_a$ é $f_a^{-1}(y) = a^{-1}y$.\n",
    "\n",
    "Agora note que\n",
    "\n",
    "$$\n",
    "\\begin{eqnarray}\n",
    "    \\prod_{x \\in \\mathbb{Z}_n^*} x \n",
    "        &=& \\prod_{x \\in \\mathbb{Z}_n^*} ax \\\\\n",
    "        &=& a^{\\phi(n)} \\prod_{x \\in Z_n^*} x.\n",
    "\\end{eqnarray}\n",
    "$$\n",
    "\n",
    "E como a inversa $\\bmod n$ existe para todo $x \\in \\mathbb{Z}_n^*$, então\n",
    "\n",
    "$$\n",
    "    \\prod_{x \\in \\mathbb{Z}_n^*} x \n",
    "        = a^{\\phi(n)} \\prod_{x \\in Z_n^*} x \\implies a^{\\phi(n)} \\equiv 1 \\mod n.\n",
    "$$\n"
   ]
  },
  {
   "cell_type": "markdown",
   "metadata": {},
   "source": [
    "## O esquema RSA"
   ]
  },
  {
   "cell_type": "markdown",
   "metadata": {},
   "source": [
    "O esquema RSA é composto de 3 algoritmos:\n",
    "* $\\textbf{KeyGen}$ Geração de Chaves \n",
    "* $\\textbf{Enc}$ Encriptação \n",
    "* $\\textbf{Dec}$ Decriptação "
   ]
  },
  {
   "cell_type": "markdown",
   "metadata": {},
   "source": [
    "### $\\textbf{KeyGen}$"
   ]
  },
  {
   "cell_type": "markdown",
   "metadata": {},
   "source": [
    "Esta função toma como entrada o nível de segurança, e para gerar um par de chaves $k_\\text{Sec}$ e $k_\\text{pub}$, faça: \n",
    "1. Escolha dois primos grandes $p$ e $q$\n",
    "2. Faça $n = pq$\n",
    "3. Compute a função totiente de Euler\n",
    "\n",
    "$$\n",
    "    \\phi(n) = (p - 1)(q - 1)\n",
    "$$\n",
    "\n",
    "\n",
    "4. Escolha aleatoriamente um $e$ do conjunto\n",
    "\n",
    "$$\n",
    "e \\in \\left\\{ 1 < x < \\phi(n) : \\gcd(x, \\phi(n)) = 1 \\right\\}.\n",
    "$$\n",
    "\n",
    "Isto é, o $e$ e $\\phi(n)$ são é coprimos. Este inteiro $e$ é a **chave de encriptação**.\n",
    "5. Compute a **chave de decriptação** $d$ usando o *Algoritmo de Euclides Estendido*\n",
    "\n",
    "$$\n",
    "d \\equiv e^{-1} \\mod \\phi(n).\n",
    "$$ \n",
    "\n",
    "6. O par de chaves secreta e pública é\n",
    "\n",
    "$$\n",
    "k_\\text{Sec} = d \\text{ e } k_\\text{Pub} = (n, e).\n",
    "$$"
   ]
  },
  {
   "cell_type": "markdown",
   "metadata": {},
   "source": [
    "### $\\textbf{Enc}$"
   ]
  },
  {
   "cell_type": "markdown",
   "metadata": {},
   "source": [
    "Seja $m$ um inteiro $0 < m < n $ ($ m \\in \\mathbb{Z}_n$) a mensagem a ser transmitida. A encriptação de $m$ é simplesmente\n",
    "\n",
    "$$\n",
    "    \\textbf{Enc}(m) \\equiv m^e \\mod n.\n",
    "$$"
   ]
  },
  {
   "cell_type": "markdown",
   "metadata": {},
   "source": [
    "### $\\textbf{Dec}$"
   ]
  },
  {
   "cell_type": "markdown",
   "metadata": {},
   "source": [
    "Seja $c = \\textbf{Enc}(m)$, para decriptar $c$, basta computar\n",
    "\n",
    "$$\n",
    "\\begin{eqnarray}\n",
    "    \\textbf{Dec}(c) \n",
    "        &\\equiv& c^d &\\mod n& \\\\\n",
    "        &=& (m^e)^d = m^{ed}  &\\mod n&.\n",
    "\\end{eqnarray}\n",
    "$$\n",
    "\n",
    "Como $ed \\equiv 1 \\mod \\phi(n)$, temos\n",
    "\n",
    "$$\n",
    "\\begin{eqnarray}\n",
    "    \\textbf{Dec}(c) \n",
    "        &=& m^{k\\phi(n) + 1}, &\\text{ para algum $k$}& \\\\\n",
    "        &=& \\left( m^{\\phi(n)} \\right)^k m.\n",
    "\\end{eqnarray}\n",
    "$$\n",
    "\n",
    "**Caso 1:** \n",
    "$m \\in \\mathbb{Z}_n^{*}$\n",
    "\n",
    "Lembre do Teorema de Euler, que garante que para todo $a \\in \\mathbb{Z}_n^*$, vale que \n",
    "$$\n",
    "    a^{\\phi(n)} \\equiv 1 \\mod (n).\n",
    "$$\n",
    "\n",
    "Então:\n",
    "\n",
    "$$\n",
    "\\begin{eqnarray}\n",
    "    \\textbf{Dec}(c) \n",
    "        &=& \\left( m^{\\phi(n)} \\right)^k m \\\\\n",
    "        &\\equiv& \\left( 1 \\right)^k m \\mod n \\\\\n",
    "        &=& m \\mod n.\n",
    "\\end{eqnarray}\n",
    "$$\n",
    "\n",
    "**Caso 2:** \n",
    "$m \\notin \\mathbb{Z}_n^{*}$\n",
    "\n",
    "Então $p | m$ ou $q | m$. Suponha sem perda de generalidade que $p | m $, então $m = pt$ para algum $t$. Note que $m$ não pode ser múltiplo de $q$, ao mesmo tempo, pois senão seria múltiplo de $n$.\n",
    "\n",
    "Podemos então aplicar o Teorema de Euler a $m$ e $q$, e temos que\n",
    "$m^{\\phi(q)} \\equiv 1 \\mod q$.\n",
    "\n",
    "\n",
    "$$\n",
    "\\begin{eqnarray}\n",
    "    \\textbf{Dec}(c) \n",
    "        &=& \\left( m^{\\phi(n)} \\right)^k m \\\\\n",
    "        &=& \\left( m^{\\phi(p)\\phi(q)} \\right)^k m \\\\\n",
    "        &=& \\left( m^{\\phi(q)} \\right)^{\\phi(p)k} m \\\\\n",
    "        &\\equiv& \\left( 1 \\right)^{\\phi(p)k} m &\\mod q& \\\\\n",
    "        &\\equiv& m &\\mod q.&\n",
    "\\end{eqnarray}\n",
    "$$\n",
    "\n",
    "Em relação a $\\bmod p$, temos\n",
    "\n",
    "\n",
    "$$\n",
    "\\begin{eqnarray}\n",
    "    \\textbf{Dec}(c) \n",
    "        &=& \\left( m^{\\phi(n)} \\right)^k m \\\\\n",
    "        &\\equiv& 0  &\\mod p& \\\\\n",
    "        &\\equiv& m &\\mod p.&\n",
    "\\end{eqnarray}\n",
    "$$\n",
    "\n",
    "Dessa forma:\n",
    "$$\n",
    "    \\begin{cases}\n",
    "        \\textbf{Dec}(c) \\equiv m \\mod p, \\\\\n",
    "        \\textbf{Dec}(c) \\equiv m \\mod q.\n",
    "    \\end{cases}\n",
    "    \\implies\n",
    "    \\begin{cases}\n",
    "        \\textbf{Dec}(c) -m \\equiv 0 \\mod p, \\\\\n",
    "        \\textbf{Dec}(c) -m \\equiv 0 \\mod q.\n",
    "    \\end{cases}\n",
    "$$\n",
    "\n",
    "Assim $p | (\\textbf{Dec}(c) - m)$ e $q | (\\textbf{Dec}(c) - m)$, e como $p$ e $q$ são primos, \n",
    "vale que $n | (\\textbf{Dec}(c) - m)$. Portanto\n",
    "\n",
    "$$\n",
    "    \\textbf{Dec}(c) = m \\mod n.\n",
    "$$\n"
   ]
  },
  {
   "cell_type": "markdown",
   "metadata": {},
   "source": [
    "## RSA na prática com SageMath"
   ]
  },
  {
   "cell_type": "markdown",
   "metadata": {},
   "source": [
    "### Geração de chaves"
   ]
  },
  {
   "cell_type": "markdown",
   "metadata": {},
   "source": [
    "#### Escolha dois primos"
   ]
  },
  {
   "cell_type": "code",
   "execution_count": 1,
   "metadata": {},
   "outputs": [
    {
     "name": "stdout",
     "output_type": "stream",
     "text": [
      "Primos escolhidos: p = 5521 e q = 5653\n"
     ]
    }
   ],
   "source": [
    "MAX_PRIME = 10000\n",
    "p = random_prime(MAX_PRIME);\n",
    "q = random_prime(MAX_PRIME)\n",
    "print('Primos escolhidos: p = %d e q = %d' % (p, q))"
   ]
  },
  {
   "cell_type": "markdown",
   "metadata": {},
   "source": [
    "#### Faça $n = pq$"
   ]
  },
  {
   "cell_type": "code",
   "execution_count": 6,
   "metadata": {},
   "outputs": [
    {
     "name": "stdout",
     "output_type": "stream",
     "text": [
      "n = 31210213\n"
     ]
    }
   ],
   "source": [
    "n = p*q\n",
    "print('n =', n)"
   ]
  },
  {
   "cell_type": "markdown",
   "metadata": {},
   "source": [
    "#### Compute a função totiente de Euler"
   ]
  },
  {
   "cell_type": "code",
   "execution_count": 7,
   "metadata": {},
   "outputs": [
    {
     "name": "stdout",
     "output_type": "stream",
     "text": [
      "phi_n = 31199040\n"
     ]
    }
   ],
   "source": [
    "phi_n = (p - 1)*(q - 1)\n",
    "print('phi_n =', phi_n)"
   ]
  },
  {
   "cell_type": "markdown",
   "metadata": {},
   "source": [
    "Note que o SageMath fornece uma função para isso:"
   ]
  },
  {
   "cell_type": "code",
   "execution_count": 8,
   "metadata": {},
   "outputs": [
    {
     "data": {
      "text/plain": [
       "31199040"
      ]
     },
     "execution_count": 8,
     "metadata": {},
     "output_type": "execute_result"
    }
   ],
   "source": [
    "euler_phi(n)"
   ]
  },
  {
   "cell_type": "markdown",
   "metadata": {},
   "source": [
    "**A seguir vem a coisa mais importante dessa revisão pois o resto você acha em qualquer lugar.**\n",
    "\n",
    "Mas observe como ela é mais lenta do que para quem sabe os primos $p$ e $q$:\n"
   ]
  },
  {
   "cell_type": "code",
   "execution_count": 9,
   "metadata": {},
   "outputs": [
    {
     "name": "stdout",
     "output_type": "stream",
     "text": [
      "CPU times: user 63 µs, sys: 22 µs, total: 85 µs\n",
      "Wall time: 91.3 µs\n"
     ]
    },
    {
     "data": {
      "text/plain": [
       "31199040"
      ]
     },
     "execution_count": 9,
     "metadata": {},
     "output_type": "execute_result"
    }
   ],
   "source": [
    "%time euler_phi(n)"
   ]
  },
  {
   "cell_type": "code",
   "execution_count": 10,
   "metadata": {},
   "outputs": [
    {
     "name": "stdout",
     "output_type": "stream",
     "text": [
      "CPU times: user 15 µs, sys: 5 µs, total: 20 µs\n",
      "Wall time: 24.8 µs\n"
     ]
    }
   ],
   "source": [
    "%time phi_n = (p - 1)*(q - 1)"
   ]
  },
  {
   "cell_type": "code",
   "execution_count": 12,
   "metadata": {},
   "outputs": [],
   "source": [
    "import timeit\n",
    "\n",
    "START    = 10000000\n",
    "END      = 100000000\n",
    "STEP     = 10000000\n",
    "NSAMPLES = 1000 \n",
    "\n",
    "def estimate_euler_phi_efficiency(start=START, end=END, step=STEP, nsamples=NSAMPLES):\n",
    "    \n",
    "    data = {\n",
    "        'n': [],\n",
    "        'time_using_primes': [],\n",
    "        'time_without_using_primes': []\n",
    "    }\n",
    "    \n",
    "    for max_prime in range(start, end + 1, step):\n",
    "        for _ in range(nsamples):\n",
    "            p = random_prime(max_prime, lbound=max_prime - step)\n",
    "            q = random_prime(max_prime, lbound=max_prime - step)\n",
    "\n",
    "            n = p*q\n",
    "\n",
    "            def compute_euler_phi_using_primes():\n",
    "                phi_n = (p - 1)*(q - 1)\n",
    "\n",
    "            time_using_primes = timeit.timeit(compute_euler_phi_using_primes, number=10)\n",
    "\n",
    "            def compute_euler_phi_without_using_primes():\n",
    "                phi_n = euler_phi(n)\n",
    "\n",
    "            time_without_using_primes = timeit.timeit(compute_euler_phi_without_using_primes, number=1)\n",
    "\n",
    "            data['n'].append(n)\n",
    "            data['time_using_primes'].append(time_using_primes)\n",
    "            data['time_without_using_primes'].append(time_without_using_primes)\n",
    "\n",
    "        \n",
    "    return data\n",
    "\n",
    "data = estimate_euler_phi_efficiency()"
   ]
  },
  {
   "cell_type": "code",
   "execution_count": 13,
   "metadata": {},
   "outputs": [
    {
     "data": {
      "application/javascript": [
       "/* Put everything inside the global mpl namespace */\n",
       "window.mpl = {};\n",
       "\n",
       "\n",
       "mpl.get_websocket_type = function() {\n",
       "    if (typeof(WebSocket) !== 'undefined') {\n",
       "        return WebSocket;\n",
       "    } else if (typeof(MozWebSocket) !== 'undefined') {\n",
       "        return MozWebSocket;\n",
       "    } else {\n",
       "        alert('Your browser does not have WebSocket support. ' +\n",
       "              'Please try Chrome, Safari or Firefox ≥ 6. ' +\n",
       "              'Firefox 4 and 5 are also supported but you ' +\n",
       "              'have to enable WebSockets in about:config.');\n",
       "    };\n",
       "}\n",
       "\n",
       "mpl.figure = function(figure_id, websocket, ondownload, parent_element) {\n",
       "    this.id = figure_id;\n",
       "\n",
       "    this.ws = websocket;\n",
       "\n",
       "    this.supports_binary = (this.ws.binaryType != undefined);\n",
       "\n",
       "    if (!this.supports_binary) {\n",
       "        var warnings = document.getElementById(\"mpl-warnings\");\n",
       "        if (warnings) {\n",
       "            warnings.style.display = 'block';\n",
       "            warnings.textContent = (\n",
       "                \"This browser does not support binary websocket messages. \" +\n",
       "                    \"Performance may be slow.\");\n",
       "        }\n",
       "    }\n",
       "\n",
       "    this.imageObj = new Image();\n",
       "\n",
       "    this.context = undefined;\n",
       "    this.message = undefined;\n",
       "    this.canvas = undefined;\n",
       "    this.rubberband_canvas = undefined;\n",
       "    this.rubberband_context = undefined;\n",
       "    this.format_dropdown = undefined;\n",
       "\n",
       "    this.image_mode = 'full';\n",
       "\n",
       "    this.root = $('<div/>');\n",
       "    this._root_extra_style(this.root)\n",
       "    this.root.attr('style', 'display: inline-block');\n",
       "\n",
       "    $(parent_element).append(this.root);\n",
       "\n",
       "    this._init_header(this);\n",
       "    this._init_canvas(this);\n",
       "    this._init_toolbar(this);\n",
       "\n",
       "    var fig = this;\n",
       "\n",
       "    this.waiting = false;\n",
       "\n",
       "    this.ws.onopen =  function () {\n",
       "            fig.send_message(\"supports_binary\", {value: fig.supports_binary});\n",
       "            fig.send_message(\"send_image_mode\", {});\n",
       "            if (mpl.ratio != 1) {\n",
       "                fig.send_message(\"set_dpi_ratio\", {'dpi_ratio': mpl.ratio});\n",
       "            }\n",
       "            fig.send_message(\"refresh\", {});\n",
       "        }\n",
       "\n",
       "    this.imageObj.onload = function() {\n",
       "            if (fig.image_mode == 'full') {\n",
       "                // Full images could contain transparency (where diff images\n",
       "                // almost always do), so we need to clear the canvas so that\n",
       "                // there is no ghosting.\n",
       "                fig.context.clearRect(0, 0, fig.canvas.width, fig.canvas.height);\n",
       "            }\n",
       "            fig.context.drawImage(fig.imageObj, 0, 0);\n",
       "        };\n",
       "\n",
       "    this.imageObj.onunload = function() {\n",
       "        fig.ws.close();\n",
       "    }\n",
       "\n",
       "    this.ws.onmessage = this._make_on_message_function(this);\n",
       "\n",
       "    this.ondownload = ondownload;\n",
       "}\n",
       "\n",
       "mpl.figure.prototype._init_header = function() {\n",
       "    var titlebar = $(\n",
       "        '<div class=\"ui-dialog-titlebar ui-widget-header ui-corner-all ' +\n",
       "        'ui-helper-clearfix\"/>');\n",
       "    var titletext = $(\n",
       "        '<div class=\"ui-dialog-title\" style=\"width: 100%; ' +\n",
       "        'text-align: center; padding: 3px;\"/>');\n",
       "    titlebar.append(titletext)\n",
       "    this.root.append(titlebar);\n",
       "    this.header = titletext[0];\n",
       "}\n",
       "\n",
       "\n",
       "\n",
       "mpl.figure.prototype._canvas_extra_style = function(canvas_div) {\n",
       "\n",
       "}\n",
       "\n",
       "\n",
       "mpl.figure.prototype._root_extra_style = function(canvas_div) {\n",
       "\n",
       "}\n",
       "\n",
       "mpl.figure.prototype._init_canvas = function() {\n",
       "    var fig = this;\n",
       "\n",
       "    var canvas_div = $('<div/>');\n",
       "\n",
       "    canvas_div.attr('style', 'position: relative; clear: both; outline: 0');\n",
       "\n",
       "    function canvas_keyboard_event(event) {\n",
       "        return fig.key_event(event, event['data']);\n",
       "    }\n",
       "\n",
       "    canvas_div.keydown('key_press', canvas_keyboard_event);\n",
       "    canvas_div.keyup('key_release', canvas_keyboard_event);\n",
       "    this.canvas_div = canvas_div\n",
       "    this._canvas_extra_style(canvas_div)\n",
       "    this.root.append(canvas_div);\n",
       "\n",
       "    var canvas = $('<canvas/>');\n",
       "    canvas.addClass('mpl-canvas');\n",
       "    canvas.attr('style', \"left: 0; top: 0; z-index: 0; outline: 0\")\n",
       "\n",
       "    this.canvas = canvas[0];\n",
       "    this.context = canvas[0].getContext(\"2d\");\n",
       "\n",
       "    var backingStore = this.context.backingStorePixelRatio ||\n",
       "\tthis.context.webkitBackingStorePixelRatio ||\n",
       "\tthis.context.mozBackingStorePixelRatio ||\n",
       "\tthis.context.msBackingStorePixelRatio ||\n",
       "\tthis.context.oBackingStorePixelRatio ||\n",
       "\tthis.context.backingStorePixelRatio || 1;\n",
       "\n",
       "    mpl.ratio = (window.devicePixelRatio || 1) / backingStore;\n",
       "\n",
       "    var rubberband = $('<canvas/>');\n",
       "    rubberband.attr('style', \"position: absolute; left: 0; top: 0; z-index: 1;\")\n",
       "\n",
       "    var pass_mouse_events = true;\n",
       "\n",
       "    canvas_div.resizable({\n",
       "        start: function(event, ui) {\n",
       "            pass_mouse_events = false;\n",
       "        },\n",
       "        resize: function(event, ui) {\n",
       "            fig.request_resize(ui.size.width, ui.size.height);\n",
       "        },\n",
       "        stop: function(event, ui) {\n",
       "            pass_mouse_events = true;\n",
       "            fig.request_resize(ui.size.width, ui.size.height);\n",
       "        },\n",
       "    });\n",
       "\n",
       "    function mouse_event_fn(event) {\n",
       "        if (pass_mouse_events)\n",
       "            return fig.mouse_event(event, event['data']);\n",
       "    }\n",
       "\n",
       "    rubberband.mousedown('button_press', mouse_event_fn);\n",
       "    rubberband.mouseup('button_release', mouse_event_fn);\n",
       "    // Throttle sequential mouse events to 1 every 20ms.\n",
       "    rubberband.mousemove('motion_notify', mouse_event_fn);\n",
       "\n",
       "    rubberband.mouseenter('figure_enter', mouse_event_fn);\n",
       "    rubberband.mouseleave('figure_leave', mouse_event_fn);\n",
       "\n",
       "    canvas_div.on(\"wheel\", function (event) {\n",
       "        event = event.originalEvent;\n",
       "        event['data'] = 'scroll'\n",
       "        if (event.deltaY < 0) {\n",
       "            event.step = 1;\n",
       "        } else {\n",
       "            event.step = -1;\n",
       "        }\n",
       "        mouse_event_fn(event);\n",
       "    });\n",
       "\n",
       "    canvas_div.append(canvas);\n",
       "    canvas_div.append(rubberband);\n",
       "\n",
       "    this.rubberband = rubberband;\n",
       "    this.rubberband_canvas = rubberband[0];\n",
       "    this.rubberband_context = rubberband[0].getContext(\"2d\");\n",
       "    this.rubberband_context.strokeStyle = \"#000000\";\n",
       "\n",
       "    this._resize_canvas = function(width, height) {\n",
       "        // Keep the size of the canvas, canvas container, and rubber band\n",
       "        // canvas in synch.\n",
       "        canvas_div.css('width', width)\n",
       "        canvas_div.css('height', height)\n",
       "\n",
       "        canvas.attr('width', width * mpl.ratio);\n",
       "        canvas.attr('height', height * mpl.ratio);\n",
       "        canvas.attr('style', 'width: ' + width + 'px; height: ' + height + 'px;');\n",
       "\n",
       "        rubberband.attr('width', width);\n",
       "        rubberband.attr('height', height);\n",
       "    }\n",
       "\n",
       "    // Set the figure to an initial 600x600px, this will subsequently be updated\n",
       "    // upon first draw.\n",
       "    this._resize_canvas(600, 600);\n",
       "\n",
       "    // Disable right mouse context menu.\n",
       "    $(this.rubberband_canvas).bind(\"contextmenu\",function(e){\n",
       "        return false;\n",
       "    });\n",
       "\n",
       "    function set_focus () {\n",
       "        canvas.focus();\n",
       "        canvas_div.focus();\n",
       "    }\n",
       "\n",
       "    window.setTimeout(set_focus, 100);\n",
       "}\n",
       "\n",
       "mpl.figure.prototype._init_toolbar = function() {\n",
       "    var fig = this;\n",
       "\n",
       "    var nav_element = $('<div/>');\n",
       "    nav_element.attr('style', 'width: 100%');\n",
       "    this.root.append(nav_element);\n",
       "\n",
       "    // Define a callback function for later on.\n",
       "    function toolbar_event(event) {\n",
       "        return fig.toolbar_button_onclick(event['data']);\n",
       "    }\n",
       "    function toolbar_mouse_event(event) {\n",
       "        return fig.toolbar_button_onmouseover(event['data']);\n",
       "    }\n",
       "\n",
       "    for(var toolbar_ind in mpl.toolbar_items) {\n",
       "        var name = mpl.toolbar_items[toolbar_ind][0];\n",
       "        var tooltip = mpl.toolbar_items[toolbar_ind][1];\n",
       "        var image = mpl.toolbar_items[toolbar_ind][2];\n",
       "        var method_name = mpl.toolbar_items[toolbar_ind][3];\n",
       "\n",
       "        if (!name) {\n",
       "            // put a spacer in here.\n",
       "            continue;\n",
       "        }\n",
       "        var button = $('<button/>');\n",
       "        button.addClass('ui-button ui-widget ui-state-default ui-corner-all ' +\n",
       "                        'ui-button-icon-only');\n",
       "        button.attr('role', 'button');\n",
       "        button.attr('aria-disabled', 'false');\n",
       "        button.click(method_name, toolbar_event);\n",
       "        button.mouseover(tooltip, toolbar_mouse_event);\n",
       "\n",
       "        var icon_img = $('<span/>');\n",
       "        icon_img.addClass('ui-button-icon-primary ui-icon');\n",
       "        icon_img.addClass(image);\n",
       "        icon_img.addClass('ui-corner-all');\n",
       "\n",
       "        var tooltip_span = $('<span/>');\n",
       "        tooltip_span.addClass('ui-button-text');\n",
       "        tooltip_span.html(tooltip);\n",
       "\n",
       "        button.append(icon_img);\n",
       "        button.append(tooltip_span);\n",
       "\n",
       "        nav_element.append(button);\n",
       "    }\n",
       "\n",
       "    var fmt_picker_span = $('<span/>');\n",
       "\n",
       "    var fmt_picker = $('<select/>');\n",
       "    fmt_picker.addClass('mpl-toolbar-option ui-widget ui-widget-content');\n",
       "    fmt_picker_span.append(fmt_picker);\n",
       "    nav_element.append(fmt_picker_span);\n",
       "    this.format_dropdown = fmt_picker[0];\n",
       "\n",
       "    for (var ind in mpl.extensions) {\n",
       "        var fmt = mpl.extensions[ind];\n",
       "        var option = $(\n",
       "            '<option/>', {selected: fmt === mpl.default_extension}).html(fmt);\n",
       "        fmt_picker.append(option);\n",
       "    }\n",
       "\n",
       "    // Add hover states to the ui-buttons\n",
       "    $( \".ui-button\" ).hover(\n",
       "        function() { $(this).addClass(\"ui-state-hover\");},\n",
       "        function() { $(this).removeClass(\"ui-state-hover\");}\n",
       "    );\n",
       "\n",
       "    var status_bar = $('<span class=\"mpl-message\"/>');\n",
       "    nav_element.append(status_bar);\n",
       "    this.message = status_bar[0];\n",
       "}\n",
       "\n",
       "mpl.figure.prototype.request_resize = function(x_pixels, y_pixels) {\n",
       "    // Request matplotlib to resize the figure. Matplotlib will then trigger a resize in the client,\n",
       "    // which will in turn request a refresh of the image.\n",
       "    this.send_message('resize', {'width': x_pixels, 'height': y_pixels});\n",
       "}\n",
       "\n",
       "mpl.figure.prototype.send_message = function(type, properties) {\n",
       "    properties['type'] = type;\n",
       "    properties['figure_id'] = this.id;\n",
       "    this.ws.send(JSON.stringify(properties));\n",
       "}\n",
       "\n",
       "mpl.figure.prototype.send_draw_message = function() {\n",
       "    if (!this.waiting) {\n",
       "        this.waiting = true;\n",
       "        this.ws.send(JSON.stringify({type: \"draw\", figure_id: this.id}));\n",
       "    }\n",
       "}\n",
       "\n",
       "\n",
       "mpl.figure.prototype.handle_save = function(fig, msg) {\n",
       "    var format_dropdown = fig.format_dropdown;\n",
       "    var format = format_dropdown.options[format_dropdown.selectedIndex].value;\n",
       "    fig.ondownload(fig, format);\n",
       "}\n",
       "\n",
       "\n",
       "mpl.figure.prototype.handle_resize = function(fig, msg) {\n",
       "    var size = msg['size'];\n",
       "    if (size[0] != fig.canvas.width || size[1] != fig.canvas.height) {\n",
       "        fig._resize_canvas(size[0], size[1]);\n",
       "        fig.send_message(\"refresh\", {});\n",
       "    };\n",
       "}\n",
       "\n",
       "mpl.figure.prototype.handle_rubberband = function(fig, msg) {\n",
       "    var x0 = msg['x0'] / mpl.ratio;\n",
       "    var y0 = (fig.canvas.height - msg['y0']) / mpl.ratio;\n",
       "    var x1 = msg['x1'] / mpl.ratio;\n",
       "    var y1 = (fig.canvas.height - msg['y1']) / mpl.ratio;\n",
       "    x0 = Math.floor(x0) + 0.5;\n",
       "    y0 = Math.floor(y0) + 0.5;\n",
       "    x1 = Math.floor(x1) + 0.5;\n",
       "    y1 = Math.floor(y1) + 0.5;\n",
       "    var min_x = Math.min(x0, x1);\n",
       "    var min_y = Math.min(y0, y1);\n",
       "    var width = Math.abs(x1 - x0);\n",
       "    var height = Math.abs(y1 - y0);\n",
       "\n",
       "    fig.rubberband_context.clearRect(\n",
       "        0, 0, fig.canvas.width / mpl.ratio, fig.canvas.height / mpl.ratio);\n",
       "\n",
       "    fig.rubberband_context.strokeRect(min_x, min_y, width, height);\n",
       "}\n",
       "\n",
       "mpl.figure.prototype.handle_figure_label = function(fig, msg) {\n",
       "    // Updates the figure title.\n",
       "    fig.header.textContent = msg['label'];\n",
       "}\n",
       "\n",
       "mpl.figure.prototype.handle_cursor = function(fig, msg) {\n",
       "    var cursor = msg['cursor'];\n",
       "    switch(cursor)\n",
       "    {\n",
       "    case 0:\n",
       "        cursor = 'pointer';\n",
       "        break;\n",
       "    case 1:\n",
       "        cursor = 'default';\n",
       "        break;\n",
       "    case 2:\n",
       "        cursor = 'crosshair';\n",
       "        break;\n",
       "    case 3:\n",
       "        cursor = 'move';\n",
       "        break;\n",
       "    }\n",
       "    fig.rubberband_canvas.style.cursor = cursor;\n",
       "}\n",
       "\n",
       "mpl.figure.prototype.handle_message = function(fig, msg) {\n",
       "    fig.message.textContent = msg['message'];\n",
       "}\n",
       "\n",
       "mpl.figure.prototype.handle_draw = function(fig, msg) {\n",
       "    // Request the server to send over a new figure.\n",
       "    fig.send_draw_message();\n",
       "}\n",
       "\n",
       "mpl.figure.prototype.handle_image_mode = function(fig, msg) {\n",
       "    fig.image_mode = msg['mode'];\n",
       "}\n",
       "\n",
       "mpl.figure.prototype.updated_canvas_event = function() {\n",
       "    // Called whenever the canvas gets updated.\n",
       "    this.send_message(\"ack\", {});\n",
       "}\n",
       "\n",
       "// A function to construct a web socket function for onmessage handling.\n",
       "// Called in the figure constructor.\n",
       "mpl.figure.prototype._make_on_message_function = function(fig) {\n",
       "    return function socket_on_message(evt) {\n",
       "        if (evt.data instanceof Blob) {\n",
       "            /* FIXME: We get \"Resource interpreted as Image but\n",
       "             * transferred with MIME type text/plain:\" errors on\n",
       "             * Chrome.  But how to set the MIME type?  It doesn't seem\n",
       "             * to be part of the websocket stream */\n",
       "            evt.data.type = \"image/png\";\n",
       "\n",
       "            /* Free the memory for the previous frames */\n",
       "            if (fig.imageObj.src) {\n",
       "                (window.URL || window.webkitURL).revokeObjectURL(\n",
       "                    fig.imageObj.src);\n",
       "            }\n",
       "\n",
       "            fig.imageObj.src = (window.URL || window.webkitURL).createObjectURL(\n",
       "                evt.data);\n",
       "            fig.updated_canvas_event();\n",
       "            fig.waiting = false;\n",
       "            return;\n",
       "        }\n",
       "        else if (typeof evt.data === 'string' && evt.data.slice(0, 21) == \"data:image/png;base64\") {\n",
       "            fig.imageObj.src = evt.data;\n",
       "            fig.updated_canvas_event();\n",
       "            fig.waiting = false;\n",
       "            return;\n",
       "        }\n",
       "\n",
       "        var msg = JSON.parse(evt.data);\n",
       "        var msg_type = msg['type'];\n",
       "\n",
       "        // Call the  \"handle_{type}\" callback, which takes\n",
       "        // the figure and JSON message as its only arguments.\n",
       "        try {\n",
       "            var callback = fig[\"handle_\" + msg_type];\n",
       "        } catch (e) {\n",
       "            console.log(\"No handler for the '\" + msg_type + \"' message type: \", msg);\n",
       "            return;\n",
       "        }\n",
       "\n",
       "        if (callback) {\n",
       "            try {\n",
       "                // console.log(\"Handling '\" + msg_type + \"' message: \", msg);\n",
       "                callback(fig, msg);\n",
       "            } catch (e) {\n",
       "                console.log(\"Exception inside the 'handler_\" + msg_type + \"' callback:\", e, e.stack, msg);\n",
       "            }\n",
       "        }\n",
       "    };\n",
       "}\n",
       "\n",
       "// from http://stackoverflow.com/questions/1114465/getting-mouse-location-in-canvas\n",
       "mpl.findpos = function(e) {\n",
       "    //this section is from http://www.quirksmode.org/js/events_properties.html\n",
       "    var targ;\n",
       "    if (!e)\n",
       "        e = window.event;\n",
       "    if (e.target)\n",
       "        targ = e.target;\n",
       "    else if (e.srcElement)\n",
       "        targ = e.srcElement;\n",
       "    if (targ.nodeType == 3) // defeat Safari bug\n",
       "        targ = targ.parentNode;\n",
       "\n",
       "    // jQuery normalizes the pageX and pageY\n",
       "    // pageX,Y are the mouse positions relative to the document\n",
       "    // offset() returns the position of the element relative to the document\n",
       "    var x = e.pageX - $(targ).offset().left;\n",
       "    var y = e.pageY - $(targ).offset().top;\n",
       "\n",
       "    return {\"x\": x, \"y\": y};\n",
       "};\n",
       "\n",
       "/*\n",
       " * return a copy of an object with only non-object keys\n",
       " * we need this to avoid circular references\n",
       " * http://stackoverflow.com/a/24161582/3208463\n",
       " */\n",
       "function simpleKeys (original) {\n",
       "  return Object.keys(original).reduce(function (obj, key) {\n",
       "    if (typeof original[key] !== 'object')\n",
       "        obj[key] = original[key]\n",
       "    return obj;\n",
       "  }, {});\n",
       "}\n",
       "\n",
       "mpl.figure.prototype.mouse_event = function(event, name) {\n",
       "    var canvas_pos = mpl.findpos(event)\n",
       "\n",
       "    if (name === 'button_press')\n",
       "    {\n",
       "        this.canvas.focus();\n",
       "        this.canvas_div.focus();\n",
       "    }\n",
       "\n",
       "    var x = canvas_pos.x * mpl.ratio;\n",
       "    var y = canvas_pos.y * mpl.ratio;\n",
       "\n",
       "    this.send_message(name, {x: x, y: y, button: event.button,\n",
       "                             step: event.step,\n",
       "                             guiEvent: simpleKeys(event)});\n",
       "\n",
       "    /* This prevents the web browser from automatically changing to\n",
       "     * the text insertion cursor when the button is pressed.  We want\n",
       "     * to control all of the cursor setting manually through the\n",
       "     * 'cursor' event from matplotlib */\n",
       "    event.preventDefault();\n",
       "    return false;\n",
       "}\n",
       "\n",
       "mpl.figure.prototype._key_event_extra = function(event, name) {\n",
       "    // Handle any extra behaviour associated with a key event\n",
       "}\n",
       "\n",
       "mpl.figure.prototype.key_event = function(event, name) {\n",
       "\n",
       "    // Prevent repeat events\n",
       "    if (name == 'key_press')\n",
       "    {\n",
       "        if (event.which === this._key)\n",
       "            return;\n",
       "        else\n",
       "            this._key = event.which;\n",
       "    }\n",
       "    if (name == 'key_release')\n",
       "        this._key = null;\n",
       "\n",
       "    var value = '';\n",
       "    if (event.ctrlKey && event.which != 17)\n",
       "        value += \"ctrl+\";\n",
       "    if (event.altKey && event.which != 18)\n",
       "        value += \"alt+\";\n",
       "    if (event.shiftKey && event.which != 16)\n",
       "        value += \"shift+\";\n",
       "\n",
       "    value += 'k';\n",
       "    value += event.which.toString();\n",
       "\n",
       "    this._key_event_extra(event, name);\n",
       "\n",
       "    this.send_message(name, {key: value,\n",
       "                             guiEvent: simpleKeys(event)});\n",
       "    return false;\n",
       "}\n",
       "\n",
       "mpl.figure.prototype.toolbar_button_onclick = function(name) {\n",
       "    if (name == 'download') {\n",
       "        this.handle_save(this, null);\n",
       "    } else {\n",
       "        this.send_message(\"toolbar_button\", {name: name});\n",
       "    }\n",
       "};\n",
       "\n",
       "mpl.figure.prototype.toolbar_button_onmouseover = function(tooltip) {\n",
       "    this.message.textContent = tooltip;\n",
       "};\n",
       "mpl.toolbar_items = [[\"Home\", \"Reset original view\", \"fa fa-home icon-home\", \"home\"], [\"Back\", \"Back to previous view\", \"fa fa-arrow-left icon-arrow-left\", \"back\"], [\"Forward\", \"Forward to next view\", \"fa fa-arrow-right icon-arrow-right\", \"forward\"], [\"\", \"\", \"\", \"\"], [\"Pan\", \"Pan axes with left mouse, zoom with right\", \"fa fa-arrows icon-move\", \"pan\"], [\"Zoom\", \"Zoom to rectangle\", \"fa fa-square-o icon-check-empty\", \"zoom\"], [\"\", \"\", \"\", \"\"], [\"Download\", \"Download plot\", \"fa fa-floppy-o icon-save\", \"download\"]];\n",
       "\n",
       "mpl.extensions = [\"eps\", \"jpeg\", \"pdf\", \"png\", \"ps\", \"raw\", \"svg\", \"tif\"];\n",
       "\n",
       "mpl.default_extension = \"png\";var comm_websocket_adapter = function(comm) {\n",
       "    // Create a \"websocket\"-like object which calls the given IPython comm\n",
       "    // object with the appropriate methods. Currently this is a non binary\n",
       "    // socket, so there is still some room for performance tuning.\n",
       "    var ws = {};\n",
       "\n",
       "    ws.close = function() {\n",
       "        comm.close()\n",
       "    };\n",
       "    ws.send = function(m) {\n",
       "        //console.log('sending', m);\n",
       "        comm.send(m);\n",
       "    };\n",
       "    // Register the callback with on_msg.\n",
       "    comm.on_msg(function(msg) {\n",
       "        //console.log('receiving', msg['content']['data'], msg);\n",
       "        // Pass the mpl event to the overridden (by mpl) onmessage function.\n",
       "        ws.onmessage(msg['content']['data'])\n",
       "    });\n",
       "    return ws;\n",
       "}\n",
       "\n",
       "mpl.mpl_figure_comm = function(comm, msg) {\n",
       "    // This is the function which gets called when the mpl process\n",
       "    // starts-up an IPython Comm through the \"matplotlib\" channel.\n",
       "\n",
       "    var id = msg.content.data.id;\n",
       "    // Get hold of the div created by the display call when the Comm\n",
       "    // socket was opened in Python.\n",
       "    var element = $(\"#\" + id);\n",
       "    var ws_proxy = comm_websocket_adapter(comm)\n",
       "\n",
       "    function ondownload(figure, format) {\n",
       "        window.open(figure.imageObj.src);\n",
       "    }\n",
       "\n",
       "    var fig = new mpl.figure(id, ws_proxy,\n",
       "                           ondownload,\n",
       "                           element.get(0));\n",
       "\n",
       "    // Call onopen now - mpl needs it, as it is assuming we've passed it a real\n",
       "    // web socket which is closed, not our websocket->open comm proxy.\n",
       "    ws_proxy.onopen();\n",
       "\n",
       "    fig.parent_element = element.get(0);\n",
       "    fig.cell_info = mpl.find_output_cell(\"<div id='\" + id + \"'></div>\");\n",
       "    if (!fig.cell_info) {\n",
       "        console.error(\"Failed to find cell for figure\", id, fig);\n",
       "        return;\n",
       "    }\n",
       "\n",
       "    var output_index = fig.cell_info[2]\n",
       "    var cell = fig.cell_info[0];\n",
       "\n",
       "};\n",
       "\n",
       "mpl.figure.prototype.handle_close = function(fig, msg) {\n",
       "    var width = fig.canvas.width/mpl.ratio\n",
       "    fig.root.unbind('remove')\n",
       "\n",
       "    // Update the output cell to use the data from the current canvas.\n",
       "    fig.push_to_output();\n",
       "    var dataURL = fig.canvas.toDataURL();\n",
       "    // Re-enable the keyboard manager in IPython - without this line, in FF,\n",
       "    // the notebook keyboard shortcuts fail.\n",
       "    IPython.keyboard_manager.enable()\n",
       "    $(fig.parent_element).html('<img src=\"' + dataURL + '\" width=\"' + width + '\">');\n",
       "    fig.close_ws(fig, msg);\n",
       "}\n",
       "\n",
       "mpl.figure.prototype.close_ws = function(fig, msg){\n",
       "    fig.send_message('closing', msg);\n",
       "    // fig.ws.close()\n",
       "}\n",
       "\n",
       "mpl.figure.prototype.push_to_output = function(remove_interactive) {\n",
       "    // Turn the data on the canvas into data in the output cell.\n",
       "    var width = this.canvas.width/mpl.ratio\n",
       "    var dataURL = this.canvas.toDataURL();\n",
       "    this.cell_info[1]['text/html'] = '<img src=\"' + dataURL + '\" width=\"' + width + '\">';\n",
       "}\n",
       "\n",
       "mpl.figure.prototype.updated_canvas_event = function() {\n",
       "    // Tell IPython that the notebook contents must change.\n",
       "    IPython.notebook.set_dirty(true);\n",
       "    this.send_message(\"ack\", {});\n",
       "    var fig = this;\n",
       "    // Wait a second, then push the new image to the DOM so\n",
       "    // that it is saved nicely (might be nice to debounce this).\n",
       "    setTimeout(function () { fig.push_to_output() }, 1000);\n",
       "}\n",
       "\n",
       "mpl.figure.prototype._init_toolbar = function() {\n",
       "    var fig = this;\n",
       "\n",
       "    var nav_element = $('<div/>');\n",
       "    nav_element.attr('style', 'width: 100%');\n",
       "    this.root.append(nav_element);\n",
       "\n",
       "    // Define a callback function for later on.\n",
       "    function toolbar_event(event) {\n",
       "        return fig.toolbar_button_onclick(event['data']);\n",
       "    }\n",
       "    function toolbar_mouse_event(event) {\n",
       "        return fig.toolbar_button_onmouseover(event['data']);\n",
       "    }\n",
       "\n",
       "    for(var toolbar_ind in mpl.toolbar_items){\n",
       "        var name = mpl.toolbar_items[toolbar_ind][0];\n",
       "        var tooltip = mpl.toolbar_items[toolbar_ind][1];\n",
       "        var image = mpl.toolbar_items[toolbar_ind][2];\n",
       "        var method_name = mpl.toolbar_items[toolbar_ind][3];\n",
       "\n",
       "        if (!name) { continue; };\n",
       "\n",
       "        var button = $('<button class=\"btn btn-default\" href=\"#\" title=\"' + name + '\"><i class=\"fa ' + image + ' fa-lg\"></i></button>');\n",
       "        button.click(method_name, toolbar_event);\n",
       "        button.mouseover(tooltip, toolbar_mouse_event);\n",
       "        nav_element.append(button);\n",
       "    }\n",
       "\n",
       "    // Add the status bar.\n",
       "    var status_bar = $('<span class=\"mpl-message\" style=\"text-align:right; float: right;\"/>');\n",
       "    nav_element.append(status_bar);\n",
       "    this.message = status_bar[0];\n",
       "\n",
       "    // Add the close button to the window.\n",
       "    var buttongrp = $('<div class=\"btn-group inline pull-right\"></div>');\n",
       "    var button = $('<button class=\"btn btn-mini btn-primary\" href=\"#\" title=\"Stop Interaction\"><i class=\"fa fa-power-off icon-remove icon-large\"></i></button>');\n",
       "    button.click(function (evt) { fig.handle_close(fig, {}); } );\n",
       "    button.mouseover('Stop Interaction', toolbar_mouse_event);\n",
       "    buttongrp.append(button);\n",
       "    var titlebar = this.root.find($('.ui-dialog-titlebar'));\n",
       "    titlebar.prepend(buttongrp);\n",
       "}\n",
       "\n",
       "mpl.figure.prototype._root_extra_style = function(el){\n",
       "    var fig = this\n",
       "    el.on(\"remove\", function(){\n",
       "\tfig.close_ws(fig, {});\n",
       "    });\n",
       "}\n",
       "\n",
       "mpl.figure.prototype._canvas_extra_style = function(el){\n",
       "    // this is important to make the div 'focusable\n",
       "    el.attr('tabindex', 0)\n",
       "    // reach out to IPython and tell the keyboard manager to turn it's self\n",
       "    // off when our div gets focus\n",
       "\n",
       "    // location in version 3\n",
       "    if (IPython.notebook.keyboard_manager) {\n",
       "        IPython.notebook.keyboard_manager.register_events(el);\n",
       "    }\n",
       "    else {\n",
       "        // location in version 2\n",
       "        IPython.keyboard_manager.register_events(el);\n",
       "    }\n",
       "\n",
       "}\n",
       "\n",
       "mpl.figure.prototype._key_event_extra = function(event, name) {\n",
       "    var manager = IPython.notebook.keyboard_manager;\n",
       "    if (!manager)\n",
       "        manager = IPython.keyboard_manager;\n",
       "\n",
       "    // Check for shift+enter\n",
       "    if (event.shiftKey && event.which == 13) {\n",
       "        this.canvas_div.blur();\n",
       "        // select the cell after this one\n",
       "        var index = IPython.notebook.find_cell_index(this.cell_info[0]);\n",
       "        IPython.notebook.select(index + 1);\n",
       "    }\n",
       "}\n",
       "\n",
       "mpl.figure.prototype.handle_save = function(fig, msg) {\n",
       "    fig.ondownload(fig, null);\n",
       "}\n",
       "\n",
       "\n",
       "mpl.find_output_cell = function(html_output) {\n",
       "    // Return the cell and output element which can be found *uniquely* in the notebook.\n",
       "    // Note - this is a bit hacky, but it is done because the \"notebook_saving.Notebook\"\n",
       "    // IPython event is triggered only after the cells have been serialised, which for\n",
       "    // our purposes (turning an active figure into a static one), is too late.\n",
       "    var cells = IPython.notebook.get_cells();\n",
       "    var ncells = cells.length;\n",
       "    for (var i=0; i<ncells; i++) {\n",
       "        var cell = cells[i];\n",
       "        if (cell.cell_type === 'code'){\n",
       "            for (var j=0; j<cell.output_area.outputs.length; j++) {\n",
       "                var data = cell.output_area.outputs[j];\n",
       "                if (data.data) {\n",
       "                    // IPython >= 3 moved mimebundle to data attribute of output\n",
       "                    data = data.data;\n",
       "                }\n",
       "                if (data['text/html'] == html_output) {\n",
       "                    return [cell, data, j];\n",
       "                }\n",
       "            }\n",
       "        }\n",
       "    }\n",
       "}\n",
       "\n",
       "// Register the function which deals with the matplotlib target/channel.\n",
       "// The kernel may be null if the page has been refreshed.\n",
       "if (IPython.notebook.kernel != null) {\n",
       "    IPython.notebook.kernel.comm_manager.register_target('matplotlib', mpl.mpl_figure_comm);\n",
       "}\n"
      ],
      "text/plain": [
       "<IPython.core.display.Javascript object>"
      ]
     },
     "metadata": {},
     "output_type": "display_data"
    },
    {
     "data": {
      "text/html": [
       "<img src=\"data:image/png;base64,iVBORw0KGgoAAAANSUhEUgAAAsAAAAIQCAYAAACPEdjAAAAgAElEQVR4Xux9B7gWRdJ1IZhFMKCimBN+iFkUcc2ifoZPRUUX14A5r4o5Z8Wc1l3FLOoqmDG76poBXTHnxC8oIgYMiKD/nGbnOnfuzHT35HD6eXh2vW+H6lM1M2dqqqva/e40YSMCRIAIEAEiQASIABEgAg1BoB0JcEM0zW0SASJABIgAESACRIAIKARIgGkIRIAIEAEiQASIABEgAo1CgAS4UermZokAESACRIAIEAEiQARIgGkDRIAIEAEiQASIABEgAo1CgAS4UermZokAESACRIAIEAEiQARIgGkDRIAIEAEiQASIABEgAo1CgAS4UermZokAESACRIAIEAEiQARIgGkDRIAIEAEiQASIABEgAo1CgAS4UermZokAESACRIAIEAEiQARIgGkDRIAIEAEiQASIABEgAo1CgAS4UermZokAESACRIAIEAEiQARIgGkDRIAIEAEiQASIABEgAo1CgAS4UermZokAESACRIAIEAEiQARIgGkDRIAIEAEiQASIABEgAo1CgAS4UermZokAESACRIAIEAEiQARIgGkDRIAIEAEiQASIABEgAo1CgAS4UermZokAESACRIAIEAEiQARIgGkDRIAIEAEiQASIABEgAo1CgAS4UermZokAESACRIAIEAEiQARIgGkDRIAIEAEiQASIABEgAo1CgAS4UermZokAESACRIAIEAEiQARIgGkDRIAIEAEiQASIABEgAo1CgAS4UermZokAESACRIAIEAEiQARIgGkDRIAIEAEiQASIABEgAo1CgAS4UermZokAESACRIAIEAEiQARIgGkDRIAIEAEiQASIABEgAo1CgAS4UermZokAESACRIAIEAEiQARIgGkDRIAIEAEiQASIABEgAo1CgAS4UermZokAESACRIAIEAEiQARIgGkDRIAIEAEiQASIABEgAo1CgAS4UermZokAESACRIAIEAEiQARIgGkDRIAIEAEiQASIABEgAo1CgAS4UermZokAESACRIAIEAEiQARIgGkDRIAIEAEiQASIABEgAo1CgAS4UermZokAESACRIAIEAEiQARIgGkDRIAIEAEiQASIABEgAo1CgAS4UermZokAESACRIAIEAEiQARIgGkDRIAIEAEiQASIABEgAo1CgAS4UermZokAESACRIAIEAEiQARIgGkDRIAIEAEiQASIABEgAo1CgAS4UermZokAESACRIAIEAEiQARIgGkDRIAIEAEiQASIABEgAo1CgAS4UermZokAESACRIAIEAEiQARIgGkDRIAIEAEiQASIABEgAo1CgAS4UermZokAESACRIAIEAEiQARIgGkDRIAIEAEiQASIABEgAo1CgAS4UermZokAESACRIAIEAEiQARIgGkDRIAIEAEiQASIABEgAo1CgAS4UermZokAESACRIAIEAEiQARIgGkDRIAIEAEiQASIABEgAo1CgAS4UermZokAESACRIAIEAEiQARIgGkDRIAIEAEiQASIABEgAo1CgAS4UermZokAESACRIAIEAEiQARIgGkDRIAIEAEiQASIABEgAo1CgAS4UermZokAESACRIAIEAEiQARIgGkDRIAIEAEiQASIABEgAo1CgAS4UermZokAESACRIAIEAEiQARIgGkDRIAIEAEiQASIABEgAo1CgAS4UermZokAESACRIAIEAEiQARIgGkDRIAIEAEiQASIABEgAo1CgAS4UermZokAESACRIAIEAEiQARIgDO0gSlTpsjrr78uXbp0kQ4dOmS4EqcmAkSACBABIkAEiEBrBKZNmyZfffWV9OzZU2abbTbC40GABDhDcxg1apT06tUrwxU4NREgAkSACBABIkAEohEYOXKkrLnmmoSJBDgfG/jkk09kySWXFBhe165d81mUqxABIkAEiAARIAJEwEFg/PjxyhH38ccfyxJLLEFMSIDzsYH/9//+nyy66KIyduxY6datWz6LchUikDcC//qXyAUXiAwaJLLRRnmvzvWIABEgAkQgBAHykHDTYAhEhpcNDS9DcDl1eRD43/8V+fe/RdZfX2TEiPLIRUmIABEgAg1HgDyEBLiQS4CGVwjsXDRvBOABvvBCkSOPLIcHmB7pvC2A6xEBIlBSBMhDSIALMU0aXiGwc9GmI0CPdNMtgPvPCgG+XGaFbGbzkoeQAGdmXFET0/AKgZ2LNh2Bsnmkm64P7r8+CPDlsnK6JA8hAS7EaE0M7/fff5eJEycKcgZPnz69EDm5KBEIQqB9+/Yqb+T8888v7dq1I0hEgAg0HQG+XFbOAkx4SOU2lZLAPASXEpBB0+gMD+T3888/l8mTJ8sss8wiIBxsRKAsCOCFbOrUqdKxY0dZZJFFSILLohjKQQSIABEwREDHQwynqWU3EuAM1aozPFRngfd3gQUWkPnmmy9DSTg1EYiHwNdffy0TJkxQXmBUNGQjAkSACBCB6iCg4yHV2Un6kpIAp49py4w6w0N+YHjYll566Qyl4NREIBkCH374ofpCgZzWbESACBCBQhHgQTwr+HU8xGqymnUmAc5QoTrDQ6U4NFZnyVAJnDoxArTTxBByAiJABNJCgAfxrJDU8RCryWrWmQQ4Q4XqDI/EIkPwOXVqCNBOU4OSEyVBgJ4/M/TqjhMP4pnZwX976XiI1WQ160wCnKFCdYZHYpEh+Jw6NQRop6lByYmSIEDPnxl6xMkMp4b00vGQhsAQuE0S4Ay1rzO8OhGLU089VU477TT505/+5FTFdcriehp+u+CCC+SHH35o+eunn37qVM5dXzp37iw33XSTHHHEEYJ+6667boYaMZ8aullyySXlzjvvlB122MF8YA171slOa6ie5myJnj8zXRMnM5wa0kvHQxoCAwlw3orWGV6diIVLgIHxE088IRtttFEL3EEEGIT4lVdekVVXXVXOO+88WW655eTpp5+WmWeeOW81Ba5HAvwHLHWy01IYF4UgAmVDoO5hE2XDO0d5dDwkR1FKtxQ9wBmqRGd4dSIWLsldccUVZdZZZ1Vk1m1BBDhD2FOZmgSYBDgVQ+IkRKAKCDBsogpaiiWjjofEmrQmg0iAM1SkzvDqSIDvuOMO2XLLLeXJJ5+UDTbYQKEbRICPPfZYGTFihHz88cfSqVMnWW+99eSiiy6Srl27ttLI1VdfLRdffLF89NFHsuCCC8puu+2m5uvQoUOo5oA7QipAwr/77js157bbbqvmQXvnnXfUHM8995wgzy2ycOy1115y+OGHy0wzzaT6uAT4hhtuUCEdw4YNU4VK9thjDxk8eHCr9bEe9vPwww/Ljz/+KGuuuaZaa/XVV4+0LlRXO+ecc2TSpEly/fXXq2qA/fr1k8svv1wVn4hqcdf8/vvv5eCDD5a7775bVXnbc889Zd5555XjjjtOUJglqNXJTjO83Dk1EaguAmmFTdCTXDob0PGQ0gmco0AkwBmCrTO8OhELL8nt1auXzDHHHPLUU0+FEuCBAwfKpptuKgsvvLCgIMiFF16oyOhbb73VQi5BBA899FA58MADZZtttpGXX35ZEde//OUvcu2114ZqDuEX48aNUzHJIM2fffaZjB49Wi677DI1BiEaILVrrLGGIpqvvvqqnHLKKXLkkUfKySef3IoAQ76+ffvKzjvvrEI28Dv6nXvuuarfN998o8I45pprLjnhhBMUmYfczz//vLz//vuqyElYAwHG/KuttpoccMAB6mUARBovELfffnvouCRrIp75kUceUfIjxvnKK6+UMWPGqIqEJMAZ3gw4NRFoAgL0JJdOyzoeUjqBcxSIBDhDsHWGV1cC/MADD8jWW2+tCDAOuulCIFBy94svvpBu3bopcgbCib8ttNBCsuGGGwq8ym6DxxRE84MPPpCllloqUHsgo+h3yCGHaLUL0oe14NW94oorFHFGcz3A/kN9J510kvJUQ7fzzDOPIs6XXnqpvPfeey1k95dffpFllllGdtllFzVvFAEGCQVRdstgg9jvs88+6kWge/fugUPjrvn2229Ljx49ZMiQIYIXELRp06apQix4SSAB1poLOxABIhCFQFqeZKKcGgI6HpLaQhWciAQ4Q6XpDK+uBBiQ4vM/vKH/cm6IQQT4oYcekjPOOEPefPNNwWd5t8F7ik/0+DviiRF6gLAAt7nEFJkj4AkOaginQJYJeFPhZQYZ9TaEGoAgDx06VBG/X3/9teXnyZMnK2+uuw7ILkIj3Paf//xHeWwRXoF1evfurYg6skV4G0I1xo8fr0JBoggwPNwg0G6DdxchCTfeeKMK9whqcdfEnAjhQMgFyLvbIANwJwHO8GbAqYkAESACBSCg4yEFiFSaJUmAM1SFzvAyIcAFxWD5Se69996r4m4RaoCQA28atFGjRsk666wj//d//6dIHsIEEA6w9tpry/nnny+DBg2SZ599VqVUw//26dOnRUsgr7PPPrtccsklcthhhwVqD8QTXuJ77rlHhSgsv/zycvbZZ8v222+v+mPcNddco7y3IOpIxQZ5zzzzTBWOMf/887cQ4FtuuUUGDBjQsg5CBeCpRohC//79Zdlll1Xe6KAGz2rYb+iPPWNNyOptKDuMl4NjjjkmcN64ayLsASEcKL/tbWeddZaceOKJJMAZ3gs4NREgAkSgCAR0PKQImcqyJglwhprQGV4mBLigGKwgLy9iY+ebbz6V29dLgI8//njB4bYJEya0HDqDxxaH0VwCjBAAfK4fPnx4C3GFqkw8wK5Kf/vtNxU3DJL54IMPyrvvvqvCJhB3C/LqHopDf8QLYw9+AqzzAK+11lrKYwvC6m/IhtGzZ89QCwMBjuMBjrsmPcAZXuycmggQASJQQgR0PKSEIucmEglwhlDrDC8TAlxQDFYQAUamAXhdN954Y3nxxRdbCmEgpAAeVMTbggSiwUMLT6hLgBGXi+wNONDmPRCGnMHIWPDhhx+qQ1wm7fXXX5eVVlqpJb4Yn//33XdflX8YDWsh3ALZIfwEWBcDDJnhJQZhn3POOU3EaemDvYfFACMEZIUVVgicL+6akBH7ZAywlZrYmQgQASJQWQR0PKSyG0tBcBLgFEAMm0JneJkQ4Az3EzV1EAFGTOkqq6wir732miKHbiU4eGOR6eCggw6S7bbbTl544QW5+eab1UEylwBjLRxKw0E2xATjUB2yMCBsYddddw3NAoG0Z5tttpmKD0boA+J7kf0BBByHzRDesNNOO8njjz+uPMBdunRRmRBwQAxZGPwE2J8FAuv/9a9/bTnchswVCKPAvAitWGyxxdQcL730kvI0e+OH/fh5s0Ag0wXWR9jDFlts0ergn39ckjXxQoK9IxwCHndmgSjoguGyRIAIEIEcENDxkBxEKO0SJMAZqkZneHUnwIAWIQxIveUlwPg7siPg4BUOZCHGF0QM1eC8BBj9/vGPf7TKA7z77rtH5gFGBgYQ5meeeUYdcEO8MNKdIQwC+XnRvvzyS9l///1VbDLSteFgGA7KIfuCnwAjPy+yWdx1110qUwPWh4zeinXIYIEYWhB7kFPENCOeGeQXsc5hzc0DjDWRbxixuXghAPGfe+65Iy0z7prffvutwgfx0cgDjP3gJYB5gDO8EXBqIkAEiEBBCOh4SEFilWJZEuAM1aAzvDoR4AxhrO3UIMB+wl/EZhGffdRRR/EQXBHgc00iQASIQIYI6HhIhkuXfmoS4AxVpDM8EuAMwa/A1CTAFVASRSQCRIAIVBgBHQ+p8NYSi04CnBjC8Al0hkcCnCH4FZiaBLgCSqKIRIAIEIEKI6DjIRXeWmLRSYATQ0gCnCGEnLooBFCcxImVdmpJyydOnDYaDs2xEQEiQASIQHUQIAEO1xUJcIZ2rDM8eoAzBJ9TJ0PAyZghTlU86dhRPpl5ZhLgZGhyNBEgAkSgEAR0PKQQoUqyKAlwhorQGR4JcIbgc+pkCNADnAw/jiYCRIAIlAABHQ8pgYiFiZAbAUaOV1S9QnoqpMTaZZddVC5SpKnSNVSwOuecc1QVMKSrQi7WHXfcsdUw5HtFmVekk0IuWFTLuvTSS1UBBLehKhjSPSEvLUrkLuh83t10001VFS/kbHUbctqiMpi/XXXVVSp9lmnTGR4JsCmS7FckAqWy04JKfReJP9dOgADtJQF4HFoHBHQ8pA57jLuHXAgwco+iAtXiiy8uJ510kiqBe8QRR8jmm2+uqmhFtWHDhimye+yxx0rfvn1V/lLkj3344YfVf7sNuU1vuukmufDCC1WsIvLMvvrqq4IqYAsttJDqhryv9913nyrNi1ytqCZ2+umnq5yro0aNEpSuRQMBxvh/4ebpaSiji3GmTWd4pSIWpptiv8YhUCo7LajUd+OUXpcN017qoknuIyYCOh4Sc9paDMuFAKPkLIjmp59+qipmod16660yYMAAVUI2rOQr+uG3nj17tqqMhUpf8PKiuhfa559/rsg1Kn6hohbaZCd+EWVm9957b+VpDmuPPfaYItLPPfdcS9GCoKpmcbStM7xSEYs4G+SYRiBQKjstqNR3IxRdx03SXuqoVe7JAgEdD7GYqnZdcyHA66+/vnTu3FnuvffeFgBRsatTp05y1llnyZFHHhkILErDwuuKKlyokOU2hETsueeeypMMQo1qXQMHDlRVuOadd96WfugzevRo5QUOayivi1K2qPYFOdFIgGtn59xQAgRKRYAT7INDiQARIAJNQ4AEOFzjuRBghA2AoPo9sT169JDevXvLkCFDAiVEadktt9xS3n77benevXtLH4Qr9OrVS8UTI5zh6KOPVuEPKA/rbaiydcIJJ8iUKVNkpplmavlp+vTpgn8fffSRKguLeOCXXnpJOnTo0EKAERcMMo3fUKIXZW1RKtem6QyPxMIGTfYtCgHaaVHIc10iQATaIMC4biuj0PEQq8lq1jkXAjyzk0YJhBJxvN7mxuLCwxvUhg4dKrvuuquMHz++JY4X/T744ANZdtlllUd5m222UcQUZPidd95pNQ2INX5DuATifN2GdRHygLbGGmvIAw88oA7EuQ1xySDTq666qiLPCNfAP13Z2u+dk/P45zbIDaI+duxY6datW5st1o1YQF84ePjuu++qsrqLLLKI9OnTR84++2yr2OlQD7wnM4Gj0JpdiuXdTt3stLxIUzIiQAS0CDCuWwuRtwMJcDhcuRHgM888U4455phWkoAc4YDa8OHDIwkwyKiXoL7v5CiFVxYH2rbeemtFcp999lnlKfa2a665Rvbdd19FSjs6+UzdBoKGg3kg0sguAe8wxntJsl8gHMRDvPBXX30lIPRBLSx7RBMIMLz7xx9/vPKUI7MGCPAbb7whIMXIzLHKKqsYX7ShBNiTm9Z5AzKejx2TIUACnAw/jm4YAvRQZqtwxnVb4UsCXDABLlsIhBcOkOvFFltMeSkHDRoUitSdd94pO+20U+ShvSZ7gOHtxeHE6667rg2Gv/32W6sQFN3VSw+wDqF8fycBzhdvrlZxBOihrLgC6yU+CXDBBDiPQ3B77bWXTJw40foQHKBB2jSkZPv73/8eitQdd9wh/fv312at8E6gM7w6EQvkdv7rX/+qDjVGNcRqX3311QpHeIlXXnlllXIOoSJucwnwk08+KQcddJDK24yMHghB2WqrrVpNP2LECJVhBH3mmmsu2WGHHeSCCy5QuabDGjzSOCD5wgsvKK81songJQ15pBGrrmtx1sSczz//vBxyyCHy5ptvqnzW2M9RRx2lwnAgU1lbney0rBhTrooj4PX6YitOOk7ndLfIRhtVfGMUv+oI6HhI1feXRP5cQiCQBg0xwEiDNt988yl5b7/9dlUMwyQNGkgS+rsNZBUhDP40aFdccUVLoYoffvhBEVtdGjTItPTSSysPMA7ThbV+/fqpvMDIPBEWAuEfqzO8OhGL9dZbTxE76Bok1c297McEZBW/AfOpU6eq2Gp410FgEdaCBgKM0BR4lZEhBOQXRUiQ+/k///mPyimNhhzReCnZ00mnt4OTwWO8k1nkWKeAyYYbbtjKXvwyuAQYqfP2228/WW211VR//P2hhx5SL0NhrWVNh0CDbCPOG7HtujXxpQFx60jph/44XImCLkjXhzAeEuAktzGOJQIFI0Cvb8EK4PJhCOh4SJORy4UAu4UwQEi9hTDwydxbCANeXKQ4mzZtWotOQI5AclDBDbGlOPiGg1ZBhTBuvvlmVQgDxAZeQFR+QxyqS8ZQxQ1p0+BxQwo2xAKjHw66jRkzpoWc4/fdd99dll9+efn5559VHCvkuOSSS+Swww4zthed4dWJAANnpKpDXDUaSCuIHWKCofeghtAI/AOh3X777dVLiEuAUYnv2muvbfHIImsHvKbIGgLSDO8x1lhnnXXkVlTtc4ikE+gtDzpxwiDgSH2HLCNBzSXAsEUQcreBxMP24KkNaq3WdGRwG7KV6NYE6f3b3/4mn332mUoJiPboo4+qsBHYGgmw8WXFjkSgfAgwLrV8OqFECgEdD2kyTLkQYACMUsj4/IvDZnPMMYfy/sJb6C2FvMceeygCDKLhbfgbyJFbChkeQn8pZHgTg0ohw3vsNsSn4vM7iC/yECP2FwQEn8G9h+xAuEeOHKkyQbRr10557VDGGYU7bJrO8OpEgIELdPD4448rYvf000+rSnw4fPjvf/+75RAcDioCb5BMeNPdBg87vKto7mHCSZMmyTzzzNPSBy8f999/v0pfBx0iNd7dd98tWznEVb78Uhwlyi9ONT8cZoSuQSyDmkuAkQMamT7cdvHFF6uDmnjpad++fZuhrdb0hGLAlnRrwkOMPt5c2FgAL2J4cSABtrmy2JcIEAEiQARMENDxEJM56tonNwJcVwCj9qUzvCwIcJkOID/yyCMqjzNS1SHVHT73/8///I906dJFhTbAUz/bbLOpMBWkiUM6OpcA44UHhNrbEF+MbCIgqEhjh3R2YQ0hNyeeeGIkAYZ+EGbhNjftnj/riPt7kjVB1v/0pz8JMpN4G8IikA2FBLiJdwjumQgQASKQLQI6HpLt6uWenQQ4Q/3oDC8LAly2UDRU2fvpp59Uijr3kz88w17PPEIZEK7gJcAIgYjyAGM+kGnEfa+11lpttLjwwgsL/gW1uB7gJGvSA5zhhcapiQARIAJEIBABHQ9pMmwkwBlqX2d4WRDgokLRvnRCELxhJIAVnlp4eUFukdEBn/+33XbbVgcfEQoBDyg8xX4CHBQDvPbaa8ttt92mwmQQwoLUdIj7tmlRMcC//vqryg4R1JKsidAKHORDTmiEPaAxBthGa+xrhUCZPgVZCc7ORIAIpImAjoekuVbV5iIBzlBjOsPLggBnuJ3IqZFGDIfeEFPdtWtXGTdunFx++eUq1hfhDyC+IMk4yLbmmmuqTAiff/65ivfFATcUyvASYDcLBHIzw0OMA2Q4+IiDjSuttJKSBQcT//znPwsOT4JAI/UZsnogTRlCKNysEn7Bo7JAYOz/wo0e0uKuiWwRCHeA7MwCUZSVNmjdsn0KahD03CoRKBMCOh5SJlnzloUEOEPEdYZXJwIMgooDasi+gGp5yLYBsofUcvj87zaQWJDaDz/8UBFUVJDDYUjk8PUSYGTneOKJJ1QeYMwJEox8wYgn9jZU50Ns8OjRo9Wf3ZzOyPDgelrDCDDIObKLvPTSSyoPMGKGUVVQ1+KsiTlRrhuHKZH6D2ngkAcYnmHmAdYhzt+tESjqU5C1oBxABIhAlgjoeEiWa5d9bhLgDDWkM7w6EeAMYUx9atcD7BL11BewmBAp4EiALQBjVyJABIgAETBGQMdDjCeqYUcS4AyVqjM8EuAMwY+YmgTYDnfaqR1e7E0EiAARKAsCOh5SFjmLkIMEOEPUdYZHYpEh+CTAqYFLO00NSk5EBIgAEcgVAR0PyVWYki1GApyhQnSGR2KRIficOjUESmunzHSQmo45EREgAvVEQMdD6rlrs12RAJvhFKuXzvBKSyxi7ZaD6opAaezUT3iZ6aCuJsd9EQEikBICOh6S0jKVnIYEOEO16QyvNMQiQww4dfURKI2d+gkvMx1U37i4AyJABDJFQMdDMl285JOTAGeoIJ3hoSgCyv0iJRYbESgrAkhZN8sss8iiiy5arIgkvMXiz9XLhwDDgMqnk5JJpOMhJRM3V3FIgDOEW2d4SMM1ceJElYN2vvnmy1ASTk0EDBD4/ntxqpWIU9JPZO651YCvv/5aJkyYoPI6d+nSxWCSmnQhsaiJImu+DYYB1VzByben4yHJV6juDCTAGepOZ3gorYtqaJMnT1Yetvbt22coDacmAhoEQICdUtAy88yKAKNCH75QdOzYURZZZBFp165dcyAksWiOrqu8U34VqbL2cpFdx0NyEaKki5AAZ6gYE8MDCYYXeMqUKYpwsFki4JQYdkrFifTsKU4NZsvB7N4KAR+WeCGbbbbZlPe3UeQXoJBY8OIgAkSgBgiY8JAabDPWFkiAY8FmNoiGZ4aTca+gz9L01BnDx45EgAgQASLQLATIQ8L1TQKc4bVAw0sZ3CCyS09dyiBzOiJABIgAEagLAuQhJMCF2DINL2XYSXZTBpTTEQEiQASIQJ0RIA8hAS7Evml4hcDORYkAESAC6SFQl4wgddlHepptxEzkISTAhRg6Da8Q2LkoESACRCA9BOpyzqAu+0hPs42YiTyEBLgQQ6fhFQI7F60LAkV5rIpaty56q9s+6hJ6VZd91M2+Mt4PeQgJcMYmFjw9Da8Q2LloXRAoymNV1Lp10Rv3QQSIQGkQIA8hAS7EGGl4hcDOReuCQFEeqzzXpbe5LtbKfRCBUiJAHkICXIhh0vAKgZ2LEoHqIEBvc3V0RUmJQAURIA8hAS7EbGl4hcDORYlAdRDI09tcHVQoKREgAikhQB5CApySKdlNQ8Ozw4u9iQARIAJEgAgQgfQQIA8hAU7PmixmouFZgMWuRIAIEAEiQASIQKoIkIeQAKdqUDY1cosAACAASURBVKaT0fBMkWI/IkAEiEBCBHigMCGAHF5HBMhDSIALsWsaXiGwc1EiQASaiAAPFDZR69yzBgHyEBLgQi4SGl4hsHNRIkAE6opAlJeXBwrrqnXuKwEC5CEkwAnMJ/5QGl587DiSCBABItAGAXp5aRREwAoB8hASYCuDSaszDS8tJDkPESACRMBBgF5emgERsEKAPIQE2Mpg0upMw0sLSc5DBIgAESACpUCAhw1LoQZTIchDSIBNbSXVfjS8VOHkZESACBABIlA0AgxDKVoDVuuTh5AAWxlMWp1peGkhyXmIABEgAkSgFAgwDKUUajAVgjyEBNjUVlLtR8NLFU5ORgSIABEgAkSACFggQB5CAmxhLul1peGlhyVnIgJEgAgQASJABOwQIA8pAQF+77335NBDD5VnnnlG5pxzTtlll13k3HPPldlnn12rzRtvvFHOOecc+eSTT2SZZZaRU045RXbcccdW43799Vc5+eST5YYbbpDvvvtO1lprLbn00ktlpZVWaun38ssvy3HHHSevvfaafPPNN7LgggvKpptuKmeccYYsvPDCreYbOXKkHH744fLKK6/IfPPNJ/vss4+cdNJJMtNMM2nldTvQ8IyhYsc8EajTIZY67SVPG+Ba1UMgK1vPat7qIVxLiclDCibA3377ray44oqy+OKLKxI5YcIEOeKII2TzzTeXW265JdLohg0bpsjuscceK3379pV77rlHLr/8cnn44YfVf7vt4IMPlptuukkuvPBCWWKJJWTw4MHy6quvyuuvvy4LLbSQ6vbEE0/IfffdJ+uuu64ssMAC8uGHH8rpp58uc889t4waNUpmnXVW1e+jjz6SVVZZRTbYYAM57LDD5O2335ajjz5ayXzmmWcaXyQ0PGOo2DFPBOp0iKVOe8nTBrhW9RDIytazmrd6CNdSYvKQggnweeedp4jmp59+KvPPP7+S5tZbb5UBAwbIW2+9JSussEKohPitZ8+ecscdd7T02WyzzZSX98UXX1R/+/zzzxW5vuyyy+TAAw9Uf5s8ebIsueSSsvfeeytPc1h77LHHFJF+7rnnZJ111lHdDjjgABkxYoS8//77LaT47LPPVp7i8ePHS+fOnY0uFBqeEUzslDcCdTrEYrsXervytjaulxYCtrZuum5W85quz36ZIkAeUjABXn/99RVpvPfee1sk+eWXX6RTp05y1llnyZFHHhko4ccffyxLLbWU3HXXXbLddtu19EFIxJ577qk8ySDU119/vQwcOFC+/vprmXfeeVv6oc/o0aOVFzisIcRh9dVXl6eeekogJxrI9LbbbqtCKNwG8g7PMjzS/fr1MzJYGp4RTOxEBPJDwO/tIiHOD3uuRASIQO4IkIcUTIARbgCC6vfE9ujRQ3r37i1DhgwJlPDBBx+ULbfcUoUgdO/evaUPwhV69eql4okRzoDwBIQ/fPHFF63mOf/88+WEE06QKVOmtIrdnT59uuAfQh0QOoF44Jdeekk6dOggP/74o8w111xy1VVXyf77799qPsQuI4b4xBNPNDJiGp4RTOxEBPJDwO/t4uff/LDnSkSACOSOAHlIwQR45plnVuEDiOP1NjcWFx7eoDZ06FDZddddVdiBG8eLfh988IEsu+yyyqO8zTbbqANqIMPvvPNOq2lArPEbwiUQ5+s2rIuQB7Q11lhDHnjgAXUgDg3hFN26dZPbbrtNdt5551bz4e877bSTXHTRRYHyfv/994J/boPcIOpjx45Vc7IRASKQMwI6Dy8//+askAYup7PBBkLCLeeHAAlwCQgwDo8dc8wxrSTp06ePIrbDhw+PJMDw7LoEFR0Rm7vccsupA21bb721IrnPPvus8hR72zXXXCP77ruvIqUdO3Zs+endd98VHMwDkUZ2CWR2wHiQZJcA33777dK/f/9W8y2yyCKKFOOgXVA79dRT5bTTTmvzEwlwfhc7VyICrRCgh5cGUTQCtMGiNdDo9UmACybAZQuB8MIBcr3YYosJDrkNGjRIfvrpJ5WmLU4IBD3Ajb7PcPNlRIAe3jJqpVky0Qabpe+S7ZYEuGACnMchuL322ksmTpxofQgO0OBwG1Ky/f3vf1dI8RBcya5gikMEdAgU+Zm5yLXLjItONv5eLAImdmvSp9hdcHUNAiTABRNgpEFDDDAyKaCoBBpCDFAMwyQN2sorr6z6uw1kFSEM/jRoV1xxRcvBtR9++EERW10aNMi09NJLKw8wDtOhIQ0aDuAh1GKWWWZRf8MBPoQ3MA0a7zdEoIQIFPmZuci1daoos2w62fl7tgiY2IZJn2yl5OwJESABLpgAu4UwQEi9hTCQz9dbCANeXKQ4mzZtWovEd955p4rFRfYFVG3DwTekJwsqhHHzzTer+Fx4cC+44AJB5bc33nij5QAdsjogbRoOviEFG2KB0Q9ZIsaMGdNCzt1CGBtttJEccsghqt9RRx2lKsOxEEbCq5HDiUAWCBT5mbnItXVYllk2nexZ/U6v5gxkTWzDpE9WeuK8qSBAAlwwAcbyKIUMMonDZnPMMYfy/sIz7C2FvMceeygC/Pvvv7eSGH+Dh9YthYzDZv5SyFOnTg0shQzvsduuu+46ufrqqxWhRR5ixP6ChB9//PGtDtmhP9KiBZVCbt++vbFR0vCMoWJHIkAEiEA+CNCrmQ/OXKUUCJCHlIAAl8ISchaChpcz4FyOCJQdgby8j3mtU3a8g+SjV7OKWqPMMREgDyEBjmk6yYbR8JLhx9FEoHYI5OV9zGud2imowRviS1MtlU8eQgJciGHT8AqBnYsSgfIikMT7aENQkqxTXvQoWZYI8KUpS3QLm5s8hAS4EOOj4RUCOxclAvVEgASlnnoty6740lQWTaQqB3kICXCqBmU6GQ3PFCn2IwJEQIsACYoWInYgAkSgNQLkISTAhVwTNLxCYOeiRIAIEAEiYIuATYiN7dzsXxgC5CEkwIUYHw2vENi5KBEgAkSACNgiwBAbW8Qq0Z88hAS4EEOl4RUCOxdtAgL0VjVBy9xjnggwxCZPtHNbizyEBDg3Y/MuRMMrBHYuWnUETMgtvVVV1zLlJwJEIAcEyENIgHMws7ZL0PAKgZ2LugiYEMkyomVCbumtKqPmKBMRIAIlQ4A8hAS4EJOk4RUCOxd1ETAhkmVEi+S2jFqhTESACFQQAfIQEuBCzJaGVwjsXNTrAb7wQpEjjxTZaCPiQgTSQaCqXxbS2X16s1QNx6rJm56mKj0TeQgJcCEGTMMrBHYuSgSIQJYIVPXLQpaYxJm7ajhWTd44OqnhGPIQEuBCzJqGVwjswYuWyXtRJllKpCKKUhEEGKKSjqKqhmPV5E1HS5WfhTyEBLgQI6bhFQJ78KJl8l6USZYSqYiiEAEiQASIQLoIkIeQAKdrUYaz0fAMgcqjW5m8F2WSJQ/suUb5EeBXifLriBISgRgIkIeQAMcwm+RDaHjJMeQMRKD2CNiST9v+JgBW/atEFpiY4MY+RKDkCJCHkAAXYqI0vEJg56JEoFoI2JJP2/4maFT9q0QWmJjgxj5EoOQIkIeQABdiojS8QmDnokSgWgjYkk/b/tVCI560xCQebmUaRS9+JtogDyEBzsSwdJPS8HQI8XciQASIQIkQcEnYxhuLPPGEyKBBzKGdl3roxc8EafIQEuBMDEs3KQ1PhxB/JwJEgAiUCAGXhM0xh8hPP4msv77IiBElErDGotCLn4lyyUNIgDMxLN2kNDwdQvy9Fgjw02Ut1MhNOAi4JAyVE/H/WUUx2iyKvPaLXLtCFwt5CAlwIeZKwysEdi6aNwJ1+nRZ54dqnfeWt81zvRkIFHntF7l2hfRPHkICXIi50vAKgZ2L5o1AnT5d1vmhWue95W3zXG8GAkVe+0WuXSH9k4eQABdirjS8QmDnokQgPgJ1fqjWeW/xNW4+kh50c6yCehK/ZPjFHE0eQgIc03SSDaPhJcOPo0uEAB9eJVJGxUWpqi3Rg57M8IhfMvxijiYPIQGOaTrJhtHwkuHH0SVCgA+vEimj4qIUZUtJiTc96MkML238kuoz2W4qM5o8hAS4EGOl4RUCOxfNAoG0H15ZyMg5q4FAUbZUFPGuhlaqJyX1aaQz8hASYCNDSbsTDS9tRDlf4QjQ61K4CihATASKIt4xxeUwDQLUp5GJkIeQABsZStqdaHhpI1qD+apOIOl1qYER1ngLVb++aqwabq0YBMhDSIALsTwaXiGwl3vRqhNIel3KbV91lc6U2Fb9+qqr/rivwhAgDyEBLsT4aHiFwF7uRUkgy60fSldOBEyJLa+vcuqPUhWGAHkICXAhxkfDKwR2Lpo1AqbeuKzl4PzNQYDEtjm65k5TRYA8hAQ4VYMynYyGZ4oU+1UKAVNvXKU2RWGJABEgAvVDgDwkJgEeN26cvPDCCzJp0iSZd955ZZ111pGuXbvWz0Iy2hENLyNgOW2xCNAbly3+9LBni29as1NPaSHJeTJEgDzEkgD/9ttvcthhh8k//vEPmTZtWsvoDh06yP777y+XXnqptGvXLkOV1WNqGl6GeuTDJ0NwOXWhCNDDXij8xovXQU9Z3UezmtdYOezoIkAeYkmATz/9dDnjjDPkhBNOkF122UUWWmgh+eKLL+T222+Xs846S0466ST1jy0aARpehhZSh4dPhvA0Zuo6PmjpYa+G+dZBT1ndR7OatxqWUSopyUMsCfCSSy4pe+21l5x44oltRp555ply7bXXyscff1wqJZdRGBpehlqpw8MnQ3gaMzUftI1RNTeaAQJZ3UezmjcDCOo+JXmIJQGebbbZ5IEHHpBNNtmkzcjHHntMtt56a5kyZYqV3bz33nty6KGHyjPPPCNzzjmn8iyfe+65Mvvss2vnufHGG+Wcc86RTz75RJZZZhk55ZRTZMcdd2w17tdff5WTTz5ZbrjhBvnuu+9krbXWUqEaK620Uku/xx9/XJH3F198Ub788ktZfPHFZdddd5VBgwbJrLPO2tLv1FNPldNOO62NXFdddZUKATFtNDxTpNivVAhUyata1wdtmjrwz5Xm3KUyXApTGQRog7mpijzEkgB3795dttxyS7nwwgvbjDziiCPkwQcflHfeecdYgd9++62suOKKinAidGLChAmCeTbffHO55ZZbIucZNmyYIrvHHnus9O3bV+655x65/PLL5eGHH1b/7baDDz5YbrrpJiXzEkssIYMHD5ZXX31VXn/9dRXCgYZ5fvzxR+nfv7+S5eWXXxaQXchx5513tiLAGP8vXKSettRSS8kCCyxgvG8anjFUxXXkjbgt9vSqFmeP7spp6sA/V5pzF48UJagiArTB3LRGHmJJgK+88ko55JBDZPfdd5eddtpJEUh4TO+44w6BNxYE9MADDzRW4HnnnSeIK/70009l/vnnV+NuvfVWGTBggLz11luywgorhM6F33r27KnWdttmm22mvLzw5KJ9/vnnitBedtllLXJNnjxZEMqx9957K08z2ldffSVdunRptRbG4MAfvMuYAw2k+IILLpAffvjBeI9BHWl4ieDLZzBvxG1xrptXtYovOWnqwD9XmnPnc5XqV0lLx2nNo5e42T28NggknOet8ylWZKONmo1LBrsnD7EkwOh+/vnnq7ADeG+R8eH333+Xzp07q4NxRx55pJWa1l9/fTX23nvvbRn3yy+/SKdOndShurD5EGcMr+tdd90l2223XctYkPA999xTeZJBqK+//noZOHCgfP311ypdm9vQZ/To0coLHNYQkrHeeuvJ888/L7179yYBttJsDTrXkQwUpZaykge+5BRlEfmtm5aO05onv51XfyVinqkOSYBjEGAMmTp1qrzxxhvyzTffKGKJMIaZZ57ZWlkIGwBBdT2x7gQ9evRQpHPIkCGBcyLUAqEYb7/9tiAsw22jRo2SXr16qXjiddddV44++mgV/oBMFd4GEg/CjnjlmWaaKXCNs88+W8UOY6zrnYYHGFkwsGfsfbnllpPDDz9c9tlnH6u90/Cs4GLnqiNQ1gcZX3Kqbll6+dPScVrzuBKX9aVQj2hwjyz2kzbmcfdW03HkITEJcFr2ANIMQok4Xm8DeQU5hoc3qA0dOlQdUhs/fnxLHC/6ffDBB7Lssssqj/I222yjiCnIsD8uGcQavyFcYu65526zBEIyVl55Zdlhhx1akXDEJYMQr7rqqoo8I1wD/0CocWAurH3//feCf26D3CDqY8eOlW7duqUFJ+chAuVEoIkPsiwIQTm1S6niIFDWl8I4e8GYuu0nLg4VGkcCHJMAP/vss4LsDUEZH2xigEGAkT7tmGOOaSVJnz59FLEdPnx4JAEGGV1wwQVb+rz//vvKK3vfffepjBQguZAVnmJvu+aaa2TfffdVpLRjx46tfkN8L0IzECs8cuRIFaIR1XCADhkwEEcc5gUPyx5BApzB3YLEIwNQOaU1AiQE1pA1akDdXgrrtp8GGCMJsAEBfuWVV5THE/G+IHkbb7yxCn9w438xhbf62/Tp041Np2whEEiZttVWW8mYMWNU7C/ijHUNWSJwIDDq0B49wDoUU/ydxCNFMDlVbARICGJDx4FEgAhkjwAJsAEBxkEweDafeOIJ2W233eTdd99Vn/0RaoDwAmRPQGjAP//5T+V5XX755Y01l8chOBTumDhxovYQHMo8//nPf1ap3J566ilZbbXVjPaBLBRIn6bLWuGdjIZnBG28TiQe8XDjqGohwC8d1dJX3aSl/VVeo+QhBgQYxA4kGCRy0UUXlYsvvli233576dChg0o3hlhWNBSIwCE0FMowbUiDhhhgxNzON998ahjKKqMYho5QIg0a4nTR323I24vsFP40aFdccUVLoQqEOCAfsDcNGsYjdAPFMEaMGBFY6CNsT/369VN5gZF5wvQgYCUNjzc8U7NmvzohUFa7j/rSUVaZ62QXTd8Lv7RV3gIqyUNyQr2dk97sd6wFgguShzjdueaaSx566CH505/+pGJjcRgN2RjQQAL/7//+T8XOmja3EAYIqbcQBvL5egthwIuLFGfTpk1rmRqhB/C8HnfccbLpppuqg2+o8BZUCOPmm29WhTCQzxd5fFHoAmEcbiEMpHU7/vjjVUYHhDN429JLL92SI3iNNdZQOZDh5f7555/V/iHHJZdconIGm7ZKGl6SGx4fyKamkX8/6iYa8yR2n6U2o750lFXmLPHg3PkikMWXNt6LctVhJXlITgi1EGB4fVFZDd5RFJ5AajAc/EKaMsTIggSiIWcvwiAAqk3DYToU18BhtTnmmEN5f+EZ9pZC3mOPPRQB/i8nb5kef0O6MrcUMg6b+UshI2VbUClkeI/dtsEGG8jTTz8dKDZyCWN9NBBuHIzD4TvEPQMPlHFG4Q6bVknDS3LD4wPZxjzy7UvdROOdxO7z1eQfq1VR5qKw4rrlQYD3olx1UUkekhNCLQT4ww8/VGEGbqELeG1BhhHvi1AIeFFnmWUWFcaAcAZ4UtmiEWic4fGBXN5Lgropr24oGRFoEgK8F+Wq7cbxEAt0WwiwfwwOi7nFI5577jmVqxfhAAhD8FZls1ircV1peI1TebEbzvvTYt7rpYFuFWSugoxp6IJz5IsA7SpfvEuyGnlIuCJCCXBJdFdpMWh4lVZf9YTP+9Mi1nvySXGSbONUq8hGG5Ufs7wxioOIK6NTedNJayNO9Z1qYBtnrxyTPQIu8f36a5E33xQnAb44p8CzXzeLFUjirVElD7EkwEh79tlnnwXGvCI12mKLLaZKELNFI0DDo4XkikDenxax3s47i3MidgZBq8JDNW+M4hiAK6OTkafyhCXO/jkmXQS8L1TIwuSc46nEy2oQClV4gU1Xe4lnIw+xJMCo0IasD0Fxvueee65KIYZ/L7zwgqy55pqtcu8m1laNJqDh1UiZddhKFt6TKhDKquqO2KavuSyugfSlTHfGOtlRnfaSrpZDZyMPsSTAnTp1kmHDhql4X397/PHHVbYIpE375ptvZO6551Z5gdnaIkDDo1WUCgF6T0qljsTCNJHMJQWN10BSBDm+YgiQh1gSYJBapAVDXmB/Gz58uMqh+8svv6iUYigpjMNxbCTAtIGSI9A070ndCSLJnP0F17RrwB6h/EfU/TrNH9FWK5IAWxLgTTbZRGWAePTRR9uMhPcXhSpQEAOxwkOGDFG5e9lIgGkDRCB3BKIennUniCRzuZsbF8wAAdPrlEQ5FvgkwJYEGMR24403ViWIURyia9euMm7cOEV0X3vtNUEYBKrEsUUjQMOjhRCBjBHQlQp2KkNW+tBPxvBxeiLQBgFcM06RKqcs7IxrJ+tm+iJnSpSzlrdi85OHWBJgdIeH96ijjpL//Oc/LaNXX311GTx4sGy44YYVM4FixKXhFYO7Y7zi1MLOP31UUesWBHMpljV9eJZC2ByECLNB2mYO4NdkiQUWEPnqK5EuXUQmTCjPpnitx9IFeUgMAuwO+e677+RrJ3/gvE4+ys6dO8dSQFMH0fAK0nxRnoKi1i0I5souW2cyGGaDJrZZFVyqImdVL5C8PcBVxakicpOHJCDAFdFxKcWk4RWklqI8BUWtmzbMdScYJmQwbUzjzBdHD2E2aGKbVcHFRM442MXREccQgZIjQB5iSYAPPPDASJW2a9dOrrzyypKrvXjxaHjF64ASxEDAhGDopi0zATEhg7r95fF7GnqwkTMuLnnr2kTOvLGzwZl9iUCOCJCHWBLgZZddts2ISZMmqby/88wzj8znVJN57733clRhNZei4VVTb42X2oRg6EAiAdEhpP89DT3oV0neo4y6rgp2ydHnDEQgEgHyEEsCHNb95ZdfloEDB8rf/vY3QbU4tmgEaHi0kMojENe7Z0tA4q5TeYBrsAFbXddgy9wCEagKAuQhKRFgTDN06FC50AmSf+WVV6qi/8LkpOEVBj0X9iPgJ5imhDMv715e69Ayqo2Aqd3a7jKreW3lqFp/4lZ6jZGHpEiAH3roIdlxxx3lhx9+KL3iixaQhle0Brh+CwJ+gmlKOPPy7uW1Dk2i2giY2q3tLrOa11aOqvUnbqXXGHmIJQH+6aef2oyYOnWqvP3223LooYcKDsGNHDmy9IovWkAaXtEa4PotCPgJJglna+Oogicrroxxx5Xx8snKbrOat4wYJpXJa0+Yi8VmkiKa6XjyEEsCjDLIILn+9vvvv8tCCy0k99xzj/Tq1StTpdVhchpeHbSY0x7qRFJygizVZargyYorY9xxqQLMyawQKPP9gPZkpcqiO5OHWBLgv//9720I8GyzzSbdunWTddddV2adddaidVqJ9Wl4GaipqAdD1uvyoZKBsfimjNJhFTyAcWWMOy57jXCFMATKfD+gPVXKbslDLAlwpbRbYmFpeBkop6gHQ9br8qGSgbH4psxah9nvoP4rZP2iWRUEy3A/oC6qYi2RcpKHWBLgN998U8aPHy+bbLJJm5GPP/64LLLIIrLCCivUwjiy3AQNLwN0i3owxF03z4dInmtloNrMp4yrw8wF4wItCOT1ksJrRW90Nrognno8C+pBHmJJgDfddFMV43vWWWe1GXnSSSepA3CPPPJIQeqszrI0vAx1VZUbrs1DJClcea6VVNaix1fFforGKe/183pJ4bWi16yNLpLgyWtRr4sEPchDLAkwKr3dcsstssUWW7QZ+fDDD8uuu+4qEydOTKCSZgyl4WWo5yQ33AzFajO1zUMkqVx5rpVU1rTH2z5Eq2I/aePE+WYg0ORrJQsbSIKney326CFOmVmRQYNENtooCykbOSd5iCUBnnPOOeX222+Xrbfeus3I+++/X/r37y9BqdIaaV0Rm6bhZWgRSW64GYrFqQtAALaw884ikyfPeHCOGKEXgvajx4g9iEAeCLjXIpxqTvilrL++2TWch2w1WIM8xJIA9+7dW5ZYYgm57bbb2ozcZZdd5KOPPpKXXnqpBqaR7RZoeNniGzi7rSewABG5ZMoIwIP05JMiHTuK8+ZO71HK8DZqOt4/ilM3X0ozwZ48xJIA33vvvbLddtvJtttuKwMHDpSFF15Yxo0bJ9dff73KATx8+HD1G1s0AjS8AiyEn7bbgl73h7r74IT394knoj+hlh2LNOTzz5HGnAVcyoUsyftHIbBz0ewQIA+xJMDoftNNN8nRRx8tEyZMUDmBUQRjwQUXlMGDB8tf/vKX7LRVo5lpeAUok16EtqDn/VAvinDp9hknVCJvE9btwUSeuGWvTebOs08RdsT7R54a5lo5IEAeEoMAY8j06dPl9ddfl0mTJjmx6fPJiiuuKO3bt89BZfVYgoZXDz1Wfhd5P9TTIHFxQNftswqhEro9mODin8NmziJIZ9iesrSjNPaZxhwm+mQfIpAAAfKQmAQ4AeYc6iBAw6MZlAqBvB7YNoQrT4DKKleeGLhrhdlClqTTdp9x9GVq46b7jJrPdA7bfbM/EUgRAfKQGAT4/fffV3mAR40apYjc008/Laussoqceuqp0qdPH0GuYLZoBGh4tBCVbumCC8qR2ocPbBqki0CYLcQhnWVC1dTGTfcZNZ/pHGXCh7I0DgHyEEsC/NRTT8nmm28u3bt3l4033lguueQSRYRXW201Ofnkk2XMmDGCg3JsJMC0AQ0Cpg/kPIDkAzsPlKuxhs3BwWrsaIaUadt42vNVCUvKWgsESIAtCTCqwC299NIqDdq0adNklllmkdGjRysCjCwQBx98sPIKs5EAZ2IDZfKaJt0gH6BJEeT4NBCoQshDGvvkHESACLRCgATYkgDPPvvsct9996kwBxyEm3nmmVsIMEIhNttsM5kyZQrNTINApQ2vSBJaJq8prbxZCBRp91kiXdeQhywx49xmCNT1mjHbfel7VZqHZIxuOye92e/+Nbp27dqS7sxPgK+99lo544wz5JNPPslYtOpPX2nDK5KE0mtafeOv6g6KtPssMeM11Rpdl7Q5IX7a3NFp6qWOZLGu10yaf4uMgAAAIABJREFUei9wrkrzkIxxCyTA++23nzz++OPq32KLLaY8wC+//LIsuuiiTpXC9aVv375y8cUXZyxa9aevtOGl+cCs402/+uaZfAd11Guadh8X4axwzWreuPssYpyLwddfzyi7O8ccIj/91Lr87oUXipx3nsgxx4gceWS6UtaRLJbhmklXS7WardI8JGNNBBJg5P3dcMMN5b333pPVV19dnn/+eVlzzTXlgw8+UIQYYRBzzz13xqJVf3oanqND3Bx33llk8uQZJWpHjMhfsXzwZ4N5HR/m2SBlN2tWuGY1r93uiu3t5oKedVaR5ZcX2WmnGfcoEF3cn9AWWEDkq69EunQRpxJUtLy29xaSxWL138DVyUPClR5IgNH9l19+keuuu04ee+wxmThxosw777yyySabyN577y2zzTZbA83Ifss0PAczm+IDtg8TU5XwwW+KlF0/Pszt8DLtbYur6XVjO6+pvFXqZ/JCbuMB5r2lStpvpKzkITEIcNqWAm/yoYceKs8884zMOeecsssuu8i5554rOHCnazfeeKOcc845Ku54mWWWkVNOOUV23HHHVsN+/fVXlaLthhtukO+++07WWmstufTSS2WllVZq6YeQDsQwv/jii/Lll1/K4osvLrvuuqsMGjRIZoVHwNNGjhwphx9+uLzyyiuqCt4+++wjJ510ksw000w6cVt+p+E5UNg8dLN6mNjIYKxdg46mxMRgKnYhAqEIZHXd1BXyJPcD/zWdZK664st9lQoB8hBLAgwSucceewSOAtE88cQTnRApJ0bKsH377beqjDIIJ0jkBOez0hFHHKFyDd9yyy2RswwbNkyR3WOPPVbFHiMN2+WXXy4PP/yw+m+3ITXbTTfdJBc6b+9LLLGEOsT36quvqlLOCy20kOqGeX788Ufp37+/kgVxzSjsATnuvPPOlrk++ugjVfRjgw02kMMOO0zefvttOfroo5XMZ555puGua1YJLg8yV7eHifMS5hiZyBpriPPWZWw3leiYhz1UAogSCFm366YEkPJlo8xKoGw2CJAAWxLgDh06yDbbbCNXX321zD///C2jX3vtNeUx/eyzzwSk1rSBLJ9++uny6aeftsx36623yoABA+Stt96SFVZYIXQq/NazZ0+54447WvogDRu8vPDkon3++eeK0F522WVy4IEHqr9NdmJOl1xySRWyAU8z2ldOXFcXxHV5GsaA5MK7jDnQDjjgACdUdYSgGp7rGT777LNV9ovx48dL586djbZeK8Ojl8lI5606uQTYiaOXl16yH1/mEX57ICEus7YomykCOjvmy0Y4kjrsTHXAfqkiUCsekioyIoExwP/+97+VB/jnn3+Wa665RrbccktFIuEtXXvttQUhCfCymjZkjgBp9FaPQ4xxp06dVLnlI0NO2n788cey1FJLyV133SXbbbddy3JYf88991SeZBD066+/XgYOHChfOyd7EavsNvRBAQ94gcMaQjLWW289ddCvd+/eqhuI8LbbbqtCKNwG8o49wyPdr18/o63XyvB44zfSeatORWKW9cPIvze+INnbB0dEI5CWDdvMk4Ud26yfl01kIVMW2OWFR43XqRUPSVlPoYfg4EFFzC7CCkD8xo0bp7y4iJdt166dlRgLOKdqQVBdT6w7uEePHop0DhkyJHC+Bx98UJFvhCCgLLPbUJYZ1epAXtddd10VngA5v/jii1bznH/++XLCCSeooh1hsbvw7CJ2GGNBphEiMddcc8lVV10l+++/f6v5ELt83HHHqRAQk0bDM0GJfTJBIO+HUZFk3w9gUJzmBReIc/P646R/JqBz0kQI+PWWlg3bzJOFHdusnwhAi8FJZAojz1lgZ7Eldg1GgDwk3DJCCTCGwPsLEgxvLcjq8OHDZbnllrO2M+QRRvgA4ni9DeQV5Bge3qA2dOhQFXKBsAM3jhf9kI5t2WWXVR5lhGrggBrI8DvvvNNqGhBr/IZwiaC0bfDqrrzyyrLDDju0kHCEU3Tr1k2Vgd4Z6bs8DX/fyUmbc9FFFwXK+/333wv+uQ1yg6iPHTtWzclWAgSy8HyUYFttRGjyw8j/cE/ysC+jbusqU1BYDTIyeFOUxdl70ddC0esHYZZEJl5PcaywsDEkwJYEGKEFe+21lzzyyCNOLvBjFBHEf7/xxhvKi4sDZzYNBBiHxzCXt/Xp00cRWxDrKAIM7+yCCy7Y0gWxuSDiKNe89dZbK5L77LPPKk+xt4HA77vvvoqUduzYsdVvP/zwgyrqAU83Mj64cb0uAb799tvVYTlvW2SRRRQWOGgX1BAictppp7X5iQTYxloy7pvHzbspJDtjVcWe3v9wT/Kwjy1EwoFJbSjp+ITixxpeRT3F2miOg7KwA+opRwUmX4oE2JIAwys7zzzzqFhfxPyi/fbbb4rE4h+II/IDm7ayhUAgk8VWW20lY8aMUbG/iDN2209OVSCEOsQJgaAH2NQiCuxnc/OO+/DIg2QXCCGXzgGBJDYEuy26+EwOEHEJAwSS2JHB9C1d4t4rbdZg31gIkABbEmBkQYCXcw6UifQ1pA7bbbfdnCqSThlJw5bHITh4qN2CHa5YQYfgQOT//Oc/C+KLn3rqKVlttdXa7IKH4AwVW/ducR8eYSSbD4lqWEwZ9GTzouZH1ab4TDU0YiZlGfRmJml+vZLYkY2Uce+VNmuwbywESIAtCbAOZcQE+wtHRI1BGjTEACPmFkUl0BBigGIYJmnQEKeL/m5D3l6kYfOnQbviiitaDq4hxAGH97xp0DAeadJQDANpzlDZLqjhBQAEGaEWs8wyi+qC0A+EN9Q+DRofIn+YRNoPj6o/JJpiG3XQU1TsbF31WHW96R68ut+D9JqXrtO6V+Ylrw7LGv1OAhyTAKMgBDy+iGHFYTSEMuD/g8QGeYfDlnELYYCQegthIJ+vtxAGvLgIu5g2bVrLVChQgVhcZF/YdNNN1cE3pCcLKoRx8803K881PLgXOKe+ITvilt0DdKgmd/zxx6sKbzjM5m1LL710S45gtxDGRk5t+EMOOUTeffddOeqoo9S42hfCaPpDJMsbX9RDogo3/qbYRloP8yxtKWpunS0l0aNu7iz3rFu76npLil2QXr1/w2HCsmdDSWKbSfGr6XgSYEsCjLRh8JSCUE6fPl2lPUPqMYQLbL/99uoAmj+lmc52UAoZZBKH1UCe4f2FZ9hbChm5h0GAf//991bT4W9IV+aWQsZhM38p5KlTpwaWQob32G2o7Pb0008Hiopcwt7qdy85hQuCSiG3b99et9WW3ytpeE1/iBhrN0bHqAd4FW78tI0YSs9wSJjHz8mM4+RzFCd3pDgng9sKkESPQXaqI6ZpQRBn7bxkS2uPSeYJ0qv3byC/To5/5xCPOJ9Ak6wUPTYJ5klsM7sdVXrmSvKQnBAPTIOG1GdIA4ZKcCCN8PiioAQIMMIHUD0NB8jYohFopOElufnV3aCiSC5v/OHap00FYxPm8XvooRn9nUJDTqxYuldVkJ3GeXmLo9M4a8eRLV3EyjNbXvcYYl4enTuSNJKHGGogkAAj5RjCBVC8Ah5gpDFzCfC/nIsIVdmQW5eNBLgNAk29+eke6PjdCeNxPqeI8zmDBRlsbh5NtCmdPQE/l9A4oVryxBMzCn2gHXSQOJV9xKnYMyOHbtYtDrFKS6dY2wlrcz4bivPQantdxZFNh5eJbnRz1Pn3LDCvM14Z740EOBzgQAKMEAXE2iLm1k+AcXgMuXCRP5eNBLgNAk29+eke6Lrf63IxZUEOmmhTNpkcqmhbNjrV2ZTt/nXz6a5F2/V088X5PekeTNdMax0cynRCHp0YSpHPPmNVRlP8U+hHAmxJgFG9DP+QVcFPgBHH+/rrr6sUYmwkwLWzgbg3fNfDC0Dy8kSVEfwykIMy4mIrE+zJNJevn0x6bRjrlv3gkw4bnU3ZkGmspZtPJ4/tet754t5f/DIl3YNuj+7vaa3jHKCXr74SJ62SOJ+Us49DNt1fA/qRAFsS4HvuuUf69eunQiBw2GyLLbZQZZE//vhjGTx4sPIOIxUZGwlwKAJp3eizNLIgGZPc8G3HZo1R1vMH6SYJOchS11WcOy6WXjtEaEBWB5/ysi8dDrZy6ObL0lZs7xFhspjuwRYb/3pB68SZ0+sBdjJJJS5vnaWOajY3CbAlAUb3oUOHytFHH63y3roNadCQZmzAgAE1M5FsttNow0vrRp+NambMGnaqPCqHapQ8pg8ld4611hInV5/I6quLOFlHUm9JdBDnIZf6BjhhLAS8dogJwuw5qY7LYl+mciTZb5KxXiXa3iNiGYBnkCk2NusknTMtLG1kbnDfRvMQjd4DY4DdMaiahjy6boW1nj17ik0asAbbnNp6ow0v7EZfpptf3g8j/wXhEuA11hCnqkv6l0uS/SV9yKW/m/xmLJONZrVr7NE0xCJMhrLYl6kcSWw6yVg/fnnalyk2NnaWdM40sbSRu6F9G81DkhDghtpLatum4QVAyZvfH6AkfZD4PUtpxnqmKZvuisqTEOhkwe86Gy2bvCZ78vexOWQXZ37dmDzty5UlyZpJxgZhn1VYig73tH5Pcg2kiWVa+6nxPOQh4cqN9ADX2CZy2RoNLwDmvG9+SW7Ucawk7/VcGXWkLc5e8hpTFtld3W288YwUY0ghhhRjZSIwadlX3OswrfXzsq2gdYreQ1zsi8SsTNdAmXCogCzkISTAhZgpDa8Q2Fsvmje5ynu9NLxbRaupSELgJb1I04T0jiC9UZWyipS3KPuqw4sW9hAU+uG1ATefctCLj+l1UjTB9suZhTxJroEs5DHVTQP7kYeQABdi9jS8QmBvvWjeN+ok65UALq0IZXp4pSGLSyid3OeK/HbsKHL77eUtVGJjX2ngE0Sm4h4S1RrXfztkIbeXwD/55B96xt/dWGjo/qefkqfoKvolJam3Nkv8IVvZ8DG1y4r2Iw8hAS7EdGl4OcKexU1bd6POYs0cIYu1lA6TWJNGDIrCOA1ZXEIJjx/+v7eqmusFrKqe08AnbX2azJel3P4XCG8s9DHHRIe+mMiOPjYvKaZzJulnK0/W2Wls5Umyd45t9mF8jf6NYoAnTZoknTt3lplmmonmZIEACbAFWEm7ZvHQ1N2os1gzKQ5pjg8ifjpM0lxf5y3KQpYgneap5zTJthcfYOk/JJnmWmnqPQu9hsmX51ppYpT2XF5bQMl2pGdEdhqUbU/zcG3acnM+LQLkIeEQhRJgVHo79dRTZfTo0TJlyhQZOXKkrLbaak6Z+YNkvfXWk/79+2uBb3oHGl6OFlDEgyzOmmUlHUGqypP4mRCUIBKXtokF6TSOnuPKlRXm/nmxp6Rp0OLukePKh4DXPnD40w1zAfnNOmOFzT1R11f3e/mQz1wi8hBLAjxs2DBFcLfaaivni+BGcvjhhysiDAJ8jlPm9UknhurRRx/NXHFVX6Dxhseb0R8m7GLx9dcib76ZPM4wj4sjT+IXtB+//WRFDvPA0nQNE8x115WJ596fBi2PlwtTDKJehuiNTIpi8PgwuzOxR1OJwuzW5rrW9dX9biprjfo1nodE6DLQA7ziiisq4nvZZZfJ9OnTndLdM7cQ4AceeED22WefVhXiamQrqW6l8YanuxnpHuSpaiNksrxkcLFwri2Zbz6WAjXRbZDXMusDWCZyFd3H761zSaFLYk1esvzERnetprnnuNdcnjKmud+i5oqLc1byhunPhmTr+up+z2pvJZ638TzElgDPNttsThagEbKxkw/TT4ARGrH55pursAi2aAQab3i6m1GWDzTTm3+WMnjNQ4cFL6a2CBAzvbfO+4n6999nfK7u0UNk/vntXrLSwtrkugt6sTHx7KYlo/+6NFm7iten38ufJLWbu38T/UZ58PkCm7slNZ6H2BLgxRZbTE444QTZb7/92hDgK664QnmG33vvvdwVWbUFK2l4SW9wNg+TLB5orpGYPmSTyJAEq7SNuUyypL03zheOgNd+0SuMYORlHyYvlEV6n10kgRPyPuNrzNix1QhJsr0OgHPacd46/eZlZ7ZYNLh/JXlITvoKDIE4+uij5cYbb5S77rpL1l57bRUC8bJzKnTOOeeUTTbZRAYOHKgOyLHV0AOsu8EFbdm96fk/vaZ1M4wzTx4PWaQLcmLjVe5Y51oJrBqW10USR2+mssXB33Ru9rNDIK4usrQPv0fV1suX5CXUDr0/ei+wgMhXX4mT3khkueVm/N0531LoNRx3L1HjTLE1tSv0Q5YIFy/8r9fpEWVnpmtkgUOD5yQBDld+IAFGeMO2224rjz32mHTt2lXGjRsn3bp1ky+++ELFBt9///2KFLPVkACb3jC9Ww+Kb8XvaXkfTL25aTwIbIwaBNjJjuLkBxQnLkhfPczGO24jB/rG0ZvpGnmRJ1N5wvrZPGBt+iaVK83xQbow2UuQfZiMS1P2Ms21//4i118vsueeIp99ln2mg7LsPUznNte4937/0UetqydG3Yds1tDdy7O8l5ZFVynJQQJsSYDd7g899JAiwRMnTpR5551XeX+RGYLNDIHGGF7QTS/N+LM8vLlmKm3dC3Idf7wIYi913qOsk8vHkd90jP8ze1kfPjYPWJu+pjjl0S/sWouTqqqqGLgvfEns0H+Q0NZrnYeus1gj7L5sc427fR1eIK+9Zl49Ma2XsCrbbRY61czZGB4SA1ujQhgx5uUQB4FGG54bY4fqSsgrmWbL0tuZppzeuVwCjOTyL76Y1SrR86bh8Svzw8fGLmz6FqOtti9bYYTPhrx4Z60aBl7Zk9phlfeexB6xb92XOdMwBsiR9MUhjh6bqruYem80D9Fg1kKAJ0yYYAXvAoihYotEoNGGF+fGVmZ7Skoe07ppB8lhKlsaOklrH3np2hSbvOSJu47fYxlGhtPQcVwZ8xxXNTvMExvdWjrs8ghjcGXUyaLbC3/XItBoHmJKgFHmuF27dlow3Q5Ij8YWjUCjDa9uNzYbYpEl6QqSw1S2uunE5AZkio3JXEX28eouqjpX2jrO0paT4pmHbFl+yUq6/yLG++0rDx0Usc8ardloHmJKgIcOHdrS9eeff5bTTjtNFlxwQenXr5/6XxyAGz58uMBTjAwQe+21V41MJJutVN7wsr65ZT1/ErX6ZbMhFlmSriA5bGRLgkkVx9YRm6iQh7SvqSxtOak9ZSGbHz83W0SXLuI8/OwkTlsXdqvn0zsLHeQjeWNWqTwPyVBTgTHABxxwgEyePFluueWWNksPGDBApUO7+uqrMxSrHlNX3vCyvrllPX8SM0oim0tQkHj+iSdEBg2qZnqloh7gRa2bxF6KGuu30yR2G7SHMr9AxJFNZ1t+/JJ4gNPWRVE2FrVu1MuYf5wO+zLurwYyVZ6HZKiDQAI8n5Mc/LbbbpO+ffu2WfrRRx91Yuh3lkmTJmUoVj2mrrzhxXnA2Kguj/njnhRPQ7aqPADDHkxFyW+ybhoP0zTmsLH3LPoGfZJOejApCznDyHWS69NfAtr7ohnXptO47t29pjlXVjqJugbCyH/YmKBMN96+UaE7We2P8zb7ML5G/4EEeJ555pETTzzRObzf9vT+BY4Rn3322STABhdW5QmwwR6tu+RJOsKIlE4G3e+mm67CAxB7CcIJsnsT3vvLqKaFUVyvowlJ1ukp6RxZYqCTvQ6/J8HfOxZpCJ98snU6rrC0g1W5JvPSb5QOwsI/MMaPN+QNynTjP7wZ9+WM11psiyAPCYcukAAfdNBBct1116lYXxTEQMYHxP7efffdKjYYleCuvPLK2AppysDGGl7UzSrJQ8/WcMIedjoZdL/bylH2/kE46TDQ/Z71ntMgMknnKBqDrDH2ejLjemqjZNThH3Uf8X9696f2WmEFkXfeEeneXeTtt4OlqDupMtlflA68HuBVV/2j4hvQDEqlFjSXTsemNtyUa80UD4t+jeUhBhgFEuCpU6fKEUccIUOGDJFff/21ZRpUf8Pht4suukhmnXVWg+mb3aWxhhd1s0rrhpjEtHQy6H43Wdv78EH/LAiEiRxx+0D+qCIfaWAUV7ayjMsbAxNCkwU2RZEPm3X9ujApU24zfxa4Zj2n3/vqvwfZ2JMfqyJsP673OGucSz5/Y3mIgV4iC2HA6/vqq6/K+PHjVUnkVVZZRXmD2cwQaKzhZXFztLlZm6knnV5hcvk/0cap1JWOhPpZovYQ9KkzaMay6ke/++r0iBvSk3SHWVzPJjIlWRdjdQUfksxvIn/Rfbz7C4q/de2pRw8R59xP5GFdU6x4Hyha623WbywPMdAEK8EZgBS3Cw0vLnIB49Ly1qR9g44iJa7HAtvx/v8yeIO9OLgPxxVXFKfm+R8PQhMS4aoqLf2kYTJ+Hev+22TNtO3GZE1/nzASYoJ9GeQP23Ma+gl7KcN152Zj2XjjamdliWMz7hhg7I/pd+0JJY3ffFNk/fVFRowwW8Xkxd90LrMV2SsmAuQh4cCRAMc0KpNhlTW8sj0sg27eJgoI6qMjC7Z7N/WMeImiqVc17h5NxnkPrDiHWhVBD3oQmu7PtF8YUUnyedY/p1/Hfk/X11/bP/B1dmOCeVZ9TLDPU37bayhMXzaELApbd/455hD56Sc7ood5bfeTlZ6Tzmvysu4/7Bq2ZppzedeoC9ZJdZXi+MrykBQxCJuKBDhDkCtreEkelu4NLE1vSxJ5/PrVkYU01woje+6n2ZVW0n96zMo+w1IWFRFnF4R5Ej34dez3dMHTjU++yHJj+sDX2U1cPSV54NuMRd+gmG6bOUz3aKo7770C/9/VR9pYu/NB19510t6P6XxF9TPB1dQeTOeKyiQTx0FRFHYVXreyPCQHzEmAMwS5soZncnPTkbuOHeN5W8Lm9RIz05t0HN3G3bvNWkk+PdqsE9U3j32ayhokS5R8cfVfpj272JiSxTTIQtBBJl2crKkO/V48kxepJHuPI1fcMWW0m7h70Y1LUyd4yR45UmSmmUQ239wsvKJJWOt0kdLvleUhKe0/ahoS4AxBbpzhuSev555bnETSZt6WOGQmzZu0jf7jyFoVEmqDQ9F9i9J/FvtO8sC3HevvDxyLDMexld9PsssQS5+FTRQ5ZxKd+OX2ZuI46aTmxl8XqU9n7cbxEAu8jQgwUqEhBRqbHQKNM7yw5PNRsMUhM95PmnmWGo4jq53JpNvbhLCb9ElXquSzZeEdTi5VdjPY6EjX1/s7JPYeEqtSye6qXYvZWYf9zDobwYwmfXQre69TVoHToZXZ743jIRZIhhLgF198UU4//XR55plnnHMDP8kczgGC9dZbT04++WSn4IvzaYNNi0DjDC/sU3aUpyaJxyHvh2AcWaMeJGk8ZJK+XOSNofaqSdihbvsBHDZ70vU1jbfO2jYTqlkRNJMwi6Tr2IwvO2buXrw2gLjroPtzkJ0k2Z+pvpKsYaOrBvVtHA+x0G0gAX7qqadks802k0UXXVR23HFHWWihheSLL76QYcOGyWeffSaPPvqokzHFSZli0d577z059NBDFaGec845ZZdddpFzzz1XZp99du0sN954o5xzzjnyySefyDLLLCOnnHKKksvb4KUGOb/hhhvku+++UyT90ksvlZVw0Oi/7auvvpIzzzxTQO6R3xhe7R9++KHN+qiAh4p3/nbVVVfJ/vvvr5XX7dA4wwu6eekeyMZoBnT03lTxcxjRjnNTtRkT1Tdq/1liAzxMHjpR3nQbDJLoMWqsrQwme/avZ7tGVnsNm9dmT+hrW8AkaExQvHBTQw5M7SPr6zktuwvzzHrJMNbyv2C4X/iWXVZkySWj8wbHlbUqGMbdXwHjGsdDLDAOJMDrrLOOzDPPPHLfffdJ+/btW6b77bffZKuttlIE87nnnjNe5ttvv5UVnZPXiy++uJzkxAKhwAYqzW3uBMbfcsstkfOAdIPsHnvssdK3b1+555575PLLL5eHH35Y/bfbDj74YLnpppuca/ZCWWKJJWTw4MGK5L7++uuKwKPhv0Hse/XqJZMmTZIxY8aEEmCM/xduFJ621FJLWRUCaZzhhXkNknhq0nj4xLmp2oyJIgveB4mfpIcRG9M9G1+Bvo6mLyo2GMSVRTcuDxnqRvZ0+zHRv98289CDzhaK+t107zYvKkXtxa/7MDIclMPXJcBzzSUybZp5Ojl3TZPMQFXAsCjdxVy3cTzEAqdAAoxwh+HDh8sWW2zRZqoHH3xQdthhBxUWYdrOO+88FU7x6aefyvzzz6+G3XrrrTJgwAB56623ZAXUbQ9p+K1nz55yxx13tPQAiQUJhycX7fPPP1fk+rLLLpMDDzxQ/W3y5MnOS+qSsvfeeytPMxoI/Ew4keo0eHkvcDwaYR7gsN9M94x+jTO8qJtXXFKXxsMnzk3VZowpWTDdS9aHk0xfVIIwiKtHmwvH29dGD/41gmQN+5v3Jc1UT3H3lPU47BHpp77/XgQHUtFee00EmVluv33GlxJ/ZUIdzrrfs9yTrc2Z9rfpl+QlPktsbOeOsm3XbjCn88W1TYpA1waQTs59Hgf188vkrhk3D7PtHtm/FQKN4yEW+g8kwF26dJHzzz9f9thjjzZTXX/99XL00UcLwglMG8IlOnfuLPfee2/LkF9++UU6deokZ511lpP+0YlDCmgff/yxwOt61113yXbbbdfSAyERe+65p/Ikg1BDpoEDB8rXToL7eVHJ6r8NfUaPHq28wP5GAmyqvZT6xSUVSR+8pg+5lLappony7Jo8SDE+q/RUID/wxGANb95V9++6Q4Vx9WiDbxo6C8PQRH5Tm0tDziBc0pgX+3RC1VRbfXUR517qeAVmkBro3X/4Df3KGuJgojMvjqb904pzTUNfNtdHkr462w7DxJ/P1xRj7/0wKA9zlbBLgnuBY0mAw8EPJMAgvggx+Oc//9kq1vffjtdgZ+fBDA8sSKdpW2CBBRRBdT2x7rgeTg3y3r17y5AhQwKngrd5yy3nWuZRAAAgAElEQVS3lLffflu6d+/e0mfUqFEqjAHxxOuuu64i5Ah/QJyyt4HEn3DCCTJlypQWz6/7u44An3HGGYpMf/PNN7LccsvJ4YcfLvvss4/pllW/Whle0huV7sZrhex/O0fJ5P4Wp+pXHFnSHpMFXmEPLRsPTRS5T4tA2Txc/bh79e71eroEz0/+k+gtiZxR66YxL3DwxgJjvbCYThBkFAbxe4WTYBNnbNj1bHstmPYP6hcH+zhj4uCTx5gwTNyXKefZr8olm2Ksk7lO2On2WtDvteIhKWMYSIAnOiVRN910U+er2WsCb/CCCy4oX375pfL6rrzyyvLYY48590vnhmnYcNgMhBJxvN4G8gpyDA9vUBs6dKjsuuuuMn78+JY4XvT74IMPZFknEB8e5W222UYRU5Dhd955p9U0INb4DeESc7ufAv/bI4oAIy4ZZHrVVVdV5BnhGvgHQj0IqYJC2vfOJ0f8cxvkBlEfO3asdOvWzRCtknZLeqNKSqCDYImSyf3NeclyPhOEV/3KQi6vrFnPb2MuOs903EpZkCGpffgxM/GUR9mEV+/oF+VRj6ujtEiAfx9ZzetfJ6gctk11PBvbM+kbZkNx9WOyZhrY56Uvk/2khZV3HqwLD3C7diIom25aPdFU3rjXusn87FMvR1zK+gxNgzbNCXIHMX322WeVFxTeUBBWhCJ06NDBSgwQYGRfOOaYY1qN69OnjyK2iDcOai4BBhkFCXfb+++/r7yyOKS39dZbK5ILOeEp9rZrrrlG9t13X0VKOyL+zdOiCHCQLDiIB+KPl4CwnMhh2SNqQYBNb/JhN+CkBClo3iiZcFN1Ys8do5tBfsNaUrl0V0JW8bxpPeh08pv+bmofpvPZ9nPxCPLw6nSQtQ3Y7kXXPy3de3WGNdPy4OvkD/vdb0Nl/YqTFv5xcYoal4YtY39JQ7DC7tdF21gWmJd8TnqAwxVkVAgjqX6rFgIRtN8777xTdtppp8hDe7XzAMe50Ud5cYLe9HVrxH0I6g57uDdiKDsLD4SXkIGIu/GXQaer41xgJt6yMpCaOHuLM0an7ygdF03e/fvVkYcsigq4+DnZehxvR+sUV7prNI6+TMaYfsUxmSvNPmmQzDTl8c6Vhi3rXhh1socR6DLjpttThX8nAY5JgOFVRaYFfMrv2rWrrL322soLbNvyOAS31157CUI30jgEF7Q/ZKHo37+/NmuFd2zlDS/ODSvoBhz1ANWtYfIQtPUO69a0NfCg/t413ENHus/LNkQj7EHnXff33/VxnTZrpoFLVnOk8eCPK1vaGAbZZxx7stmPi59zD5U332yd4iqP6yVI1iQ6TVsnaZNMG93k3TfplwHYy+OP/xEy4X6BS6LPvDGo0XqV5yEZ6iLQA4zP/CB7KIgx66yzqjhgkEtkbkA1OJBB/M20IQ0aYoCRBs2NHb7dSceDYhgmadAQd4z+bkP+YOQW9qdBu+KKK1oKVSC9GfIBe9OgeeW1DYHo16+fyguMzBOmZaErb3hp3bDieOewtjeVU1S6HdsSzGntK+oCwBpRBQl0pDmup9j/8NJ5t4siN6Y3Dz+RCSM2WRIenaxpYxj2EqnTpU5Ok9+LXNtEPpM+YR5Ik7EmfYq0NRP50uxjY9tZf/VKc18NmqvyPCRDXQUSYOT5RcYHVFX7X1wA/20jnIcysjmABCMkwLS5hTBASL2FMJBNwlsIA15cpDhD/LHbsA7I+HEOGcLBPBx8Q4W3oEIYN998syqEgZzAyOP78ssvyxtvvNHqAB0Ka6CBxN9///2CMWhrrrmmGoe2xhpryO677y7LL7+8/Pzzz4JYZMhxySWXyGGHHWa6bQafAykbIutFFnbnP3kchrz3MM9/c0MbKynLjjYPDxerPEiOd89pvAxkSQj8GIZhaop12NcCf2yizZ7SwNDGDqNks5HbZs0i+9ruKeknfN1eTW1NN08Vfrex7ay/UlQBrxLKSAIcrpRAAjyXU+nlyiuvVCTQ35D+7JBDDgksIBGle5RCxjiEVaDQBry/8Ax7SyEj/RoI8O/4dOtp+NvZzulTtxQyvLf+UshTp04NLIUM77G3tcNJ1oCGfbl5j0G4R44cqTJBoD8KcaCMMwp32LRaGJ7tw8cPkHtTdJOgB8UYBoHqEuegk8dBXsG8iaPOEKLk142t2u9ZEgL/YcawB7Lpg1oXXuB63rPcU5R+dR5vnXczKpa3anblymuriyBbMD0Ua4JRlK0lvV+arJ9Hnzj7ML0G85Cfa7QgUAsekpE+AwnwwgsvLMiggBy8/vbAAw+orAuIC2aLRqAWhmf78AEk3psn/ttNuo+/B8UY2hqSTiYdibBdz+1v+lDQkZS469uM08mq+z1srTAPqvsCgnFpnvTW6Trs5SlMBvchjVRObtEP10a9MdpFPcx1Hu8w76arFzcLRhrXmY29Zdk3SBe29uuk23RS+IgTuydOHFt20sax1+ykiT9zkn3Y6ia+lBxpgEAteIjBPuN0CSTA8LYi5RcKUXg9tCh/DFK8sXOTPfHEE+Os16gxtTA815MJzZmUvUQ//80ziBDrDoRFWYr/gei/4epIRFwrNH0oRH2CjfNwiDNGJ6vud/+LjJv7UzdO97st9nGIqIkMJn1sZU2jv87jHYZH0DXn/SoSx4bS2E9Wc9jqL00PcNi14f7d/zUqzj00K9xM541z3blz2+rGHVc3GzXFOuN+teAhGWEUSICPOuooue2221QRCMTdIo0ZDn+BFIMQI3zBbQgRQCgDW1sEamN4tjc0783zP/+ZcRgMbZNNZlQRSrvpHv5pPfxMP31if/5Ssy6BRLyyU57bSUwtTqJts6TytvgHPYiDvOK6sJGgdXVYYh3bw39p2IP/JUsnQ5IHfBry2r5g6EiUbj9xbChsn2UgKrr9muoo7l7C8AyaD31NzzOYym1DGuPu0VYWt7/uHhE2bxCmecsed88lHlcbHpIBxoEEGCnPTBsI8Lhx40y7N6pfbQwvycPG/fSIWF6nkp4qSuH9XOt+ho5TXcj/2dfvVXZ/Rzlkb1lc3VpBN13djdgkthRzbL+9OKUJxanNLeJkM2nzQhC2to6s6q6sOATI1bs3XMAkB22ctZKSray8/jpck/we9sAP0nVSEpXkGvbvMU392uKnuw5t54u7F1NPvPuio3shs5Xb7W8iv0kf//pJcI6zXtBLO/4Wd664eNZwXG14SAa6yaUQRgZyV2JKGp6jJjzM/R5g96bmHoxbf/1oz3DYzViX/sxdBwfvPvrIvBiFCZn1WmCYd85PIF0i7qQWlO7dg8uKZnXDT0KAvDKZ5DROslZcsuVf0++Jxry62GSdlzXtu07QC0bYyxn6HnSQOIcvxEmlE13dMI6cNoQnTf36ryOvjsK8qU6GItHdM0wxSFvnWWET9YKoezmOI5PNfcirJ8jplk12qqe2xNnrnA5J9meq64b2Iw8JVzwJcIYXBQ3vv+AGkRPvwThdPHDYzViX/sy7LkTRPShcWwh6YEQ9RHSf7vBAcFLyybLLiiy11IywhyDPt/swDsp8kZWdmhCfOA/QtORNsrbXPlDdTEecknpZ4+wZ+zMtO2tDSlyPmrfiYVSqN79n37ULHKpL8pXGBpMwL36PHuIkkJ9RnU53HZvYc9yXLJu9VL2vzXXn1Zu3+I5JIZ6q41QB+clDYhBgpBV7+umnZezYsSoW2N8OPPDACqi+WBFLb3hxHhZpQ2oiQ9jN2OYmnbbc3vmC5PA+FHAiHwTYyS/tVG8J/6xnS3DS2JO7ppdkxPXWpCFPWnNAJwg3QQlq4I4DnLoXIL/XOA8cgD8IJppz+FiFCPnJqyuHrb2HEZOgVG9YFy9qaMDKJcT+9IVZEuKwF2XTjBY2LxO66zctOyzzPCb3Xj9OQV9RwhwNupeVMGxs5SozxiWQrfQ8pECMAj3Azz//vKDy2ZdffhkoGuJ+p0+fXqDY1Vi69IaXBuGKulmZ3MhMZTCZS2cWujl0vwfNHzYmyvtcJkLvyoIQkfff/4Ok67A0eTDazKHra6ubOIcNbdfQyWzyexhpC7subGSMskGXZHtfCoJCXUC+MY9LQm3zeZtgoOtjSvwh/5NPzjhgisqhQS8wNvi5cnnH4G+6UBrdfsryu+m915XXtn/cfea1Tlz5Kjau9DykQDwDCfBKK60knTp1UpXPlltuOZllllnaiIgSyWzRCJTe8EwfLFHbjLpZ+R9IQQ8PUxlsboqY0x8vaeIdslkj7KHgfVgiAwYypBxzTPoxm2lffG64gJMD3PnkYydzHNxs5bddQxcfHrS+7Rq2ewjrH+T5dOMo4RX2EjkbGaNeznSePD95dGX0E+K0YnFNsNSRV5N7iZ/kR4WIBF3jZf2sr8MmCN8gvHQODd1XFO86cWQKejEzsQ32CUWg9DykQN2FVoK7++67VQo0tvgINMLwoh46ftKZ5OGhe7jhd/cTLlTmVPJTzU18H+Qd8t+gdWuYPES8D9hRo/JJvh/XRP2eLeD3yivi1CK3KxgQBzdTmV0Z3QIPunhxd94gUqnz3GW5D9P9ol8UybVJMRU2T9re5axDRVwbiMrmYkq2vDr2xj1H3Zu8Y6AfGxJoo/ckfW1ejKLWiZon6H4ZdU2lJVMSXDhWGsFDYuo5kACD+CIEYv/99485LYcBgUYaXhSpzPLhgZstcm3iQebkqnZidETatxc57bQ/Uq/5c/OGpfQyfZjqCHHZPcD+B1RYPCr2mQSTJLeDtB6iYZ4/16Opyz6QZA+2Y6OIuA0eYWTZ6831HnCLwki3hyztw5ULceoff/xHNhe8DLl6M0nP599DFYitDvewFz7TcTpMvNeF/9CxzhbTeqHM0rbi4lShcY3kIYb6CSTAH374oey0007y17/+VVV969y5c5vp5kAsGFskAo00PP9NMY2bV9AcQUQbHsx3353xgEQmhc02m0F+vTfxoDhHv1cx6MZuuw/dp0TI+v33InPPbV5hL871ppPDXy0szLtl8rDTeVht5I/r+Q1bI8jzh/R4yA4Bz+Kbb/6RWku3V+8atnZhg4HuBSvI8wqnxfXXi+y5p8hnn0Vnvgi6Vl392xJKG8xsMfAS+VVX/cMDCxndmF+EGUEXYRlWvGvaeNFtZa1Tf79O/WFF3q9uODiJluY9wMUyS9uqk75C9tJIHmKo10ACPNkhEPvss4/ceeedodPwEJwe4UYYni6MwOTmpSMRQXNEfcb1Jp0PSu+k+4QZ5Lkw2YfXJKL6u95q10sNop5GhbwgHG3lNiGQQfGhpqm89JfNjB5x5NbZkbu2q1/3YBc8i/PPP+NlyfUI62ykDA/noP3ibIaTwcc5uCHy0EPRn+ujiGCYlziOfZjqPKxf1LXutzsTL7ZbnMcNjwpaN8p7ngXJS4pRGuN19/Kw+6L7ErLkkq1fJNOQCXOk5UlOS56KzdMIHhJTJ4EEeLvttnNs7l+y2267hR6C22+//WIu2ZxhjTA8XcyYiadTR3aCboBRN0XvjRzmFkRmTMmSnzTpcviiv+sNCVvXxQR90/QAh3muTcmc99L0emCHDIkuwIB1dafvbS/7OF46nR35ZdA9WE1sRDeH7b5t+rseOeSXBvlAntw77vjDA/z3v0fPZoKXSR8bmeP01V3rXvs28YCb2FYYSc4CDxM7i4Ob7Zg4e4Ps7kuIc3i+zYtkXV8WbLEtsH8jeEhMfEMPwV155ZWy++67x5yWw4BAIwzP/3Dy3szdAhBzzTXjYJX/xHjan7ldszMJw4hzs8f8YeNcry5ikJG0PywNU9x1TS6pNMmYS66gO5RuRnM9ZjpPkYmsuj5xcIqyxTgHteLIoNtXnN/DCJJXR/7ry4RUmdiLro/JOnH2HHeMl7jiGozz8oe1dfHT3q8FSUlemewsDl5eGwF2SeKy4+qd40IRaAQPian/QAK89NJLy2WXXSZbbrllzGk5rDYE2PYB572ZuwUg3ApoJrG2aZgOZI4Kg8Aaugd7mBxh4/B3Nwb5l19mfEoPCmvQrWuLd5Ccaczh9S7++OMMD/Bee4nAqxjmaU5KBLx70eHk6tD0FLo/FtzEC2giQxr2qpsjKgQgrKJiXqQqr3V0GLm/++OFw+zD/5Uoru2msf8i7CzJPSJqrD8ExVtcJc5LqKne2Y8EOIYNBBLg651DFDfeeKM88MADMhc8QGyxEKjsm5f3Bmd7GMa9meNmh8+xYWV9XcIIZBEykOTmGHRD9t+I43g24mg96cMsjQdqFGGKKofr1YFXj8hljIOFLqkP2qOJ1z0OnlFjdKWwvWQItuitxuf/xB3k1QZWWVY+M8Ujjk3FGeN/ATEhhbbrJCFeOrz8c0ddS97f3BRocaoh2u5ft4c8fofMpjH7unur/yXf/2KZxv0sD0xqvEZleUgOOgkkwDvuuKNTsfVF+dHx/KzhlBH1Z4FAJbh//vOfOYhX7SUqa3heYoFE/Kbk0YY4J70x6tZKk2BHeRvTfqCn8UANmyMI8yg9YB6UE0a2CqcwjgwfHv6i4l8zqX5NLn1dsYugrxGrry7y0kttP3GHpXhyK5+ZFHxIagtpeSVNsNOR3az0l3ReE++jm90jKne0116BBe5x+GL12mvRleRssS1Lf//9Uhez7/ZH2jlUiHSvG/deGObZDXoR9qefTOLs0OGZ9BrUzV/B3yvLQ3LAOpAA9+7dW7v0Cy+8oO3T9A6VNbw4ZWSh7DCvK34L8jyaEusgQzLx8PoPCfm9eTY3y6jY33//u218s45g+PdkI0vcCyuIGEcRbuz5kUdEfvtNpFevGcTRtKVB5HVr+dfwYxiWPivoARyU4iksvCBMrqTkLsgrGUa83Re8qFR6OkLt/u5PA+eSnCTXZxhGSe1C98LmElk3rR10bVqN0cYzqrPNNH43vSeY9HNxw8sBPN5hX+Zcud3+HTqI/PCDiPegJTDVheUEhbvpSLctZrbeadv5a9K/sjwkB/wDCXAO6zZiicoaXtCDwOQmG+R1def69ltxPiWEHw4zsQivDCZFJvyHhPzePNzEdTdld80wb5LJA92EGJn0McHIlFjryBHmAZk44wyRrl1FnEOxicJUdLKb2JduDhdD91N2ELHLipilQRpdW3LDhzBnWHgQ9orCL/5Uel579YauBFU685IiHNwEaUEzCX3Q6SKr302uN28ffOr/6qs/0sLpvI8m82e1N/+8pveEKDLqzTiDrziwA2/Oa931EFb6OgynsOs4i5eLoH2XSX952YlmncrykBzwIwHOEORKGp7rNcOn77Fj/8iNanMz9pJKN1k9vIgzzRR+OEynB/8N1KSssp9Q+L1lJjdl031HyW9yUzbpo8Mo6HcTz3UYlmns3VTmNNZyMQzL76uTJQ0SrlvD5HcTLCArDnoiQ4c3lZ47Fi97iNvu2HHGS6f7QuP1zAXZnMnaJnsoSx/cz9wDsU6F0zYHU70vDN6qeGnLH8e2TO8JYf2CXpJcjzju7yiUgtR5upcCm5c7Ew+9aTlznQ5M8dHNU/PfK8lDctJJKAF+34n7Oeuss2TUqFEqndfTTz8tq6yyipx66qnSp08fQblktmgEKml4YfkvdTcb1/sLkomMAW4mBNzs8BBadFGRu+4SQcUm19NkY0B+b23QAz1qPttPdu5cun171zTJLGCz5zT6Rnlq3E/cXizx/10PoPt3k+paSWW1wVm3Vthc3pe7oId/WchfHCy8RA7/3/Xc2ZKNuDYch+Dp9JjW71HXgHsYDC8KP/0UP5RJt/8ibMt7T3ZfktxDzaax7bp9+XUUx3bT0jPnCUSgkjwkJ10GEuCnnnpKNt98c+nevbsqhXzJJZcoIrzaaqvJySefLGPGjJF77703JxGru0wlDU/3AAy7IbreBqgLBya8lbXwt6QPgKQ31qTjsQfdw8CkwlRW5uw+7DB/kqwaQXpKqru09hyVm9Xks72rH1RJw9cI1zvqesDSsJG09qqzNf86aeko7jxxx6WFV5x5vC/VbinlqBeGsE/usD1duE2ethVlO64cpi9I3j37UwnaYm5q06b9bNdvaP9K8pCcdBVIgHs5B16QC/i2225z6hdMc6pqziKjR49WBPiee+6Rgw8+WHmF2aIRqKXhhT3odPGieT0A0rp5Bs2je8h7q1DpqnCZEGqbC8z7ApKktLL3Ael+EoYcWRyIMt2fq4vnn5/xyd9fwlb32dUlx27cOD7/4mtEGnHppnuw7aezNf98Qd4+k0/bQfPE0XXc6zut69UWX/f68+5VJ0vQHl094XCZG0cdB/c48oeNsbUd7zx+DLwv1ujnjR82wcv7Ymoql2m/NDGr8Vy15CEp6SuQAM8+++xy3333qTCH6c4hi5lnnrmFACMUYjPnATtlypSURKjvNLU0vLAHXdE3Lfdm7KbtcdL3CVK4mXgGg0wwzNsTRQ5sMIC8prk4TS4R90GlO90dNpf/YWazFxP5kvRxZUEYDTxt/jAar01inaCHrj/HaxT+tg/2JHuL0octEbV5CdLtMYs96a6zOB5Gdx+2+ZqDCmbovLhB8psQ/7yxNpHJhjx7s+kstdQfIWy6+5c/tWCYXEGk29b287LXCq5TSx6Skh4CCXBX59T34MGD5S9/+UsbAnzttdc6B8PPkE8++SQlEeo7TaMMz09C3NPH3gM6aavae+N0Y9vctD0Iw4BHBinKgsiPjhjrHiJBDzWvt8QfhhBEMHUZKEzwCpNDtz//3F5P1rzzzigAgbltY0hNZLbt49dF1J79JMYd+9FHM/KZ4sXIyXGuWtyXuaxeDsKIki4sycUT470VEKM8kf6Y+qK8ll4d6IruBOHj6iIsptU7xvtyhK8A+Jow55wi7oHBlVfOxoublb3orqM4xDvomgjKt21iP7o83a78ReGjw68mvzeKh1jqLJAA77fffvL444+rf4sttpjyAL/sVFFa1PHArO/kpezbt69cfPHFlks1r3tlDc/2xunvjxvfyJEzFN6+vTifDILLAic1CffGCYLrHr77059EnnlmRuquvfeeQXLcrABuTtW4N9wgwu3P0xr2YPCvaUpqdBiFPZx0uYm987rEHd5j0zRJOrn889sScv/8Ouy9tuCPP8dcpg/jKGLsJZpZeKjC7DLt2HJX3++++8dh1aCy3VE6CCLMUS+AJvYSRL50enfHhB2y9Xoh8WLnXhd4IXrnHZHZZhOZOlXE+eqpXpSTxM+H2Tz+npa92Nybbe5zUfOG6SVoT/4XDl0fNxY5LXxM7KxhfSrLQ3LQUyABnjRp0v9n712Abfuq8s6dpNIx8RXsSqSEjiiosQwR7ZYIGKPdSLQQS8tSY0kViIiPoBRUQ0yJIgQTAoklgsVbAfFBfBSgjRisrtgovhICgZao0AmJJPhIkwe+YqrT63f2/3fPd8d/zrXm2ufsc9e5d6+qW/fevddea64x55rzm9/4xhi7z/7sz9792q/92hTP9D/v3jxp7z7t0z5t9653vesMECOD+DCYvdMxa4FrO/By4hxJJF8nWgtpEGz0p/7Ubvct37LbfcqnrJcjLE3KViOiFyhzy8EiN43fs0Pg3WIQRyfc3gJsdovKkHK+rkEYJdpDqqG6CPYkFi2gOGeHVjlgn3cpe4PXRTYyvetnQWH0FZ+3mN81i2++GWsW4t4bldeoth8BXiPn3Or5rLcpmtss1T4Z6aNDdatL/bhGgjFq67l+HxljufEB3MqQf+mX7se5noEP+ZDdFPAynwVitM2ct2SrNdfqPeeSZKQFXOt9HS+9YihrN669517ayKy1h9dbK31Ze5/b4Pxri0OuwPbdNGh/OKWx+p7v+Z7dG9/4xolA+51pHf+I3UMf+tCJVHvstGmeds2nY9EC13bg5cRpIvkaeJRP3wOYlhaFBSYtGgxjzcU5t2DXyTRBDPc3IIOFADDM9acy3rt/9I/OKx1x3tpJvC44BINxfOVX3pwbuTcCtEfmo0WOkTk3W4tTsph5/txiOrfILbkp/Z6Fnz9kRpiyv5zlSm2BrqV29Ow8shD3FmZttvScI4z3yOJ8K6QAcyBkaZapz7QEvC6yEVjqR699qA699ax5z7l3uTVe+e3f/Jv7tIxs7Jgn6jvBNfntaFaEpf7w+yVbjV6n9V64eVcyYunn0Zy+LUAN+109J2u8JkvPnZsuvEwcF2Hba5GjkVLlh9r8mv/u2uKQK7D7DQD8yle+cvfwhz98kk1OC/XpuBQL3BYD7yKuetlQKjFxwAj/5E/enHh9CVQlU5sMUyvVmotZlj5dAgRLPc0zfN7n7d2kc5uA1kL16EfvF1/kGLDSS5N0Bc6ef+hiqv0piMACD7DNDQdtZoNDNgR0kFPaw7PAQc5tud1b7bgIeJuz/VqGfITR79nxkIV+ady0vu9t9pbkG3P36m0+e9rti74Phzz3Zf1mru2t7z7xE/cyBw5Lebfeictq31VfpzdfZDvmCAbO670TfI5Omrlj8v7e0M2vuXY9l3e0ytEOtVkrMO9WbF4Pbf8V/u62wCFHstcNAPwnJpbu53/+56d54oFHutWdd9nbeuCNTKwwFLioXvrS3e5979vtnvrUuxfBWAPuWoxOHVYVuK25fm+IHrIJYEEG7HNQAvrBDx4PKLuMNsvG1ep3PQasAqYeo1ZZ3kPd6UvTQcsGS4z20jXr947hzBxigNzaa42cP8dA9wD80ntW+2np/MsYWyPPuvacpXbPgTW+0w5WOGPe+aZv2ns2OABM9u0h7/Pa57nK8+f6dM2GJ/vACp41V3Y+V8tDl/NDq08vy/ZbHcdX2e+D97qtccigDXqn3QDAf3xyf/7CNEGcAPAFLRo/vy0G3hJr1WM1lybekQWv1RU9mYDnXtYEe9FhIFinnDQBOt/93WMlR/O+h9qIa2Cnn/qp3Y4S1Ln4X4QB67Gyc7lUL/IMtQ+4DxpOjkmOdbeytmv7bA68X2a7bdchi/bSe8TmimwG/P3+99/dxb+GFTvGM26LsIkAACAASURBVI/2yZInaEnG5O/NAoOml8puuNvvd7+b378lm462+Tqct2aDlHbpxTjU+al66FKK1LLzqO1v5Vi8Dv26oo23BQ5Z8bxrTj0B4DXWWnnupgfe6ATTY91ai7nXhH1Bh8vR0nkdCsJkNe2HTMq+sm9mTx+1zRJY5TrpRlybl3hksUibZ+EKNNHY5/d/f5/6i36oBSFGy1LnPfj3XHBdbfPIM8x1xlpWKsHmEmi6LObsMsdevdbSe/a0p+12v/u7e/kKmyz6fSS7w2VqvC/j+ef6ohXo2bOTQW0f93G7nTlr6yZgzUbkkLngMuxx0WvY7hrctrTRqJ6IfH7aNPdOpV05t5UK03OWAnTXzBvXtY8u2seDv980Dhl8hmOddhMAfsITnnCW6mzp+GNTkMMTn/jEpdPu+O83PfBGdY9rwKqTVisnZy64gOOpsuDq1ENzDEULCK5hv3K0rpl8/V1uFACWPCNABAkCLNSHf/hu9wmfcHMlpdYbUhecJW1ry+bcDyYmq1NljlW/h73PSHIXuBpZXQHI3Nip4GIN2GjZYy0r5TgjlgH2vT7j3JhYa/tDZ7iLLtjZ5+i3DTpjA2TeawKaKsjI+7aCW7e6IUi958d8zHlWlV7GFIPa3BAeOg/Qv4fMBYeOi8v8XXrKMrhtTUYR2pPvOu/UXO7yulllLMrIm387gfm/+Bd3L0eeG9iluS/n3pEg2Mu07zW61qZxyC22400AeLQtAGAqxJ2OeQtseuDNsSp1gR4FManDA3ykrlRtLkCQg+AK9GVzqYfWtKMVFbyUJqjXfXOsWy/SOjcKPBdBb8gPyIBBKjjel7/8l+8eaV3bsHbBTUaFf/PMHC0mx8/y+xYwrhuYmkpqKTgmF7ElFnZpEhkde5wH4/SWt+zHFOPsIQ85B/gjC+ScRveiz5HPOdrHPaCcfU7Ap0GO1W09x8bPpTfs6b9HAclSn45+n5ta/p0BVLmJa+UwvkhfXtVGaNQOh5zXe2/m5v262WTM18qac9XfWptVGXmCln/xF883FGzO+S4DdA95Tn4zOkccev1r/rtN45BbbNuTBOKIHbDpgVfdVa3ysWvT68wt7MnMMfFxkFbsrW/dM6QtqcSSuy7b3IoKHgnkGGXjUi/aS+OTwEQGmPRvtcJU6551sb9oBbbR5xI40h/mRgUc/fAP77Wl5Pv2czcUoxXsRoHe3Ds4qunmXv/4H+83HVPhnrNsFm4GRhfI3nktYHBIyqncGIyAySX72XcywP/8n+92mQGlPg//r2nBWrbPQNIf+qGLpRE8ZH5NljBlTnXOWtKet2w80pfV7qPv0sizXua1Ru5Xz2l5bxxHeKvYOJJK0o2Vc5fehLkKkTn/VTkW7WCOd/PN9VImx+dLm8xbbbtD7L2B32wah9xi+5wA8BE74NoMvDrhJ1il5PVcJHDabw5Ue56BTIBIcgLPMTlz1xupM8/vZSxgX1u5eJfq2ScwBRSSVklZg8FlvYmZZ53Khp+lQcsguBawWQI7a8fpqMSF6/ba84Y37PsHfek737lvwSiYPOTc1gI4WgVNcDcSdLh2Ic1nXirXu7af5s5fsnXttxFbtbKkVLunJ+fHfuxyWLo1dum57+tck+025VmO1dY9R/qyvreX2eeX/Z4v2bWO9daYcvPItSgexDtfN7lrGPU5z4NsfUrG3GQteWlGNi9L9rgDv782OOQW9M0JAB/R6Ndm4NVJMRcgXGBEl1MkAcb23/ybmws69OzXm6wqKysjsMR41km1uuV7ekAZL0ComtDeJNzSCuZ9WRim8uC7P/qjve6S/Jjp1muVRYaVdGExD68V7JL1XgI7a8fpSOCQINUiIuYA9nMWQ+UEaE2PedQF0b4YZYAF8iP2HrXNEoC6iLa0Z8tk5GXMRguMfO3X7nbf+7379xTWvvW7as85QNbrkxaoWkp/NTp26vP3bFzbbTaMD/7g3e4zP/PuRWeqLebuUwHhSEaENc83wv6PXs/zepu6EcDNb62Qlyxtzskj3hHn1ZbnoSXJSvJhxMYjm5e1drsDzr82OOQW9MWVAWDKKn/jN37j7k1vetPug6dJ6su//Mt3z3rWs6Y4qKkG+8Lxile8YvKe/L3dv57YyPtNKW2eNkU+fwlumjj+aAIl3/qt37p7+ctfPnlu/9Ok3f8ru+c+97mT7HJi/u46fnsqyPDMZz7zLN3bWyfX+5+cXKUf+MAHmnf/pV/6pbNAv7dMmkKKg3z1V3/1VEzoWyYcOAHBwePaDrzKvFoIgkIWuJdHpBHpDpvTKQ7a8ox5TODI75xUK0PjYkAEtCWSW4UzRsBVtQX6V3Prwo6xQPeuw+dE6XM8/ennlah6TMdaZnLOdq0Fq3X9uQUyAdULXzjaU4edl2y9RTvqlZbs02KBGRsVFFd2fOm6hz1R+1d5L85o5VXO9rY8JC3wxmc5NkcCLrn/3MZrFPSMMH6jNhwFbHUT2Qp+zI1ufefm7qN9L7Oi3ejzH3reHEO7BnA7Pv/CX9jtmN8I6J0rY780fkazRqzdTF42YXCo3a/B764tDrkC23ZLIV/mvf/jxB79pQk0ffRHf/QZiPyt3/qt3ZOe9KSp6urn7l71qlfN3upHfuRHzsDuN01JzR/2sIftXvOa1+ye97zn7d4wuWf5v8fjH//4HdXs/uH0st/nPvfZPfvZzz4DuW9/+9t397znPc9O4/9/fWK1yHX8/05BSm9729uaAPj/mTSqD3jAA3af9VmftSMzxjsn9+9TnvKUszYDoEeP22bg6RJED/pRH7V3kY2mIGNihjV1MVGXOWpEz5sDSHUydDEAqNNWSyTXqPCRxba2M9lD05rVVEP+RiYpdaksJr0F6ZD2rLFj6/qV/bEkLAtX77mW7jmysWiB2x4T7SI64opusXf1uunihrWHNeVYk1v4UNBcPQoVmI2wcfUZAXp8Zt5nNul4J5D88L5VbbDAF3vWjB/5vo0yzyOM39KYsU2tMZDtRXs9p+1vtWUuHdeS56nX7kP7f8QOh5xTN+pLwLP3veMTL5fVL8ngsCRPaLW550E45PlOvznYArcNDjnYAv0fXgkA/vsTA/iMZzxj9573vGcqNz6l55mOH/iBH9h9xVd8xe5XfuVXdp+Ifqtz8N3973//SS9/V17Z6TxALCwvTC7He9/73jNw/V3f9V27r//6rz/77L9M0aUfM6XMeexjH3vGNHP8fxMQkcH9tm/7tmke/QdNAPx1X/d1U479/2P367/+61MA/xTBPx1/dwI7f2fSc/77qbTtn8XdNnBc24G3xBSOuKu0zxJwXQp88Do5mcJKzKU4SvbZ81rg6VCglswzWjnGCIwb4BbWBCYO0AFTzDF5P86Cs6p7ttr5WKyG9+kFsLQYPJ8L6QgbH+UaIwv/iBa1vj898F+lNEts1gh7lwCSLB0s9K0y3XPv+KGblQpUlp4n3yNZT+QN6NEzeNTndszxO/utlfLM9pPxw4wsaDFl4paeb2QcDMyRN52yJMcQhDH/LGn3c95gA46Uh5RcxB3UrBFLrHzrOZbss/bZ154/Z/8l/f8S+82YJB1qMsB8lmn1aG9LypXPMTf3c94xxtBaO94B519bHHIFfXMlAPivTSwLoPG1r33tjUf6wyk6/sOniNNv//Zvn0iKu1I3lQf+V5P+9GOnZOY/Nr2IX/RFX3TjWyQRXznp3GCSAdTfOzE4j3nMYybC6j/sPuIjPuLGeZzzT6d8s7DA9ZgDwIDpL/zCLzyTUHgA3mGWYaS/+Iu/eKhrru3Ac4L8pE86DxzjiUcX61y0ZZnYwLg4uzCPMHot8LbEAHnPJenF6CLWm6gN6ON5YQ9/+Zd3u0lmcwamTBOIjpasFwTPAYD53KDCpec/ZIFogWrTlsHkoFmuR4s18zc1VV21Wet+I5kGltqQY2gp2r+nP+UaPW24TOPk6bmx0I96J0ZA9tAMMXCS9k05D/3IPNfLRJEAn3PJ5mEpct3ZbIYA0f/u3+2mXf1e458M+NJmbPTdGXjEG6fM3XOEZW69L3yWEi7Kk6e7vYK0paBcx9PSfNh6L0Y3+yM2m7P/ksa9Zct8rta/sVn1XrT09i2t9a3yeI3Y8Q4459rikCvomysBwH9+YoQAqDKxPtcnTQDrQQ960O6lL31p81Ff//rX7x7+8IefSRD+ItG9dx2/PAENZAzoiT/jMz7jTJ6A/OF9TPJxPOc5z9l98zd/8+4P/uAP7qbd7QHg352qKn3IVEbzBS94we5r0UDGgXb5b08L51Of+tShrrmWA8/F3ScclTq0AE2yNOTwnHTVZwesG8AQwLEEllqAa67a1RKzle1cWuQ9d46dhCn9oA/a7T7+488ZYBagaWzeyP7gYmnu1V7e1mrDQ0BGi82t2RxGgHUrrZzyiFzQWvdLd+nIvYbeprtO6t3PzVrKNpZyxa65b57bKsywVsM4eu/cjCLlMQXf3HuJzQ1q4j55rtczDyv24kAukQzwUvtG352l6/S+X8PK5iahpk0DkKWetW5yqpt+Ti6yRhK09F4cahd/t2azsHSvHGMEPTs/1fenei+qtGRpQ1/b0cuSs9Te0/erLHAtcciqJzz85CsBwASbIR9Ax5sH4BVwDMPbOr7/+79/98hHPvJMdqCOl/Pe9a537T5uKnUJo/wFX/AFZwFqgOF/CcsWB8Ca75BLfBisYxw9AIyc4t73vvfuB3/wBycv29+46Td8/qWT+/E7vuM7mu39zxPDyR8P2g1Q/7dT9gF+ey2OQ1zOLWbDhQVwiAabDAy/93u7HS5XFl8zDiy5y3PSZXGaNjtncgJcdJM05kaxjcoUC9bMN2ngWs03PALQWouNGwWuC4NGvl+Dt0ZcjDXC+rIyQ8yxuehCkQ0lCJJJZHD2ggx74K7FhNb7HwLi80VpMWmVEeb/bLCoLKUcpRXNXkHVkgu398K2iq60ijFcxgufG1KkD0h6RkqN95jKDBYjxWHa61gg/hA7JDCl+lsP8CeDW/Ntt8be0nhq/SbfF3XVS7YaYawPscsxfmNbfYfw+ljNsgYC5njkHeMdItAYTwNz+hovYXoqIESO9Q4dw2bX6JonANzvrCsDwASP/S1eqjgeMlVqAtj+6I/+6CwAhtn9yI/8yBvnoM39+Ilxe93rXrd7xCMecQZyf/Znf/aMKc7jJS95ye5xj3vcGSj9UF7qFQD4hyY25Mu+7Mtu+s297nWvM1BMoF3rAFQ/nWj/cmweAKcWdi5Iq/XQPZe4elMmVSZI2IQWy5QswKTXntX2CpZpBzps0rN5VCbHBQqwUpnnnGgPBWgtplltcmptad+S6/PYC0FvMa6VtdKl2aqiV8HDiO0uyhT2+rWOxerKzpRMrSC69EiYz3lkUavjlfseGkg1cj/OybHGJpLAvTl2u25ic/wdAuZatk498iElh5c2nnPANtszNz4ce6ldXWIpe5vdTBO2BH5H+3Vr5+Wz9+xU5yrndyu9rXmm1gZ6ze9P5w5Z4ASA+2a6EgB8nSQQvzctMEgdDpFAXFsGeImFnXvNqltM2QNsDOwi7kdcq+hiCTaasoDcqNCV4BW3eS3BW+8L+EB+QoQyYDlTc1UAJIDDpUcQGun2cJO3GOA1rIVtysVVENRaNJYCUrhesskZcDY0vR14UmVyuExG4LeepbXZOcR2a5rcA7barep/a3t6Hg2e1Y3R5KU5y5ubVdR6bbzIu7LmufNcN6josi30wTtVC6zUsek7UCUpF+0zQRAgnMAy9MO91HW9Z76szdPIBst74TXCW4Pdepvt6iWom6eMi7gdgHBvI9KzK5/nZqAlGVkzzpc2QmuudTq3aYETAL7FAPgqguC+6qu+avKC/s4pCO6QSaCXDcHJyVRJvZRJCWStIITbEpc0cgUWSP7uRdu3wORIAnwW+GSiDLRT7oLbFLnFqNvyENsl6GilcBIAT96D3e///t612Au2GgEFF2lj/rYHzO1zdNowwhRVcKNRQfOxAUCOvxbTOmKvuYU8+6tmSugtzK135diLeA1qWgPCRwBib0z1+lsQhOQMRhpvzBr9sJuXOSC+xqZL52qDn/u5fUAgm3GCH5mfapVLGWXGP7ImjnvcY//ech0CWicP5A2Xfy8A89jvxlyf9QI/e1K1pRRncyB5KRvH3BiiPWt01Zc1991h1zkB4FsMgEmDhgaYTAoUleBAYkAxjJE0aJ88sYmc70H+YHIL1zRoz3/+828ErlHggqwNmQYtzbCUBo0APKQW/wOT5XQQwIe84Y5Ig+YCxeRGBTB0YIBYFgtdsK1UQhnQhpQCxooFB5Zo6rMbBQmINpedWgLVyY7agZlFQrf9FLg45bTbTRGM+5RHFfguLZIXnRRbgNK2Yz/AArbg31Nw5k0guAX0aM/oQjb6bHleavfuSid4ZgKfg3Zixz/353ZTupVz64yAztwULMk/5uy+pKVu5Xc9tB8rsF3znKPnjvZTfQb6ZMpmc/b+ES9RWTevW4O96v3W3j/d3a3MExcB1/UZa9tGbcp15iQfeR+ztsBc3/e+ezDLUbNfuBniO94DdNKWUsejBADG5c9aluBxTZsPHadLv+ttbG1bzezTy7uc95m7ZpZMds5KwgSvCiAXO6bO9zKkOEu2OH1/ZoETAO4PhCuRQFgIA0CahTDI55uFMGBxSXH231h47zp+eErVgxaX7AufM+VwJPCN9GStQhjf933fd6bPJY0ZOX7/2aQ9fcc73nFTAB1pzDjIK/zjP/7jO37D8WlTgBC/47AQxv867eK/4Ru+Yferv/qruyc/+clnleFum0IYc4uhCwX9wGIB+EXOIAvS0jy2dKzqb/k9C6gLigUkRmQPXte0YlxLLTHXwx0HsMQ1DMNKNoYpdd7dguOOzTSQy9pUZ+jAYaOncXMjOA5GaBpDZ/ac0v/tHvzg8zRWrYWzt5j2zs2FaIk9ZxH0qJIQFzsKnkzZU+7GWI+AHsfWRW0+dy+ZOj0MuuBzXAsU2YjVEt5L479W8NNerd/1PCh13h0FSC3gOse0eV0YS95Z9fH1fqP3z2cVIK0pfnMI8GhV5xuVauQ4GdH4mkXGoFxyeNey5FP2obPxzwaQ4FH18rmxdv4xHzP/r/lys7AMaes4LrIp5PetMehnAnTm29zYuhnPOWk05Vtvs6zd1Vj7vitlM8e0gZYGcWqH0f49ZDydfnPDAicA3B8MVwKAuT2lkAGTBKv9menFgP2FGc5SyI9+9KPPAPB/N9XPXe3mMwpRWAoZ9raWQv6vk3u9VQoZ9jiPP8ZOtHGQS5j7e/zilC+1VQr5T+AaGzw2PfB6iyGTmnkztRUTWUs/WxdK9HVThb0zsIzODhbYSn/o7zLqnMmQe7lA9AKJOEeQy/3MuKDGOCtDtSZaJ+8pa8hNwHiwD4dPy2A78v1O6fTOWA8Kv+gerhH4RluTBpDnSn10D/y1PuezJVekizOMDBsINgwEU7WY/N7CNMogXgW74zPjoUgXfI7rzMtMCW+ft9qrBvxlsCXXy+9HtNG9QTPXp61Ateyf1AEnmBfY+G7Qr6SM/O7vvlnTnSnsMihs1FU/svEZflnuOnHEI3HINZeAVTLqvZLRVXbSe/6RzWue00otNurp0RZu/lK+kQwvc06PpKiMbQuwc5/KqtfMK3W8ZkGg3tw+ytSv7fPT+bMW2DQOucV9d2UA+BY/5y25/aYH3tyETlQ3B5k3SJSvrKAFmHKyBCgDgGFr2SgAhPk/By5D2Il0h7UyDcyBBybdzC5haiQr08nSZDCdUcqVEZkbEaNAL6/BAkGaP56d+8NGI9Ugw0mLBRKwsohpo4ukAuoB4xawYjPTWyTnnr0u9r1zjwGWWv1VGajKLCUDDDAUFPAcjHHY4/vdb99PmWYrMz0AJBP0tqogXvR5W3atIK6Xeq0HVGqbfXd47osy85c1m2bbzZE9p5G/rPsm22wqL65dWWD7gO96rG3vvauAMa+V363x9Pj8rQ3vyPu/BsTPxYXUzbbtwROHd6unB+8x9b114JB5+LLGyG10nU3jkFts5xMAPmIHXMuBx6SjlpeJDuAwwtIyYcLyMvkBKGCAYQKS3YQRTp0wi/FSAIb9I+uRLK/lsblPBsBZkpjFdG1aNwF9S1LghNzSLScro1TEHMQ+Q03SL/tC22u+zZFxubRAjACreo05N7lsvC7fJXfzyDNcxjlLba7gxQXbIhBsQhiz5HRmzMOwZq5dGa1jpTsbAdBzhUlaxWRaYAMtPjr56g1pjaP8bA4AXqT/eoBorlTxEmM9907k+8u/c0M0Nw+1GNeLPHf+ttf3S2Ni6fskJnrEBedwnZaWflT3a3+0QPkSyeBGwHkEeUlWOEymHu/YIen2LqufrvF1riUOuSJ7nwDwEQ197Qaek+Fb3nIeAAWgHdWstYCI2ljAMROc7BP/VupSdajJdHhvPgOcJIOsO5GF3QAzmM1MnF/ZhSXQ6KLQkhT4fK10ba0FifMJ0qOdgKzUGtZ2jLSrjtUlTefc4prpnX76p88BuBuGnpu8LkoJJI74Ls1eeg4MtFzZPLvp+dDNkp0EbTn6WYJekUvozeDGF2HmR2zie8e5vgut8dFiJG0fbYd9QxJS3x+9JpSEZ0OLRGfKoX529KoqzrntK4AbnR98t3ou/15hkpFxLsOd5c9rLuge8z03fuyb1M5upWDD0pyxBiTXOa1XTrk1VnO8LclPWu+D7cy85MzbBlEb90GFupq1Y+T9usPPuXY45Ar76wSAj2jsazfwBGy4hgEBpMAi6tzSmEsTf064up/5LcEkgFT+wOCiURwJqqnMC9ecsoncVGIYffAU6HhDc8s9PvVTz8E1/dsqBTvHirhQ18lctyCLw6QRvxEglsxSMtEy09wfSQQyDH7HkZo9NLm94JW58VkXuJEFsQIeFho135nxoQc6MrCRzB4jBTOO+I7d7dLVBpXJqpsYWVGD/sy1ywZgCsA9G6fVNb4G8I08e7Up79kc6Kvg9Cd/cn8XtMu/+Zvnd2yNMQI1ART0Hc/mBo0xaPUvrpCsN/+v74J2XiunGH0ubNBjbGsfZ5+2QJLfwy5in0ztt9Q/I9rapWsc63vbVpnTHsjsbTz0ROVmdg4813F1keC+7MscZ7Q1y8ybp3t0LTqWza/hda8dDrlCG58A8BGNfe0GHpORAWfm0s1cmdhqTguXbO2UseNMYwmQhnFi546L2chrJBJLRR/SrUYaoqxT7wIpK8y9OLiXWQ5qaVxATdW2LYFGJ+UMHjO6WTZCF15qoDNbRY2iThaF6wOQBWKjFZVa7V5iygRaGZzH/XGhT9UWz4qMmKN4jj3ORPgtGUTVWF42YKTNvX5byibgcynracl75sbEko0PmU9qmrMMWKuyi8rAcT8Yahhgxv5nfuZevmHJZM7PDAaAXuU2/LYWP/mpn9q/t0vV8RJ8rcmzvcS2tvSxLdc41SV9V3obU/vCe5oHmI1e9Wz1mM2l9vZY65F55ZCxkmO/FQ/RIykuOm5bQLVWkhzJRFOfudeult1HGO1DbXob/+7a4ZAr7IsTAD6isa/lwKugE9BqhgLYTeu+Z4od06ZhS3JqssjKSvEZYJCgONzrNRBujlWuQLEmrpchxo2tnOKDPmh/LxZNmWEYZ8tk1wl3ZGEwKwAu5ql895kmOl2tFuTAVhxkgMBmPLc5j9N9nfIKg6qWdNYjC8fSAtECWi2d8BrA2rpnuk9h3UZ13kvvoosw8oUpa8tZn7PRyjGU9zbdHgxV1Y72AA9tcFypN+8FRy3pUeeep8d8LV2zpc00aA8QTBCm+brN+Zqlub1+K8iJNsGAw7KltyKBZG5yD3F3L/Vxfu/YsviEgLe65+ekSXm9r/3a3e4lL9nLXADBBPh6zZQrtUq213ZhB9jvXpn3kXllxBYjG918B7nmHNPb2lCNSFJaG10JE97DJYY2s5jgyePgveI49jgasfNtfM61xCFX1B8nAHxEQ1/LgVdlB1khC21tMi/aToCo/MDgN9ytHrBOj3vcPok/QBEwCUDpLfgJxDmHiTuZx2TJ0Be/+MV7QAQANr0Ycgkjk9VGthjgpQm4BxZaoJb0bDw3z2j6OPNfAkRgWZGE0E6A2xLgwX6tRXCJmWoFftVgqRYIbDGoea1edHgLuMgmL9l39B0UVFAKe6mqoNKMHisl4OHeMKhZmMUczvQhY2qODV3D9OW5vQDCpev1tJn53hqEWTWV2Y+1mpz3zeC/qs3nHqkX71U0HO3P0Q1Cy4PSyrJQN5F1fPP8bsyZj/hDjl8284I53l021OaVbrUx2W/GR0sfvLQZXepn79sC0r1r1zlzSbLGPXpAvb4frSwdeT/mvfQu1HnN8cbmw5zux9bWX8Y4vA2ucS1xyBXZ/QSAj2jozQ68ucnXydUgKNjUN7xhr7t9whP22RbcvVc2KfPLpraU81lsAISAv5GUZEzApmMDKHO9nKzrhCwwow3mG0ZiQYoxADLprPjNKDNTbdQCi34GM81zKb+gahduZHXPMnI8/2//9t5+fIe7uce+5OejbZ5bNLlGdW+3wJQLlXrSeo7fk3v3QQ86L+ZxxPfoxqUdm/Qn2vRMmZUAzmhxfthK2WTAVGp8U8aCTAcPAmCox4bO2bpni+zHVjq1OUDiNXsbEFlg3lPHer7LNTisXiezTMBsptbScc6G4F3valcIvOz+n3vXR+/V2uSwCeQZAGt4J2C8cyzNgcse+70EdudA9CGxCHPja06GsLSR5rr5jNiKoEneN+bSngeO+Y151wp5xjlkO5MB/pmfuTnveW89Gt0kjI6HO/S8zeKQDfTHCQAfsRM2O/DmAFXLnZp5anvVg1wk1RdWtoXfoQeGvUtJQs/+LTYjFxqZ6QrE/J3ZIljkBDT8e47hyra0pBKWXZa5yOIXgtqpZPaNKnDcl/bJyLGQTEVdztjLe91rv6moqdGwG9INCxog3VizwHJuxFEWCAAAIABJREFULy0Wiz0ghsWMtEIw5BXg0Ue40q3eR/vUbeNSN8XcXDGNy36nRhbC6gbX/W95YKvBtYK2cnOzFPxVn21t3yyx4UvXqyA6s3m4weH9wluj9KN6dWpeav6feYZhQGuRBYPl/vSf3m/esmjLZfc310uAviZdYralzkkt+QcbAzalteQ318lx12PsD332pX4+5LpL11zaSM/NeZAWSFGy8Iz9pASsJY/zOeZsOcdCj8inRuaHQ+x5m/xmszhkA/Y9AeAjdsJmB15OlO76DZx585v3sgEO2N/HPna3yx17L69uMkgsvlyPcrLoYXH3A3z5e5QBdgHqAYYW42uaMX5rcM+XfMl+IWPynqoR3khHlsCzNQbqYtJaTNXU4tazfPc97rEPsDFjhTmRcScb2cy5MMS1bLMLQS1pO7dJqAxyZb3SDZqbCgAO4BedawYkwvC/7GV7kKO2mn/TXjY3gv+lxfbQ9yrBqC743gKZrK/5ps1dXYuizJVltV+2nmKpjkGlAehYsZUbHN5b+kw3fquvqk09pxcU2EuXdmg/L/3O9rGRyTiEJdnFHJtovlurSfKsbErRk7cyQ4ww9kvPcZnfXxToZR+3cuq25ryUnfEsvYqT+duarad63qr3oxeYrHa9l5JR2y4B+8vsg2t4rc3ikA3Y8gSAj9gJ12LgOXlkOqjf+I3zoDJAHuwtbn0AAu7Clm5VMAhz6OLLeYBgNF/3uc8eTDNR8nmr/O8hfZGML7/PAJZcMGBFcWmr++tVQmsxFnM65V5wGwDsl37pfCOhzlTmmm9YfF/+8pvdjlyv5eJv2aanD8zI/lbwV6Y9slIefSy7B2h/73vP7whQR7N9FSnBWgC+5/ZP1hcvBe2z/2l92pLxiZSHsfjAB+7d37JL2MiFvgbVHTImD/nNCLiRyTU4D2CI21lJke9CLQ9d29PazI3cv7fpGfntiE3yOpwv6Gaj5uarl3bPbAz8rrW5TW9NZmiZY3ZbgHBNgOjIM685ZwnojfbD0nXm2sQ9KiiuNmmVEu9ly+BeLeaZd1MvzlKqvWNtxtf0zYbPvRY45BbZ7wSAj2j4azHwnDyMtKZKFAeBHQAK3KkAIsCc+UNbwRVcx8TlAGCkALAMBp0AoB784D0zrNuR+9Tk/Yf0B0AHoE2uXdoMwCGwJSdWgB4gHpCnpq1XgKM1KduuuUVGYAEwQcIA+w0bR45ZWFajnk0RZ9oqgdia0tC0Z27iX2pnav0EGjL/9DOAo1YMq31zkYW018+0u0o45hhg2g6jp0wHDwM2r7pxGGAWUphsxgd94eZlCwxwZRvnZCwWfeG9zOIqvTFRx0LLnhfpy4v8NsdBCwihaTV3uFk9qls8N01sBlpp2QDAv/zL+3HNHPD0p+/jCvIdoi3qw5Mh1X5LQGxp7nJ+4Ly5uWfu3ZiT0Cz1g8/Rygqy1PZeP7UkcalHh/Rgvs8yyVwrATH/bwU1Zvq+2qejYH/Nc92m514LHHKLbH8CwEc0/LUaeE7OBnSlXpegmpqBoWW3TOhPdDWTIwFpgBOkAfz9IR+yd60jiYCNsypVMpVrJzcmfvWPgmo0ihmwx+c8g4FN6c5vPUsPXC4tMi7GPDsbAQ5AF3+MOLc6HvrUe95zvygj1WhVsVozPnOBG6mIJcOCVhS3pQntkaqYeWOO/Z5jdda0ewlYZwANZYozrVkFP+gQsyqa/chz1MIWc4BgFKysHasj4Cb181Wbmp4WNipsIJXc0OcZGOi9aiDjXMDc2nLPLTb50L6vNq/AiP/bn+klQZY15/Xwd7WSZN3IV28YOn021erdeV+WPEdzzz4nTzrUZvm7HOsticPS3DXahrppWALlbGKY/xivvIcWYOF+c5kg5jb4l/Uso898jc+7Vjjkiu18AsBHNPhmB15v0WZSkbFNFjADauYWcDV2LMrk2IQFNd0QrAvsHK7n979/D3xhSM2Vm4vRyOSWbCttAmhzfa7HgVwDIJRR1ulChtmeS8M2AlQEh2lPfmf0tCWavRZ2QULCIRg35ZIMNe2ude9rf831H+wYbCducAMS1U2mThv2MNM3sSjVrBtLi/lIgMrS+1VtJwPH54Ix+81FlJRLjCMBe4IfpS6tjZVtGWH0ciMzlxd2ZKxWkLLkRm+x4Nl2JSwAXuUOBFbCsgGYAcEJhmv+Z+6fAZ0GMXGPOWayNQ6/4Av27/FIYOvSWOB77Zmbs9Z7lukZf+u3Rq68ZxnxFHHIANe+4Ry9Ybw/zCEEsuK9Gs2hW8eZG7bL3Cwc8m7OAcp6vUM3dq0xkpIr5yLXiloMqTUf9PJ4e90W2B8bEXfEWZvFIRuw/gkAH7ETNjvwBBQ16IfJxwUNFpDqaxxq6uZc9Jk/lkj6Jz/55nLESine8pbzgDG1eCzY1eW4FC0vQIFFxuUNs/yBD+xBn1kMBJOZj7bHkl1kHFQQVLNDcG1TosmssoADXgCruLHVcxLQBOBKcNnTyNUUSskAtRhgmWfTtZnWyBK4AubR3MRLfTRi03y2uQwj2gswwoaspfMUYLTysmZbvCcsIm5tWdO6+I4EfvX0yb1nXwOYl0AI99Yzc9/7nj+LEiOCM93Q1uIrvQpwbtJaY6A1Dr0+/cLGtncsPUsF+JnD2M1x3r+Vl3ZpvKWHilLQvTy5yTK/+tV7L42p5eo4mks7ZntHShUvtX3N9y2gO2p/7zM3TueutWZ8t84dmQ9yrPSC8tbY6zY/d7M4ZAN2PwHgI3bCZgeeCyfPTqWyXAiolkRRCUAlYAxWKXNB9rInJMvEddUp4jIkjRaMHemGYGk5WDABPLKda9lEwQ76T8Cj0f9IIUy0zjOki23N5LxmXFTXI9XuAGEc6BczALAWaBDMpXuV37U0cTJQc0yOi1NL5ycABugCugV/I2mmlhbQpe/ngFEGEvZANePSaH02WC1JzgiwNctBC9y2qqwtsWZrx1QdKy12awSEcE5rIyt7TK5bNpgf+7H7fkafz3vckjjwG/X7VedfNwV1XLbKaLf6+lA7ZXuX+mLpnW1VQmz9Jp95KUhuDoDZXsB8zaG71NbL/n7E/nN93QKd6YlppZgbydhR3/fsY+45J73rETmXbbtrfr3N4pAN2PUEgI/YCZsdeHXiwAa6ZTNLAZ8DlgCqAuKWBq4ybwA+FlvZWQCwpYq1N0wTjK0pnA5lE1PWAKgjAplof4An8oKv+qrd7oUv3N91BDjOAZI6Vqo21SAZGB/cqGiesRspllK7qr24XuadbeVnXTs+60KX92KjQCo43I5kdkhmf0njnddNl7lV7nr5dZfc/aPPx4aJTZWBg2wyagYEWU3GGs/WiyLHJozzGphjGWC12iNtO2RMCTjNyawsplW9b87N27q3/cSG8zd/cw+C2XRWLXHdsDhOqhfgUCaw2m4tK1nbN8e0j26+RttQx/rc3DQCyh1vWVxkZGz1zslNbqswUQ/UL2n2WxvAei1sYzVANlfM81Vmlhkc1synrXbXvsh3ZMT2F7HzbfLbzeKQDdj3BICP2AmbHHgJiFp5VrOssLZBvjBXujhdfbjvTSuFLjFBNLIKACH34DAvby+12twC4GRuDXoAGAeyB4AwAAhtoi7dzHpQJ1H+Pxfh3VtgswQ0oMsMGrDSACwYS0v2ElTYWij8zHscGmmeiyL/Tv2sek/aJ+uLrZSDEEQ0l9+z6nKxvVlBsDcbmZox4pBFP5+h6voIGGSxdQyZto8NFJWnWgDdgE7G2/3vf3dNcS32sLbM7xLw6oFHPjdoU8ZV+UfLXd5zpVfGLvuJ3N3m4GYzmPmoWxURe88yBzJsV0uvOzKvzoHr+l0t3ZzX7zGBS/3DNXos+siGfOT6tvMywZq2QT6VRYqWSh8vbWZaG8DWRsm5Aga4lZ0B27UkLD1gPrdJTrtddjGSkTF6G5yzSRyyEbueAPARO2KTA6/lJs7iFkwymVFhqeRtMkdkMgC4KAEw5RAZHwCAVpDC5lQhQ6sLS5wJ+3uTYU7ENYjHfMOmQQNUcD+YL8APoEKJhXlvAWzID5K17aXaqaDUtgDm0UAquWCjwLlWlmJBAQQ/7GH7KOg5d26CiUMizVtMiVXvZBqxu6yvgAvwQn/1csfWAicwOgBgUkrx/KR3I+BRIKptuObaDU4u7HgNcsOQ7YB5qgUbKsDgWj19amUTHcNL2uEKBpbcyj3Q4/3oFzeW9E0POHidCiry/lU/rdwl0xjyPjK2yBrh/XKjtDYdn3Y8tCrgHCj0O4sgWNGvZrmY67ul/sEGuVFrufRdH9LbY2Egxn5lQI+4nty4dNoGBnhUu1/tneOZd7qV673lUcoSyS1ttHZtyRtahXuq/O2QzdiazchV9NGG7rFJHLIR+5wA8BE7YpMDz0mQvwGIuJRh8Jy0jM5lYgdQkr2Bv3tFMJJBUc8KIOTasHWPetQ+8wGABkaKwByuifu5RlePMkIs2rrsKwPMtTlgXi27zCStK9nyv2aJABy38oZyjcpsCxYEYzwfz+QBS4XrGQY4tc2ATI9WlD190cr7umZstpgSGCJz+5Lxwo0OoELXKfdo6RMTyCI1IMjQrBrYoccCabPK0I48Sy7s/Psi+k9+/+hH78E5fUIfG3GeTFI+C0Gfc5uPFhgYYQpbz54LNt+nh6Ine+A3tQhBTz+d40FwYztaEo+0/Wg6votu2kbGxBKInWvDHMDOe9cNRrLw9o0VMpm/9GyxeXnIQ/absZFMBFcF0kbvk7aVGLCoivZpbSzxKDHHZ0GRkcDZVl+6geF+S5Uf58bL0jgZGWu36TmbxCEbsfUJAB+xIzY98AA0gLcEwDmJWCKUSR5Gs1cEQwbFjAYwTu94xzkwZMFgsoShgqngOhmxnoESS4xZi+kwsAXgy8LFfcgFKyvL9xTFENAatQ2TVEFWHQu99vQAMO3D3ZyMNgDl7W/fM0UcaDFl4AQ9ybpnezm/tZgtLXAJZgBMLNjet8o9LEuaoNiyzUgCsOf97ndexS/TGOWiZZuyfOmSfZfevVwc1RovaQrTNqZEy/vUIhg95qsHWg8FvPV6c+ytYzWZMZ8rvRE1K0tLJ6sNGZtshtjMyNa3nrEnCWhJiPj9IfYYGb91Q9DLTzwKchPQtbxMOdY4t3pKzBiCVydLw9OuUfCVtq2Zb5behfx+yX6j0pS0Xe3LCkzJE87GiOd/61v3Y4mNPuQIa0TvebKtXqOy+Kk9Zu6pOZ2Xntd58pCxuMbu1/TcTeOQW2zTEwA+YgdseuAZVY97HrBoMQQYUpgyJjdzYMKW8v8MKMsFpUbUA6aUOAC+uA5AKhmTkeCNuuhXrSHfP/zh51IHAs1kyQxwUpZhztiRSXJpwnXhqHppWE8KfgBwM3cpmSiwAYdFJpJxgZ1VfwcDg6bVo7W4ji64tFNmGcaWdhGIQwAcMoIEFVwTZod+or8ZA4J2wNNznrM/vwXOep9d9N3KtFUwuFUW0eqnXEyRNDAO2HQhQeGApSc4zGMk8Oeiz9H6/Rz4EIxkyr6WN4L3js2erF0NFGTMZ5W7Qzd9S2B9rX2Wxm+PKVzSii4FXLpZ5x1Q7sCGDfa2bixk4WsxnR547gWR5hjFTnpOeMfqeB6145L9HFujOtzWfZ0P+I75C8kTRIip9ZQgmZ5QcqPK2WpgcCsQMAu14K2pqeWWnnfUbnfoeZvGIbe4T04A+IgdsNmBl6ytExfuX3Sblov1cwAbB2yxkeTJDgCMTZOWgUZ5Dq53ZBDu/EfzcVbdJ5kVUleaFbMsqVyZi7nAiZrFQXZxbsLNBS21sIAQchyT8cGsEwJDg6vYbABuzbsLeDELRq+SVYvh6rFeFRBW4KK2GxY0QTbt1G4GD/KZGUD4d2YRcJMBWNZtuZaJ67131b7oEgHjT33qOWMvk5TaU9nQzA5hdT3OowIgB5sUpDEel9Xui84jPncFZG76WhrYCt4zUJD2ALLUofP/BzxgLwVxM7gEGFs24rORTeScPZZs3vresVxzN3uf3CBYJIVxwkYcrS4yKNl+vEWMA7LECESxs+O95YpnfGHLzNyRbv/enNGTzVQN+8j7kJvqkT4YsfNccHCCemzp/5nPcxxljm43/7LdlrFmruilgqubwRqQu+Y5RqQYF31Xr9nvN4tDNmDHEwA+YidsduBlOVUmfZgjJjTAJYsDiwygI8EQC4YMcLIDFp4AKLOYCHKdAAmUMvgtK5K1Ai5qXyQzIEuqptXgHirAwXRQtvTlL98zXnNVrrhHTfkGq5FZGuYm3GyTcgtALMALhoTja75mD4ITjKtVlgHJRP6tPLxLLHTaynNbwXoulIKBzAbANcym4SaFfpT55d8AXxZ9NM0pVxlhTtc8QwKZKlOpGkszAqSG3I2O6b/0bBgIyNhm7OAxeOITz8dALphL7V36fu1cktez/ei2YQbVpsviqak2eDOr4HFf+u9lL9t7c+597z3LbRpCxmktIKIHYk4OkQC4x3yOgui1tqnj2w0iGxkr3mUFON+1DGSUteRazEc+M/IvXPccbFjNj1w3yzkPpEyplSt5zQZ2jS0ukw1vbZB914zfmCva0Qp6NCViladxLoCZMcg7ybpAKXL6rlZ/q/ZYArz1/BNDPDuiNotD1rwHRzr3BICPZFguu9mB14qoNzhMFzyTkFXheBgmuM/7vH3RDBcbPoNVgt1FAwyzBmjKPMAWvgBItbIiJAirAWJ1AYJJ5R7cl0kUBgdpgfICQTFglKpUAHaAZzIKGS0vCJ0rElDHR9WrJcAUlBgckgxlljrGXi62LDgEasGkA27e/e7zvMGjxUHmAoESWFomWdcrtnCzkBsZs3No40wX5iJa8/C23qNDFiaub39ZibBmZ+hpXfn8535uv8i6qRFQ8jebDxgpng8AhBTEMt+0f6mq1CHPMze/5PVSi40NatETy/NmMCLvouPR/gMoW2bcQCUASGZ+UKKkHGap1Pkou3msuTTvnxtHQH8C8KpfdtOHd4hqbubc9hrVHV+BV44zno050iC43BBe9rio4D8DHauGv5X6rLc5rRld2BxaTrtVkTK9RL6XvFuQJJaSb20abCOMr9Ij+oBxhteLIwsU8X+eMdn60ZzouRYdUtr+WGN2Q9fdLA7ZgI1OAPiInbDZgYf+F7YIvSqTEofuKcDgq161BwgApCxgAYjNaPpkz5gUAbvpNmcxFpzyWxlSPscdz0QJkILV6QXZ2T8yCkyotJvJnMk/28c1/D9/c08AfWrK0PSZmkztc8tt1mP7WuyECyUZBHgWWG+eGyBCKi9ZEvWaTNQyrzwfOXXzUGe35OZ08tct28ow4XU5N9MXPfax+0wQpuICYNE/tF3mkHMA6wkUWlrUnttRW41GyWdbeXbahD0zfVe9V7LsPD+g55nP3HsjPuqjdjtkEDwnGwz+GJDJvegfDvqI8ZLMcyuqfy0ztTS3tPqP3/TYVnWp/M6gRbw0vKt4QOhLxh3vIe8J74Pgt7rreVY2AxxsJOdSEfae+9D+XbJL/b53/7qB6LGwuUHk2tgJSVd6Nlrvu54GwBvvJO9B1e62gNva5xs9f2Sjy7XSS2UAcH7ey+jCGOhlg3BzwfhibLF5ZIPs3FML4ihVoS3GFnzqp54HQ1ewqq1pJxIt1pmRnOjH3HyM9svGz9ssDtmA3U4A+IidsNmBl5MNgCcLJDztaTen9mrZJ0sMu3CQ+QFXYgYcff7n73ZvetN5Ki6vlbl5AcMuLHMFMZLdAaS/6EXnLYN1lmn2U677rGedp/7SfQ+L3StOkc+aiw2TsdpM/04XNNpfFgYWSQ7TJPGc6A9ZJDh6abgsJwur0tIR98ZoDVSpbFBd1LOYQN0YqI+UseGeLPy037azyK3JO2q7D12kRkrXpg1w57cWTs8xwC8ZYHMKZ7BTBo6pabxs+UPaRhaePgH054aj3tf/Aw6QEdFfWexFLwnXB+C/7nXnAZneM+UCeAOQR6R2c9TzcNH+XZp75zah9FGW+57T+gugBXdmiGGusnAOball3tPlT79wpGQCwDhXoMP255yROt618pHeRqB6RDivFZSXG5aWl8E5srXxdsy44bIADu8U75wSCuY8A6ixM+c5v2dwcO17NxKCajZlpiV0A92z4xJRsDTObvPvN4tDNmD3EwA+YidsduA52VguGJCDlpbJispCuUDAvnkIIPi/LsBkBFkkkB7wezS1yCNwXwMAcbGpLYap4zDn8IgmLM81ut92ARzf9a7z3JSAAq5ZATVtNbWXbuJWZguum4smk3660tVo8rwAEezC87I4ZvU3wJXBV1zTFGdzjFouikugq7XQJSOaizqLm0CbgLKs/qZkxU2E6dxgFvk3LCLPzAFzhr3f+c7xN+dQ5rT+ThbbPMs8k8+r54G+chFmXCfT7Tij5blotgKVqhyiB+KX+mjJSvlM+R72AGm+b4wtwIV5fbkWm0N18gaG2oY6NlpBSS15ycgzXBYISXsmqM2Ub63Pe4Uysu0+vxtS5jy9VrKOrXRr/K4nj5mzl0xsla3QpkM3ha2+EIQzp7HxZxwx1rN/+d1IAYu5vk4SwkBe5UlWhVPqxRxMe3LOH/G0VRkLv9FWzsFZIGdpbJ6+364UcwN9cwLAR+yEzQJgAcA3fdMeNDKxGBWNxjYrmwGIzQPs52pwAZgcsA0uurDAgCQn4ve+9+5FNJLFqqxLqz+cFHXrAtgAvDB5spRMxDDTAFraZRq0ZPCUHbAACkwzrU/r3pU1UZvGRI+73Ty5RJlzUHwBgPa5n7tnv7mXm4ia4qzery6Ko4tkBQ3JKFrkI1Nm4X5MBs2yubQH2YiLW7o3uQd/avGUI74/d7s09rC6G/3Gc6RUwb5SOqEW2w2L8pg5rXkv0r4HdEb7aAlYwLq2irK0NgGpCa36UKsw+i4wRjnM7ezYgC1vFf1obQbWMJUX3RBUWYNMJs/gXNEKIFXjnXr1pbFp2ji9RVX2ks/iPJeZT5auX2MtLlLYZe5ejk2LDXEu905vAu323eF77Nwrndzqw9xopnwhxyfXZZ6xBDmkgMWIcsOc2XeqxKq1We4x10v2P31/ZoFN45Bb3EcnAHzEDtj0wEsZBAANFom/CcgC8KoDrdIC7ZWa3XRDw3YAPk2jxnWQKODO0oUuawCQhUGtidFrnzBhCtZhNmCf1XXSVtxlFtpA4sAC6cL5OZ9z9/8DXokQ52Dx45zWYjC3mLdYIexgqjEACIBd5tuSt2qQYYuxR2V8E9D0NI3ap24krDiXJXYFdJbGhZXhvGSHsmAEshWCX1pueGUuMMAA/l4KpbXv1AhocgFWy0t/Y2PGofpV76t0ApDMObJQvQCckfbOMcAXZT9bIHcUdGqXysTJmDoeGX+8N0TiVxCn/WFRX/GKvYQns6qskURcdENQbdHSvSYDbECfrvMq6Zjr20c8Yv/ekxmEjBKmJTT4qz5LDS5bmh/ccLc2XKP9OzI2PcfYDhhgMuJw5HzSY4DTC2EFyyyC47vOOKi52LN92suMJXzH/J+eCO6lDI3zmCNbVUZH54Rj2HGNza/BuZvGIbfYficAfMQO2PTAY7JUR+viaAlUJiQD1rSPwVH8H/AM6FQGwSSLdpjjkY/cM6OZQo3P+X2CY9inkdQ7/JaJ9Q1v2C/cgC9+RxCPwNc2ArQJgOI5YK65J2wF/+d5LOiQJYGZaHtVppYW82QmYI/QqBHJLBtOuwCcbCJMX/XGN+6ZazcdPQZ86d7axUUJe5opAKZZltfcxuZelr3n9wY/ARBTU2270Y9yZFYGWcMEIZlZo8cqzb1nc8+aIJ8KVBxsHmD2Afr0MVrvVkXBzAjhb8wJOxe41wL23PeiQHd0rmm5gVu/dRPGJpIDtj8rcvEesnE0EFXWvJU9gXEEW6d+neshC/DoBVhWoNJi8Eafu/eM1e753vFu8/yMa94x3gHGY93UulHgHj6LDDB/E9SVRUU4r77fuQGE0WyN27opbbnrR97taoslQNjakLeu0QLl6VmxYqQglWswdzCf0A+QB2yekc99wifcnAfca5ttg80pHofMjc69mCv15jHeWpKqkTSLKQdCptXSCF9k7N0mv900DrnFNj4B4CN2wGYHHpOlSd0Bvz/6o+cVowCRpAwib6oBURnYhr2YJLOKURa2gDkiBynXZbJkYQKksPjChgJEkxGmLXMVi9QrA9aYLAF3LGCAsgrSDWoxxyfsA89A+wguay2Mc/0/t5jnglQ1iaaPwwXI/dUkA0SYqH/jN/bMJRsC0wm1shssAa7avlw0AEO1lG5W7FOzx30TJGkPQAF67l4gWt77ouBwzs7JAAKALetscQs3EgYqZjAb/37xi8+zIYwE48xpbI84V9x0aTOeLI1XgTLvEwBOmYP9zu9l8hyHvIdo8914ZR5XPicDjEGijFU8Qlaaaz3/IWBujR19z1rgxuc31zibmwxWozJkFrep+cF9T9mkPv3pe8DbylhSmU3tUd+BTFEGU8pmsQZwmZc6gfiIPZY2RUvfc4/01JmGLD0rmRUjvW4A3Zou0E2H1/H+CYxrMGkWJoGxN4jT8uQJzmuVw7nNkevHITKYEdtf83M2i0M2YNcTAD5iJ2x24FVGFTbDydwdPuDRilkGjGErQB0LbS4W6A6t0Ib+V8YpgbPM4wc+sAd+nCM7MgeAsrwr57ug4K4llZv3yn6U0TZTA98xGWebRxeiBLpexxKz6jaVX6iNE4hyvrrpT//0fY5fGDqOlGgcwpr2FoTKwlR2m+fJCHE0yxa+8Jr027OfvWdVa0qlJSbqst+nHBtWgFOjbDEVgM+v//p+XDG+OFiYa2ozPRxVMpFtzvcgF2jd4lfx/CNghja3PBCmtgNgWHwFjwTvrenRADSWwhZoZEGMCvjmimUcEjRn20fc17YlA6CUd5gFQgAE6GQuIid5luYV5Ge6QMGZTCRjgvNawW5pZ/7deqf8nRtLz8n2swHL+61575cDOIEdAAAgAElEQVQY3hHmvb77GWCWTHVuOpKgsEgGdq9SGkmVDMDEJgQFm7qSjZU5upkrM6MM45B0kErrzIutZ2durGT/jLzjlz1Hbfx6m8UhG7DbCQAfsRM2O/Byd8/uO3NFpjQibcOCwh/y/cKWMDElW2aAEfKImp+X61hJjqAHQBWAAhY6WZpWX6hdVXfqQpPpdTL4g2vAiNGGBHe69mRrWVCRSQiWeotRMlyZI1OXoOWZsQuMGYssbQRUZiUqCzPkIm36qQTWyQSvAVue28qdWVk0i1gAbEzhlrZHEkG/JMiqC/pSJPaattd+X/ot36NnRA+MrZFDWNQB4GdVKq6bLLpsF59nCeeWW7iX3/WyGc/Ws1YwUzdhtb0VJFaw6DsDO1dTDrZyxi4Bvuyv3gZpyR09asdWW1rFF+gvcyOjh04tcCtFWu+6SKuSUe9JZdIGcxsW78M7BRi0MtpcSrDemtTa8LTyVa95nwTFMP0ywFamzJgC3iuO6jnITUXGEhiAmqCfmI+eREVPE/fBI1nzVlcdem+OGNkIHHHN3+KlN4tDNmCsEwA+YidsduC1JmwnFBaAGviGi5E/6gP5N+ApKytZSY4yrO7yAYwAYyZDWWcWACY5mFsX6rnAimQt6Cvc4DAKsH4UOpBJYHHhsI3q1piUyRgBKEIXmBW3RnLa5oTqBJ+aNeUfOY7UWqoHFvwDis0eIUjLjUQFlaMggXvPRZzb3yaxB6wDEOhH3LkwnRyy6cof8pkSRKfMwKwYlaFZ0/b6DlZtn25s22DxFOU1jimzkrQ0vLDH6NQZ2zz3Qx+6HwumDUvmKV3ZtU8uc4FdYvW0S92EJVOWlRlN78XvDLq0fwSIMmQEpSIbwZMCGMsS2SOgz7ZVrWaLsW3lp+4FiI3Mx70Ngpu/mk2j12e5Icoc18xZVZs/tykbGROjrP7I88/ZuG52rfZWq97lfbieGSIkCpRL8TveMzwqNfsGkhKDpfneFGjML/QBRWhoj2PQDQr3rpryzAxRSZGWfXvFPkbsd4eds1kcsoF+OAHgI3bCZgdeRj//+I/vJyk1wVlZDduoGWRxNW8mn2cxjJRUaM+sCGfFLeQRHjAiT3jC3g1mcvVemjAnfICyOYCVVODO5TBXr7pgc1DCEqIJBhBkgBC/WbsI1zLI5iY29VuOJe6HOx6wTpS5VefUpbqJMHiDPmi5Vpd0wD0g4ueypUgEMr0dTAybBdrJkYF7FvDIRSpBWA16a4HdEVDQe/f8bdWGex9+x1iy8h/tMcdybgQARC78BsQ5dpFLsIlS656psGCbrGQ1l6FkDhSNzCujoChtacGSypTNyRYcA4xTxhvvBu8Funo8KdhJ1zzp+9amx6osu2C7Naaxy0U2Ry275obJtH+9jVn+PgNDzdpCNhy9O/k+XhRwXeR9qM9c2evULaeHi03uiC62jg+L3xjslmWP1ZRzjvO6my3a2ZuvWpu9lM8wLxKE2MqZnHOZm9uWdGfknbsDz9ksDtlAX5wA8BE7YbMDj8UeMCSIhPljsqzgF9uYNovJiQA38+sSKJdu5EzA37JprdbGvZlMmdBM1SSIyQlPkOlnLOK0ld8bpOdEDLvnc/m9rjhYrpq5IINiRvR4uYhxLUt8wnh4aEcAFMFu6oOxOcxq6uAyGGnk/nNjFelKLfHM+TVYUH0v38FQ1743awXfw/JzyCz2FrrLWtyVHchGysrRhmToGIMAeqL+TX/FOf4bUMtzcvA3gOa5zz3XOrOpox/oD8YxHgL6SW8F44qxzmaqRrtnH1wUyPWYTBnvVn8n+OnlQMY2GbiWDB/XpB/ZGGCvL/uy3e6lLz1n8mCIM6MG5yfzzrXnNMFzYzTf6wqalzSeS9+3MkX0ilfYDuVVGatg/ECVFixlJRjZDI2cM2K/ek6OQz1czD94RJiXmTNbm+uW18Y5jY2RBTVyns/sENw3C5TQLvOLmxVHO9aAOEB7VtEjyI41hndafXr1RLSes5fB5xA73qa/2SwO2YC9TwD4iJ2w2YEHYGuVDjZSPG3CRAoQ8HyYElikqmFjcie4igITySZ6LRYZfmtgHZ9n0QUlAVX7JUjlnjJVLFIANxnlZJsBN6TdobgDEz/tJ48l1003W35PtbARLV0u4ObU5DNBL0wJbXMjgQZYAEwQEjbI3MemY3MS1yWburpRd7SLCUCbe1remr7I1FbYikUMwM2CIqODnAQwyHVIOXePe+x/p4ZP4FRlBqPtm3vPBAZvfvP52NHDINucutZ0xSohyc0IzKYHYxowyIF0gAOQz/UABzwPQVOMp9wA0o+MpRrtns9xKPDv9XMF1HOAqScTyTGO7MPNC2OUZ+E9QvuOVwS7wJi6Ac3c3vmclV2eywqxZj71+Vq69db9W3KUnhdnhF0X1LI5xx48P+8P4C+z3NCWpc1KzwuSIHPknDX2y/mobgCWGOs6fgwKNs828wQbxGqHmvIyC1nku1oD/jKozTkjGWA2VgQ1m8O4lRVnrcfuEFvehr/ZLA7ZgK2vDAD/2sTKfOM3fuNUHOtN0/rzwbsv//Ivn9J3PmuKqQr2rGOQV0zJ2f/etAv915ML/n73u98k5XvaJC+a9EVx/NEErL71W791yv/98gl//afJI/pXJtLnuVP9hUnrFsf73ve+yfP+hEny9JPTfPfHd18wpcL5zu/8zmldmBaGu45v+7Zvm+K8pkCvcrzgBS/YfS1M2+Cx2YEn08Zz4KYHnMGcsuCzACSArSnQ+A3n1zybufD2sjOk3bgPf5Yi8muVORYqUj5xZKo2rw1wQRbBws+kCrADvJs5QDdbZgswuC2ZrTnwUXPqAp5oV5akNarZdsE2kQUic2LyXd5HVjl1dWo8K1tT26f9Wcypvke/uYjd977ngY58DrtpZg+CX0xWz2ImY8xYkBWln7ChAKlKIC7KbLkYs1mZ3s+z8QX4Js905myGqTRjBW02ch9b8zufhecG2PHH7CRc67u+a3+O5a8TJNGnr3/9/hlhfc1n3dqMHPq8Al9kPAKElBJVdrcCw7wvYyfT2vkeJVj1Pa5Fa9D5WzHN67SKpzh2q8v9sli3nnShvhf8v+Va5/dZ9TBzwZohoqY1qzbkurKlGZzLOGulROuB9tZmqLWhqc+xxouwZtwtFe2wvTWFGBtG3m/AL3Mm59nfFtpgPuDgPclc3Pmu4kkgjSJjjzlvLtiZe1RmuXrE1thpcH2+U07bLA7ZQAdcCQD+jxPD8pcmUfxHf/RHT2vat0xFd35r96QnPWmqFvu5U9rJKe/kzPEjP/IjZ2D3m6ZcpQ972MN2r3nNa3bPe97zJpLqDWf/93j84x+/e+UrXznNk/9wItnuM2VxevYUL/XW3dvf/vaJ2JqYren4bxNQ+V8m9uK/TosrgBrQ/JSnPGXCA/eaUqb+XxNemBbO6QAA8/v/kxczjo+dXDN/HoZs8NjswOO5zIHJswCGABSAHJnElhyCc2VJcCszMbqomzKKa7EQ1dRaaTPdjDm5ztnUyVwwC7ABTCabnL+36AYglz4FoPIZBxM8AFmmFvdeK+dknXCTrQCIwXRjC4AimywLRKTGdz/o9veVpYb1puqUR4IAbA4DA0OXzHVr8u8tCNgUEAuraZYJ2W82E9is17fYhN/qOrWkNJvUdIfSdnWeMOdLDB7nzy3eFTz0bJ/ZPlpZPQCVGcHPfbOIhymyXNwNgmQzXYPDeCY1kGoiuV6Nhl8jXRGwYX+uw7yUwWqtMcFYF4hVO7dYTje3sOB6bbiHzP0oi2Z/LWVzGJwLm6fNMeiOgdEAWTe8VUOqjXz/aYibJzeXmVkmGc/qcm/l+Z3bDNQNTUvassaLsAYE5nXzPaiEQ3ojjJfgfc8iF3YeG1Pns+qFI5sQmX1y3GRhpcoke03Oz0BUyA09djlo1tjpImPyNvztZnHIBmx9JQD4708vwjOe8Yzde97zngknTMnBp+MHfuAHdl/xFV+x+5Vf+ZXdJ8KOdQ6+u//97z/FSk0i+buOvz5FnMLy/sJd6bveOzFegOvvmhier//6rz87679Mi+HHTLqix07ubZhmjle/+tXTevg3du+YKvp80l0pXt48uV0f8pCHnDHCAHIOAPA/mCa7D8gSHthRmx14at98LoAcf1o5dfPZcfFnYJFudF2onAs70LsO93CC49ylPKBOpuYZFnwDfnoAm+8ADcgjkG7QlmyPumer2NGO1uRaP0u9Gr/h2mZRAEA5Pt0IcI66Z+5JINzk/TgDkkzwHOqbBeMG8i25X1ttbjFbuTgLBGBtEhzVsZ0LWYthzPuoqTbp/xwYuMjiLTuk1hsAg5REOwL6GBuwgWyKDThMG7O4K1Wx/Kq5qAGkAHkO9IcEe2InjpSA8H/uA0BgnOcYGpkjBBstuY99qoYyN4c9prTm4HXzY/YVA0G5NoAbG/DeZBaT3sbEe6b0ZA3YH7HH3DnJUFq2ey6I1U1s1ZBqkyya4+bJPLgy4pXxzDlADeucJrz3PGvGfusa9hEZO9jILJWOr9fg/lZfY/7hTw1wxQY8G2PDLBjm/TWfuu+hgdH0i5ll9H7VTUMvINJnYj1xzrTKp5uuQ5/3omPvNvv9ZnHIBux8JQD4r03arT87sS6vfe1rbzzyH06L8IdPC/+3f/u3T0TixCQ2jn81AR9Y1x+bXvov+qIvunEGkoivnNwqMMkA6u+dgn8e85jHTNjsP9wkZeCcfzq9XLDAHI961KPOWOG3ve1tN90NoPz5n//5Z8wyx20PgFMDDLADTLCws4PvsYMs2o973L7McS7guYMXIBic1upUXfCwnEYpA6BapVaTBQIEW94YJiIzSngf2VWZNrMetNpRmdill9HMGTVQj/+TUYGJXMmA15Ih5l6yiKZX4lw3Dkz8BnDxXFmRaaldfr+0yNL+n/iJvbwABjQBAUCdA8aQ7wE9tFcNNc/mouvmyepZNSVar72HMjjYFy01tjToDRkLh1Wo+LcbFBZnZQwCfTYqjFk+/8iP3MsgEigxpi0OghuXsQbwpagBR0qCAJGZGuqyQKFArZWuSttlYBMu5R4jDChh7NOPAHXGE+PNcuZsuPAQcFQtaKaca4GXFmCeY/dHx+/cuNGjoReF5+LIfqiFE8wTzSaF46lP3ctqkP9MMrkbMQF8jleEOIAXvrDf2l7/jDz7oWO/vtsjm5Fe/2BDYyhSdsM96rNpS4siIZchSM2YBsahmUTMeZ5xDCOZa3JuzxiOJAEszb12rr7omLvNfn8CwP0OvRIAjGwAgCoTa3NgYR/0oAdNQciTS7lxvH7S5D18Ys7eOVUq+4uAhLuOX55exAdOTBV64s/4jM84kzEgf0Dfm8dznvOc3Td/8zdP6/ofnOl9+Q2A+ocI4IqDewDIf5qAoOkAAP+dKUIeXfD7Jx3Tx0+s5ROf+MTdV3/1V696NTY78AAJygdk/Ky4NveETHpoXZkQMxgqc4ny+zn5Q+v6dUL2nJ4bLxOqW+6Y3wDknvnMPRvLog+YRA8rIOe51dci4QDsLLHQLhDJfmRQGTbh/yxOVsFjQjcLhf/mb4OO3PDBCgM6aTc24BouUhVot+wmo8h35mROFja/z4IXueDwW94tgF0CPYDTpLe/kS4LMMj3SD88aCNyl5qkfuktGQFRnjN5a87GE/YBnNOOrLzHvejDHIP0vaDPtqhpFtzzOZsOJTAs7twDb1ErODFzC8M2VhZ3BAjN2aUlZ8jzub5jkL5hTLORzc2j74tBgowlDnX8gD/GmwVoDHzCVqZFU1fd05y35C5Lm6+l8dD7Xpuay9bxqUeH53eTq0eA9mdu7uqql/3lnqk7dVOQ70zdlKd93fgpvZjLjHHRsZH3Tc9Ay269vjB4Lb0nGWhWn5trZw513gm168z/GUOxdhPYsrHSHTbebEaoNMdGlU0Om5QOSXbo0LqTfrdZHLKBTrgSAPwnp4ULQImONw/AK+AYhrd1fP/3f/8Ui/LIaW7+9zd0vJz3rilt0cdNDA6MMkFsAFPA8L/MxXk6D2DNd8glPmxa7PjN/zZNpi8sO33ugRTjLYCE6UCXDJj+lOmlBzwj1+APgPp/z/K6pdH/eZoM+eNBuwHd/3ZawO9NgYgtHEw+BLAJCq36JbNniqhWW2WQMhgK1xnXEoj2GOR6PfVkABJcbZYRbt03F0L+TZvZxDBZEhn+4hefM9e0n4Prc9AumEDuYwQ8f1dGdm4S14XI9QjooBgHXoTUWMI0sZEjpZb31RaAJfqfvMeZHgjgCGgGRFvmmdRkBl7xXsxlWcggoGRDtaHf29cCR/oRdyebIMAEgIp/ayPAEH1suiwAOr+t2T3clHK+coA5AJHtqqC5LtwCQtolyEnXtdfKYB8+M5WSgD5ZeLMfWEUQu/CMjAU13W5SUq/Z0oJWPedFQOAS6FJ7yrjjoM2Z7/p1rzsfJ1zLDCVIgWRLLY2cmm363dLk5gTmvTLXcG50Ac1W26tpqi7KcNqXFSjW987ANLXbjEkze3CNLOLghkZPhvdgLPNOwW7mb5kvLPbj+wI5wMaSd1LpkrIJg+8sv824YQ5rbagvMjbWrhm9vliaK7hPbsIYO7wTzF3IFiWN9Apkye2W925uHm9tolJiRozEVdpsrY2v2fknANzvsCsDwM+cmLm/hRs1DrS3BKj9KKUPG4cAGDD6kbgu7zp+fYruh5V93TTxP2Jy7QJyf/Znf/aMKc7jJS95yeS1f9wZKP3QaTIHAD90qgBFNoc80CIDnv+ZrtVGWwjEe+Mb3zitO789Yau7wFU5r5c9YlMAmImFNFeCM8AXCyiLJtrHBBz5fHcFCJ4tqAJWvtc92QtIq/l/vSaLL6zJCPCtE6aTJUDgwQ/eL1xUMhIoCdS9F+w22uPU53KOqcKWNHWZn1YdamagAAhaDANwDoCtYBFgDnAgM4WBOllsQTZ6pHJTAoZ09bbyt+La57m1DYs6CxqyoBZT/zVfs1/0XehgYmBhkauYPxrbkVkCUFXlCCMLbWuRrp/x/8wt7Tjl2TOQy+p8GXwJG0yAmcymrnLGIhsOvqd/+MO4FiTSHzxTqwqYbt1WWV3adBEQaBlYAWdueloV/mqGESsPmhLOql7Y5DM/85yhN3uH486MIZVJlkHNjW7KdXCHz+UqPhQgVNCTrHcGPaZMI9MRGtyG/QSttEVihOee4knO2ERtSP8znmvcAp/zriBvcrNB+7LyHudY7cx8uC1vyEXGxqG2rL9zk1XlazVvr4Frls3OgitJRLiRMlDUoDnum9fMcTJXrbKlZx+RUlyWfW7j65wAcL9zrwQAXzcJRMtcPzwBgS+dgMFc0N61YIAFc7rrWVg4UhPaGy8GseUCyKQIyEJHmdKAkQlF8EHKuRZ4MzobtzeMhMwv1wbUVM2t96yp21jIYCmUHADkAAeyQzW/aG17T1OsPXKRldmuTLibJjYKAPdp83dTcvpW8MhShLnMYGYrkOnTRQuYpQSwTDO2ZvGSfabtVRIBCDaHLEyqcgLdydrLvudZuQ/XVYqgK3NNfuVq93RlKwmpAFsmj76Q2TVY0v8DcOhzbINblWwisuwpl6jZSVzMcxE/BpipgFMJAxsAsuTQdwauyfDWFIA8I4AW74ayHzcNAgmeh38D6iwkYlAr7xi/1cOlJtoCJHq2UirRS9E38u63zmltgnKD57htva/5W9MJcg822Y7vZCpz7BocqFyJ3zFe2Jz/k3+yB71sGk2lyPct1vMYY+NQW/K7OekF37WyX2Sp+Cq3qIGRzMeMJeY03jm8UMwFeAXVofPO6cnSy5hjeUSCdhEbnH471WP6jWnp/J+25YneSL9cCQC+iiC4r5pye/7OtBhmPt9Dg+BafUMWii+bqiYtZa3I325y4Mk26eZjomfi7zG4+UAssGYRyHQ6TIwyROaXnRvgFaDCYMFaVeYL5lJ2ioUYCc1SpgoBHX8DCtCxWuhC0GdKpLmqQ9l+F0uZUNpvKitYRPW//CafzfNYKNBOG53vYnERYFUDBDPARakHbTRnJ+Auq+HNpaqrDLoyAgCl+XndsAjIkH4wjjJ5fs0X3AM9Pb0pbDgMNNfJalSCIhZwgDpBa+QcJYsLgZwEeCmFycIPeAFg4S2LLKtoSkDab5EQ2rrkhp0DGKMTvMxc5hs2F7NeF57fVGZZgRBw0ZKm8J7ynpjvWDAkc65uVbc9oLiWnbb9GSQH2Knp9ZZsNGeHlv1SDsJvk40fBZgJbufc85k728BIbIrWFUkImwI39owVNv7IJmTGq2xqTsoyOh565x0y1lp943VM88c7bfaLVt7jbI/2wvuDXBCvLMRJTT2YnhttxXyhjCYzRgCW3aCmjOoEjC86Ym78fpM45NKe7mIXuhIATBo0NMCkQfsfYfKmg0A0imEsAUrSoH3yNBFl4BrpysgtXNOgPf/5z79RqIIUZveZAiNqGjTu+X9Pk6qp17gGgXiZBq1l0i/+4i8+ywtM5omeBKL+bpMDL1k1GzwCWvPhmLCyZKpsAotogsE1Y7OmZnKyBAADHgEDc1kd8l6ABevXq9kD/Kbr1wVvjTu3ghWjovPeFdwrtUBuYKlmzuFg8WHS77GkSwyOzB6LNC5fFm/YTdyy6JFh+bCZ5azZRPA5jBcMLZKXmiaOdlVGuPZ96o1ZZHW564pP9rmySHVMtCpWzS3cKRFhM5a5nq0siC343OIu5j42c4U2cMGFtaZ/WMgFNQbW9dJOJYM2V8xl6R1oPSsFB9C10w+MEQ4AWRb+4LsMSpQB5lzTvWUgpcw5gJlr1jyvPXDp55kRIKtAjoLSlh1az54MP+yt+bV59kNA4Jz9lVJZGZC1iXGAxIt/88yZ9YZxzaa8BgG7kU15Ge/4lEv+0oK3csNL2+rmuSU7sG8EtvnuZO5yiYd8F2G/a85ov8emvFt6XdiwkZXE9GWmrWTuVi7XKoXsO6T30WwPS2Wnuf9lj4Wl9/Qaf79JHLIRe14JALYQBoA0C2GQzzcLYcDikuKMghUeSA9gXv/29DJ+zhS8ReAbFd5ahTC+7/u+76wQBjmByeOLppecv7UQBgUwKITBfZ785CdPmOGjbiqEQbEMUqZ9wrRI/P4EvtAi0w4qxlFFbvTY5MBj4oApS8a3p9Ode9AErACxmeDAM/Zqqboc92KSVMcIM0C7aGemPDOdFSwC2j7TOdlWvgcIyg7qus2CA7moV73nUufmok1QFbmo1ZTWnLFeKwuN8Jkgmb9ZzHpJ4kfZtQxeEZzkYuz9Yf15t7AR7DdAGNAKe9rKlcxnpqpj88Bh5gQXTRlgMrAYrT3abq6Xix1sncDTAjnKY9L9ip0BIVZ64xkAgGp40SWzQBvAw/lsPvi/JakTtJoBRc2smnM2c97LICCZqdaC3ho7Swt1C0DyrOYlJugSEMaBfXxPeN8AKAZ7wfYqWwHEsWk064OxF2wMdE3n8y8xl0vfL70zve9bz+69WlrVjAVQc3uIFlkZmAG/SqFqPutsH89g3m7fA/7O+aPOgwK6pTEwYr+5OatKE6pExPnBKm+M69wA2T6AK5tmNh68WwT68RveGQAxGwDeLf5vADBtVxplmrZWXnDniQyY5bet+aMC8VsdWDjSPxs+Z5M4ZCP2uhIAzLNSCvkbvuEbzoLV/sz0osDEwgxnKeRHP/rRZwD4vxf9JJ/93ekFtBQywWa1FDLV3VqlkGGP8yAzAyAWAE3lN0shy0xzLoD7lyZXF8F3nEMhDso4Eyy35tjkwGPCmQIBb8r329Otzj1s5hKVSemdb/q0zDxBv8C2AQIzyp8IYCd7XK5oHQU4XF8wzDVr2ea8vywr98xI5pr6Zy7QIhf+1EIKAg2IcuJHHuDGQvBOO6q8RD0wbcPlzt81fVmrIMIckFDPJ7DhuZCMYFsWO7W8tBWgaD5b7ZOBQNiLlIAAKph+02aNgo0a0DI3jhJkpD1lhQx0VA7BpofNFJ9b3CGlFzBOfI8kQ5bK4DfaoT6YghnIJQSHPCfnZY5g7DTlGD97V8ickpIOdbpLAZRV291z7SZIop2j1ckyOC8D1bAPYAXAC8BnzAHmYf5kj9WL8+yASz4X/PSyYKxNebVmwqznapOsysdY5l00WKtV2WzJxlPxoxsbcvonda89b0yCTDa+LSY9N53pJVuzIVyyV2/T0Cs4IchkPJlHHRkQmySBcis4jd+hA3cMKRfiPsZi4JUwt7Lp9bhuL3Yhc3XrNWr1VWtOyLiD3tx4GRuNJftfw+83iUM2YscrA8Abed4rbcYmB15LAlHd9nNWYiIEYMBMsRDJ2L3sZfP6XBZh2VoWY1OnqXMEzKItyzKYTsxmTYBZIODLgg1zumVz/pr31zyyPBsTuLrgHqjTPZdVtQDfqf+TvbBghJkguAfPSPvm5ASc10ryvmbBdNIHIPJvFx+uAYhloUYHzYG2UV008gcAH+3kGWknfcCCRpuwvRsUdLSAp9EqWGva7wKdixqgZqrqeAZGYedYuFkAeRYXzhyjSht8ftnZDH4z44XPyd88K0ARUMVRc7pWZl1QQDs8FyZ9TkYzt5jns9dMJ/7O4hcAbTKFVP0z15AZVjaEtpcDdpjnxBXNs1oCWsDLOeYU5t+Mk14WDIPiRlNeXWSmTeALw2qwlSn7rNaHFyDlGNyzSmry/YABZxzzjMxhmd7LgNKeR8j+YGyaGQWWHV25/c/9M0c0/7+VYK1uqmoqO54FORAkgzENmXqxxc7yTKkLVyrSypxihg423Yy/v/pXz1nle9xjb7fMImEg7VxsxNzcsnbeucgYvUa/3SQO2Yj9TgD4iB2xyYGn3rE+dw186tlFd7rVgZj4YN0IEGtVZxu1L6CrVQI43Y5Z2EJg2QOYmc+4SjBoE/dL93bNt2uwIOcC1i3xrE7U862qBzAm28Rd5bnv9titdppFooLxFsvTs2NPL8c1MhgFyQqsKCDCYEYZVGURtJFnZSzoLrw4NGcAACAASURBVOUzKgDmBsesGr10R9x7FDAlU42sBVbWzQcbpnTXYoPJS3S39G30NRuAWsUssx3wWzMnMB5cjK0Mx/e1UEnVQObinzl0Lam8xI62+jW1nal3tb9zUc/qgTxDLUaQ17c0MJtHmDo3L1wX0EEf83lWiKOv2XCgI6/pCUfAxWUxcL57akgBq4I0AwJrFhXtVSU1yaS7mXWuc/PpnMjzsxmqpcozh7JjrG7OW5kpjgXWenbueRFkyetcQfvcUPLsjBHPzXeQjdOc7ruOa39bMwu52TTIEG8Esgu9D2y0cw1oPWd65XqFSuay54yuR7fReZvEIRux7wkAH7EjNjnwsgxyPjssy0gFNzW4gDcYKRZtFpZWQFjPtgbsKB2QkU0GswIAzs0JdYlZzXtXhtuKcTJCAB+AVx4uFpwL06N8w4AyzmUCzqIic0x6LTBiAAkghGvzfxYEj1GmbYnxUntt0QokBFWSwj1Tx8fGAFBHu6h++DM/068AJxDEhgn+c7HVZd2SC2QFQoO2BEDYhD+MWTWL6BAB4wA1xgPeAM8RhKjx1EULS5fsPLaAfUJnzqLPtXh+ggd1gfc0vskE8m+Dsw5ddFvgQbcw/ZIgnP8ni0ebMwVdzY+LzMVStQaxVSBsFgA2LKYx1D5rs5QsgeRkY6vUIMGOOXr1ttB2XPGZvo4xXPXo2CflN9yDPvYZfd9hLfViURTJDR+/19WfpYPz/UhX/JLsoFUx0Pd7zSa3zqMtzT/n1M2Szy54beXalaW1OJDzjh4k5gG8RMjmerrrel017Hjf+C1jDvJCb45BhmaSyZR71YvVyqtcx9llbbyOiAVu5aU3iUNupUHi3icAfMSO2OTAmwPAWTZ4yS5Zlcuo9aUqcALECiJ71c7c7QN2ASfms0VLBrjh8xoE12q37K3fWf655qXM3ybQ0WXM8wH4AV48C6DPHKL8dg6Us8iyyCCLmCogngFuwAwuR1OYAbYBIVwnMy30mJDqXk2AxKKPjTIfJ1kPrOAEIIRtSQ22WumMymbxpC1cR9DOdTiwCwfnZ1AknyUwt5hAS+5hH5izlrGQDCB9ZyEL2oGsQxvBTL/61XuAk4DINGICGuyamzvaCstXddNVr1u/X3onLvK9fWwgkkGKpkczW0iVugh8EuilxAGwxzijHzMATt2rwD2ZeIBli9VeAhpLoG4uWKvaPj0IqUXP94Vn913W9smo+1nV7/N5uuzTK0YObDIaAJ71/DDe2ERhF46aT7iVxs+xw6a2Zm24yDjht3p3eC9MKebnNedzKwNEsrw96Yf3YPxBPiA/S7sxbpTjMFaUh7G+MM/xOzOXuIGpaScrY50bv7kYiDrOljZeF7X3Nf/9JnHIRmx6AsBH7IhNDryeBGKNDhjWzup9ulpHUpSZbSLTrikDSO1vXcxMXwYwYqFPRnap/2grLKFRy4JvFjGriFXwVq+pS08drNIJWEkWUg4WANqJXjWlIDyfBTt0AfIbnoHF6wEP2O1e9KLzO1q1LhfZ1gTfSx+W+ZhhWtg4ZMCQiephZVjQc9MDAKZYCDbmsGgGoJPvDJ5hMQSoaQ9c8QRPKV+oi5cApsUAt0BT2juDtmgTmwUBOuAHcAFLlBHoLL7qshlXKQXhGha8yHRtlqiWgeK8lgRiabyt/V4QoAaY94ix6mZI74DZQuhTN5pqJjO9VRb/AIAYDAqIM3A0y/pmeyu7XVnt0YC+ng3mrj8HnmsAmpkJAF68Q6bsyowv2Aiph1Itq0BmsRM1sFbApN2AN8apbHEC3wSAyl1a72YytHga1maaGRlDbhJb1QPz924wGU+MBzbiz3rWzdl2Mg+vFSnNMgLz7rxNVhHmLezD+5LyiUp+sHFFU87715tnK2Mt2zuSP7w1bg/1wozY+xqfs0kcshF7ngDwETtikwOvFQS31gZmCQDoCLjWXqOez2RYNZS61mAqAZVrZA9en+vCQOL6Z6LHjQroY+EACJD2p7rvW8/iAm1QEnZ805v210DDK5hiEUavyMFCzYJL+wWQtYQybdP1zOaErAOVEW+Bg5b2l/PQyE6Vf24w1CwmZoCAlXr96/fgEFvwx3vz75S3JEskEARwcY/MCSu7KKgykwMg+RDmK93k6Q7Nces4UMcNqw4Qeve79/cE0Ojqz9zHPD8MYgXu9BULfQa0HfIcSwxpa1xVDTDXUNYB+OJQg5q5nWXj3XywYYI1VfJCn/Md/S+IBsAQWMiRHgbb1WPkMuXdUknoi84DLRs6DzDW1KK7cZaVNfUd9xfkJojFHtjG37HhYKxYJpnfIVPie55X1pK5AVAMOGPzwZGFWfB+8c4SFIycgiPba2q6llzjUFvpGVNLO5eHWolRpl4kDaZV/JR60BbskYDdktFu2Jkz9QxwTzxy5jZvPYtewiyAwWYlmd7KWCuL6GXn8dm536hM7FA73ya/2yQO2YhtTwD4iB2xyYH3iEfsdj/xE+ufuhbLAJAwmVV2be2Vzc7AZAmIajGfgE4DuNZc3+wAgFMXC+4nQ8t1Aaw9Rqx1LwGLLDQaNxYZWBKANYso4CtzArsgcz2r2ckGp3Za7aUJ5VPTmW5WNa60G00ioM5UZaZ4oh2wywIDnpuAKAES35MKjIUQQMn/Zcl5HnL6qtOU5ZcBou9NIcY55AvlgAXmwKa1ZG7acg4othg13bGZS5rr5YaIf/MH0JgsMWOAAzu5oHMeQJCNAN9bFc+xaMGJuQppc2OjBkTNPW/d3MjY0UYYbpk13ot81xh3sMWAWzZO97znfoy72eJ3ZrqwrVyPfuEPIIiUgxwyyQSyYhPHYUt/6bWW5A6HbAa4do9RFYAabMuzASp5z3S706d6ohij2IDxz7h0g8BnADpd9ve+9368MBfAWDKWzXDTAmdVG26fZFrIGiCnd6JXcn3JVvX7XuDk0uYhi3pgaz01bKys5AgD7PvrhpH3Dhtjb75TjmNxIQvu5DthUZzUYVuJsmqT67vUs4eeIYPmWpu4NevDHXLuJnHIRmx/AsBH7IhNDjzAmazfRZ5dzSaT6lOech4ktvaamX3CoBeDLVLvaGDMmusrd8hUO0zgsj6C+kxtNjcZ851BI1bb8vx8DhZnXICZpo0F9jd/c28nUgBZWCFzMps72LRvLpgVFJhPk00DB5IAFhxAkXKRTJulHIBFn3/zvFSpsrIV1zDIj3+nVIM2vP3t+98JOL0X38kE8TsDKWsBicpoz2n2ElhZ4Q7WCVvSbsauC7E5jNP9CvhIWQk25f41py8Mn2VtYbZY5AVVWSSgldN4boFuMVdrgnZkuAQh/M3zAUozkC917Y5j2p/AWDvxe8uNpz7asYtd+d6qgJZdrs+yBNTy3TlUl9kC1n5WA/l8l2k/7GUGb1bNLm0zowweAgujZOnrfK/cHPC79EpMRZhuvAtsKKzGp64cUJk6bmRDS4GSS7aq37eC2fK+6dHq9dlcwJylwXl2YxdghtlMKD+xQIubLoN82YAQJ3Gf++w3Hb7Dkgxcc05b72Y39c0+Q+aDzkqfa9aEO/DcTeKQjfTDCQAfsSM2OfCmss/dVF1rbCFo7OVmHb1WBcAAM1gD2IV0o3O9ZMDUMwJE5/IBA3xY7JhQWYj4A7sJkLL4A0Ah81+2FnLcn8gVDFjjHAAHEzGud0BDZqnoZdUw1ZKpz9Am+jueibbiijfC3xyvCUbSxYqkAUaPRY92qLN10XAxhr1FGsEC5uZFZheQmMwhfQqQYlHzOQDPnAdY7DHAphFbWvB7IKdqbrPACm1RgwzAth/MaJHV4BIo0n6qN04VH8+AZJZrBkDxXNqfRZvDaliw3AIF+h+mGFZeeUSP0atjP5+X7wQYtZoiWm37Dxund4D3DdBLv/A3TDFjB2CBDczxTEW4Vk5uN4MwfJRZrppNNlMGZaa8J7X5a4H8XJGZ0flBACp4zYqO6QnhfSI/L4BUWURqb2k77K4VAs2Hnc+XwDK1sK0CLbTLdICOWz7jnq1KaAmka+7xHpuewFuJldUSk523X8zIoh6fe/bAdR2TZrSQsdUbxDWRuXFkYQzfRyRdluvG9owj5gHblxtN81Pz3mU/Ohaqp8cAR58hN/dKJdaMozv03E3ikI30xQkAH7EjNjnwYBcvkq8XewFM3OHzf1zpI0FwLVtnGeZkgHU/G8giY1rvNaILZuI0tymLWRZTyKC4VjYKFwrALyCD+wEmCXZDBpHSgWwLz5Vyi3x2mUYWAp7ZPsEtDRhTt6s7+p3vPP91Mjo8i/KDmkOzLorc03LHZntQvwtgIEAmWa9sL6ALO00VEs8i5LNoAzZDa7lGRtICiLBC5mnVBY/96CvswUIMKIHpsxIViyhtoR9YhM2Lm6VaOYdD+QQLNJsfI9QBmRlUx7kwXSzWBlfZr+a8Vl5Qc+W2xnfLfe34S7e5Wk0/a2n1sQF2xtVvej6eG9sBenkHk5XkHN5Tq/7RPuxnVgzuxVzAu5Ha89x4mJpOZhpb+NytzUEvo0tvnh1hlQWvXAO3t1IW3kf6nueo7nU2Erj29X4kQLZUtEUs8DRxLnYiP7QpEc1uwm/Ru2Jf3hUDXgXPSh5qlgPaW9/XOVlJtVEvSKxm8HCOcuNp5geAdmVgs3960greL2UNNUA4s4WwEQUo864YbKvnyc0PmwM2akgoakaXjPng/EzFpxeC9roxUd/fKoByxHX8ul96kzhkI0Y9AeAjdsQmBx4L2EUPwJBgg2v1Mkv07pMZJ7gW7CMTHgtSaoAJMDFDghNxvRfXAiglC2xRjQT6RiWzmFn9SDaUdi6xeQISg2hGNcmtAiNeQylGBnXJnpjCLEES7ayR+Bn4ZKAN58lKARpht2k/bHFKHTIwJj9vbSqSgc1MBNzr0Cj36to097DBNsn05oKYWQFg9rExh1pLgIoR7/Q7IDCDDdULsyh/9mfvprro+81BZghQhiNgEXRkAKDR8HMlolusqemj0FLKZNWUfNhGuY2ZIQx845nNLOJmJjcPALMMXMzUd1Yva6X08n2txUl4J1tu65QmHDoGltz/tCmZXp8N+YqSD4P8cMsb5Ej2kLe+9VzuJZBvAbgslV3HPvNT5iA3sCs1+a2AVG1ZC3OsYcVbLG2rZHodfxU4G6isDbSpqebIZQ4YrYw698/7MR+/5CXn3gOkQnqqnGcEwDXQjfEJGGfcmh0iwbibLmMVGG9sttPjArPOpsfUgC2v3ciG6qLr3zX7/SZxyEZseALAR+yITQ68FgAeYVHTTrJP6WbPaOpDbArAArTkkUwUEyMMSwKZ3n1oH4duvDxPdrHq9JZS6PCsLBiwb0gJZAGXch9bEjnbwKL6yEeeg3tTFKGdYwHhXmabMLitVjnL9lYQkcwc/aKejrYCHFpHAnXaA4DIHMf8BgBm2indwkbG63pWslFzo7buWYN5WBAFayysaHnZrAAAk4kSGMgEsxnjnNTFyn5yX7MowFSzeDLeBfxujFpBe8msGRDI9bK62Fw1Qc7tuberPVpa4+xHxxtMG88ho23AojmyeY8MWGKspp7cbCi1EEhqnm1XtrtXFKR17hwD3AInc/bJDVIC7EwBRl8o6RCcYks9Nr6fVQrDGCAewnziVkDEkwLza1YUGHe0+4wvxhSpARmjmTWklZtZ27TSFR4yP/ben1ZAmWy9aeFkvNlcp4QCgoDxT1o0A4Uz5zY2s+jMy1++26GXNn4E+z3nOee20MPE3CYZwfsLa4t9MhC55iGWgTdXt3m+zcjBXCdYd07ifqnf1j4jG6rLsv81uc4mcchGbHcCwEfsiE0OvBYAZqJh0RyVRqghNb8jCwMLyEWC62TfEmhwfQJWuG4ylHN9Vote1HP5HhtYYjeZi5auLBdtruUiIPNWy316P2zKOcku+R3PmlkiEnzWTBApN9BlWIFEBWqw5K961c35klnMrJw2MubN8mERDH6Ti44bAoCYadYAG5mbd4lVb4GfHnuVDLDAMjXh2BCbpydAEMPYcfEHHHHfujlSJsMzmBWBTUcC3ly41UwKPJdySdvm3sagAiVBjLZtscW1eEhrc4NNkOxwbgVCLdmJG62qh13DXPbG15wetVVWm/OzWl/Lw8G9MruBTL3ZVvJ9xBbKgPJz5xbGAHbCu6NWWH0rXipLAqd2nnGUmtuRjc3I+zdyDmOkx8yb3ox3lvZZZtuNK9dnvmfcYlfHTubvzXef8WlBG+cC5lCz4TDPGcTLdc1Cw8ZF6QNrDCyum2TTo6XHx3mR9xB762VxHrTdOfbTVqMbzhH73ibnbBKHbMS2JwB8xI7Y5MBjMjpUr5u2ApBYAYjPW4U0WuznnL1pG3/Mw4l2jMmRCTorec0x1tyToxUYx7U5LNFJBgY1oK0qZZybLJxBcEzOFIwgD3BNzeXzsRjAMKEp1MXee3YWXoCOGkPsaiYFS/VmHtEekEjdr+3SbZ59NTLmaRMuSCUnPdckGuTcnACAUw+4NlglwbxscGVnXfh1+/M8NU1ffUYBKr/NKHfHEmPjUz91L+fILBZEv6NDpz+R6FRwLEioUpWWjefYqepG91ylMICB979/f9WWXMIgsUwBZxuUfPB/GDlL46YtzAQhyO9lRMjnWutu7oGTlLQANDNlnekLmQf8jjbCCHIQGMkzGzwIUDfgsdUH6qidT3KOSnLA4hBWgVNHzUbK0t6MCVh2sy607HFsRrK3iXTjULMl5PulxEGdLmOAP2qqySmOnfQq5FyXc7BsukHGxgQgN+Meeh4yxqOm9OPdY97g/AyiTU8TY5drjeZuH5nn7oBzNolDNmL3EwA+YkdscuBdhgYYm3EdXKcGSzBp9sDgGhtnEnuvtwRuRq7PgsaETLAPgA3XMLlTWTwBFkTPm8ie67mY6d5Uwyawpk26RVmcR9hVbZ+yCRbRRz3qnMXCbWheX/WMufibwD6jtitrl6V/bWcvIK9nO3XeZiPgPMACLI7FFwACJsPne9zHBiONBPtkNgv1frrQAQ5vfOPexmw2DNDThct3snm0i+eT1W2NRSP2YcYon83z0f+wVYAb+gZvAAf/V+bCRuD+998H6Mlm+fwsyFbJIzBsDuzL6GYQWQWTmQWD77CPKegSwAMeUgeZRTsAjLn5MVUcoN4+4tlTFmIKOFhCg03xvrzvfeeBjy2dc9Wjj8he6nir7nqzA1Tgk6DIVG7JMgqa003PvSx+Y9CqngA3Qabvsl0AZDOLMPaU32AvgyMtjGG2B4POqrfGZ+PaV1m0oXff6s3KPMCM+SwUU3Nhp56a56Fk9M/8zP5d4Xew8D5nzZJSx36rgBJjqRZC8h3I7CgnhndktbvpnE3ikNVPcZwfnADwcex6dtVNDrzLAsAsEujh1FXywEt62GrrZKP9beoTDYqCeTOH7VJ/yWQBhhI4A2TQ85kTmOuYY7XmH26lumLirWnYTBHGgsi1BB5zDHWLKWcR5gDIqUmEEcEmpuoyAX2CrAQgLFi4fVmw2ZiYA5brwuLAnvX6qNUmdcCAXN3JukdlYHhuA2zUEuqCHskMIcuYeYVT5sHmg0N2VgACU6Q8wfGgjEcJTC1HbeU/JDX8O8vdUgwhS7yaLst7q5GkX+ljnx/Q29qItMboEhM4586W3bVPAbm2TdDueE4tvraoRVFsH2DTfNYZmKT0ADsB8vN5E+QmGFmbGs42VPbXdHNuPDOjgZujnjyDNrAhcS5h/lC2Y+YI7ptl0DMLDXbK/LbOD8qB7OtMSUabemm6lvp8aS7rfd8CsnWD0pLUpFyCDR0eNt997GSGjfqczAHqzvM9z/bVzdCcZEb5FOw5GxPm0UxH17tuCyAfasM76HebxCEbsf8JAB+xIzY58C4LACdQPVT/a6qwLCqRkfgt1mepv5jQAQqwfHkYwKUbDRDhQmkqNM432EYgZ6AV4Dndywm0a5tamR9a7eb5AawWeVBKoGwBMAwIYZGgrbqvuZbsjW7MCs5hp3we/hYQjrQNIECbagEG+hymzdKvLIx538zbaXq2uWpNyQAD0g3sc4E3R7KVzpCrmL81+w95AO3FXc3fphRjrJs7l+dnbD3kIfv7JAvF59ra9Flqz7kf10vXvIu7/UBApflQe/mkl5irBJ2wsJm+ivGMLcxaYllwGFvGBPeGmc9+NtCS9hiZj2zgbW87Z8ozl7b6Vt859Zlcl80kqdIIBmNMmDUgx/TS83FuSyJQXfIy7erHM+AtbZvXwlawhLQZppI2stGl3fQf3xFbkAytbvnUfmeAmJlOZOzt65YmP9N0MY5tu0CP9swxwD0pSY/J7aVHS4CYqdmQ8VhEwhRiWViIcYAdqswqs0fwDG5Af+EX7j6bjfT/0tzd+v5Y1z2kLdf0N5vEIRux5QkAH7EjNjnwLgsAA96e+cz9ogZgqym2Ru0K64l7VnbL/Kx1t58p0UavnecZtQxjlhpQtL8sEL0E9pmJogbYzTG9S20UkLOowFTVfMiAUJlKMiHAwgGAYHdZzCzsoZ0yPRzt4voWptCNPpebONvbSiPnbwEVgHYj7llIBRsCVdyigHYY4lreeskuyYSSiQKQZ3YIQaD6asYKoLcGcKp5tSw1Omw0kRxk32CsUrbaVGLmCnbsAcLoF0s/A6wE6FyjFj5gXMAM60lYYqpaDB62S7Carnw2FpbvNbsFba4ZIdRwGvRnPtu0eZW0ILkBwNfxpM7YIDr6lHFqRbm1+X5pwwgjWgGP6QcNOlWiAZtpiV42BLTNDAQ8P32rfIH321LKbBhkg+ljgD1j2uIu9DWAWomJwLVmLNETk+NfuUzN0NLL1CCb3mPPM/UiOcLTO5KbsGRbU1JiijLzV/PsMuow7LC6ZohR1iF4b6XCu4xAyKX3//T9pVtgkzjk0p/ysAueAPBhdhv61SYH3mUBYCwg43eR4howNCzqMpZVIylYAPRlZayhHignAdpYBNJNjJYNJrNO7t4XYPKKV+yBlsUWjBDn8mtkH0o+TGkF6Fd/aVJ5Fm80r/ztQsriKxtT2UqzZiSjY55hFjNAlcE69BOuftndORtalc6AyZRJKIWg/SyuHIAQzhFU8m9sLXPaAoUt5qsyoVxbNtKiI+qaAT32RStLiG2uJaNb2Uq4JqyfxS8AR9hLZjiBF2Mxo+sF6D19b7VzginBpzpvKw6iS8eWpt5iE8S45R68dwAWWT1Zff4G4MuCVtbRPK/YDRsYZY9LvzKdtMv3xHHL9ZGDZJW0NUD4EDZPQMc4Y+y6qQNU0ueOZdpIwKjsOP9vPZ/ttS0/93Pn7yD2TrmIXhcYdAMyub5yJN4930v62MwEVcud0gO9D8kk18IWjhfZb94zqlf6rsvSZ67dBNN6X8j+QFvxZnCQD5trWVzIlIuC+QTVtJkxyDukvr3HVB8yF59+c2UW2CQOubKnn7/RCQAfsSM2OfAuEwDjEiewrOox19hUQKcMoLpXMwsDmrHMBsF9kjlt3TdZWnWiqQ9dyv4AiMxqYSxKgt4MOBp95pYEwShqmSsWbsvSpvvaFF3KHjI/q5rWZCJd3AV3fJdlgrPNrfRxaqj5G8DFb3P8wEYTha87me98PhZaUnfZ1lYFql6Kt1yIU2LBeON+XAu3Ngu0AN2y1vlMpmYi2I1+fPWr9zprs0e0tM+weIy5DERETkOfKDfIsss97eLceBB8ZVEN+zurXZmBAmBnyW+eiTFrhTMC9GqUPeOklhLHZkpD6E+DxkxlaJBdgnPAE/fBxgBmwGeWh15Kczf6TizZinGuzAS2nz5y08WcoGeEzwzKkrH3+cxkkOnkON9NAd8zngyG5G82AMwVZo1hrjLtoSW1MydzgmeurfwnZR6MW1hXvRtz+cdbGmulGWbH+ORP3ve/DH7mzKUNek20Mf2cHiQBOYxwbqbVB5uVhw3sXMGPy+jr0zWOYoFN4pCjPOn6i54A8HqbDf9ikwPvMgEwEyKLxCHZH1rgw2AnmSvZH9kpo78ryGkVvGjJE/gMpjUBMAxwZn9IXaqRzcggSGWGO5+E8LosdX0vjYheOjgZU+zIIg7gYAEH7MDSAWRYdB/84P0mo7JtygUEaOpXuQYLvayhkoG8Lm3OPmjZC9vAfLKwG0SXtoMdh7nPUrL0Uep5W7bJ/K6A6Ewtls9Yme+qAc08trLCORYse0zbAciwuW5ezCtM+xJk839T/CXYMN8p/ZRll6vGeU7PWXPdCsAE9IAYAI1u+l7b+Jx3zuIwBjnyf1zlsKOANjcjXJMNzJvfvP9dZfAtiACbaZsEZi0WslX4YS072JKB9DJNmNKLtmEjD1l/+otx1KpGp4bZ3+SG1/klwWTaHib3LW/Zv4umTyMzhplgWrmyYec5Wt6A6t04hD1XniM77SapVR6Y5zNjiF6nDJC1GiCMsNX0aFPqo9lg5ViY0wEvzYOn72+JBTaJQ26JJe5+0xMAPmJHbHLgXRYABhT+4A/uduaKXGNHGU/BigANgJlBJDXLASm3WNh7QXctUJ3tAiRlwF1mf9BtKaubKZYssZv5SbkuwO2Hf3i3e8c79tfleq0cy7AuMq8VaLKw3uMeN+uQYbvQ0AJgYDzTJtXOAHarJOGapv2ABPSrpn5y8aN9WQjg0z99t3vnO2/O5+z10YC++903yyUqyOT/HNiFewhU5kAt56fO15zPLKy4bA1EAgxlIBhMK0eCSIBY2h/bupDPFU5Rf00wjyAIm8vuWRCh6q5zo5GygQraWyngZM+yMpsp7dSzmn81r6cOlGdXj8u/0TD7jDw3myzHf0o8TAOW5+cYcnPGNajyV3XDyfoBDnvp7Ub0vXnfViAXmynuYd/Dlt73vvs28RxkRqGdvG+5ETOVIJs15pBk5ZVn8TsAX6bsYsOprCRTwDHGUl6CjfAimPLR51ACliWEex6BXkDbmnnTdydLafPOL2VcMKsDbTDIMPOMc102eI4/C32Y39g2HiJhWfN8azdRa659B5+7SRyykf44aBYmfAAAIABJREFUAeAjdsQmB95lAWAWW3Kx6mI81I6m27I6UCugg2sbaOX5/j/vywRu6qJWexIgcy6LpSwIAIyDcstWgmJRhDF72MPONbmtgBUDhmq+YsFuZYBr7lHalam4clGjTXOptpJVgg3S5ZmSBqP9WwVFuD7tVF/L/3WTAghlvgDVgAAyDgi8rCLFbywOoD4WxnFJ/2tf54KbOVZrcJagiftZxQoAr/1HxiCgn3sYDJQZHLABzwyzDSAQEGcarJGS2S1AklH5bGosdZ2ShyxQkfpONzgJ2FLykZlTzFqSlQZbeZFbm8VabU/A5fOYbcGiE2nvteAoz/e62MLNnrIj36EMvjOQL/X3MLts+DiSlc+UafQdY0iNLOAYm6pt9nsD5qq0gLmO9jF+CJ5DGzvK4q7dIMyN5aVrzQHJlhwjvQ7qi29FwNvSc42836dz7maBTeKQjfTTCQAfsSM2OfAuCwBjN919rRKs2nWEleXcnp7QSVEXtDpegFkFuyzgRPzDrBlAlGyxzw4QxJ2eyfZlSTMIivNhTKvbtC4OCW6S6cU+WT60NdYsH1qZwXpuXRxc5NIdnYypmldAq4EvaEmzIlyy0eqETdnEtcjywe/ReaMPNHK8FmGwGAQ5VE2OTz/A3OGCrUUu6rMlGBLwq4+1AltukLhHuu2tZIW728pp3sPNBn8zdljgGR/aM2UsjtUsxlIZxUPniwoQzS6SqdmyCEiPRVabqZyHTQjZIDJAShtmRS4YayQCbEq4p5sZWXMrn2mf1nMeC6Ckzl8JgqDY7AwJurVlpihkjOINGEk5xnjhua1YmBkwWmMxg1FHCry0bLd2gzA3zpauNdpPS9c5dKwf+ruttefQ59jY7zaJQzZioxMAPmJHbHLg9QDwElBt2UlmjMC16nJmkaVilmmGADKZeorr0RYDqXrMmpOiqbxMNSRTAcCElRTM4ca1QIHuPiPrdWEn09ZiOnKBNTXVUpWvDNxygaUdHMhE0OUidYAhNZDHalzcL3Met1iluji0FrnewpeSA4Jv1BonI2wQVPaz16sSkMrSm7KLjQJuU0CCv8nfLqUHy3v7vDUvrOBOVpSxl1H0ACe+U7ephAT3umMkwTS2Nh2ULPwIaG+B+DWV0CozWTWxa8blKODJe+plcNwtjT+e91gA5VjXHZnb19x7zbkj9z7WOdelnSPv0EkWceFRskkccuGnupwLnADw5dixeZVNDrxDGOBWEFe6JDMRfFbayopJAhdZG8DXGjdiBQxa3MneGvHoSNUxzrE5F+331sS8NFnPLUxLv20tFq3UbT3XZevefJZgvRVkl/rB3iblosBqri96Nqt926tQ5rgz2r3F4I1sLpbGyygI7V0nf29bW0Fh/D4ZU9zxraC01n0OaePacblkp+vyfd2QtFKO9TaqazZCt8Ieh8xdV9HONZv6q2jPbXKPTeKQjdj2BICP2BGbHHg9ANzKAgCjBxv2ohedWwkNJcFRPR2gOS9reh7Zv9TgzVUJq/0yx24aGFVLlB6xb5tJ/Q8BGLbxIr8dec5RIHPZ5420be05tY2jthtlxkbPy3Yf8pve75fKCs+x44dsJuZ+M2rbtX249fNbQXoGe87JIK6DvbYKNHub9FuhR976+FzRvk3ikBXtP+apJwB8ROtucuD1ADDMbM2xa3R5RpX38uZqxxYbrOSAc5jkdF/PlQet/dIDGL2Fao27/ZAxcNmT9UUB1NIzjC7Ml33eUrsO+b6lh76dFsnRsTB63iE29jdXcY+LtO9Yv+15j7jfSNaFpWDJY7V75LqXPXeN3PN0zi2zwCZxyC2zxs03PgHgI3bEJgdeCwATAPX0p++DSMh6QK5L/qYiGem0XvayfVUsAkxqIvlqv1ZAy2ik9CF9cUyZwyHt2epvRoHMZZ93DHuMtvEY9z5d82SBkwVOFrhGFtgkDtmI/U4A+IgdscmB1wLABKjNRX+vsdEJnKyx1unckwVOFriVFhiV/NzKNp7ufbLABSywSRxygee5zJ+eAPBlWrNca5MDrwJgJA1kTtBlt+UFYU3b1px7rDGwhTYc69nqde+kZ70qm57uc3wLtCQ/120sX7f2Hr9XT3cIC2wSh2ykh04A+IgdscmBVwGwBS2UKZjTFukDuXcz2K2XiWHUhk7UWXd+jTxiVJ9Ke9acO9r+NefxrAYEXha7vub+V33urba3z3sCA1fd89f7fi2PVc2y0cvGsZUn38q7txV7nNpxkwU2iUM20kcnAHzEjtjkwGtJIJhATb1EZSxKfqL3Jbcv+mByqHJYJngpEK5n01Ze2TXBamvkFWvOPcYY4FkpDfyhH7rbZRDgMe61hWveantrgxMY2MJouN5tODTLxq166q28e7fq+U/3nbXAJnHIRvrsBICP2BGbHHgVAFv+1NRLgF1KAFt4AgD8B3+wtxJlgink0EqBNmJHJ+qRpPsj19sy63dalNb04OWdeyfY/cRyX954mbvSnTCWrsaSp7vcQgtsEofcQnvkrU8A+IgdscmBVwEwwBf2t072CVZHSowe0Y5nl55b9E+s37Gtf+uufwJ7d7f9abzfuvF4uvOtscBpHjjY7pvEIQc/zeX+8ASAL9eeN11tkwOvAmA0v7/wC0e0wiVdem7RPzE1l2TkDV7mULB3Oy+Yp/G+wYF6atJRLXDoPHDURl2Pi28Sh2zEdCcAfMSO2OTAqwD4gQ88Lx18RFtc+NKnRf/CJryWFzi0308L5rXs7lOjTxZoWuDQeeBkzt0mcchG+uUEgI/YEZsceAmA0fe+7nX7HMCn42SB28kCpwXzdurN07OcLHCywIEW2CQOOfBZLvtnVwaA///2zgNIiqJ94+8hOUlJFEQOJGeJIijwKaEkKFKkgpKkiEiWKEgGAeUkihYgOUgGkaB8goIoUSyQHI4PCQJ/JEv2P08vc8wdu7ezs+ztzOzzVlnqbc909697Zp555+1+Dx06JJ07d5ZNmzZpGwukk2bNmsnIkSMlTZo0fvs0c+ZM+VhLmxsbGyv58+eXgQMHSqNGjeIdd+fOHRkwYIDMmDFDS2J2WSpqn/bHjRsnJUuWjFfurJblrEuXLrJmzRpJpm0BVr9+fRk7dqw89dRT8cpt27ZNunXrJrt27ZLMmTPLO++8oyVB+0gdY9ZsOfGMAvi//6X4NTuYLEcCJEACJEACDiNgSx1iE4ZJIoAvXbokxYsXlzx58igRee7cOenevbvUrl1b5syZkyiKxYsXK7Hbp08fqVmzpixfvlwmTJgga9euVf+vW8eOHWXWrFlamvYxEh0dLaNHj5bdu3drmxnskRw5cqhid+/elXLlysnt27eVoIZo7tWrl5btN5f89NNPEvVAHB47dkxKly4t1apVU2J5//79qhzaPGzYMNNDZ8uJlyIFQIgkTy4aANN9sXtBN4d82p0920cCJEACJGBPArbUITZBlSQCeNSoUTJkyBA5ceKEtsOWtsWWZvPmzZPmzZvLvn37pEiRIj5x4LcSJUrIwoUL48rUqlVLeXl/fbB469SpU0pcjx8/Xjp06KDKXb16VfLmzStvv/228jTDvv76ay03QVPZu3evtrWtZ2/bLVu2SOXKlZVHGIIc9t5778m32v60h7X9cFOlSqX+NmLECBk6dKicOXNGMmXKZGr4bDnx/CSzcKqQZMinqSnJQgEQcOq1EEAXWZQESMDlBGypQ2zCPEkEcNWqVZVoXLFiRVy3b926JU9qe9AOHz5c24VL24bLix3XkjLky5dPli5dKg0aNIgrgZCI1q1bK08yBPX06dOlTZs22ha1/xcvlAFlduzYobzAsJYtWyqv8O+//x6vNgjlunXrKs8yDGL6jTfeUCEUukG8w7MMj3TDhg1NDZ8tJ54fAWxFSPoTCvi9b18PMs3xrkKO/R1jCrChkBtCPh83k0AZsnx8AlauBScz5Pxz8uix7STgnYAtdYhNBitJBHC2bNmUQNU9sXrf4YWtVKmSTJ061SuO1atXS506dVQIQuHChePKbN++XSpouxcgnrhKlSoqPAHhD4jvNdonn3wi/fr10/I43FSxuzgGgnoBMnMZDHVAkK9fv16uX78u6dOnl8mTJ0v79u3jlUPscl9NyfXv39/U8Nlx4kVF3dParscxR8X1A/kwbtzwHRWROrXIE0+I9oIh8vTTHiELg7D94w/RuJlC8kghRJ1kzChaaIzI88+LYFtiPfNovXoiq1Z56tWGRPPqi6RMKVp4iogWoq2FrIjcQ3cMhhBtJLDTDUnrsNOb5uBXhn5Ur+5J0qZFwqjztWgh8r//PazXV0+MAgFl3n9ftC8CIi+99PB8epv0dqHtyB+Cjwb6bnMo066dyBdfeGrS30nw3+fPe5LvDR4sghDtZ5/1JJID80mTvIdso116W8BRf59M2F5kZsb5EQWjj5/2cUblNUHyP+09UnuxfNguY9vAEMxgaJvxnTWhcDK+8DRu7OmHv2yy+jmQJVv/2KO3Ue8b2v/bbx7mV648nDP4+4ULnnHWPgap3/ExR3s/VoY24Jw4BnMN/493W70cxsrYPlz2YIEIK/BCUkT9xU2fG1bFojdWmPN6dnBjlnD0VfvopNoMM/ZZf6HENaP5B1Tfv/vOM6fxQe30ac/cxjWdNq3n2sFc1Oc66sFt9+TJh9c06sC1rEWrqT6jPhjqT9h/X9dIoH9/HBxRZ0Ie3nL1+GKPsYcZ7z2J9eNxtNm47jjYDPOBMA+k7YGUDaQNVsuaaY+ZMlbrd+pxdtQhdmGZJAI4hfbERfgA4niNBvEKcQwPrzebO3eudsNuocIO9DhelDty5IgmKgoojzIWsWGBGsTwgQMH4p0Gwhq/IVwio3YXxzGvaHf+L3Tl8aA06kAoBha8IZzimWeekfnz56twCaPh7421p2dMTIzX9l7Rnhj4Rze0G6L7pPaUwbF2sKgo7ckWZw8FsB3aprchoYhNyraFs24z/YQghlh3ouFlBGIeYnTaNE8Yup5k0In98dZmiE7tHVu9rMAg3iEy0VftNuR6w8sdxDPENl429ZclCJNWrUTbksmDAGVoHkb6NQAnhLZcRhlEMUS9vkzD7vclO4wlWGp+LDW3cud27n3ycbOkAPZNNMkEMBaP9cZrucEQewthu2TJEq8t1AUwPLvZs2ePK4PY3IIFC2o7eK2UepqbECJ38+bNylNstClTpmietnZKlGbIkEEJ4FdffVV5d42GWGSI5507d8YJYHiJmzRpEq8cFstBFGOhnTcbNGiQdsPX3GMJjAL4cV/SPJ9TCSCsQPvQojyVbjb0Ew9i/cuDm/uaWN/w0gNPPHhEOgt/cwAfOfVHmOYXUl8faNYIuGyNtzUID46iAA6zAHZSCMQN7ZshQh2shEA4wwMc1LWUJAcjBMBqSEUwDdR3uDOGUARzvlAcSw9wKKg+vnPSA+zbA4zwGnjDYfQAezjooWXwWBpDnOgBDvyaBEuEM+H+ra19jwsxC/xM7jqCAjjMAjgpFsG1bdtWiwO8wEVw7rp22RsSIAESIAESIAGLBCiAwyyAsQ0aYoCxkwKSSsAQYoBkGGa2QStVqlS8hWvYrgx7CyfcBm3ixIlxC9euXbumdm1IuA0a6vxDW+mhb72Gc2AhXsJt0LAAD6EWKeHS0QwL+BDe4Pht0CxeRDyMBEiABEiABEjAWQQogMMsgPVEGBCkxkQY2M/XmAgDXlxscYaEFbotWrRIxeJi94UaNWqohW/YnsxbIozZs2er+FxsY/aptqQXMb3Y8zdhIgwkwEAiDNTTs2dPyZkzp9dEGP/Rlup26tRJDh48qMohM5zjE2E469pla0mABEiABEiABCwSoAAOswBG9UiFDDGJxWpptX154ImFZ9iYCrmVtkwYAvjfBAFi+BsSUeipkLHYLGEqZGR385YKGd5jo8GDi+xuENDI/KanQtY903rZrVu3ek2F/ASWN5s0TjyToFiMBEiABEiABEjgsROgDrGBAH7so+qAE3LiOWCQ2EQSIAESIAEScCkB6hAK4LBMbU68sGBnpSRAAiRAAiRAAhoB6hAK4LBcCJx4YcHOSkmABEiABEiABCiAE50DSZIII1JnIQVwpI48+00CJEACJEAC4SdAHUIPcFhmISdeWLCzUhIgARIgARIgAXqA6QEO11VAARwu8qyXBEiABEiABEiAOoQe4LBcBZx4YcHOSkmABEiABEiABOgBpgc4XFcBBXC4yLNeEiABEiABEiAB6hB6gMNyFXDihQU7KyUBEiABEiABEqAHmB7gcF0FFMDhIs96SYAESIAESIAEqEPoAQ7LVcCJFxbsrJQESIAESIAESIAeYHqAw3UVUACHizzrJQESIAESIAESoA6hBzgsVwEnXliws1ISIAESIAESIAF6gOkBDtdVEBsbK3nz5pVt27bJ008/Ha5msF4SIAESIAESIIEIJHDmzBmpUKGCHD9+XKKjoyOQAD3AYRn07du3q4lHIwESIAESIAESIIFwEYAjrnz58uGq3pb1Rv2rmS1b5oJG3bx5U/bs2SNZs2aV5MmT26JH+tsgvdKhGw4yDh1b/cxkHFrG5Btavjg7GZNx6AmI3L17V86fPy8lSpSQ1KlTJ0WVjqmDAtgxQ/V4Gsq45MfDMbGzkDEZh55AaGvgHA4tX5ydjMk49ARYQ2IEKIAjbH7wphv6ASdjMg49gdDWwDkcWr4UwKHnS8ZJw9jJtVAAO3n0LLSdDzYL0AI8hIwDBGahOBlbgBbAIeQbACyLRcnYIrgADiPjAGBFYFEK4Agb9CtXrkhMTIx0795dMmbMGGG9T5ruknHoOZNxaBmTb2j54uxkTMahJ8AaEiNAAcz5QQIkQAIkQAIkQAIkEFEEKIAjarjZWRIgARIgARIgARIgAQpgzgESIAESIAESIAESIIGIIkABHFHDzc6SAAmQAAmQAAmQAAlQAHMOkAAJkAAJkAAJkAAJRBQBCmAXDfehQ4ekc+fOsmnTJkmXLp00a9ZMRo4cKWnSpPHby5kzZ8rHH38ssbGxkj9/fhk4cKA0atTI73GRVsAKY32195o1a+TgwYOSIkUKKVu2rIwYMULKlCkTaQgT7a8VvglPuGzZMnnzzTelWLFisnfvXvJNQCAYxhcvXpT+/fsLGP/999/y7LPPygcffCDvvvsuORsIWGV8/fp1GTp0qCxatEhlisuVK5c0b95c+vbtK6lSpSLjBwSOHDkin376qfz666/qGi9cuLDpa53POk4jnQAFsEvmwqVLl6R48eKSJ08e+eijj+TcuXNqq7PatWvLnDlzEu3l4sWLldjt06eP1KxZU5YvXy4TJkyQtWvXqv+neQhYZYwbdI0aNaRNmzby8ssvy507d2TcuHHqRWXLli0UwQ8mmFW+xvn5zz//SNGiRQX/zpIli+mHYqTM8WAYX7t2TSpVqqReqHv06CHZsmWTw4cPq/ncoUOHSEHot5/BMH7rrbfU/Xf48OHqfo6U9bift2/fXsaPH++37kgpsGLFCunYsaNUrFhR8LJx//59U9c6n3WRMkPM9ZMC2Bwn25caNWqUDBkyRE6cOKEe/LB58+Yp78G+ffukSJEiPvuA35AnfOHChXFlatWqJZcvX1Zv2DQPAauM4dWJioqStGnTxqG8efOm5MuXT8B5+vTpRBwEXyO8AQMGyI8//ih58+aVHTt2mHooRhJ8q3MYjD788EN1j9izZ4+pr0qRxNXYV6uM7969KxkyZJBevXrJ4MGD406Jl4slS5bIX3/9FalIH+k3BG+yZMnU31u1amX6WuezjlPISIAC2CXzoWrVqpIpUybBm7Fut27dkieffFJ5E/CZ0psdP35cCbGlS5dKgwYN4orgM1Hr1q2VJ1kX1C5BZbkbVhn7qvCVV16R5MmTy7p16yy3yU0HBsv36NGjUrJkSeVV/+yzz0w/FN3E0F9fgmGcI0cO6dKli/ocT/NNwCpjeNLxkgwBja93uuHFY+rUqepeTHuUgFkBzGcdZ09CAhTALpkT+ByJT+yI+TUa4iDx2RI3UG+2evVqqVOnjuzfv1/FUem2fft2qVChgvpMX6VKFZdQCq4bVhl7qxVe4dy5cws+eY4dOza4hrnk6GD51q1bVzGdPHlyQF4hl+Az1Q2rjHXxALarVq2S77//XtKnTy9NmzZVsZhm1hmYaqALCllljK63a9dOsV2wYIGKYcd9uHHjxtKpUyfB1w2adQHMZx1nDwWwS+cAFlZh8QTieI0G8YobMjy83mzu3LnSokULteACHh7dsMigQIECyqNcv359l1ILrFtWGXurpVu3bkqoIT4Yiw5pohYHWpnDYPfNN99Iy5YtVTwgvliY9QpFGnerjH/55Rd58cUXlejFegE9tAreYCy2nTJlSqSh9Nlfq4xxwnv37ql4X6PDAuKX8b++p5fZa53POl6iFMAunQO46Q4bNkx69+4dr4eVK1dWwhYxZIkJ4LNnz0r27NnjimBxS8GCBWXlypVSr149l1ILrFtWGSesRY/NnjRpEhcPGeBY5Yt4anjLunbtqjxlMLMPxcBmgPNLW2X8888/qy9B5cuXVwuzdIuJiZGePXvKqVOn4r1AO5+U9R5YZYwawRKLlrGeo1ChQrJz5061Iw9emI1xwdZb574jzV7rugDms859c8BqjxgCYZWczY6z+tmNn4XMD6RVxsYa8HkTn+oRSzl69GjzlUdASat8EfYzbdo0gZcSMdUwLBzavXu3igdGXGXKlCkjgKD/LlpljBAp7K6BF2xjmBUYP//88/LDDz9I9erV/TcgAkpYZYyvQViMnPCrG3aMwa4beMnAuWnxCZgVwHzWceYkJEAB7JI5YXXhBRcGmJ8AVhnrNcBzhoVvr7/+usyePVvtDEF7SMAqXzwAsWjTlyHUBJ+VaSJWGd++fVvtUABPpFEA//bbb2obv40bN6pz06wzxg4bTZo0UTv5YH9l3bCrSbVq1ZTnHR54mjUBzGcdZw4FsEvnAFYOI34SN8/MmTOrXmIhBeLzzGyDVqpUKVVeN+wfjP0suQ3awwkTDGN40F566SUpV66cilfFZ1JafAJW+R44cEDwWdNoEGlIOoIt5hDKkzNnTuLWCFhlDHj4coGtuLAwSzcsgEMc8OnTpyVr1qxkHATjrVu3ygsvvPDIjjxjxoxRHmDsAkHGj04xsx5gHIlt0Pis42WqE6AH2CVzQd98PTo6Ol4iDOwza0yE0bZtW+Utw56TuiHrEDwPeJAhYQM+weGzGxNhxJ8cVhnjwQXhi22OMBbI0qcbsjvhEzLtYaIRK3M4Ib9AHoqRxN7qHAYjeCARB4ydH7BwFi/W/fr1UzsXYNs5moeAVcZYAIeFhsjGiXhfxADjZQPxwHj5MDooIp31jRs3BCENMKylwBaIiEeH4UsEXhT4rIv0WeK//xTA/hk5pgRWwGMR0ObNm1XcI7y/8PgYtyjSPxf/+++/8foFUYzUvHoq5EGDBjEVspeRt8IYn4d9xUcicx+Y0zwErPD1xo4C2PeMCoYxYtjxooxkGPjShG388OWJXzTi87bKGC/LyPz23Xffqa8a2NavYcOG6kUDO3DQPARwz0SyG2+2YcMGFTLCZx1niz8CFMD+CPF3EiABEiABEiABEiABVxGgAHbVcLIzJEACJEACJEACJEAC/ghQAPsjxN9JgARIgARIgARIgARcRYAC2FXDyc6QAAmQAAmQAAmQAAn4I0AB7I8QfycBEiABEiABEiABEnAVAQpgVw0nO0MCJEACJEACJEACJOCPAAWwP0L8nQRIgARIgARIgARIwFUEKIBdNZzsDAmQAAmQAAmQQLgIHDlyRJAhEVlU9+7dK4ULF1b/DtSQfrx///7qPDt37hQk/zh//rxkyZLF66mmTZsm48ePVxkwM2bMqLIKrly5MtBqI6o8BXBEDTc7SwIkQAIkQAIkECoCyKTasWNHqVixokrsc//+fUsCGBkFkeyjfPnykixZMlm3bp1PAYzEVcjGiIQpqPfixYsqk+uXX34Zqm664rwUwK4YRnaCBEiABEiABEgg3AQgeCFYYcFmpETG1qioKJkxY4a0bt3aqwDev3+/lChRQqWGrlmzZri776j6KYAdNVxsLAmQAAmQAAmQgBMIJCaAIWpjYmKUlxhpxVF28ODBkjx58ke6lpgA7t27tyxbtkydhxYYAQrgwHixNAmQAAmQAAmQAAn4JeBLAEP49urVS7p166a8tvDiInzh/fffl5EjRwYkgKtWrarigkuXLi0TJkwQhE5UqlRJxo0bp/5G802AApizgwRIgARsREB/aE6cOFE9IOHZKVasmEyePFnKli1ro5ayKSRAAokR8CaAr169Kjlz5pROnTrJiBEj4g7//PPPpUePHnLy5EnlETZaYh7gQoUKyenTpyVXrlzqfClTplSe5NjYWDl8+LBkypSJg+SDAAUwpwYJkAAJ2IgAHpqrVq1SD8k+ffqoFd3495UrV+To0aOSIkUKG7WWTSEBEvBFwJsAxmK22rVry65du1Tsrm7YPaJIkSKyceNGgVfXrAAuUKCA4FjsNIEXZdiZM2fUArohQ4YoTzPNOwEKYM4MEiABErARATw0Z82aJXv27Il7oK1fv15q1KghmzZtkipVqtiotWwKCZBAIAJ47ty50qJFC5/QZs+e/cjviXmAsevDiRMn5OzZs/HOifCHUqVKycyZMzlAPghQAHNqkAAJkICNCEAAQ/D++eefca3SP3HOnz9fmjZtaqPWsikkQAKBCOA1a9bIa6+9JkuXLpXcuXM/cig8t4GEQOB+gS3PEgpgiN8yZcrI9OnTOUAUwJwDJEACJGB/At4+m164cEGyZs2qHmb4nUYCJGB/At6u5cuXL6vwJix2QxywGUvMA7x48WJp1KiR+mJUvHhxdbpTp05Jvnz5ZNSoUdK1a1czVURkGXqAI3LY2WkSIAG7EqAAtuvIsF0k4J8AMrZhT17CreGOAAACJUlEQVTYpEmTVNw+dn2AIbYXL7JjxoxRWd46d+4s1atXV/sGHzt2TJBEY8mSJZI2bVpVHt7i69evq7hgnOurr76SDBkySNGiRdU/sHv37kmFChUEi+uGDRumFsEh9vfcuXMqK1y6dOn8NzpCS1AAR+jAs9skQAL2JEABbM9xYatIwAwB7L6AMAZvtmHDBqlWrZr6acGCBUoYY/EaFrY+99xzUrduXRkwYEDcXsDR0dEqvjehDRw4UJD9TTeIXewY8+2338qdO3eU0EZmOOwQQfNNgAKYs4MESIAEbESAAthGg8GmkAAJuJYABbBrh5YdIwEScCIBCmAnjhrbTAIk4DQCFMBOGzG2lwRIgARIgARIgARIICgCFMBB4ePBJEACJEACJEACJEACTiNAAey0EWN7SYAESIAESIAESIAEgiJAARwUPh5MAiRAAiRAAiRAAiTgNAIUwE4bMbaXBEiABEiABEiABEggKAIUwEHh48EkQAIkQAIkQAIkQAJOI0AB7LQRY3tJgARIgARIgARIgASCIkABHBQ+HkwCJEACJEACJEACJOA0AhTAThsxtpcESIAESIAESIAESCAoAhTAQeHjwSRAAiRAAiRAAiRAAk4jQAHstBFje0mABEiABEiABEiABIIiQAEcFD4eTAIkQAIkQAIkQAIk4DQCFMBOGzG2lwRIgARIgARIgARIICgCFMBB4ePBJEACJEACJEACJEACTiPw/+e05ZevGgMyAAAAAElFTkSuQmCC\" width=\"639.9999861283738\">"
      ],
      "text/plain": [
       "<IPython.core.display.HTML object>"
      ]
     },
     "metadata": {},
     "output_type": "display_data"
    },
    {
     "data": {
      "text/plain": [
       "<matplotlib.legend.Legend object at 0x7f0420815520>"
      ]
     },
     "execution_count": 13,
     "metadata": {},
     "output_type": "execute_result"
    }
   ],
   "source": [
    "%matplotlib notebook\n",
    "\n",
    "import matplotlib.pyplot as plt\n",
    "\n",
    "import pandas as pd\n",
    "\n",
    "df = pd.DataFrame.from_dict(data)\n",
    "\n",
    "ax = plt.gca()\n",
    "\n",
    "df.plot.scatter(x='n', y='time_without_using_primes', label='Não sabe p e q', c='red', ax=ax, s=0.4)\n",
    "df.plot.scatter(x='n', y='time_using_primes', c='blue', label='Sabe p e q', ax=ax, s=0.4)\n",
    "\n",
    "plt.ylabel('Tempo de execução')\n",
    "plt.legend()\n"
   ]
  },
  {
   "cell_type": "markdown",
   "metadata": {},
   "source": [
    "A moral da história é: quem não conhece $p$ e $q$, dificilmente saberá calcular $\\phi(n)$, se $n$ for suficientemente grande."
   ]
  },
  {
   "cell_type": "markdown",
   "metadata": {},
   "source": [
    "#### Escolha aleatoriamente um $e$\n",
    "\n",
    "$$\n",
    "    e \\in \\left\\{ 1 < x < \\phi(n) : \\gcd(x, \\phi(n)) = 1 \\right\\}\n",
    "$$"
   ]
  },
  {
   "cell_type": "code",
   "execution_count": 14,
   "metadata": {
    "scrolled": true
   },
   "outputs": [
    {
     "name": "stdout",
     "output_type": "stream",
     "text": [
      "Chave de encriptação e = 9475373\n"
     ]
    }
   ],
   "source": [
    "def choose_e(phi_n):\n",
    "    e = randint(1, phi_n)\n",
    "    while gcd(e, phi_n) != 1:\n",
    "        e = randint(1, phi_n)\n",
    "    return e\n",
    "\n",
    "e = choose_e(phi_n)\n",
    "print('Chave de encriptação e =', e)"
   ]
  },
  {
   "cell_type": "code",
   "execution_count": 15,
   "metadata": {},
   "outputs": [
    {
     "data": {
      "text/plain": [
       "1"
      ]
     },
     "execution_count": 15,
     "metadata": {},
     "output_type": "execute_result"
    }
   ],
   "source": [
    "gcd(e, phi_n)"
   ]
  },
  {
   "cell_type": "markdown",
   "metadata": {},
   "source": [
    "#### Compute a **chave de decriptação** $d$\n",
    "\n",
    "Usando o *Algoritmo de Euclides Estendido*, temos que encontrar:\n",
    "\n",
    "$$\n",
    "    d \\equiv e^{-1} \\mod \\phi(n).\n",
    "$$ \n"
   ]
  },
  {
   "cell_type": "markdown",
   "metadata": {},
   "source": [
    "Dados $a$ e $b$, o algoritmo de Euclides estendido nos devolve o $\\gcd(a, b)$ e inteiros $u$ e $v$ tais que\n",
    "\n",
    "$$\n",
    "    ua + vb = \\gcd(a, b).\n",
    "$$"
   ]
  },
  {
   "cell_type": "code",
   "execution_count": 16,
   "metadata": {},
   "outputs": [
    {
     "name": "stdout",
     "output_type": "stream",
     "text": [
      "gcd = 1 , u = 11911397 , v = -3617577\n"
     ]
    }
   ],
   "source": [
    "gcd, u, v = xgcd(e, phi_n)\n",
    "print('gcd =', gcd, ', u =', u, ', v =', v)"
   ]
  },
  {
   "cell_type": "markdown",
   "metadata": {},
   "source": [
    "Note que\n",
    "\n",
    "$$\n",
    "    ue + v\\phi(n) = 1 \\implies ue = 1 \\mod \\phi(n).\n",
    "$$\n",
    "\n",
    "Portanto, $d = u$ é a inversa de $e \\mod \\phi(n)$.\n"
   ]
  },
  {
   "cell_type": "code",
   "execution_count": 17,
   "metadata": {},
   "outputs": [
    {
     "name": "stdout",
     "output_type": "stream",
     "text": [
      "d = 11911397\n"
     ]
    }
   ],
   "source": [
    "d = u\n",
    "print('d =', d)"
   ]
  },
  {
   "cell_type": "code",
   "execution_count": 18,
   "metadata": {},
   "outputs": [
    {
     "data": {
      "text/plain": [
       "1"
      ]
     },
     "execution_count": 18,
     "metadata": {},
     "output_type": "execute_result"
    }
   ],
   "source": [
    "e*d % phi_n"
   ]
  },
  {
   "cell_type": "markdown",
   "metadata": {},
   "source": [
    "Calcular a inversa $\\bmod $ é uma operação muito importante e já vem implementada no Sage: "
   ]
  },
  {
   "cell_type": "code",
   "execution_count": 19,
   "metadata": {},
   "outputs": [
    {
     "data": {
      "text/plain": [
       "11911397"
      ]
     },
     "execution_count": 19,
     "metadata": {},
     "output_type": "execute_result"
    }
   ],
   "source": [
    "inverse_mod(e, phi_n)"
   ]
  },
  {
   "cell_type": "markdown",
   "metadata": {},
   "source": [
    "### Encriptação"
   ]
  },
  {
   "cell_type": "markdown",
   "metadata": {},
   "source": [
    "Seja $m$ um inteiro $0 < m < n$.  "
   ]
  },
  {
   "cell_type": "code",
   "execution_count": 20,
   "metadata": {},
   "outputs": [
    {
     "name": "stdout",
     "output_type": "stream",
     "text": [
      "19774054\n"
     ]
    }
   ],
   "source": [
    "m = randint(1, n)\n",
    "print(m)"
   ]
  },
  {
   "cell_type": "code",
   "execution_count": 22,
   "metadata": {},
   "outputs": [
    {
     "name": "stdout",
     "output_type": "stream",
     "text": [
      "enc_m =  9133729\n"
     ]
    }
   ],
   "source": [
    "enc_m = power_mod(m, e, n)\n",
    "print('enc_m = ', enc_m)"
   ]
  },
  {
   "cell_type": "markdown",
   "metadata": {},
   "source": [
    "### Decriptação"
   ]
  },
  {
   "cell_type": "code",
   "execution_count": 23,
   "metadata": {},
   "outputs": [],
   "source": [
    "dec_m = power_mod(enc_m, d, n)"
   ]
  },
  {
   "cell_type": "code",
   "execution_count": 24,
   "metadata": {},
   "outputs": [
    {
     "data": {
      "text/plain": [
       "19774054"
      ]
     },
     "execution_count": 24,
     "metadata": {},
     "output_type": "execute_result"
    }
   ],
   "source": [
    "dec_m"
   ]
  },
  {
   "cell_type": "code",
   "execution_count": 25,
   "metadata": {},
   "outputs": [
    {
     "data": {
      "text/plain": [
       "True"
      ]
     },
     "execution_count": 25,
     "metadata": {},
     "output_type": "execute_result"
    }
   ],
   "source": [
    "dec_m == m"
   ]
  }
 ],
 "metadata": {
  "kernelspec": {
   "display_name": "SageMath 9.0",
   "language": "sage",
   "name": "sagemath"
  },
  "language_info": {
   "codemirror_mode": {
    "name": "ipython",
    "version": 3
   },
   "file_extension": ".py",
   "mimetype": "text/x-python",
   "name": "python",
   "nbconvert_exporter": "python",
   "pygments_lexer": "ipython3",
   "version": "3.8.1"
  },
  "toc": {
   "base_numbering": 1,
   "nav_menu": {
    "height": "296px",
    "width": "298px"
   },
   "number_sections": true,
   "sideBar": true,
   "skip_h1_title": false,
   "title_cell": "Table of Contents",
   "title_sidebar": "Contents",
   "toc_cell": false,
   "toc_position": {},
   "toc_section_display": true,
   "toc_window_display": false
  }
 },
 "nbformat": 4,
 "nbformat_minor": 2
}
